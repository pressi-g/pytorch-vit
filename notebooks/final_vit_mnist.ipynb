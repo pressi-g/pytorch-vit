{
 "cells": [
  {
   "cell_type": "markdown",
   "metadata": {},
   "source": [
    "# Basic Vision Transformer (ViT) with DINO (Knowledge Distillation with No Labels)\n",
    "\n",
    "This notebook contains code (to be refactored into scripts at a later stage) that implements a basic ViT and ViT for use with DINO to be trained on MNIST, CIFAR10, and CIFAR100. \n",
    "\n",
    "The implementation is written using PyTorch and allows for the following options:\n",
    "\n",
    "- Different datasets: MNIST, CIFAR10, and CIFAR100 (more to be added in future - please open an issue if you would like to see a specific dataset added)\n",
    "- Image augmentation and resizing\n",
    "- Different patch sizes\n",
    "- Different number of layers\n",
    "- Different number of heads\n",
    "- Different number of channels\n",
    "- Different number of classes\n",
    "- Different number of epochs\n",
    "- Different batch sizes\n",
    "- Different learning rates\n",
    "- Different optimizers\n",
    "- Different weight decay\n",
    "- Different dropout rates\n",
    "- Different number of workers\n",
    "- Different number of GPUs\n",
    "\n",
    "The implementation is based on the paper [An Image is Worth 16x16 Words: Transformers for Image Recognition at Scale](https://arxiv.org/abs/2010.11929) by Dosovitskiy et al. and the paper [How to Train Vision Transformer on Small-scale Datasets?](https://arxiv.org/abs/2210.07240v1) by Gani et al. \n",
    "\n",
    "The purpose of this notebook is to provide a basic implementation of ViT that can be used as a starting point for more advanced implementations. The user has the flexibility to change the hyperparameters and the architecture to suit their needs by editing the configs. Thereafter, we investigate the use of knowledge distallation with no labels to train ViT on small-scale datasets as a pre-training step before fine-tuning on the small-scale dataset with labels. \n",
    "\n",
    "The code is optimised for readability and speed where possible.\n",
    "\n",
    "In future the code will be refactored into scripts and the configs will be moved to a separate file, whereby the user can edit the configs in the file to suit their experimentation needs.\n",
    "\n",
    "The first half of this notebook builds a basic ViT model and trains it on MNIST, CIFAR10, and CIFAR100. The second half of this notebook builds a ViT model for use with DINO and trains it on MNIST, CIFAR10, and CIFAR100.\n",
    "\n",
    "The second half involves:\n",
    "\n",
    "1. **Pre-training Stage (Self-Supervised)**: This is a two-step approach using local and global views of low-resolution images.\n",
    "   - **Local Views**: Smaller sections or patches of the image.\n",
    "   - **Global Views**: Represent the entire low-resolution image.\n",
    "\n",
    "   A self-supervised task is designed where the student model predicts the teacher model's representations. The teacher is aided with Dynamic Position Embeddings (DPE) to capture spatial information of local and global views better.\n",
    "\n",
    "2. **Weight Transfer**: After the pre-training is complete, the learned weights from the self-supervised training are used to initialise a standard ViT for the subsequent supervised training.\n",
    "\n",
    "3. **Fine-tuning (Supervised)**: This is the phase where actual labeled data is introduced. The model, initialized with weights from the self-supervised phase, is trained on the small-scale dataset using supervised learning. This step leverages the inductive biases achieved during the self-supervised pre-training to ease the optimization of the Vision Transformer on small datasets.\n",
    "\n",
    "\n",
    "- The student is trained to approximate the feature representations of the teacher during the self-supervised phase. It is trying to predict the output of the teacher model based on the local and global views.\n",
    "\n",
    "- Once this self-supervised training is complete, you'd typically want to transfer the student's learned weights to a Vision Transformer, which will be used for the supervised fine-tuning phase.\n",
    "\n",
    "We want to transfer the weights, but not directly from the teacher model. Instead, we transfer from the student model that has been trained to mimic the teacher during the self-supervised phase. This student model's weights serve as a good initialisation for supervised learning on small datasets."
   ]
  },
  {
   "cell_type": "code",
   "execution_count": 1,
   "metadata": {},
   "outputs": [],
   "source": [
    "# Standard imports\n",
    "import numpy as np\n",
    "import matplotlib.pyplot as plt\n",
    "import seaborn as sns\n",
    "import os\n",
    "import copy\n",
    "import time\n",
    "import math\n",
    "import random\n",
    "\n",
    "# Machine learning imports\n",
    "import torch\n",
    "import torch.nn.functional as F\n",
    "from torch import nn, Tensor, optim\n",
    "from torchsummary import summary\n",
    "from torchvision import datasets, transforms\n",
    "from torchvision.transforms import Compose, Resize, ToTensor\n",
    "from torch.optim.lr_scheduler import ReduceLROnPlateau, CosineAnnealingLR\n",
    "from torch.utils.data import DataLoader, random_split\n",
    "from sklearn.model_selection import train_test_split\n",
    "from sklearn.metrics import confusion_matrix, classification_report, accuracy_score\n",
    "\n",
    "# Third-party imports\n",
    "from einops import rearrange, reduce, repeat\n",
    "from einops.layers.torch import Rearrange, Reduce\n",
    "from PIL import Image\n",
    "from tqdm import tqdm\n",
    "\n",
    "# Set seed for reproducibility\n",
    "torch.manual_seed(42)\n",
    "np.random.seed(42)\n",
    "torch.cuda.manual_seed_all(42)"
   ]
  },
  {
   "cell_type": "code",
   "execution_count": 2,
   "metadata": {},
   "outputs": [],
   "source": [
    "dataset = \"MNIST\" # <-- change this parameter only! Options: MNIST, CIFAR10, CIFAR100\n",
    "\n",
    "model_name = f\"{dataset}_classifier\"\n",
    "in_channels = 1 if dataset == \"MNIST\" else 3\n",
    "num_classes = 100 if dataset == \"CIFAR100\" else 10\n",
    "learning_rate = 0.001\n",
    "weight_decay = 0.0001\n",
    "batch_size = 256\n",
    "num_epochs = 50\n",
    "self_supervised_epochs = 20\n",
    "fine_tune_epochs = 20\n",
    "image_size = 28 if dataset == \"MNIST\" else 32 # upscale CIFAR10 and CIFAR100 images for better performance -> INVESTIGATE\n",
    "patch_size = 7 if dataset == \"MNIST\" else 8 # keep the number of patches the same for all datasets to keep experiments controlled\n",
    "num_patches = (image_size // patch_size) ** 2\n",
    "projection_dim = 64\n",
    "num_heads = 4\n",
    "transformer_units = [projection_dim * 2, projection_dim]\n",
    "transformer_layers = 8 # depth\n",
    "mlp_head_units = [2048, 1024]\n",
    "patience_value = 10 if dataset == \"MNIST\" else 15 # default: 10 if not set\n",
    "dropout=0.01 # Adjust as necessary\n",
    "ema_decay = 0.996  # Adjust only if necessary"
   ]
  },
  {
   "cell_type": "code",
   "execution_count": 3,
   "metadata": {},
   "outputs": [],
   "source": [
    "# Function that sets device to either Cuda (GPU), MPS (Apple Silicon GPU), or CPU\n",
    "def set_device():\n",
    "    ''' \n",
    "    Set device: either Cuda (GPU), MPS (Apple Silicon GPU), or CPU\n",
    "    '''\n",
    "    device = torch.device(\n",
    "        \"cuda\"\n",
    "        if torch.cuda.is_available()\n",
    "        else \"mps\"\n",
    "        if torch.backends.mps.is_available()\n",
    "        else \"cpu\"\n",
    "    )\n",
    "    print(f\"Using {device} device\")\n",
    "    return device"
   ]
  },
  {
   "cell_type": "code",
   "execution_count": 4,
   "metadata": {},
   "outputs": [],
   "source": [
    "def data_loader(dataset: str, batch_size: int, image_size: int, augment: bool = True):\n",
    "    '''\n",
    "    Function that takes in a dataset and returns train and test dataloaders along with the hyperparameters\n",
    "    associated with the dataset.\n",
    "\n",
    "    Parameters:\n",
    "        dataset (str): Name of dataset to load. Options: MNIST, CIFAR10, CIFAR100\n",
    "        batch_size (int): Batch size for dataloaders\n",
    "        augment (bool): Whether to augment training data or not\n",
    "        \n",
    "    Returns:\n",
    "        train_loader (DataLoader): Dataloader for training set\n",
    "        val_loader (DataLoader): Dataloader for validation set\n",
    "        test_loader (DataLoader): Dataloader for test set\n",
    "        num_classes (int): Number of classes in dataset\n",
    "        image_size (int): Size of image in dataset\n",
    "        batch_size (int): Batch size for dataloaders\n",
    "    '''\n",
    "\n",
    "    base_train_transforms = [transforms.Resize((image_size, image_size)), transforms.ToTensor()]\n",
    "    if dataset == \"MNIST\":\n",
    "        base_train_transforms.append(transforms.Normalize((0.5,), (0.5,)))\n",
    "    elif dataset == \"CIFAR10\":\n",
    "        mean, std = (0.4914, 0.4822, 0.4465), (0.2470, 0.2435, 0.2616)\n",
    "        base_train_transforms.append(transforms.Normalize(mean, std))\n",
    "    elif dataset == \"CIFAR100\":\n",
    "        mean, std = (0.5070, 0.4865, 0.4409), (0.2673, 0.2564, 0.2762)\n",
    "        base_train_transforms.append(transforms.Normalize(mean, std))\n",
    "\n",
    "    # Additional augmentations for CIFAR10 and CIFAR100\n",
    "    additional_transforms = []\n",
    "    if augment:\n",
    "\n",
    "        additional_transforms = [\n",
    "            transforms.Resize((image_size, image_size)),\n",
    "            transforms.RandomCrop(image_size, padding=4),\n",
    "            transforms.RandomHorizontalFlip(),\n",
    "            transforms.RandomRotation(3.6),\n",
    "            transforms.ColorJitter(brightness=0.2, contrast=0.2, saturation=0.2, hue=0.1),\n",
    "            transforms.RandomAffine(degrees=0, scale=(0.8, 1.2)),\n",
    "\n",
    "        ]\n",
    "    \n",
    "    dataset_config = {\n",
    "        'MNIST': {\n",
    "            'dataset_cls': datasets.MNIST,\n",
    "            'num_classes': 10,\n",
    "            'default_image_size': 28,\n",
    "            'batch_size': batch_size,  # Use the batch_size parameter\n",
    "            'train_transform': transforms.Compose(base_train_transforms),\n",
    "            'test_transform': transforms.Compose([\n",
    "                transforms.Resize((image_size, image_size)),\n",
    "                transforms.ToTensor(),\n",
    "                transforms.Normalize((0.5,), (0.5,))\n",
    "            ])\n",
    "        },\n",
    "        'CIFAR10': {\n",
    "            'dataset_cls': datasets.CIFAR10,\n",
    "            'num_classes': 10,\n",
    "            'default_image_size': 32,\n",
    "            'batch_size': batch_size,\n",
    "            'train_transform': transforms.Compose(additional_transforms + base_train_transforms),\n",
    "            'test_transform': transforms.Compose([\n",
    "                transforms.Resize((image_size, image_size)),\n",
    "                transforms.ToTensor(),\n",
    "                transforms.Normalize((0.4914, 0.4822, 0.4465), (0.2470, 0.2435, 0.2616))\n",
    "            ])\n",
    "        },\n",
    "        'CIFAR100': {\n",
    "            'dataset_cls': datasets.CIFAR100,\n",
    "            'num_classes': 100,\n",
    "            'default_image_size': 32,\n",
    "            'batch_size': batch_size,\n",
    "            'train_transform': transforms.Compose(additional_transforms + base_train_transforms),\n",
    "            'test_transform': transforms.Compose([\n",
    "                transforms.Resize((image_size, image_size)),\n",
    "                transforms.ToTensor(),\n",
    "                transforms.Normalize((0.5070, 0.4865, 0.4409), (0.2673, 0.2564, 0.2762))\n",
    "            ])\n",
    "        }\n",
    "    }    \n",
    "\n",
    "    # Ensure dataset is valid\n",
    "    if dataset not in dataset_config:\n",
    "        raise ValueError(f\"Unsupported dataset: {dataset}. Supported datasets are: {', '.join(dataset_config.keys())}\")\n",
    "\n",
    "    # Access config\n",
    "    cfg = dataset_config[dataset]\n",
    "\n",
    "    # Print loading info\n",
    "    print(f'Loading {dataset} dataset...')\n",
    "\n",
    "    # Load data\n",
    "    dataset_cls = cfg['dataset_cls']\n",
    "\n",
    "    data_dir = '../data/'\n",
    "    if not os.path.exists(data_dir):\n",
    "        os.makedirs(data_dir)\n",
    "\n",
    "    train_dataset_full = dataset_cls(f'{data_dir}{dataset}_data/', train=True, download=True, transform=cfg['train_transform'])\n",
    "    test_dataset = dataset_cls(f'{data_dir}{dataset}_data/', train=False, download=True, transform=cfg['test_transform'])\n",
    "\n",
    "    # Split training dataset into training and validation sets\n",
    "    train_size = int(0.8 * len(train_dataset_full))\n",
    "    val_size = len(train_dataset_full) - train_size\n",
    "    train_dataset, val_dataset = random_split(train_dataset_full, [train_size, val_size])\n",
    "\n",
    "    # Compute optimal number of workers\n",
    "    num_workers = min(4, os.cpu_count())\n",
    "\n",
    "    # Create data loaders\n",
    "    train_loader = DataLoader(train_dataset, batch_size=cfg['batch_size'], shuffle=True, num_workers=num_workers)\n",
    "    val_loader = DataLoader(val_dataset, batch_size=cfg['batch_size'], shuffle=True, num_workers=num_workers)\n",
    "    test_loader = DataLoader(test_dataset, batch_size=cfg['batch_size'], shuffle=False, num_workers=num_workers)\n",
    "\n",
    "    return train_loader, val_loader, test_loader, cfg['num_classes'], cfg['default_image_size']\n"
   ]
  },
  {
   "cell_type": "code",
   "execution_count": 5,
   "metadata": {},
   "outputs": [],
   "source": [
    "class PatchEmbedding(nn.Module):\n",
    "    '''\n",
    "    Class that creates patch embeddings for images\n",
    "    (image to patch embeddings).\n",
    "\n",
    "    Parameters:\n",
    "        image_size (int): Size of image\n",
    "        patch_size (int): Size of patch\n",
    "        in_channels (int): Number of input channels\n",
    "        embed_dim (int): Embedding dimension\n",
    "\n",
    "    Returns:\n",
    "        x (Tensor): Patch embeddings\n",
    "    '''\n",
    "    def __init__(self, \n",
    "                 image_size: int, \n",
    "                 patch_size: int, \n",
    "                 in_channels: int, \n",
    "                 embed_dim: int):\n",
    "        super().__init__()\n",
    "        self.num_patches = (image_size // patch_size) ** 2\n",
    "\n",
    "        self.projection = nn.Conv2d(\n",
    "            in_channels=in_channels,\n",
    "            out_channels=embed_dim,\n",
    "            kernel_size=patch_size,\n",
    "            stride=patch_size\n",
    "        )\n",
    "\n",
    "    def forward(self, x: Tensor) -> Tensor:\n",
    "        \"\"\"\n",
    "        Converts an input image tensor into patch embeddings.\n",
    "\n",
    "        Args:\n",
    "            x (Tensor): Input image tensor of shape (B, C, H, W).\n",
    "\n",
    "        Returns:\n",
    "            Tensor: The patch embeddings of shape (B, num_patches, embed_dim).\n",
    "        \"\"\"\n",
    "        x = self.projection(x).flatten(2).transpose(1, 2)\n",
    "\n",
    "        return x"
   ]
  },
  {
   "cell_type": "code",
   "execution_count": 6,
   "metadata": {},
   "outputs": [],
   "source": [
    "class Attention(nn.Module):\n",
    "    '''\n",
    "    Class that creates an attention layer.\n",
    "\n",
    "    Parameters:\n",
    "        dim (int): Dimension of input\n",
    "        heads (int): Number of heads\n",
    "        dim_head (int): Dimension of each head\n",
    "        dropout (float): Dropout probability\n",
    "\n",
    "    Returns:\n",
    "        x (Tensor): Output of attention layer\n",
    "    '''\n",
    "    \n",
    "    def __init__(self, \n",
    "                dim: int, \n",
    "                heads: int, \n",
    "                dim_head: int, \n",
    "                dropout: float=0.):\n",
    "        super().__init__()\n",
    "        \n",
    "        self.heads = heads\n",
    "        self.dim_head = dim_head\n",
    "        self.scale = dim_head ** -0.5\n",
    "\n",
    "        # Linear layer to get Q, K, V\n",
    "        self.qkv = nn.Linear(dim, dim * 3, bias=False)\n",
    "        self.attend = nn.Softmax(dim=-1)\n",
    "        self.proj = nn.Linear(dim, dim)\n",
    "        self.dropout = nn.Dropout(dropout)\n",
    "\n",
    "    def forward(self, x: torch.Tensor) -> torch.Tensor:\n",
    "        B, N, C = x.shape\n",
    "        \n",
    "        # Obtain Q, K, V from input tensor x\n",
    "        qkv = self.qkv(x).reshape(B, N, 3, self.heads, self.dim_head).permute(2, 0, 3, 1, 4)\n",
    "        q, k, v = qkv[0], qkv[1], qkv[2]\n",
    "        \n",
    "        # Calculate attention scores and apply scaling\n",
    "        dots = torch.einsum('bhid,bhjd->bhij', q, k) * self.scale\n",
    "        \n",
    "        # Softmax to get attention weights\n",
    "        attn = self.attend(dots)\n",
    "        \n",
    "        # Calculate the output tensor\n",
    "        out = torch.einsum('bhij,bhjd->bhid', attn, v).reshape(B, N, C)\n",
    "        out = self.proj(out)\n",
    "        return out\n"
   ]
  },
  {
   "cell_type": "code",
   "execution_count": 7,
   "metadata": {},
   "outputs": [],
   "source": [
    "class MLP(nn.Module):\n",
    "    '''\n",
    "    Class that creates a multilayer perceptron (MLP).\n",
    "\n",
    "    Parameters:\n",
    "        in_features (int): Number of input features\n",
    "        hidden_features (int, optional): Number of hidden features. Defaults to in_features.\n",
    "        out_features (int, optional): Number of output features. Defaults to in_features.\n",
    "        activation (nn.Module, optional): Activation function. Defaults to nn.GELU().\n",
    "        drop (float, optional): Dropout probability. Defaults to 0.\n",
    "\n",
    "    Returns:\n",
    "        x (Tensor): Output of MLP\n",
    "    '''\n",
    "    def __init__(self, \n",
    "                 in_features: int, \n",
    "                 hidden_features: int = None, \n",
    "                 out_features: int = None, \n",
    "                 activation: nn.Module = nn.GELU(),\n",
    "                 drop: float = 0.):\n",
    "        super().__init__()\n",
    "        \n",
    "        hidden_features = hidden_features or in_features\n",
    "        out_features = out_features or in_features\n",
    "\n",
    "        self.fc1 = nn.Linear(in_features, hidden_features)\n",
    "        self.activation = activation\n",
    "        self.fc2 = nn.Linear(hidden_features, out_features)\n",
    "        self.dropout = nn.Dropout(drop)\n",
    "\n",
    "    def forward(self, x):\n",
    "        x = self.fc1(x)\n",
    "        x = self.activation(x)\n",
    "        x = self.fc2(x)\n",
    "        x = self.dropout(x)\n",
    "        return x\n"
   ]
  },
  {
   "cell_type": "code",
   "execution_count": 8,
   "metadata": {},
   "outputs": [],
   "source": [
    "class TransformerEncoderBlock(nn.Module):\n",
    "    '''\n",
    "    Class that creates a transformer encoder block.\n",
    "\n",
    "    Parameters:\n",
    "        dim (int): Embedding dimension\n",
    "        heads (int): Number of heads\n",
    "        dim_head (int): Dimension of each head\n",
    "        mlp_dim (int): Dimension of MLP\n",
    "        dropout (float): Dropout probability\n",
    "\n",
    "    Returns:\n",
    "        x (Tensor): Output of transformer encoder block\n",
    "    '''\n",
    "    def __init__(self, \n",
    "                 dim: int, \n",
    "                 heads: int, \n",
    "                 dim_head: int, \n",
    "                 mlp_dim: int, \n",
    "                 dropout: float = 0.):\n",
    "        super().__init__()\n",
    "        \n",
    "        # Layer normalization followed by attention (with residual)\n",
    "        self.norm1 = nn.LayerNorm(dim)\n",
    "        self.attn = Attention(dim, heads=heads, dim_head=dim_head, dropout=dropout)\n",
    "        self.dropout1 = nn.Dropout(dropout)\n",
    "        \n",
    "        # Layer normalization followed by feed-forward (with residual)\n",
    "        self.norm2 = nn.LayerNorm(dim)\n",
    "        self.mlp = MLP(in_features=dim, hidden_features=mlp_dim, out_features=dim, drop=dropout)\n",
    "        self.dropout2 = nn.Dropout(dropout)\n",
    "\n",
    "    def forward(self, x: torch.Tensor) -> torch.Tensor:\n",
    "        # Apply attention, add residual connection, and apply dropout\n",
    "        x = x + self.dropout1(self.attn(self.norm1(x)))\n",
    "        \n",
    "        # Apply MLP, add residual connection, and apply dropout\n",
    "        x = x + self.dropout2(self.mlp(self.norm2(x)))\n",
    "        \n",
    "        return x\n"
   ]
  },
  {
   "cell_type": "code",
   "execution_count": 9,
   "metadata": {},
   "outputs": [],
   "source": [
    "class VisionTransformer(nn.Module):\n",
    "    '''\n",
    "    Vision transformer architecture.\n",
    "\n",
    "    Parameters:\n",
    "        image_size (int): Size of image\n",
    "        patch_size (int): Size of patch\n",
    "        in_channels (int): Number of input channels\n",
    "        embed_dim (int): Embedding dimension\n",
    "        depth (int): Depth\n",
    "        heads (int): Number of heads\n",
    "        mlp_dim (int): Dimension of MLP\n",
    "        dropout (float): Dropout probability\n",
    "        num_classes (int): Number of classes\n",
    "\n",
    "    Returns:\n",
    "        x (Tensor): Output of VisionTransformer\n",
    "    '''\n",
    "\n",
    "    def __init__(self, \n",
    "                 image_size: int, \n",
    "                 patch_size: int, \n",
    "                 in_channels: int, \n",
    "                 embed_dim: int, \n",
    "                 depth: int, \n",
    "                 heads: int, \n",
    "                 mlp_dim: int,\n",
    "                 num_classes: int, \n",
    "                 dropout: float = 0., \n",
    "                 mlp_head_units = [2048, 1024]):\n",
    "        super().__init__()        \n",
    "        # Patch embedding layer\n",
    "        self.patch_embed = PatchEmbedding(image_size=image_size, patch_size=patch_size, in_channels=in_channels, embed_dim=embed_dim)\n",
    "        # Initializing cls_token and pos_embed with random values\n",
    "        self.cls_token = nn.Parameter(torch.randn(1, 1, embed_dim))\n",
    "        # Calculate the number of patches\n",
    "        num_patches = (image_size // patch_size) ** 2\n",
    "        self.pos_embed = nn.Parameter(torch.zeros(1, num_patches + 1, embed_dim))  # +1 for the cls_token --> initialising to zeros seems to work better than random values\n",
    "        \n",
    "        self.dropout = nn.Dropout(dropout)\n",
    "        self.transformer_encoder = nn.ModuleList([TransformerEncoderBlock(dim=embed_dim, heads=heads, dim_head=embed_dim // heads, mlp_dim=mlp_dim, dropout=dropout) for _ in range(depth)])\n",
    "        self.norm = nn.LayerNorm(embed_dim)\n",
    "        self.mlp_head = nn.Sequential(\n",
    "            nn.Linear(embed_dim, mlp_head_units[0]),\n",
    "            nn.ReLU(),\n",
    "            nn.Dropout(dropout),\n",
    "            nn.Linear(mlp_head_units[0], mlp_head_units[1]),\n",
    "            nn.ReLU(),\n",
    "            nn.Dropout(dropout),\n",
    "            nn.Linear(mlp_head_units[1], num_classes)\n",
    "        )\n",
    "\n",
    "    def forward(self, x):\n",
    "        B = x.shape[0]  # batch_size\n",
    "        x = self.patch_embed(x)\n",
    "        \n",
    "        cls_tokens = repeat(self.cls_token, '() n d -> b n d', b=B)\n",
    "        x = torch.cat((cls_tokens, x), dim=1)\n",
    "        \n",
    "        assert x.shape[1] == self.pos_embed.shape[1], f\"Positional embeddings don't match the input patches. x.shape: {x.shape} pos_embed.shape: {self.pos_embed.shape}\"\n",
    "        \n",
    "        x = x + self.pos_embed\n",
    "        x = self.dropout(x)\n",
    "\n",
    "        for transformer_encoder in self.transformer_encoder:\n",
    "            x = transformer_encoder(x)\n",
    "\n",
    "        x = self.norm(x)\n",
    "        x = x[:, 0]  # Take the cls_token representation\n",
    "        x = self.mlp_head(x)\n",
    "\n",
    "        return x\n"
   ]
  },
  {
   "cell_type": "code",
   "execution_count": 10,
   "metadata": {},
   "outputs": [],
   "source": [
    "def train(model, train_loader, val_loader, criterion, optimizer, device, model_name,epochs=10, scheduler=None, patience=None):\n",
    "    '''\n",
    "    Function that trains the model.\n",
    "\n",
    "    Parameters:\n",
    "        model (nn.Module): Model to train\n",
    "        train_loader (DataLoader): Dataloader for training set\n",
    "        val_loader (DataLoader): Dataloader for validation set\n",
    "        criterion (nn.Module): Loss function\n",
    "        optimizer (nn.Module): Optimizer\n",
    "        device (str): Device to use\n",
    "        epochs (int): Number of epochs\n",
    "        scheduler (nn.Module): Learning rate scheduler\n",
    "        patience (int): Number of epochs to wait before early stopping\n",
    "        model_name (str): Name of model\n",
    "\n",
    "    Returns:\n",
    "        model (nn.Module): Trained model\n",
    "        train_losses (list): Training losses\n",
    "        val_losses (list): Validation losses\n",
    "        train_acc (list): Training accuracy\n",
    "        val_acc (list): Validation accuracy\n",
    "    '''\n",
    "    \n",
    "    # Set model to training mode\n",
    "    model.train()\n",
    "\n",
    "    # Initialize lists to store losses and accuracy\n",
    "    train_losses = []\n",
    "    val_losses = []\n",
    "    train_acc = []\n",
    "    val_acc = []\n",
    "    best_val_loss = np.inf\n",
    "\n",
    "    epochs_without_improvement = 0  # for early stopping\n",
    "\n",
    "    # Record the start time for training\n",
    "    start_time = time.time()\n",
    "\n",
    "    for epoch in range(epochs):\n",
    "        epoch_train_loss = 0\n",
    "        epoch_train_acc = 0\n",
    "        epoch_val_loss = 0\n",
    "        epoch_val_acc = 0\n",
    "\n",
    "        # Training\n",
    "        for inputs, labels in tqdm(train_loader, desc=f\"Epoch {epoch+1}/{epochs} [Training]\"):\n",
    "            inputs, labels = inputs.to(device), labels.to(device)\n",
    "            optimizer.zero_grad()\n",
    "            outputs = model(inputs).to(device)\n",
    "            loss = criterion(outputs, labels)\n",
    "            loss.backward()\n",
    "            optimizer.step()\n",
    "            epoch_train_loss += loss.item() * inputs.size(0)\n",
    "            _, preds = torch.max(outputs, 1)\n",
    "            epoch_train_acc += torch.sum(preds == labels.data)\n",
    "\n",
    "        # Validation\n",
    "        model.eval()  # <-- set model to eval mode for validation\n",
    "        for inputs, labels in tqdm(val_loader, desc=f\"Epoch {epoch+1}/{epochs} [Validation]\"):\n",
    "            inputs, labels = inputs.to(device), labels.to(device)\n",
    "            outputs = model(inputs).to(device)\n",
    "            loss = criterion(outputs, labels)\n",
    "            epoch_val_loss += loss.item() * inputs.size(0)\n",
    "            _, preds = torch.max(outputs, 1)\n",
    "            epoch_val_acc += torch.sum(preds == labels.data)\n",
    "        model.train()  # <-- set model back to train mode\n",
    "\n",
    "        # Average metrics\n",
    "        epoch_train_loss /= len(train_loader.dataset)\n",
    "        epoch_train_acc = epoch_train_acc.float() / len(train_loader.dataset)\n",
    "        epoch_val_loss /= len(val_loader.dataset)\n",
    "        epoch_val_acc = epoch_val_acc.float() / len(val_loader.dataset)\n",
    "\n",
    "        if scheduler:\n",
    "            scheduler.step(epoch_val_loss)\n",
    "\n",
    "        if epoch_val_loss < best_val_loss:\n",
    "            best_val_loss = epoch_val_loss\n",
    "            best_model_wts = copy.deepcopy(model.state_dict())\n",
    "            epochs_without_improvement = 0  # reset the count\n",
    "        else:\n",
    "            epochs_without_improvement += 1\n",
    "\n",
    "        train_losses.append(epoch_train_loss)\n",
    "        val_losses.append(epoch_val_loss)\n",
    "        train_acc.append(epoch_train_acc)\n",
    "        val_acc.append(epoch_val_acc)\n",
    "\n",
    "        print(f'Epoch {epoch+1}/{epochs} - '\n",
    "              f'Train Loss: {epoch_train_loss:.4f}, '\n",
    "              f'Train Acc: {epoch_train_acc:.4f}, '\n",
    "              f'Val Loss: {epoch_val_loss:.4f}, '\n",
    "              f'Val Acc: {epoch_val_acc:.4f}')\n",
    "\n",
    "        # Early stopping\n",
    "        if patience and epochs_without_improvement == patience:\n",
    "            print(\"Early stopping due to no improvement in validation loss.\")\n",
    "            break\n",
    "\n",
    "    # Record the end time for training\n",
    "    end_time = time.time()\n",
    "    # Calculate the total training time\n",
    "    total_time_seconds = end_time - start_time\n",
    "    if total_time_seconds < 60:\n",
    "        print(f\"Total training time: {total_time_seconds:.2f} seconds\")\n",
    "    else:\n",
    "        total_time_minutes = total_time_seconds / 60\n",
    "        print(f\"Total training time: {total_time_minutes:.2f} minutes\")\n",
    "    \n",
    "    model.load_state_dict(best_model_wts)\n",
    "    # save trained model\n",
    "\n",
    "    save_dir = '../trained_models/'\n",
    "    if not os.path.exists(save_dir):\n",
    "        os.makedirs(save_dir)\n",
    "\n",
    "    torch.save(model.state_dict(), f'{save_dir}{model_name}.pth')\n",
    "\n",
    "    return model, train_losses, val_losses, train_acc, val_acc\n"
   ]
  },
  {
   "cell_type": "code",
   "execution_count": 11,
   "metadata": {},
   "outputs": [
    {
     "name": "stdout",
     "output_type": "stream",
     "text": [
      "Using mps device\n",
      "Loading MNIST dataset...\n"
     ]
    }
   ],
   "source": [
    "# Set device\n",
    "device = set_device()\n",
    "\n",
    "# Load data\n",
    "train_loader, val_loader, test_loader, num_classes, default_image_size = data_loader(dataset, batch_size, image_size)\n",
    "\n",
    "patch_embed = PatchEmbedding(\n",
    "    image_size=image_size,\n",
    "    patch_size=patch_size,\n",
    "    in_channels=in_channels,\n",
    "    embed_dim=projection_dim\n",
    ")\n",
    "\n",
    "# Instantiate the classes\n",
    "attention = Attention(dim=projection_dim, heads=num_heads, dim_head=projection_dim // num_heads)\n",
    "mlp = MLP(in_features=projection_dim, hidden_features=transformer_units[0], out_features=transformer_units[1])\n",
    "transformer_encoder_block = TransformerEncoderBlock(dim=projection_dim, heads=num_heads, dim_head=projection_dim // num_heads, mlp_dim=transformer_units[0])"
   ]
  },
  {
   "cell_type": "code",
   "execution_count": 12,
   "metadata": {},
   "outputs": [
    {
     "name": "stderr",
     "output_type": "stream",
     "text": [
      "Epoch 1/50 [Training]:   0%|          | 0/188 [00:00<?, ?it/s]"
     ]
    },
    {
     "name": "stderr",
     "output_type": "stream",
     "text": [
      "Epoch 1/50 [Training]: 100%|██████████| 188/188 [00:36<00:00,  5.18it/s]\n",
      "Epoch 1/50 [Validation]: 100%|██████████| 47/47 [00:05<00:00,  9.05it/s]\n"
     ]
    },
    {
     "name": "stdout",
     "output_type": "stream",
     "text": [
      "Epoch 1/50 - Train Loss: 0.9264, Train Acc: 0.6737, Val Loss: 0.3516, Val Acc: 0.8920\n"
     ]
    },
    {
     "name": "stderr",
     "output_type": "stream",
     "text": [
      "Epoch 2/50 [Training]: 100%|██████████| 188/188 [00:32<00:00,  5.73it/s]\n",
      "Epoch 2/50 [Validation]: 100%|██████████| 47/47 [00:04<00:00,  9.44it/s]\n"
     ]
    },
    {
     "name": "stdout",
     "output_type": "stream",
     "text": [
      "Epoch 2/50 - Train Loss: 0.2620, Train Acc: 0.9183, Val Loss: 0.1914, Val Acc: 0.9417\n"
     ]
    },
    {
     "name": "stderr",
     "output_type": "stream",
     "text": [
      "Epoch 3/50 [Training]: 100%|██████████| 188/188 [00:32<00:00,  5.73it/s]\n",
      "Epoch 3/50 [Validation]: 100%|██████████| 47/47 [00:04<00:00,  9.40it/s]\n"
     ]
    },
    {
     "name": "stdout",
     "output_type": "stream",
     "text": [
      "Epoch 3/50 - Train Loss: 0.1836, Train Acc: 0.9429, Val Loss: 0.1431, Val Acc: 0.9553\n"
     ]
    },
    {
     "name": "stderr",
     "output_type": "stream",
     "text": [
      "Epoch 4/50 [Training]: 100%|██████████| 188/188 [00:32<00:00,  5.74it/s]\n",
      "Epoch 4/50 [Validation]: 100%|██████████| 47/47 [00:05<00:00,  9.05it/s]\n"
     ]
    },
    {
     "name": "stdout",
     "output_type": "stream",
     "text": [
      "Epoch 4/50 - Train Loss: 0.1458, Train Acc: 0.9543, Val Loss: 0.1291, Val Acc: 0.9607\n"
     ]
    },
    {
     "name": "stderr",
     "output_type": "stream",
     "text": [
      "Epoch 5/50 [Training]: 100%|██████████| 188/188 [00:32<00:00,  5.73it/s]\n",
      "Epoch 5/50 [Validation]: 100%|██████████| 47/47 [00:04<00:00,  9.78it/s]\n"
     ]
    },
    {
     "name": "stdout",
     "output_type": "stream",
     "text": [
      "Epoch 5/50 - Train Loss: 0.1238, Train Acc: 0.9615, Val Loss: 0.1325, Val Acc: 0.9603\n"
     ]
    },
    {
     "name": "stderr",
     "output_type": "stream",
     "text": [
      "Epoch 6/50 [Training]: 100%|██████████| 188/188 [00:32<00:00,  5.76it/s]\n",
      "Epoch 6/50 [Validation]: 100%|██████████| 47/47 [00:04<00:00,  9.59it/s]\n"
     ]
    },
    {
     "name": "stdout",
     "output_type": "stream",
     "text": [
      "Epoch 6/50 - Train Loss: 0.1106, Train Acc: 0.9649, Val Loss: 0.1017, Val Acc: 0.9683\n"
     ]
    },
    {
     "name": "stderr",
     "output_type": "stream",
     "text": [
      "Epoch 7/50 [Training]: 100%|██████████| 188/188 [00:32<00:00,  5.76it/s]\n",
      "Epoch 7/50 [Validation]: 100%|██████████| 47/47 [00:04<00:00,  9.60it/s]\n"
     ]
    },
    {
     "name": "stdout",
     "output_type": "stream",
     "text": [
      "Epoch 7/50 - Train Loss: 0.1043, Train Acc: 0.9666, Val Loss: 0.1074, Val Acc: 0.9660\n"
     ]
    },
    {
     "name": "stderr",
     "output_type": "stream",
     "text": [
      "Epoch 8/50 [Training]: 100%|██████████| 188/188 [00:32<00:00,  5.81it/s]\n",
      "Epoch 8/50 [Validation]: 100%|██████████| 47/47 [00:04<00:00, 10.13it/s]\n"
     ]
    },
    {
     "name": "stdout",
     "output_type": "stream",
     "text": [
      "Epoch 8/50 - Train Loss: 0.0960, Train Acc: 0.9697, Val Loss: 0.0939, Val Acc: 0.9707\n"
     ]
    },
    {
     "name": "stderr",
     "output_type": "stream",
     "text": [
      "Epoch 9/50 [Training]: 100%|██████████| 188/188 [00:32<00:00,  5.80it/s]\n",
      "Epoch 9/50 [Validation]: 100%|██████████| 47/47 [00:04<00:00, 10.20it/s]\n"
     ]
    },
    {
     "name": "stdout",
     "output_type": "stream",
     "text": [
      "Epoch 9/50 - Train Loss: 0.0849, Train Acc: 0.9732, Val Loss: 0.1180, Val Acc: 0.9603\n"
     ]
    },
    {
     "name": "stderr",
     "output_type": "stream",
     "text": [
      "Epoch 10/50 [Training]: 100%|██████████| 188/188 [00:32<00:00,  5.82it/s]\n",
      "Epoch 10/50 [Validation]: 100%|██████████| 47/47 [00:04<00:00, 10.12it/s]\n"
     ]
    },
    {
     "name": "stdout",
     "output_type": "stream",
     "text": [
      "Epoch 10/50 - Train Loss: 0.0798, Train Acc: 0.9746, Val Loss: 0.1084, Val Acc: 0.9694\n"
     ]
    },
    {
     "name": "stderr",
     "output_type": "stream",
     "text": [
      "Epoch 11/50 [Training]: 100%|██████████| 188/188 [00:32<00:00,  5.81it/s]\n",
      "Epoch 11/50 [Validation]: 100%|██████████| 47/47 [00:04<00:00, 10.17it/s]\n"
     ]
    },
    {
     "name": "stdout",
     "output_type": "stream",
     "text": [
      "Epoch 11/50 - Train Loss: 0.0789, Train Acc: 0.9750, Val Loss: 0.0827, Val Acc: 0.9752\n"
     ]
    },
    {
     "name": "stderr",
     "output_type": "stream",
     "text": [
      "Epoch 12/50 [Training]: 100%|██████████| 188/188 [00:32<00:00,  5.81it/s]\n",
      "Epoch 12/50 [Validation]: 100%|██████████| 47/47 [00:04<00:00, 10.16it/s]\n"
     ]
    },
    {
     "name": "stdout",
     "output_type": "stream",
     "text": [
      "Epoch 12/50 - Train Loss: 0.0673, Train Acc: 0.9781, Val Loss: 0.0831, Val Acc: 0.9743\n"
     ]
    },
    {
     "name": "stderr",
     "output_type": "stream",
     "text": [
      "Epoch 13/50 [Training]: 100%|██████████| 188/188 [00:32<00:00,  5.80it/s]\n",
      "Epoch 13/50 [Validation]: 100%|██████████| 47/47 [00:04<00:00, 10.07it/s]\n"
     ]
    },
    {
     "name": "stdout",
     "output_type": "stream",
     "text": [
      "Epoch 13/50 - Train Loss: 0.0714, Train Acc: 0.9777, Val Loss: 0.0908, Val Acc: 0.9722\n"
     ]
    },
    {
     "name": "stderr",
     "output_type": "stream",
     "text": [
      "Epoch 14/50 [Training]: 100%|██████████| 188/188 [00:32<00:00,  5.78it/s]\n",
      "Epoch 14/50 [Validation]: 100%|██████████| 47/47 [00:04<00:00, 10.15it/s]\n"
     ]
    },
    {
     "name": "stdout",
     "output_type": "stream",
     "text": [
      "Epoch 14/50 - Train Loss: 0.0645, Train Acc: 0.9792, Val Loss: 0.0868, Val Acc: 0.9738\n"
     ]
    },
    {
     "name": "stderr",
     "output_type": "stream",
     "text": [
      "Epoch 15/50 [Training]: 100%|██████████| 188/188 [00:32<00:00,  5.78it/s]\n",
      "Epoch 15/50 [Validation]: 100%|██████████| 47/47 [00:04<00:00, 10.17it/s]\n"
     ]
    },
    {
     "name": "stdout",
     "output_type": "stream",
     "text": [
      "Epoch 15/50 - Train Loss: 0.0622, Train Acc: 0.9799, Val Loss: 0.0853, Val Acc: 0.9753\n"
     ]
    },
    {
     "name": "stderr",
     "output_type": "stream",
     "text": [
      "Epoch 16/50 [Training]: 100%|██████████| 188/188 [00:32<00:00,  5.80it/s]\n",
      "Epoch 16/50 [Validation]: 100%|██████████| 47/47 [00:04<00:00, 10.14it/s]\n"
     ]
    },
    {
     "name": "stdout",
     "output_type": "stream",
     "text": [
      "Epoch 16/50 - Train Loss: 0.0627, Train Acc: 0.9799, Val Loss: 0.0993, Val Acc: 0.9706\n"
     ]
    },
    {
     "name": "stderr",
     "output_type": "stream",
     "text": [
      "Epoch 17/50 [Training]: 100%|██████████| 188/188 [00:32<00:00,  5.80it/s]\n",
      "Epoch 17/50 [Validation]: 100%|██████████| 47/47 [00:04<00:00, 10.14it/s]\n"
     ]
    },
    {
     "name": "stdout",
     "output_type": "stream",
     "text": [
      "Epoch 17/50 - Train Loss: 0.0629, Train Acc: 0.9796, Val Loss: 0.0968, Val Acc: 0.9697\n"
     ]
    },
    {
     "name": "stderr",
     "output_type": "stream",
     "text": [
      "Epoch 18/50 [Training]: 100%|██████████| 188/188 [00:32<00:00,  5.81it/s]\n",
      "Epoch 18/50 [Validation]: 100%|██████████| 47/47 [00:04<00:00, 10.15it/s]\n"
     ]
    },
    {
     "name": "stdout",
     "output_type": "stream",
     "text": [
      "Epoch 18/50 - Train Loss: 0.0555, Train Acc: 0.9822, Val Loss: 0.1137, Val Acc: 0.9670\n"
     ]
    },
    {
     "name": "stderr",
     "output_type": "stream",
     "text": [
      "Epoch 19/50 [Training]: 100%|██████████| 188/188 [00:32<00:00,  5.80it/s]\n",
      "Epoch 19/50 [Validation]: 100%|██████████| 47/47 [00:04<00:00, 10.17it/s]\n"
     ]
    },
    {
     "name": "stdout",
     "output_type": "stream",
     "text": [
      "Epoch 19/50 - Train Loss: 0.0572, Train Acc: 0.9812, Val Loss: 0.0841, Val Acc: 0.9763\n"
     ]
    },
    {
     "name": "stderr",
     "output_type": "stream",
     "text": [
      "Epoch 20/50 [Training]: 100%|██████████| 188/188 [00:34<00:00,  5.49it/s]\n",
      "Epoch 20/50 [Validation]: 100%|██████████| 47/47 [00:04<00:00,  9.50it/s]\n"
     ]
    },
    {
     "name": "stdout",
     "output_type": "stream",
     "text": [
      "Epoch 20/50 - Train Loss: 0.0499, Train Acc: 0.9841, Val Loss: 0.0912, Val Acc: 0.9736\n"
     ]
    },
    {
     "name": "stderr",
     "output_type": "stream",
     "text": [
      "Epoch 21/50 [Training]: 100%|██████████| 188/188 [00:32<00:00,  5.80it/s]\n",
      "Epoch 21/50 [Validation]: 100%|██████████| 47/47 [00:04<00:00, 10.16it/s]"
     ]
    },
    {
     "name": "stdout",
     "output_type": "stream",
     "text": [
      "Epoch 21/50 - Train Loss: 0.0517, Train Acc: 0.9831, Val Loss: 0.0929, Val Acc: 0.9732\n",
      "Early stopping due to no improvement in validation loss.\n",
      "Total training time: 13.14 minutes\n"
     ]
    },
    {
     "name": "stderr",
     "output_type": "stream",
     "text": [
      "\n"
     ]
    }
   ],
   "source": [
    "# Initialize model\n",
    "model = VisionTransformer(\n",
    "    image_size=image_size,\n",
    "    patch_size=patch_size,\n",
    "    in_channels=in_channels,\n",
    "    embed_dim=projection_dim,\n",
    "    depth=transformer_layers,\n",
    "    heads=num_heads,\n",
    "    mlp_dim=mlp_head_units[0],\n",
    "    dropout=dropout,\n",
    "    num_classes=num_classes,\n",
    ").to(device)\n",
    "\n",
    "# Print model summary\n",
    "# summary(model.cpu(), input_size=(in_channels, image_size, image_size))\n",
    "\n",
    "# Define loss function and optimizer\n",
    "criterion = nn.CrossEntropyLoss()\n",
    "optimizer = optim.Adam(model.parameters(), lr=learning_rate, weight_decay=weight_decay)\n",
    "\n",
    "scheduler = ReduceLROnPlateau(optimizer, 'min', patience=patience_value, factor=0.5, verbose=True)\n",
    "\n",
    "# Train model\n",
    "model, train_losses, val_losses, train_acc, val_acc = train(model, train_loader, val_loader, criterion, optimizer, device, model_name, epochs=num_epochs, scheduler=scheduler, patience=patience_value)"
   ]
  },
  {
   "cell_type": "markdown",
   "metadata": {},
   "source": [
    "```\n",
    "Using mps device\n",
    "Loading MNIST dataset...\n",
    "Epoch 1/5 [Training]: 100%|██████████| 188/188 [00:34<00:00,  5.53it/s]\n",
    "Epoch 1/5 [Validation]: 100%|██████████| 47/47 [00:04<00:00,  9.57it/s]\n",
    "Epoch 1/5 - Train Loss: 0.9264, Train Acc: 0.6737, Val Loss: 0.3516, Val Acc: 0.8920\n",
    "Epoch 2/5 [Training]: 100%|██████████| 188/188 [00:33<00:00,  5.58it/s]\n",
    "Epoch 2/5 [Validation]: 100%|██████████| 47/47 [00:04<00:00,  9.60it/s]\n",
    "Epoch 2/5 - Train Loss: 0.2620, Train Acc: 0.9183, Val Loss: 0.1914, Val Acc: 0.9417\n",
    "Epoch 3/5 [Training]: 100%|██████████| 188/188 [00:33<00:00,  5.57it/s]\n",
    "Epoch 3/5 [Validation]: 100%|██████████| 47/47 [00:05<00:00,  9.40it/s]\n",
    "Epoch 3/5 - Train Loss: 0.1836, Train Acc: 0.9429, Val Loss: 0.1431, Val Acc: 0.9553\n",
    "Epoch 4/5 [Training]: 100%|██████████| 188/188 [00:33<00:00,  5.58it/s]\n",
    "Epoch 4/5 [Validation]: 100%|██████████| 47/47 [00:04<00:00,  9.88it/s]\n",
    "Epoch 4/5 - Train Loss: 0.1458, Train Acc: 0.9543, Val Loss: 0.1291, Val Acc: 0.9607\n",
    "Epoch 5/5 [Training]: 100%|██████████| 188/188 [00:33<00:00,  5.56it/s]\n",
    "Epoch 5/5 [Validation]: 100%|██████████| 47/47 [00:04<00:00,  9.85it/s]\n",
    "Epoch 5/5 - Train Loss: 0.1238, Train Acc: 0.9615, Val Loss: 0.1325, Val Acc: 0.9603\n",
    "Total training time: 3.22 minutes\n",
    "```"
   ]
  },
  {
   "cell_type": "code",
   "execution_count": 13,
   "metadata": {},
   "outputs": [
    {
     "data": {
      "image/png": "[encoded data removed]",
      "text/plain": [
       "<Figure size 600x400 with 1 Axes>"
      ]
     },
     "metadata": {},
     "output_type": "display_data"
    },
    {
     "data": {
      "image/png": "[encoded data removed]",
      "text/plain": [
       "<Figure size 600x400 with 1 Axes>"
      ]
     },
     "metadata": {},
     "output_type": "display_data"
    }
   ],
   "source": [
    "# Plot losses\n",
    "plt.figure(figsize=(6, 4))\n",
    "plt.title('Loss')\n",
    "plt.plot(train_losses, label='train')\n",
    "plt.plot(val_losses, label='val')\n",
    "plt.legend()\n",
    "plt.show()\n",
    "\n",
    "# Plot accuracies\n",
    "plt.figure(figsize=(6, 4))\n",
    "plt.title('Accuracy')\n",
    "# move list to cpu\n",
    "train_acc = [i.cpu() for i in train_acc]\n",
    "val_acc = [i.cpu() for i in val_acc]\n",
    "plt.plot(train_acc, label='train')\n",
    "plt.plot(val_acc, label='val')\n",
    "plt.legend()\n",
    "plt.show()"
   ]
  },
  {
   "cell_type": "code",
   "execution_count": 14,
   "metadata": {},
   "outputs": [
    {
     "name": "stderr",
     "output_type": "stream",
     "text": [
      "Testing: 40it [00:04,  9.93it/s]"
     ]
    },
    {
     "name": "stdout",
     "output_type": "stream",
     "text": [
      "Test accuracy: 0.9747\n",
      "              precision    recall  f1-score   support\n",
      "\n",
      "           0       0.97      0.99      0.98       980\n",
      "           1       0.99      0.99      0.99      1135\n",
      "           2       0.98      0.97      0.97      1032\n",
      "           3       0.97      0.98      0.97      1010\n",
      "           4       0.98      0.97      0.98       982\n",
      "           5       0.97      0.96      0.96       892\n",
      "           6       0.98      0.97      0.98       958\n",
      "           7       0.97      0.98      0.97      1028\n",
      "           8       0.98      0.96      0.97       974\n",
      "           9       0.96      0.97      0.96      1009\n",
      "\n",
      "    accuracy                           0.97     10000\n",
      "   macro avg       0.97      0.97      0.97     10000\n",
      "weighted avg       0.97      0.97      0.97     10000\n",
      "\n"
     ]
    },
    {
     "name": "stderr",
     "output_type": "stream",
     "text": [
      "\n"
     ]
    },
    {
     "data": {
      "image/png": "[encoded data removed]",
      "text/plain": [
       "<Figure size 600x600 with 1 Axes>"
      ]
     },
     "metadata": {},
     "output_type": "display_data"
    }
   ],
   "source": [
    "# test on the test set\n",
    "\n",
    "# Set model to eval mode\n",
    "model.eval()\n",
    "\n",
    "# Initialize lists to store predictions and labels\n",
    "preds = []\n",
    "labels = []\n",
    "\n",
    "# Turn off gradients\n",
    "with torch.no_grad():\n",
    "    # Iterate over test data\n",
    "    for batch_idx, (data, target) in tqdm(enumerate(test_loader), desc=\"Testing\"):\n",
    "        # Send data to device\n",
    "        data, target = data.to(device), target.to(device)\n",
    "\n",
    "        # Forward pass\n",
    "        output = model(data)\n",
    "\n",
    "        # Get predicted class\n",
    "        pred = output.argmax(dim=1, keepdim=True)\n",
    "\n",
    "        # Save predictions and labels for computing metrics later\n",
    "        preds.extend(pred.cpu().numpy())\n",
    "        labels.extend(target.cpu().numpy())\n",
    "\n",
    "# Print accuracy\n",
    "accuracy = accuracy_score(labels, preds)\n",
    "print(f\"Test accuracy: {accuracy:.4f}\")\n",
    "\n",
    "# Print classification report and confusion matrix\n",
    "# Only print if dataset is not CIFAR100. CIFAR100 has too many classes to print\n",
    "if dataset != \"CIFAR100\":\n",
    "    # Print classification report\n",
    "    print(classification_report(labels, preds))\n",
    "\n",
    "    # Print confusion matrix\n",
    "    cm = confusion_matrix(labels, preds)\n",
    "\n",
    "    # Normalize the confusion matrix\n",
    "    cm_normalized = cm.astype('float') / cm.sum(axis=1)[:, np.newaxis] * 100  # Convert to percentages\n",
    "\n",
    "    plt.figure(figsize=(6, 6))\n",
    "    sns.heatmap(cm_normalized, annot=True, fmt='.2f', cmap='Blues', cbar=False)\n",
    "    plt.xlabel('Predicted')\n",
    "    plt.ylabel('Actual')\n",
    "    plt.title('Confusion Matrix (in %)')\n",
    "    plt.show()"
   ]
  },
  {
   "cell_type": "markdown",
   "metadata": {},
   "source": [
    "# Self-supervised View Prediction as Weight Initialization Scheme:"
   ]
  },
  {
   "cell_type": "markdown",
   "metadata": {},
   "source": [
    "Create local and global views"
   ]
  },
  {
   "cell_type": "code",
   "execution_count": 15,
   "metadata": {},
   "outputs": [],
   "source": [
    "# def create_views(x, global_ratio=0.5, local_ratio=0.5, strategy=\"random\"):\n",
    "#     \"\"\"\n",
    "#     x: input image tensor [B, C, H, W]\n",
    "#     global_ratio, local_ratio: fractions of the image to be used\n",
    "#     strategy: can be \"random\", \"central\", or \"jitter\"\n",
    "#     \"\"\"\n",
    "#     B, C, H, W = x.size()\n",
    "    \n",
    "#     global_views = []\n",
    "#     local_views = []\n",
    "    \n",
    "#     # Create 2 Global Views\n",
    "#     for _ in range(2):\n",
    "#         global_view = F.interpolate(x, scale_factor=global_ratio)\n",
    "#         global_view = F.interpolate(global_view, size=(H, W))\n",
    "#         global_views.append(global_view)\n",
    "    \n",
    "#     # Create 8 Local Views\n",
    "#     for _ in range(8):\n",
    "#         new_H, new_W = int(H * local_ratio), int(W * local_ratio)\n",
    "        \n",
    "#         if strategy == \"random\":\n",
    "#             top = random.randint(0, H - new_H)\n",
    "#             left = random.randint(0, W - new_W)\n",
    "#         elif strategy == \"central\":\n",
    "#             top = (H - new_H) // 2\n",
    "#             left = (W - new_W) // 2\n",
    "#         elif strategy == \"jitter\":\n",
    "#             crop_ratio = local_ratio + random.uniform(-0.1, 0.1)  # Adding jitter\n",
    "#             new_H_jitter, new_W_jitter = int(H * crop_ratio), int(W * crop_ratio)\n",
    "#             top = random.randint(0, H - new_H_jitter)\n",
    "#             left = random.randint(0, W - new_W_jitter)\n",
    "#         else:\n",
    "#             raise ValueError(f\"Unknown local view strategy: {strategy}\")\n",
    "        \n",
    "#         local_view = x[:, :, top:top+new_H, left:left+new_W]\n",
    "#         local_view = F.interpolate(local_view, size=(H, W))\n",
    "#         local_views.append(local_view)\n",
    "    \n",
    "#     return global_views, local_views\n"
   ]
  },
  {
   "cell_type": "code",
   "execution_count": 16,
   "metadata": {},
   "outputs": [],
   "source": [
    "def create_views(x, global_ratio=0.5, local_ratio=0.5, strategy=\"random\"):\n",
    "    \"\"\"\n",
    "    x: input image tensor [B, C, H, W]\n",
    "    global_ratio, local_ratio: fractions of the image to be used\n",
    "    strategy: can be \"random\", \"central\", or \"jitter\"\n",
    "    \"\"\"\n",
    "    B, C, H, W = x.size()\n",
    "    \n",
    "    global_views = []\n",
    "    local_views = []\n",
    "    \n",
    "    # Create 2 Global Views\n",
    "    for _ in range(2):\n",
    "        global_view = F.interpolate(x, scale_factor=global_ratio)\n",
    "        global_view = F.interpolate(global_view, size=(H, W))\n",
    "        global_views.append(global_view)\n",
    "    \n",
    "    # Create 8 Local Views\n",
    "    for _ in range(8):\n",
    "        new_H, new_W = int(H * local_ratio), int(W * local_ratio)\n",
    "        \n",
    "        if strategy == \"random\":\n",
    "            top = random.randint(0, H - new_H)\n",
    "            left = random.randint(0, W - new_W)\n",
    "        elif strategy == \"central\":\n",
    "            top = (H - new_H) // 2\n",
    "            left = (W - new_W) // 2\n",
    "        elif strategy == \"jitter\":\n",
    "            crop_ratio = local_ratio + random.uniform(-0.1, 0.1)  # Adding jitter\n",
    "            new_H_jitter, new_W_jitter = int(H * crop_ratio), int(W * crop_ratio)\n",
    "            top = random.randint(0, H - new_H_jitter)\n",
    "            left = random.randint(0, W - new_W_jitter)\n",
    "        else:\n",
    "            raise ValueError(f\"Unknown local view strategy: {strategy}\")\n",
    "        \n",
    "        local_view = x[:, :, top:top+new_H, left:left+new_W]\n",
    "        local_view_resized = F.interpolate(local_view, scale_factor=local_ratio)\n",
    "        local_view_resized = F.interpolate(local_view_resized, size=(new_H, new_W))\n",
    "        local_views.append(local_view_resized)\n",
    "    \n",
    "    return global_views, local_views\n"
   ]
  },
  {
   "cell_type": "code",
   "execution_count": 17,
   "metadata": {},
   "outputs": [
    {
     "name": "stdout",
     "output_type": "stream",
     "text": [
      "torch.Size([256, 1, 28, 28]) torch.Size([256, 1, 14, 14])\n"
     ]
    },
    {
     "data": {
      "image/png": "[encoded data removed]",
      "text/plain": [
       "<Figure size 1600x800 with 16 Axes>"
      ]
     },
     "metadata": {},
     "output_type": "display_data"
    }
   ],
   "source": [
    "# Debug\n",
    "for batch_idx, (data, target) in enumerate(train_loader):\n",
    "    global_views, local_views = create_views(data, global_ratio=0.5, local_ratio=0.5, strategy=\"jitter\")\n",
    "    \n",
    "    # Only print the shapes of the first view in each list for brevity\n",
    "    print(global_views[0].shape, local_views[0].shape)\n",
    "    break\n",
    "\n",
    "# Visualization\n",
    "num_global_views = len(global_views)\n",
    "num_local_views = len(local_views)\n",
    "\n",
    "fig, ax = plt.subplots(2, max(num_global_views, num_local_views), figsize=(16, 8))\n",
    "\n",
    "# Visualize global views\n",
    "for i in range(num_global_views):\n",
    "    global_view_img = global_views[i][0].permute(1, 2, 0).cpu().numpy()\n",
    "    ax[0, i].imshow(global_view_img)\n",
    "    ax[0, i].set_title(f\"Global view {i+1}\")\n",
    "\n",
    "# Visualize local views\n",
    "for i in range(num_local_views):\n",
    "    local_view_img = local_views[i][0].permute(1, 2, 0).cpu().numpy()\n",
    "    ax[1, i].imshow(local_view_img)\n",
    "    ax[1, i].set_title(f\"Local view {i+1}\")\n",
    "\n",
    "# If there are more local views than global views, hide the remaining axes\n",
    "for i in range(num_global_views, num_local_views):\n",
    "    ax[0, i].axis(\"off\")\n",
    "\n",
    "plt.tight_layout()\n",
    "plt.show()\n"
   ]
  },
  {
   "cell_type": "markdown",
   "metadata": {},
   "source": [
    "Create DynamicPositionEmbeddings"
   ]
  },
  {
   "cell_type": "code",
   "execution_count": 18,
   "metadata": {},
   "outputs": [],
   "source": [
    "class DynamicPositionEmbedding(nn.Module):\n",
    "    \"\"\"\n",
    "    Class that creates dynamic position embeddings for images using sinusoidal positional encodings.\n",
    "\n",
    "    Parameters:\n",
    "        channels (int): Number of channels\n",
    "        num_patches (int): Number of patches\n",
    "        embed_dim (int): Embedding dimension\n",
    "\n",
    "    Returns:\n",
    "        x (Tensor): Output of dynamic position embedding layer\n",
    "    \"\"\"\n",
    "\n",
    "    def __init__(self, num_patches, embed_dim):\n",
    "        super(DynamicPositionEmbedding, self).__init__()\n",
    "\n",
    "        self.pos_embedding = self.create_pos_embedding(num_patches + 1, embed_dim)\n",
    "\n",
    "\n",
    "    def create_pos_embedding(self, num_patches, embed_dim):\n",
    "        position = torch.arange(0, num_patches, dtype=torch.float).unsqueeze(1)\n",
    "        div_term = torch.exp(torch.arange(0, embed_dim, 2).float() * (-math.log(10000.0) / embed_dim))\n",
    "        pos_embedding = torch.zeros(num_patches, embed_dim)\n",
    "        pos_embedding[:, 0::2] = torch.sin(position * div_term)\n",
    "        pos_embedding[:, 1::2] = torch.cos(position * div_term)\n",
    "        pos_embedding = pos_embedding.unsqueeze(0).transpose(0, 1)\n",
    "        return nn.Parameter(pos_embedding, requires_grad=False)\n",
    "\n",
    "    def forward(self, x):\n",
    "        x = x + self.pos_embedding[:x.size(1)].squeeze(1) # Add position embeddings to both patch embeddings and CLS token.\n",
    "        return x"
   ]
  },
  {
   "cell_type": "code",
   "execution_count": 19,
   "metadata": {},
   "outputs": [],
   "source": [
    "# # Debug\n",
    "# # Create an instance of PatchEmbedding and DynamicPositionEmbedding\n",
    "# patch_embed = PatchEmbedding(image_size=28, patch_size=7, in_channels=1, embed_dim=4)  # Assuming these parameters\n",
    "# dynamic_pos_embed = DynamicPositionEmbedding(num_patches=17, embed_dim=4)\n",
    "\n",
    "# x = torch.randn(1, 1, 28, 28)\n",
    "# print(f\"Input shape: {x.shape}\")\n",
    "# x = patch_embed(x)\n",
    "# print(f\"Patch embedding output shape: {x.shape}\")\n",
    "# x = dynamic_pos_embed(x)\n",
    "# print(f\"Dynamic position embedding output shape: {x.shape}\")\n",
    "\n",
    "\n",
    "# # Test the flow\n",
    "# x = torch.randn(1, 1, 28, 28)\n",
    "# print(f\"Input shape: {x.shape}\")\n",
    "# x = patch_embed(x)\n",
    "# print(f\"Patch embedding output shape: {x.shape}\")\n",
    "# x = dynamic_pos_embed(x)\n",
    "# print(f\"Dynamic position embedding output shape: {x.shape}\")"
   ]
  },
  {
   "cell_type": "markdown",
   "metadata": {},
   "source": [
    "Define EMA class for exponential moving average of model weights for the teacher ViT"
   ]
  },
  {
   "cell_type": "code",
   "execution_count": 20,
   "metadata": {},
   "outputs": [],
   "source": [
    "class EMA:\n",
    "    \"\"\"\n",
    "    Class to update and maintain the Exponential Moving Average (EMA) of model parameters.\n",
    "    \n",
    "    Parameters:\n",
    "        model (nn.Module): PyTorch model for which the EMA needs to be maintained.\n",
    "        decay (float): Decay rate for the moving average. Value should be between 0 and 1.\n",
    "                       Higher values give more importance to recent model parameters.\n",
    "    \n",
    "    Attributes:\n",
    "        model (nn.Module): PyTorch model.\n",
    "        decay (float): Decay rate for the moving average.\n",
    "        shadow (dict): Dictionary to store the shadow weights.\n",
    "        backup (dict): Dictionary to store the backup of the original model weights.\n",
    "    \"\"\"\n",
    "    \n",
    "    def __init__(self, model, ema_decay, num_epochs, optimizer):\n",
    "        self.model = model\n",
    "        self.decay_scheduler = CosineAnnealingLR(optimizer=optimizer, T_max=num_epochs, eta_min=0.001, last_epoch=-1, verbose=False)\n",
    "        self.initial_decay = ema_decay\n",
    "        self.shadow = {}\n",
    "        self.backup = {}\n",
    "\n",
    "        # Initialize the shadow weights with the model parameters\n",
    "        for name, param in model.named_parameters():\n",
    "            self.shadow[name] = param.data.clone()\n",
    "\n",
    "    def apply(self):\n",
    "        \"\"\"\n",
    "        Apply the EMA to the model weights. The model's weights are replaced by the shadow weights.\n",
    "        \"\"\"\n",
    "\n",
    "        # Update decay based on the cosine schedule\n",
    "        self.decay = self.initial_decay + (1 - self.initial_decay) * self.decay_scheduler.get_last_lr()[0]\n",
    "\n",
    "        # Backup current model parameters\n",
    "        for name, param in self.model.named_parameters():\n",
    "            self.backup[name] = param.data.clone()\n",
    "\n",
    "        # Apply EMA to get the shadow weights\n",
    "        for name, param in self.model.named_parameters():\n",
    "            self.shadow[name] = self.decay * self.shadow[name] + (1.0 - self.decay) * param.data\n",
    "            param.data = self.shadow[name]\n",
    "\n",
    "        # Step the scheduler for the next iteration\n",
    "        self.decay_scheduler.step()\n",
    "\n",
    "    def restore(self):\n",
    "        \"\"\"\n",
    "        Restore the model's weights from the backup. This reverts the effects of the `apply` method.\n",
    "        \"\"\"\n",
    "        # Restore model parameters from the backup\n",
    "        for name, param in self.model.named_parameters():\n",
    "            param.data = self.backup[name]"
   ]
  },
  {
   "cell_type": "code",
   "execution_count": 21,
   "metadata": {},
   "outputs": [],
   "source": [
    "def center_and_sharpen(features, sharpen_value=0.5):\n",
    "    \"\"\"\n",
    "    Center and sharpen the features.\n",
    "    \n",
    "    Parameters:\n",
    "        features (torch.Tensor): The features tensor.\n",
    "        sharpen_value (float): Value used for sharpening.\n",
    "    \n",
    "    Returns:\n",
    "        torch.Tensor: Centered and sharpened features.\n",
    "    \"\"\"\n",
    "    # Centering\n",
    "    centered_features = features - features.mean(dim=0)\n",
    "\n",
    "    # Sharpening\n",
    "    sharpened_features = torch.nn.functional.softmax(centered_features / sharpen_value, dim=1)\n",
    "\n",
    "    return sharpened_features"
   ]
  },
  {
   "cell_type": "markdown",
   "metadata": {},
   "source": [
    "Create the VisionTransformerDPE class and instantiate the teacher ViT and the student ViT"
   ]
  },
  {
   "cell_type": "code",
   "execution_count": 22,
   "metadata": {},
   "outputs": [],
   "source": [
    "class VisionTransformerDPE(nn.Module):\n",
    "    \n",
    "    def __init__(self, \n",
    "                 image_size: int, \n",
    "                 patch_size: int, \n",
    "                 in_channels: int, \n",
    "                 embed_dim: int, \n",
    "                 depth: int, \n",
    "                 heads: int, \n",
    "                 mlp_dim: int,\n",
    "                 num_classes: int, \n",
    "                 dropout: float = 0., \n",
    "                 mlp_head_units = [2048, 1024]):\n",
    "        super().__init__()        \n",
    "        # Patch embedding layer\n",
    "        self.patch_embed = PatchEmbedding(image_size=image_size, patch_size=patch_size, in_channels=in_channels, embed_dim=embed_dim)\n",
    "        # Initializing cls_token and pos_embed with random values\n",
    "        self.cls_token = nn.Parameter(torch.randn(1, 1, embed_dim))        \n",
    "        # Create the Dynamic Positional Embedding layer\n",
    "        num_patches = (image_size // patch_size) ** 2\n",
    "        self.dynamic_pos_embed = DynamicPositionEmbedding(num_patches, embed_dim)\n",
    "        \n",
    "        self.dropout = nn.Dropout(dropout)\n",
    "        self.transformer_encoder = nn.ModuleList([TransformerEncoderBlock(dim=embed_dim, heads=heads, dim_head=embed_dim // heads, mlp_dim=mlp_dim, dropout=dropout) for _ in range(depth)])\n",
    "        self.norm = nn.LayerNorm(embed_dim)\n",
    "        self.mlp_head = nn.Sequential(\n",
    "            nn.Linear(embed_dim, mlp_head_units[0]),\n",
    "            nn.ReLU(),\n",
    "            nn.Dropout(dropout),\n",
    "            nn.Linear(mlp_head_units[0], mlp_head_units[1]),\n",
    "            nn.ReLU(),\n",
    "            nn.Dropout(dropout),\n",
    "            nn.Linear(mlp_head_units[1], num_classes)\n",
    "        )\n",
    "    def forward(self, x):\n",
    "        B = x.shape[0]  # batch_size\n",
    "        x = self.patch_embed(x)\n",
    "        \n",
    "        cls_tokens = repeat(self.cls_token, '() n d -> b n d', b=B)\n",
    "        x = torch.cat((cls_tokens, x), dim=1)\n",
    "        \n",
    "        # Use the DynamicPositionEmbedding for adding the positional embeddings\n",
    "        x = self.dynamic_pos_embed(x)\n",
    "        \n",
    "        x = self.dropout(x)\n",
    "\n",
    "        for transformer_encoder in self.transformer_encoder:\n",
    "            x = transformer_encoder(x)\n",
    "\n",
    "        x = self.norm(x)\n",
    "        x = x[:, 0]  # Take the cls_token representation\n",
    "        x = self.mlp_head(x)\n",
    "\n",
    "        return x\n"
   ]
  },
  {
   "cell_type": "markdown",
   "metadata": {},
   "source": [
    "Define the self-supervised loss"
   ]
  },
  {
   "cell_type": "code",
   "execution_count": 23,
   "metadata": {},
   "outputs": [],
   "source": [
    "class SelfSupervisedLoss(nn.Module):\n",
    "    \"\"\"\n",
    "    Implements the self-supervised loss for Vision Transformer as described in \n",
    "    \"How to Train Vision Transformers on Small-scale Datasets\".\n",
    "\n",
    "    This loss combines both global and local views. Specifically, \n",
    "    it computes a loss based on the negative sum of the elementwise product \n",
    "    of the student's outputs and the logarithm of the teacher's outputs.\n",
    "\n",
    "    Attributes:\n",
    "        None\n",
    "\n",
    "    Methods:\n",
    "        forward(student_global, teacher_global, student_locals, teacher_locals): Computes the self-supervised loss.\n",
    "    \"\"\"\n",
    "\n",
    "    def __init__(self, temperature=0.5):\n",
    "        super(SelfSupervisedLoss, self).__init__()\n",
    "        self.temperature = temperature\n",
    "\n",
    "    def forward(self, student_global, teacher_global, student_locals, teacher_locals):\n",
    "        \"\"\"\n",
    "        Computes the self-supervised loss.\n",
    "\n",
    "        Parameters:\n",
    "        - student_global (torch.Tensor): Global view output from the student network.\n",
    "        - teacher_global (torch.Tensor): Global view output from the teacher network.\n",
    "        - student_locals (List[torch.Tensor]): List of local view outputs from the student network.\n",
    "        - teacher_locals (List[torch.Tensor]): List of local view outputs from the teacher network.\n",
    "\n",
    "        Returns:\n",
    "        - loss (torch.Tensor): Computed self-supervised loss combining both global and local views.\n",
    "        \"\"\"\n",
    "\n",
    "        # Temperature-scaled cross-entropy loss\n",
    "        teacher_global = torch.nn.functional.log_softmax(teacher_global / self.temperature, dim=-1)\n",
    "        student_global = torch.nn.functional.softmax(student_global / self.temperature, dim=-1)\n",
    "\n",
    "        # Compute the global view loss component\n",
    "        global_loss = -torch.mean(torch.sum(student_global * teacher_global, dim=-1))\n",
    "\n",
    "        # Compute the local view loss component\n",
    "        teacher_locals = [torch.nn.functional.log_softmax(t_local / self.temperature, dim=-1) for t_local in teacher_locals]\n",
    "        student_locals = [torch.nn.functional.softmax(s_local / self.temperature, dim=-1) for s_local in student_locals]\n",
    "\n",
    "        local_losses = [-torch.mean(torch.sum(s_local * t_local, dim=-1)) for s_local, t_local in zip(student_locals, teacher_locals)]\n",
    "        \n",
    "        # Average the local losses\n",
    "        total_local_loss = sum(local_losses) / len(local_losses)\n",
    "\n",
    "        # Combine the losses\n",
    "        loss = global_loss + total_local_loss\n",
    "        return loss"
   ]
  },
  {
   "cell_type": "markdown",
   "metadata": {},
   "source": [
    "Define the training loops"
   ]
  },
  {
   "cell_type": "markdown",
   "metadata": {},
   "source": [
    "\n",
    "1. **Train the Student (Self-Supervised)**: Using the self-supervised approach, the student model is trained to mimic the teacher's outputs on low-resolution local and global views. During this phase, the student learns inductive biases from the teacher's representations.\n",
    "\n",
    "2. **Fine-tune the Student (Still Self-Supervised)**: Depending on the specifics, there might be additional fine-tuning of the student model within the self-supervised framework to further optimize its performance.\n",
    "\n",
    "3. **Transfer the Student Weights to Standard ViT (Supervised)**: The weights of the student model are then used to initialize a standard Vision Transformer. This ViT is then trained using supervised learning on actual labeled data from the small-scale dataset.\n",
    "\n",
    "This process leverages the inductive biases learned during self-supervised training to improve the training and generalization of the Vision Transformer on small datasets. The teacher model aids in the self-supervised learning, but the weights transferred for supervised fine-tuning are from the student."
   ]
  },
  {
   "cell_type": "code",
   "execution_count": 24,
   "metadata": {},
   "outputs": [],
   "source": [
    "def self_supervised_training(student, teacher, optimizer, ema_updater, epochs, train_loader, val_loader, scheduler, device, criterion):\n",
    "    \"\"\"\n",
    "    Train Vision Transformer in a self-supervised manner.\n",
    "    \n",
    "    Parameters:\n",
    "        student (nn.Module): Student Vision Transformer model\n",
    "        teacher (nn.Module): Teacher Vision Transformer model\n",
    "        optimizer (nn.Module): Optimizer\n",
    "        ema_updater (EMA): EMA updater\n",
    "        epochs (int): Number of epochs\n",
    "        train_loader (DataLoader): Training set dataloader\n",
    "        val_loader (DataLoader): Validation set dataloader\n",
    "        scheduler (nn.Module): Learning rate scheduler\n",
    "        device (str): Device to use\n",
    "        criterion (nn.Module): Loss function\n",
    "\n",
    "    Returns:\n",
    "        None\n",
    "    \"\"\"\n",
    "    \n",
    "    student.train()\n",
    "    teacher.eval()  # Teacher always in eval mode\n",
    "    loss_fn = SelfSupervisedLoss()\n",
    "    best_val_loss = float('inf')  # Initialize best validation loss to infinity§\n",
    "\n",
    "    # create save directory if it doesn't exist\n",
    "    save_dir = '../trained_models/dino/'\n",
    "    if not os.path.exists(save_dir):\n",
    "        os.makedirs(save_dir)\n",
    "\n",
    "    # Start timer\n",
    "    start_time = time.time()\n",
    "\n",
    "    for epoch in range(epochs):\n",
    "        total_loss = 0.0\n",
    "        for images, _ in tqdm(train_loader, desc=\"Training\"):  # We don't need labels in this phase\n",
    "            images = images.to(device)\n",
    "            \n",
    "            # Create views\n",
    "            global_views, local_views = create_views(images)\n",
    "            \n",
    "            total_view_loss = 0\n",
    "            for i in range(len(global_views)):\n",
    "                global_view = global_views[i].to(device)\n",
    "                local_view = local_views[i].to(device)\n",
    "                \n",
    "                # Forward pass\n",
    "                with torch.no_grad():\n",
    "                    teacher_features = teacher(global_view)\n",
    "                    teacher_features = center_and_sharpen(teacher_features)  # Apply centering and sharpening\n",
    "                    teacher_features = F.normalize(teacher_features, dim=1)\n",
    "\n",
    "\n",
    "                student_global_features, student_local_features = student(global_view), student(local_view)\n",
    "                student_global_features = F.normalize(student_global_features, dim=1)\n",
    "                \n",
    "                # Loss computation for this view\n",
    "                loss = loss_fn(student_global_features, teacher_features, student_local_features, teacher_features)\n",
    "                total_view_loss += loss\n",
    "            \n",
    "            # Average the loss for all views\n",
    "            avg_view_loss = total_view_loss / len(global_views)\n",
    "            total_loss += avg_view_loss.item()\n",
    "            \n",
    "            # Backpropagate based on avg_view_loss\n",
    "            optimizer.zero_grad()\n",
    "            avg_view_loss.backward()\n",
    "            optimizer.step()\n",
    "\n",
    "            # Update teacher with EMA of student weights\n",
    "            ema_updater.apply()\n",
    "\n",
    "        # Average loss for the whole epoch\n",
    "        avg_loss = total_loss / len(train_loader)\n",
    "    \n",
    "        print(f\"Epoch [{epoch+1}/{epochs}] - Training Loss: {avg_loss:.4f}\")\n",
    "\n",
    "        # Use the validation set to adapt the learning rate\n",
    "        with torch.no_grad():\n",
    "            val_loss = 0.0\n",
    "            student.eval()  # Switch student to evaluation mode\n",
    "\n",
    "            for images, labels in tqdm(val_loader, desc=\"Validation\"):\n",
    "                images, labels = images.to(device), labels.to(device)\n",
    "                outputs = student(images)\n",
    "                loss = criterion(outputs, labels)\n",
    "                val_loss += loss.item()\n",
    "\n",
    "            avg_val_loss = val_loss / len(val_loader)\n",
    "            scheduler.step(avg_val_loss)\n",
    "\n",
    "            print(f\"Validation Loss after Epoch [{epoch+1}/{epochs}]: {avg_val_loss:.4f}\")\n",
    "\n",
    "            # Save the model if the validation loss improves\n",
    "            if avg_val_loss < best_val_loss:\n",
    "                best_val_loss = avg_val_loss\n",
    "                torch.save(student.state_dict(), f'{save_dir}{dataset}_self_supervised_best_student_weights.pth')\n",
    "\n",
    "                print(\"Saved improved model with validation loss {:.4f}\".format(avg_val_loss))\n",
    "\n",
    "        student.train()  # Switch student back to training mode after validation\n",
    "\n",
    "    # Record the end time for training\n",
    "    end_time = time.time()\n",
    "    # Calculate the total training time\n",
    "    total_time_seconds = end_time - start_time\n",
    "    if total_time_seconds < 60:\n",
    "        print(f\"Total training time: {total_time_seconds:.2f} seconds\")\n",
    "    else:\n",
    "        total_time_minutes = total_time_seconds / 60\n",
    "        print(f\"Total training time: {total_time_minutes:.2f} minutes\")\n",
    "\n",
    "    # At the end of training, you might want to restore the student's original weights\n",
    "    ema_updater.restore()\n",
    "    print(\"Self-supervised training complete!\")\n"
   ]
  },
  {
   "cell_type": "code",
   "execution_count": 25,
   "metadata": {},
   "outputs": [],
   "source": [
    "def supervised_training(student, optimizer, criterion, num_epochs, train_loader, val_loader, scheduler, device):\n",
    "    \"\"\"\n",
    "    Fine-tune the Vision Transformer in a supervised manner.\n",
    "\n",
    "    Parameters:\n",
    "    - student (nn.Module): The student model.\n",
    "    - optimizer (torch.optim.Optimizer): Optimizer for the student model.\n",
    "    - criterion (nn.Module): Loss function.\n",
    "    - num_epochs (int): Number of training epochs.\n",
    "    - train_loader (DataLoader): DataLoader for the training set.\n",
    "    - val_loader (DataLoader): DataLoader for the validation set.\n",
    "    - scheduler: Learning rate scheduler.\n",
    "    - device (torch.device): Device to which tensors will be moved.\n",
    "\n",
    "    Returns:\n",
    "    None\n",
    "    \"\"\"\n",
    "    \n",
    "    best_val_loss = float('inf')  # Set the best validation loss to infinity\n",
    "\n",
    "    # create save directory if it doesn't exist\n",
    "    save_dir = '../trained_models/dino/'\n",
    "    if not os.path.exists(save_dir):\n",
    "        os.makedirs(save_dir)\n",
    "\n",
    "    # Start timer\n",
    "    start_time = time.time()\n",
    "\n",
    "    for epoch in range(num_epochs):\n",
    "        student.train()\n",
    "        \n",
    "        total_loss = 0.0\n",
    "        correct = 0\n",
    "        total = 0\n",
    "        \n",
    "        for images, labels in tqdm(train_loader, desc=\"Training\"):\n",
    "            images, labels = images.to(device), labels.to(device)\n",
    "            \n",
    "            # Forward pass\n",
    "            outputs = student(images)\n",
    "            loss = criterion(outputs, labels)\n",
    "            total_loss += loss.item()\n",
    "            \n",
    "            # Compute accuracy\n",
    "            _, predicted = torch.max(outputs.data, 1)\n",
    "            total += labels.size(0)\n",
    "            correct += (predicted == labels).sum().item()\n",
    "            \n",
    "            # Backpropagation\n",
    "            optimizer.zero_grad()\n",
    "            loss.backward()\n",
    "            optimizer.step()\n",
    "            \n",
    "        # Average loss and accuracy\n",
    "        avg_loss = total_loss / len(train_loader)\n",
    "        accuracy = 100 * correct / total\n",
    "        \n",
    "        print(f\"Epoch [{epoch+1}/{num_epochs}] - Loss: {avg_loss:.4f}, Accuracy: {accuracy:.2f}%\")\n",
    "        \n",
    "        # Use the validation set to adapt the learning rate\n",
    "        with torch.no_grad():\n",
    "            val_loss = 0.0\n",
    "            student.eval()\n",
    "            \n",
    "            for images, labels in tqdm(val_loader, desc=\"Validation\"):\n",
    "                images, labels = images.to(device), labels.to(device)\n",
    "                outputs = student(images)\n",
    "                loss = criterion(outputs, labels)\n",
    "                val_loss += loss.item()\n",
    "            \n",
    "            avg_val_loss = val_loss / len(val_loader)\n",
    "            scheduler.step(avg_val_loss)\n",
    "\n",
    "            print(f\"Validation Loss after Epoch [{epoch+1}/{num_epochs}]: {avg_val_loss:.4f}\")\n",
    "\n",
    "            if avg_val_loss < best_val_loss:\n",
    "                best_val_loss = avg_val_loss\n",
    "                torch.save(student.state_dict(), f'{save_dir}{dataset}_supervised_best_student_weights.pth')\n",
    "    \n",
    "    # Record the end time for training\n",
    "    end_time = time.time()\n",
    "    # Calculate the total training time\n",
    "    total_time_seconds = end_time - start_time\n",
    "    if total_time_seconds < 60:\n",
    "        print(f\"Total training time: {total_time_seconds:.2f} seconds\")\n",
    "    else:\n",
    "        total_time_minutes = total_time_seconds / 60\n",
    "        print(f\"Total training time: {total_time_minutes:.2f} minutes\")\n",
    "\n",
    "    print(\"Supervised fine-tuning complete!\")\n"
   ]
  },
  {
   "cell_type": "markdown",
   "metadata": {},
   "source": [
    "### Student Teacher Training\n",
    "\n"
   ]
  },
  {
   "cell_type": "code",
   "execution_count": 26,
   "metadata": {},
   "outputs": [
    {
     "name": "stderr",
     "output_type": "stream",
     "text": [
      "Training: 100%|██████████| 188/188 [02:23<00:00,  1.31it/s]\n"
     ]
    },
    {
     "name": "stdout",
     "output_type": "stream",
     "text": [
      "Epoch [1/20] - Training Loss: 4.6028\n"
     ]
    },
    {
     "name": "stderr",
     "output_type": "stream",
     "text": [
      "Validation: 100%|██████████| 47/47 [00:04<00:00,  9.59it/s]\n"
     ]
    },
    {
     "name": "stdout",
     "output_type": "stream",
     "text": [
      "Validation Loss after Epoch [1/20]: 2.9490\n",
      "Saved improved model with validation loss 2.9490\n"
     ]
    },
    {
     "name": "stderr",
     "output_type": "stream",
     "text": [
      "Training: 100%|██████████| 188/188 [02:22<00:00,  1.32it/s]\n"
     ]
    },
    {
     "name": "stdout",
     "output_type": "stream",
     "text": [
      "Epoch [2/20] - Training Loss: 4.6015\n"
     ]
    },
    {
     "name": "stderr",
     "output_type": "stream",
     "text": [
      "Validation: 100%|██████████| 47/47 [00:04<00:00,  9.99it/s]\n"
     ]
    },
    {
     "name": "stdout",
     "output_type": "stream",
     "text": [
      "Validation Loss after Epoch [2/20]: 3.1016\n"
     ]
    },
    {
     "name": "stderr",
     "output_type": "stream",
     "text": [
      "Training: 100%|██████████| 188/188 [02:22<00:00,  1.32it/s]\n"
     ]
    },
    {
     "name": "stdout",
     "output_type": "stream",
     "text": [
      "Epoch [3/20] - Training Loss: 4.6015\n"
     ]
    },
    {
     "name": "stderr",
     "output_type": "stream",
     "text": [
      "Validation: 100%|██████████| 47/47 [00:04<00:00,  9.97it/s]\n"
     ]
    },
    {
     "name": "stdout",
     "output_type": "stream",
     "text": [
      "Validation Loss after Epoch [3/20]: 3.1929\n"
     ]
    },
    {
     "name": "stderr",
     "output_type": "stream",
     "text": [
      "Training: 100%|██████████| 188/188 [02:22<00:00,  1.32it/s]\n"
     ]
    },
    {
     "name": "stdout",
     "output_type": "stream",
     "text": [
      "Epoch [4/20] - Training Loss: 4.6014\n"
     ]
    },
    {
     "name": "stderr",
     "output_type": "stream",
     "text": [
      "Validation: 100%|██████████| 47/47 [00:04<00:00, 10.01it/s]\n"
     ]
    },
    {
     "name": "stdout",
     "output_type": "stream",
     "text": [
      "Validation Loss after Epoch [4/20]: 3.3927\n"
     ]
    },
    {
     "name": "stderr",
     "output_type": "stream",
     "text": [
      "Training: 100%|██████████| 188/188 [02:22<00:00,  1.32it/s]\n"
     ]
    },
    {
     "name": "stdout",
     "output_type": "stream",
     "text": [
      "Epoch [5/20] - Training Loss: 4.6015\n"
     ]
    },
    {
     "name": "stderr",
     "output_type": "stream",
     "text": [
      "Validation: 100%|██████████| 47/47 [00:04<00:00, 10.02it/s]\n"
     ]
    },
    {
     "name": "stdout",
     "output_type": "stream",
     "text": [
      "Validation Loss after Epoch [5/20]: 3.2055\n"
     ]
    },
    {
     "name": "stderr",
     "output_type": "stream",
     "text": [
      "Training: 100%|██████████| 188/188 [02:22<00:00,  1.32it/s]\n"
     ]
    },
    {
     "name": "stdout",
     "output_type": "stream",
     "text": [
      "Epoch [6/20] - Training Loss: 4.6015\n"
     ]
    },
    {
     "name": "stderr",
     "output_type": "stream",
     "text": [
      "Validation: 100%|██████████| 47/47 [00:04<00:00,  9.74it/s]\n"
     ]
    },
    {
     "name": "stdout",
     "output_type": "stream",
     "text": [
      "Validation Loss after Epoch [6/20]: 3.2203\n"
     ]
    },
    {
     "name": "stderr",
     "output_type": "stream",
     "text": [
      "Training: 100%|██████████| 188/188 [02:22<00:00,  1.32it/s]\n"
     ]
    },
    {
     "name": "stdout",
     "output_type": "stream",
     "text": [
      "Epoch [7/20] - Training Loss: 4.6015\n"
     ]
    },
    {
     "name": "stderr",
     "output_type": "stream",
     "text": [
      "Validation: 100%|██████████| 47/47 [00:04<00:00,  9.78it/s]\n"
     ]
    },
    {
     "name": "stdout",
     "output_type": "stream",
     "text": [
      "Validation Loss after Epoch [7/20]: 3.3122\n"
     ]
    },
    {
     "name": "stderr",
     "output_type": "stream",
     "text": [
      "Training: 100%|██████████| 188/188 [02:28<00:00,  1.27it/s]\n"
     ]
    },
    {
     "name": "stdout",
     "output_type": "stream",
     "text": [
      "Epoch [8/20] - Training Loss: 4.6016\n"
     ]
    },
    {
     "name": "stderr",
     "output_type": "stream",
     "text": [
      "Validation: 100%|██████████| 47/47 [00:05<00:00,  9.31it/s]\n"
     ]
    },
    {
     "name": "stdout",
     "output_type": "stream",
     "text": [
      "Validation Loss after Epoch [8/20]: 3.4113\n"
     ]
    },
    {
     "name": "stderr",
     "output_type": "stream",
     "text": [
      "Training: 100%|██████████| 188/188 [02:26<00:00,  1.29it/s]\n"
     ]
    },
    {
     "name": "stdout",
     "output_type": "stream",
     "text": [
      "Epoch [9/20] - Training Loss: 4.6016\n"
     ]
    },
    {
     "name": "stderr",
     "output_type": "stream",
     "text": [
      "Validation: 100%|██████████| 47/47 [00:04<00:00,  9.74it/s]\n"
     ]
    },
    {
     "name": "stdout",
     "output_type": "stream",
     "text": [
      "Validation Loss after Epoch [9/20]: 3.2800\n"
     ]
    },
    {
     "name": "stderr",
     "output_type": "stream",
     "text": [
      "Training: 100%|██████████| 188/188 [02:26<00:00,  1.29it/s]\n"
     ]
    },
    {
     "name": "stdout",
     "output_type": "stream",
     "text": [
      "Epoch [10/20] - Training Loss: 4.6016\n"
     ]
    },
    {
     "name": "stderr",
     "output_type": "stream",
     "text": [
      "Validation: 100%|██████████| 47/47 [00:04<00:00,  9.49it/s]\n"
     ]
    },
    {
     "name": "stdout",
     "output_type": "stream",
     "text": [
      "Validation Loss after Epoch [10/20]: 3.2371\n"
     ]
    },
    {
     "name": "stderr",
     "output_type": "stream",
     "text": [
      "Training: 100%|██████████| 188/188 [02:26<00:00,  1.28it/s]\n"
     ]
    },
    {
     "name": "stdout",
     "output_type": "stream",
     "text": [
      "Epoch [11/20] - Training Loss: 4.6016\n"
     ]
    },
    {
     "name": "stderr",
     "output_type": "stream",
     "text": [
      "Validation: 100%|██████████| 47/47 [00:04<00:00,  9.61it/s]\n"
     ]
    },
    {
     "name": "stdout",
     "output_type": "stream",
     "text": [
      "Validation Loss after Epoch [11/20]: 3.3443\n"
     ]
    },
    {
     "name": "stderr",
     "output_type": "stream",
     "text": [
      "Training: 100%|██████████| 188/188 [02:27<00:00,  1.27it/s]\n"
     ]
    },
    {
     "name": "stdout",
     "output_type": "stream",
     "text": [
      "Epoch [12/20] - Training Loss: 4.6016\n"
     ]
    },
    {
     "name": "stderr",
     "output_type": "stream",
     "text": [
      "Validation: 100%|██████████| 47/47 [00:05<00:00,  8.87it/s]\n"
     ]
    },
    {
     "name": "stdout",
     "output_type": "stream",
     "text": [
      "Epoch 00012: reducing learning rate of group 0 to 5.0000e-04.\n",
      "Validation Loss after Epoch [12/20]: 3.3725\n"
     ]
    },
    {
     "name": "stderr",
     "output_type": "stream",
     "text": [
      "Training: 100%|██████████| 188/188 [02:34<00:00,  1.22it/s]\n"
     ]
    },
    {
     "name": "stdout",
     "output_type": "stream",
     "text": [
      "Epoch [13/20] - Training Loss: 4.6016\n"
     ]
    },
    {
     "name": "stderr",
     "output_type": "stream",
     "text": [
      "Validation: 100%|██████████| 47/47 [00:05<00:00,  8.85it/s]\n"
     ]
    },
    {
     "name": "stdout",
     "output_type": "stream",
     "text": [
      "Validation Loss after Epoch [13/20]: 3.3807\n"
     ]
    },
    {
     "name": "stderr",
     "output_type": "stream",
     "text": [
      "Training: 100%|██████████| 188/188 [02:31<00:00,  1.24it/s]\n"
     ]
    },
    {
     "name": "stdout",
     "output_type": "stream",
     "text": [
      "Epoch [14/20] - Training Loss: 4.6016\n"
     ]
    },
    {
     "name": "stderr",
     "output_type": "stream",
     "text": [
      "Validation: 100%|██████████| 47/47 [00:05<00:00,  9.39it/s]\n"
     ]
    },
    {
     "name": "stdout",
     "output_type": "stream",
     "text": [
      "Validation Loss after Epoch [14/20]: 3.4527\n"
     ]
    },
    {
     "name": "stderr",
     "output_type": "stream",
     "text": [
      "Training: 100%|██████████| 188/188 [02:30<00:00,  1.25it/s]\n"
     ]
    },
    {
     "name": "stdout",
     "output_type": "stream",
     "text": [
      "Epoch [15/20] - Training Loss: 4.6017\n"
     ]
    },
    {
     "name": "stderr",
     "output_type": "stream",
     "text": [
      "Validation: 100%|██████████| 47/47 [00:05<00:00,  9.38it/s]\n"
     ]
    },
    {
     "name": "stdout",
     "output_type": "stream",
     "text": [
      "Validation Loss after Epoch [15/20]: 3.4863\n"
     ]
    },
    {
     "name": "stderr",
     "output_type": "stream",
     "text": [
      "Training: 100%|██████████| 188/188 [02:22<00:00,  1.32it/s]\n"
     ]
    },
    {
     "name": "stdout",
     "output_type": "stream",
     "text": [
      "Epoch [16/20] - Training Loss: 4.6016\n"
     ]
    },
    {
     "name": "stderr",
     "output_type": "stream",
     "text": [
      "Validation: 100%|██████████| 47/47 [00:05<00:00,  8.11it/s]\n"
     ]
    },
    {
     "name": "stdout",
     "output_type": "stream",
     "text": [
      "Validation Loss after Epoch [16/20]: 3.3910\n"
     ]
    },
    {
     "name": "stderr",
     "output_type": "stream",
     "text": [
      "Training: 100%|██████████| 188/188 [02:22<00:00,  1.32it/s]\n"
     ]
    },
    {
     "name": "stdout",
     "output_type": "stream",
     "text": [
      "Epoch [17/20] - Training Loss: 4.6016\n"
     ]
    },
    {
     "name": "stderr",
     "output_type": "stream",
     "text": [
      "Validation: 100%|██████████| 47/47 [00:04<00:00, 10.08it/s]\n"
     ]
    },
    {
     "name": "stdout",
     "output_type": "stream",
     "text": [
      "Validation Loss after Epoch [17/20]: 3.5765\n"
     ]
    },
    {
     "name": "stderr",
     "output_type": "stream",
     "text": [
      "Training: 100%|██████████| 188/188 [02:24<00:00,  1.30it/s]\n"
     ]
    },
    {
     "name": "stdout",
     "output_type": "stream",
     "text": [
      "Epoch [18/20] - Training Loss: 4.6016\n"
     ]
    },
    {
     "name": "stderr",
     "output_type": "stream",
     "text": [
      "Validation: 100%|██████████| 47/47 [00:04<00:00,  9.78it/s]\n"
     ]
    },
    {
     "name": "stdout",
     "output_type": "stream",
     "text": [
      "Validation Loss after Epoch [18/20]: 3.3860\n"
     ]
    },
    {
     "name": "stderr",
     "output_type": "stream",
     "text": [
      "Training: 100%|██████████| 188/188 [02:26<00:00,  1.29it/s]\n"
     ]
    },
    {
     "name": "stdout",
     "output_type": "stream",
     "text": [
      "Epoch [19/20] - Training Loss: 4.6017\n"
     ]
    },
    {
     "name": "stderr",
     "output_type": "stream",
     "text": [
      "Validation: 100%|██████████| 47/47 [00:04<00:00,  9.72it/s]\n"
     ]
    },
    {
     "name": "stdout",
     "output_type": "stream",
     "text": [
      "Validation Loss after Epoch [19/20]: 3.5792\n"
     ]
    },
    {
     "name": "stderr",
     "output_type": "stream",
     "text": [
      "Training: 100%|██████████| 188/188 [02:26<00:00,  1.29it/s]\n"
     ]
    },
    {
     "name": "stdout",
     "output_type": "stream",
     "text": [
      "Epoch [20/20] - Training Loss: 4.6016\n"
     ]
    },
    {
     "name": "stderr",
     "output_type": "stream",
     "text": [
      "Validation: 100%|██████████| 47/47 [00:04<00:00,  9.80it/s]"
     ]
    },
    {
     "name": "stdout",
     "output_type": "stream",
     "text": [
      "Validation Loss after Epoch [20/20]: 3.6275\n",
      "Total training time: 50.18 minutes\n",
      "Self-supervised training complete!\n"
     ]
    },
    {
     "name": "stderr",
     "output_type": "stream",
     "text": [
      "\n"
     ]
    }
   ],
   "source": [
    "# Initialize models\n",
    "teacher = VisionTransformerDPE(\n",
    "    image_size=image_size,\n",
    "    patch_size=patch_size,\n",
    "    in_channels=in_channels,\n",
    "    embed_dim=projection_dim,\n",
    "    depth=transformer_layers,\n",
    "    heads=num_heads,\n",
    "    mlp_dim=mlp_head_units[0],\n",
    "    dropout=dropout,\n",
    "    num_classes=num_classes, \n",
    ").to(device)\n",
    "\n",
    "half_image_size = 0.5*image_size\n",
    "\n",
    "student = VisionTransformerDPE(\n",
    "    image_size=image_size,\n",
    "    patch_size=patch_size,\n",
    "    in_channels=in_channels,\n",
    "    embed_dim=projection_dim,\n",
    "    depth=transformer_layers,\n",
    "    heads=num_heads,\n",
    "    mlp_dim=mlp_head_units[0],\n",
    "    dropout=dropout,\n",
    "    num_classes=num_classes,\n",
    ").to(device)\n",
    "\n",
    "# Define loss function and optimizer\n",
    "criterion = nn.CrossEntropyLoss()\n",
    "optimizer = optim.Adam(student.parameters(), lr=learning_rate, weight_decay=weight_decay)\n",
    "\n",
    "scheduler = ReduceLROnPlateau(optimizer, 'min', patience=patience_value, factor=0.5, verbose=True)\n",
    "\n",
    "# The teacher starts off with the same weights as the student\n",
    "teacher.load_state_dict(student.state_dict())\n",
    "\n",
    "# Initialize the EMA updater for the teacher model\n",
    "ema_updater = EMA(student, ema_decay, self_supervised_epochs, optimizer)\n",
    "\n",
    "\n",
    "# Call the self_supervised_training function to start the self-supervised phase\n",
    "self_supervised_training(student, teacher, optimizer, ema_updater, self_supervised_epochs, \n",
    "                         train_loader, val_loader, scheduler, device, criterion)"
   ]
  },
  {
   "cell_type": "code",
   "execution_count": 27,
   "metadata": {},
   "outputs": [
    {
     "name": "stderr",
     "output_type": "stream",
     "text": [
      "Training: 100%|██████████| 188/188 [00:33<00:00,  5.58it/s]\n"
     ]
    },
    {
     "name": "stdout",
     "output_type": "stream",
     "text": [
      "Epoch [1/20] - Loss: 1.4310, Accuracy: 46.33%\n"
     ]
    },
    {
     "name": "stderr",
     "output_type": "stream",
     "text": [
      "Validation: 100%|██████████| 47/47 [00:04<00:00,  9.86it/s]\n"
     ]
    },
    {
     "name": "stdout",
     "output_type": "stream",
     "text": [
      "Validation Loss after Epoch [1/20]: 0.7579\n"
     ]
    },
    {
     "name": "stderr",
     "output_type": "stream",
     "text": [
      "Training: 100%|██████████| 188/188 [00:33<00:00,  5.60it/s]\n"
     ]
    },
    {
     "name": "stdout",
     "output_type": "stream",
     "text": [
      "Epoch [2/20] - Loss: 0.4965, Accuracy: 84.07%\n"
     ]
    },
    {
     "name": "stderr",
     "output_type": "stream",
     "text": [
      "Validation: 100%|██████████| 47/47 [00:04<00:00, 10.28it/s]\n"
     ]
    },
    {
     "name": "stdout",
     "output_type": "stream",
     "text": [
      "Validation Loss after Epoch [2/20]: 0.3997\n"
     ]
    },
    {
     "name": "stderr",
     "output_type": "stream",
     "text": [
      "Training: 100%|██████████| 188/188 [00:33<00:00,  5.61it/s]\n"
     ]
    },
    {
     "name": "stdout",
     "output_type": "stream",
     "text": [
      "Epoch [3/20] - Loss: 0.3062, Accuracy: 90.35%\n"
     ]
    },
    {
     "name": "stderr",
     "output_type": "stream",
     "text": [
      "Validation: 100%|██████████| 47/47 [00:04<00:00, 10.01it/s]\n"
     ]
    },
    {
     "name": "stdout",
     "output_type": "stream",
     "text": [
      "Validation Loss after Epoch [3/20]: 0.2513\n"
     ]
    },
    {
     "name": "stderr",
     "output_type": "stream",
     "text": [
      "Training: 100%|██████████| 188/188 [00:33<00:00,  5.61it/s]\n"
     ]
    },
    {
     "name": "stdout",
     "output_type": "stream",
     "text": [
      "Epoch [4/20] - Loss: 0.2423, Accuracy: 92.51%\n"
     ]
    },
    {
     "name": "stderr",
     "output_type": "stream",
     "text": [
      "Validation: 100%|██████████| 47/47 [00:04<00:00, 10.24it/s]\n"
     ]
    },
    {
     "name": "stdout",
     "output_type": "stream",
     "text": [
      "Validation Loss after Epoch [4/20]: 0.2021\n"
     ]
    },
    {
     "name": "stderr",
     "output_type": "stream",
     "text": [
      "Training: 100%|██████████| 188/188 [00:33<00:00,  5.61it/s]\n"
     ]
    },
    {
     "name": "stdout",
     "output_type": "stream",
     "text": [
      "Epoch [5/20] - Loss: 0.2064, Accuracy: 93.42%\n"
     ]
    },
    {
     "name": "stderr",
     "output_type": "stream",
     "text": [
      "Validation: 100%|██████████| 47/47 [00:04<00:00, 10.42it/s]\n"
     ]
    },
    {
     "name": "stdout",
     "output_type": "stream",
     "text": [
      "Validation Loss after Epoch [5/20]: 0.2069\n"
     ]
    },
    {
     "name": "stderr",
     "output_type": "stream",
     "text": [
      "Training: 100%|██████████| 188/188 [00:33<00:00,  5.62it/s]\n"
     ]
    },
    {
     "name": "stdout",
     "output_type": "stream",
     "text": [
      "Epoch [6/20] - Loss: 0.1916, Accuracy: 93.96%\n"
     ]
    },
    {
     "name": "stderr",
     "output_type": "stream",
     "text": [
      "Validation: 100%|██████████| 47/47 [00:04<00:00,  9.90it/s]\n"
     ]
    },
    {
     "name": "stdout",
     "output_type": "stream",
     "text": [
      "Validation Loss after Epoch [6/20]: 0.1894\n"
     ]
    },
    {
     "name": "stderr",
     "output_type": "stream",
     "text": [
      "Training: 100%|██████████| 188/188 [00:33<00:00,  5.62it/s]\n"
     ]
    },
    {
     "name": "stdout",
     "output_type": "stream",
     "text": [
      "Epoch [7/20] - Loss: 0.1658, Accuracy: 94.79%\n"
     ]
    },
    {
     "name": "stderr",
     "output_type": "stream",
     "text": [
      "Validation: 100%|██████████| 47/47 [00:04<00:00, 10.07it/s]\n"
     ]
    },
    {
     "name": "stdout",
     "output_type": "stream",
     "text": [
      "Validation Loss after Epoch [7/20]: 0.1667\n"
     ]
    },
    {
     "name": "stderr",
     "output_type": "stream",
     "text": [
      "Training: 100%|██████████| 188/188 [00:34<00:00,  5.37it/s]\n"
     ]
    },
    {
     "name": "stdout",
     "output_type": "stream",
     "text": [
      "Epoch [8/20] - Loss: 0.1568, Accuracy: 95.04%\n"
     ]
    },
    {
     "name": "stderr",
     "output_type": "stream",
     "text": [
      "Validation: 100%|██████████| 47/47 [00:05<00:00,  9.36it/s]\n"
     ]
    },
    {
     "name": "stdout",
     "output_type": "stream",
     "text": [
      "Validation Loss after Epoch [8/20]: 0.1513\n"
     ]
    },
    {
     "name": "stderr",
     "output_type": "stream",
     "text": [
      "Training: 100%|██████████| 188/188 [00:35<00:00,  5.25it/s]\n"
     ]
    },
    {
     "name": "stdout",
     "output_type": "stream",
     "text": [
      "Epoch [9/20] - Loss: 0.1374, Accuracy: 95.63%\n"
     ]
    },
    {
     "name": "stderr",
     "output_type": "stream",
     "text": [
      "Validation: 100%|██████████| 47/47 [00:05<00:00,  9.07it/s]\n"
     ]
    },
    {
     "name": "stdout",
     "output_type": "stream",
     "text": [
      "Validation Loss after Epoch [9/20]: 0.1740\n"
     ]
    },
    {
     "name": "stderr",
     "output_type": "stream",
     "text": [
      "Training: 100%|██████████| 188/188 [00:35<00:00,  5.26it/s]\n"
     ]
    },
    {
     "name": "stdout",
     "output_type": "stream",
     "text": [
      "Epoch [10/20] - Loss: 0.1251, Accuracy: 96.11%\n"
     ]
    },
    {
     "name": "stderr",
     "output_type": "stream",
     "text": [
      "Validation: 100%|██████████| 47/47 [00:05<00:00,  9.24it/s]\n"
     ]
    },
    {
     "name": "stdout",
     "output_type": "stream",
     "text": [
      "Validation Loss after Epoch [10/20]: 0.1341\n"
     ]
    },
    {
     "name": "stderr",
     "output_type": "stream",
     "text": [
      "Training: 100%|██████████| 188/188 [00:35<00:00,  5.26it/s]\n"
     ]
    },
    {
     "name": "stdout",
     "output_type": "stream",
     "text": [
      "Epoch [11/20] - Loss: 0.1204, Accuracy: 96.15%\n"
     ]
    },
    {
     "name": "stderr",
     "output_type": "stream",
     "text": [
      "Validation: 100%|██████████| 47/47 [00:04<00:00,  9.53it/s]\n"
     ]
    },
    {
     "name": "stdout",
     "output_type": "stream",
     "text": [
      "Validation Loss after Epoch [11/20]: 0.1204\n"
     ]
    },
    {
     "name": "stderr",
     "output_type": "stream",
     "text": [
      "Training: 100%|██████████| 188/188 [00:35<00:00,  5.27it/s]\n"
     ]
    },
    {
     "name": "stdout",
     "output_type": "stream",
     "text": [
      "Epoch [12/20] - Loss: 0.1091, Accuracy: 96.53%\n"
     ]
    },
    {
     "name": "stderr",
     "output_type": "stream",
     "text": [
      "Validation: 100%|██████████| 47/47 [00:04<00:00,  9.51it/s]\n"
     ]
    },
    {
     "name": "stdout",
     "output_type": "stream",
     "text": [
      "Validation Loss after Epoch [12/20]: 0.1282\n"
     ]
    },
    {
     "name": "stderr",
     "output_type": "stream",
     "text": [
      "Training: 100%|██████████| 188/188 [00:35<00:00,  5.28it/s]\n"
     ]
    },
    {
     "name": "stdout",
     "output_type": "stream",
     "text": [
      "Epoch [13/20] - Loss: 0.1119, Accuracy: 96.38%\n"
     ]
    },
    {
     "name": "stderr",
     "output_type": "stream",
     "text": [
      "Validation: 100%|██████████| 47/47 [00:04<00:00,  9.75it/s]\n"
     ]
    },
    {
     "name": "stdout",
     "output_type": "stream",
     "text": [
      "Validation Loss after Epoch [13/20]: 0.1247\n"
     ]
    },
    {
     "name": "stderr",
     "output_type": "stream",
     "text": [
      "Training: 100%|██████████| 188/188 [00:35<00:00,  5.27it/s]\n"
     ]
    },
    {
     "name": "stdout",
     "output_type": "stream",
     "text": [
      "Epoch [14/20] - Loss: 0.0971, Accuracy: 96.94%\n"
     ]
    },
    {
     "name": "stderr",
     "output_type": "stream",
     "text": [
      "Validation: 100%|██████████| 47/47 [00:05<00:00,  7.96it/s]\n"
     ]
    },
    {
     "name": "stdout",
     "output_type": "stream",
     "text": [
      "Validation Loss after Epoch [14/20]: 0.1258\n"
     ]
    },
    {
     "name": "stderr",
     "output_type": "stream",
     "text": [
      "Training: 100%|██████████| 188/188 [00:38<00:00,  4.91it/s]\n"
     ]
    },
    {
     "name": "stdout",
     "output_type": "stream",
     "text": [
      "Epoch [15/20] - Loss: 0.0985, Accuracy: 96.86%\n"
     ]
    },
    {
     "name": "stderr",
     "output_type": "stream",
     "text": [
      "Validation: 100%|██████████| 47/47 [00:08<00:00,  5.86it/s]\n"
     ]
    },
    {
     "name": "stdout",
     "output_type": "stream",
     "text": [
      "Validation Loss after Epoch [15/20]: 0.1032\n"
     ]
    },
    {
     "name": "stderr",
     "output_type": "stream",
     "text": [
      "Training: 100%|██████████| 188/188 [00:41<00:00,  4.57it/s]\n"
     ]
    },
    {
     "name": "stdout",
     "output_type": "stream",
     "text": [
      "Epoch [16/20] - Loss: 0.0867, Accuracy: 97.33%\n"
     ]
    },
    {
     "name": "stderr",
     "output_type": "stream",
     "text": [
      "Validation: 100%|██████████| 47/47 [00:06<00:00,  7.29it/s]\n"
     ]
    },
    {
     "name": "stdout",
     "output_type": "stream",
     "text": [
      "Validation Loss after Epoch [16/20]: 0.1135\n"
     ]
    },
    {
     "name": "stderr",
     "output_type": "stream",
     "text": [
      "Training: 100%|██████████| 188/188 [00:37<00:00,  5.06it/s]\n"
     ]
    },
    {
     "name": "stdout",
     "output_type": "stream",
     "text": [
      "Epoch [17/20] - Loss: 0.0844, Accuracy: 97.26%\n"
     ]
    },
    {
     "name": "stderr",
     "output_type": "stream",
     "text": [
      "Validation: 100%|██████████| 47/47 [00:05<00:00,  8.88it/s]\n"
     ]
    },
    {
     "name": "stdout",
     "output_type": "stream",
     "text": [
      "Validation Loss after Epoch [17/20]: 0.1091\n"
     ]
    },
    {
     "name": "stderr",
     "output_type": "stream",
     "text": [
      "Training: 100%|██████████| 188/188 [00:34<00:00,  5.49it/s]\n"
     ]
    },
    {
     "name": "stdout",
     "output_type": "stream",
     "text": [
      "Epoch [18/20] - Loss: 0.0844, Accuracy: 97.30%\n"
     ]
    },
    {
     "name": "stderr",
     "output_type": "stream",
     "text": [
      "Validation: 100%|██████████| 47/47 [00:04<00:00,  9.55it/s]\n"
     ]
    },
    {
     "name": "stdout",
     "output_type": "stream",
     "text": [
      "Validation Loss after Epoch [18/20]: 0.0941\n"
     ]
    },
    {
     "name": "stderr",
     "output_type": "stream",
     "text": [
      "Training: 100%|██████████| 188/188 [00:33<00:00,  5.57it/s]\n"
     ]
    },
    {
     "name": "stdout",
     "output_type": "stream",
     "text": [
      "Epoch [19/20] - Loss: 0.0772, Accuracy: 97.50%\n"
     ]
    },
    {
     "name": "stderr",
     "output_type": "stream",
     "text": [
      "Validation: 100%|██████████| 47/47 [00:04<00:00, 10.33it/s]\n"
     ]
    },
    {
     "name": "stdout",
     "output_type": "stream",
     "text": [
      "Validation Loss after Epoch [19/20]: 0.1053\n"
     ]
    },
    {
     "name": "stderr",
     "output_type": "stream",
     "text": [
      "Training: 100%|██████████| 188/188 [00:33<00:00,  5.57it/s]\n"
     ]
    },
    {
     "name": "stdout",
     "output_type": "stream",
     "text": [
      "Epoch [20/20] - Loss: 0.0766, Accuracy: 97.58%\n"
     ]
    },
    {
     "name": "stderr",
     "output_type": "stream",
     "text": [
      "Validation: 100%|██████████| 47/47 [00:04<00:00, 10.40it/s]"
     ]
    },
    {
     "name": "stdout",
     "output_type": "stream",
     "text": [
      "Validation Loss after Epoch [20/20]: 0.1006\n",
      "Total training time: 13.42 minutes\n",
      "Supervised fine-tuning complete!\n"
     ]
    },
    {
     "name": "stderr",
     "output_type": "stream",
     "text": [
      "\n"
     ]
    }
   ],
   "source": [
    "# Load the saved state_dict\n",
    "saved_state_dict = torch.load(f'../trained_models/dino/{dataset}_self_supervised_best_student_weights.pth')\n",
    "\n",
    "# Create a new state_dict that excludes 'mlp_head'\n",
    "new_state_dict = {k: v for k, v in saved_state_dict.items() if not k.startswith('mlp_head')}\n",
    "\n",
    "# Load this state_dict into student (it won't touch the mlp_head)\n",
    "student.load_state_dict(new_state_dict, strict=False)\n",
    "\n",
    "# Replace the self-supervised projection head with a new classifier head\n",
    "student.mlp_head = nn.Sequential(\n",
    "    nn.Linear(projection_dim, mlp_head_units[0]),\n",
    "    nn.ReLU(),\n",
    "    nn.Dropout(dropout),\n",
    "    nn.Linear(mlp_head_units[0], mlp_head_units[1]),\n",
    "    nn.ReLU(),\n",
    "    nn.Dropout(dropout),\n",
    "    nn.Linear(mlp_head_units[1], num_classes)\n",
    ").to(device)\n",
    "\n",
    "# Reset optimizer for the supervised phase\n",
    "optimizer = optim.Adam(student.parameters(), lr=learning_rate, weight_decay=weight_decay)\n",
    "# Reset scheduler for the supervised phase\n",
    "scheduler = ReduceLROnPlateau(optimizer, 'min', patience=patience_value, factor=0.5, verbose=True)\n",
    "\n",
    "# Call the supervised_training function to start the supervised phase\n",
    "supervised_training(student, optimizer, criterion, fine_tune_epochs, train_loader, val_loader, scheduler, device)\n"
   ]
  },
  {
   "cell_type": "code",
   "execution_count": 28,
   "metadata": {},
   "outputs": [],
   "source": [
    "# Load the saved model's weights\n",
    "SAVE_PATH = f'../trained_models/dino/{dataset}_supervised_best_student_weights.pth'\n",
    "student.load_state_dict(torch.load(SAVE_PATH, map_location=device))\n",
    "\n",
    "# Instantiate new model representing the basic ViT to which we will transfer the weights\n",
    "basic_vit = VisionTransformer(\n",
    "    image_size=image_size,\n",
    "    patch_size=patch_size,\n",
    "    in_channels=in_channels,\n",
    "    embed_dim=projection_dim,\n",
    "    depth=transformer_layers,\n",
    "    heads=num_heads,\n",
    "    mlp_dim=mlp_head_units[0],\n",
    "    dropout=dropout,\n",
    "    num_classes=num_classes,\n",
    ").to(device)\n",
    "\n",
    "# Transfer Patch Embedding Layer\n",
    "basic_vit.patch_embed.load_state_dict(student.patch_embed.state_dict())\n",
    "\n",
    "# Transfer Transformer Encoder Layers\n",
    "for teacher_block, student_block in zip(basic_vit.transformer_encoder, student.transformer_encoder):\n",
    "    teacher_block.load_state_dict(student_block.state_dict())\n",
    "\n",
    "# Transfer MLP Head\n",
    "basic_vit.mlp_head.load_state_dict(student.mlp_head.state_dict())\n",
    "\n",
    "# Transfer CLS Token\n",
    "basic_vit.cls_token.data = student.cls_token.data.clone()\n"
   ]
  },
  {
   "cell_type": "code",
   "execution_count": 29,
   "metadata": {},
   "outputs": [
    {
     "name": "stderr",
     "output_type": "stream",
     "text": [
      "Epoch 1/50 [Training]: 100%|██████████| 188/188 [00:33<00:00,  5.62it/s]\n",
      "Epoch 1/50 [Validation]: 100%|██████████| 47/47 [00:04<00:00,  9.98it/s]\n"
     ]
    },
    {
     "name": "stdout",
     "output_type": "stream",
     "text": [
      "Epoch 1/50 - Train Loss: 0.1081, Train Acc: 0.9660, Val Loss: 0.1102, Val Acc: 0.9663\n"
     ]
    },
    {
     "name": "stderr",
     "output_type": "stream",
     "text": [
      "Epoch 2/50 [Training]: 100%|██████████| 188/188 [00:33<00:00,  5.61it/s]\n",
      "Epoch 2/50 [Validation]: 100%|██████████| 47/47 [00:04<00:00,  9.98it/s]\n"
     ]
    },
    {
     "name": "stdout",
     "output_type": "stream",
     "text": [
      "Epoch 2/50 - Train Loss: 0.0812, Train Acc: 0.9743, Val Loss: 0.1034, Val Acc: 0.9691\n"
     ]
    },
    {
     "name": "stderr",
     "output_type": "stream",
     "text": [
      "Epoch 3/50 [Training]: 100%|██████████| 188/188 [00:33<00:00,  5.60it/s]\n",
      "Epoch 3/50 [Validation]: 100%|██████████| 47/47 [00:04<00:00,  9.71it/s]\n"
     ]
    },
    {
     "name": "stdout",
     "output_type": "stream",
     "text": [
      "Epoch 3/50 - Train Loss: 0.0778, Train Acc: 0.9747, Val Loss: 0.1062, Val Acc: 0.9684\n"
     ]
    },
    {
     "name": "stderr",
     "output_type": "stream",
     "text": [
      "Epoch 4/50 [Training]: 100%|██████████| 188/188 [00:33<00:00,  5.60it/s]\n",
      "Epoch 4/50 [Validation]: 100%|██████████| 47/47 [00:04<00:00,  9.73it/s]\n"
     ]
    },
    {
     "name": "stdout",
     "output_type": "stream",
     "text": [
      "Epoch 4/50 - Train Loss: 0.0750, Train Acc: 0.9755, Val Loss: 0.1185, Val Acc: 0.9653\n"
     ]
    },
    {
     "name": "stderr",
     "output_type": "stream",
     "text": [
      "Epoch 5/50 [Training]: 100%|██████████| 188/188 [00:33<00:00,  5.60it/s]\n",
      "Epoch 5/50 [Validation]: 100%|██████████| 47/47 [00:04<00:00, 10.00it/s]\n"
     ]
    },
    {
     "name": "stdout",
     "output_type": "stream",
     "text": [
      "Epoch 5/50 - Train Loss: 0.0745, Train Acc: 0.9756, Val Loss: 0.1002, Val Acc: 0.9690\n"
     ]
    },
    {
     "name": "stderr",
     "output_type": "stream",
     "text": [
      "Epoch 6/50 [Training]: 100%|██████████| 188/188 [00:33<00:00,  5.61it/s]\n",
      "Epoch 6/50 [Validation]: 100%|██████████| 47/47 [00:04<00:00,  9.80it/s]\n"
     ]
    },
    {
     "name": "stdout",
     "output_type": "stream",
     "text": [
      "Epoch 6/50 - Train Loss: 0.0706, Train Acc: 0.9770, Val Loss: 0.0944, Val Acc: 0.9724\n"
     ]
    },
    {
     "name": "stderr",
     "output_type": "stream",
     "text": [
      "Epoch 7/50 [Training]: 100%|██████████| 188/188 [00:33<00:00,  5.61it/s]\n",
      "Epoch 7/50 [Validation]: 100%|██████████| 47/47 [00:04<00:00, 10.01it/s]\n"
     ]
    },
    {
     "name": "stdout",
     "output_type": "stream",
     "text": [
      "Epoch 7/50 - Train Loss: 0.0689, Train Acc: 0.9773, Val Loss: 0.0925, Val Acc: 0.9719\n"
     ]
    },
    {
     "name": "stderr",
     "output_type": "stream",
     "text": [
      "Epoch 8/50 [Training]: 100%|██████████| 188/188 [00:33<00:00,  5.61it/s]\n",
      "Epoch 8/50 [Validation]: 100%|██████████| 47/47 [00:04<00:00,  9.92it/s]\n"
     ]
    },
    {
     "name": "stdout",
     "output_type": "stream",
     "text": [
      "Epoch 8/50 - Train Loss: 0.0636, Train Acc: 0.9795, Val Loss: 0.1038, Val Acc: 0.9689\n"
     ]
    },
    {
     "name": "stderr",
     "output_type": "stream",
     "text": [
      "Epoch 9/50 [Training]: 100%|██████████| 188/188 [00:33<00:00,  5.61it/s]\n",
      "Epoch 9/50 [Validation]: 100%|██████████| 47/47 [00:04<00:00,  9.99it/s]\n"
     ]
    },
    {
     "name": "stdout",
     "output_type": "stream",
     "text": [
      "Epoch 9/50 - Train Loss: 0.0662, Train Acc: 0.9784, Val Loss: 0.0926, Val Acc: 0.9717\n"
     ]
    },
    {
     "name": "stderr",
     "output_type": "stream",
     "text": [
      "Epoch 10/50 [Training]: 100%|██████████| 188/188 [00:33<00:00,  5.61it/s]\n",
      "Epoch 10/50 [Validation]: 100%|██████████| 47/47 [00:04<00:00, 10.04it/s]\n"
     ]
    },
    {
     "name": "stdout",
     "output_type": "stream",
     "text": [
      "Epoch 10/50 - Train Loss: 0.0617, Train Acc: 0.9801, Val Loss: 0.0791, Val Acc: 0.9757\n"
     ]
    },
    {
     "name": "stderr",
     "output_type": "stream",
     "text": [
      "Epoch 11/50 [Training]: 100%|██████████| 188/188 [00:33<00:00,  5.61it/s]\n",
      "Epoch 11/50 [Validation]: 100%|██████████| 47/47 [00:04<00:00,  9.97it/s]\n"
     ]
    },
    {
     "name": "stdout",
     "output_type": "stream",
     "text": [
      "Epoch 11/50 - Train Loss: 0.0589, Train Acc: 0.9808, Val Loss: 0.0969, Val Acc: 0.9712\n"
     ]
    },
    {
     "name": "stderr",
     "output_type": "stream",
     "text": [
      "Epoch 12/50 [Training]: 100%|██████████| 188/188 [00:33<00:00,  5.61it/s]\n",
      "Epoch 12/50 [Validation]: 100%|██████████| 47/47 [00:04<00:00,  9.74it/s]\n"
     ]
    },
    {
     "name": "stdout",
     "output_type": "stream",
     "text": [
      "Epoch 12/50 - Train Loss: 0.0588, Train Acc: 0.9804, Val Loss: 0.0909, Val Acc: 0.9732\n"
     ]
    },
    {
     "name": "stderr",
     "output_type": "stream",
     "text": [
      "Epoch 13/50 [Training]: 100%|██████████| 188/188 [00:33<00:00,  5.61it/s]\n",
      "Epoch 13/50 [Validation]: 100%|██████████| 47/47 [00:05<00:00,  8.03it/s]\n"
     ]
    },
    {
     "name": "stdout",
     "output_type": "stream",
     "text": [
      "Epoch 13/50 - Train Loss: 0.0554, Train Acc: 0.9818, Val Loss: 0.0966, Val Acc: 0.9690\n"
     ]
    },
    {
     "name": "stderr",
     "output_type": "stream",
     "text": [
      "Epoch 14/50 [Training]: 100%|██████████| 188/188 [00:35<00:00,  5.28it/s]\n",
      "Epoch 14/50 [Validation]: 100%|██████████| 47/47 [00:05<00:00,  9.14it/s]\n"
     ]
    },
    {
     "name": "stdout",
     "output_type": "stream",
     "text": [
      "Epoch 14/50 - Train Loss: 0.0531, Train Acc: 0.9821, Val Loss: 0.0911, Val Acc: 0.9728\n"
     ]
    },
    {
     "name": "stderr",
     "output_type": "stream",
     "text": [
      "Epoch 15/50 [Training]: 100%|██████████| 188/188 [00:35<00:00,  5.31it/s]\n",
      "Epoch 15/50 [Validation]: 100%|██████████| 47/47 [00:05<00:00,  9.01it/s]\n"
     ]
    },
    {
     "name": "stdout",
     "output_type": "stream",
     "text": [
      "Epoch 15/50 - Train Loss: 0.0500, Train Acc: 0.9833, Val Loss: 0.0967, Val Acc: 0.9709\n"
     ]
    },
    {
     "name": "stderr",
     "output_type": "stream",
     "text": [
      "Epoch 16/50 [Training]: 100%|██████████| 188/188 [00:35<00:00,  5.28it/s]\n",
      "Epoch 16/50 [Validation]: 100%|██████████| 47/47 [00:05<00:00,  9.15it/s]\n"
     ]
    },
    {
     "name": "stdout",
     "output_type": "stream",
     "text": [
      "Epoch 16/50 - Train Loss: 0.0520, Train Acc: 0.9831, Val Loss: 0.0896, Val Acc: 0.9752\n"
     ]
    },
    {
     "name": "stderr",
     "output_type": "stream",
     "text": [
      "Epoch 17/50 [Training]: 100%|██████████| 188/188 [00:35<00:00,  5.29it/s]\n",
      "Epoch 17/50 [Validation]: 100%|██████████| 47/47 [00:04<00:00,  9.62it/s]\n"
     ]
    },
    {
     "name": "stdout",
     "output_type": "stream",
     "text": [
      "Epoch 17/50 - Train Loss: 0.0442, Train Acc: 0.9852, Val Loss: 0.0950, Val Acc: 0.9743\n"
     ]
    },
    {
     "name": "stderr",
     "output_type": "stream",
     "text": [
      "Epoch 18/50 [Training]: 100%|██████████| 188/188 [00:35<00:00,  5.27it/s]\n",
      "Epoch 18/50 [Validation]: 100%|██████████| 47/47 [00:05<00:00,  9.18it/s]\n"
     ]
    },
    {
     "name": "stdout",
     "output_type": "stream",
     "text": [
      "Epoch 18/50 - Train Loss: 0.0476, Train Acc: 0.9840, Val Loss: 0.0848, Val Acc: 0.9741\n"
     ]
    },
    {
     "name": "stderr",
     "output_type": "stream",
     "text": [
      "Epoch 19/50 [Training]: 100%|██████████| 188/188 [00:35<00:00,  5.28it/s]\n",
      "Epoch 19/50 [Validation]: 100%|██████████| 47/47 [00:05<00:00,  9.13it/s]\n"
     ]
    },
    {
     "name": "stdout",
     "output_type": "stream",
     "text": [
      "Epoch 19/50 - Train Loss: 0.0472, Train Acc: 0.9847, Val Loss: 0.1043, Val Acc: 0.9703\n"
     ]
    },
    {
     "name": "stderr",
     "output_type": "stream",
     "text": [
      "Epoch 20/50 [Training]: 100%|██████████| 188/188 [00:35<00:00,  5.30it/s]\n",
      "Epoch 20/50 [Validation]: 100%|██████████| 47/47 [00:05<00:00,  9.26it/s]"
     ]
    },
    {
     "name": "stdout",
     "output_type": "stream",
     "text": [
      "Epoch 20/50 - Train Loss: 0.0476, Train Acc: 0.9840, Val Loss: 0.0834, Val Acc: 0.9745\n",
      "Early stopping due to no improvement in validation loss.\n",
      "Total training time: 13.06 minutes\n"
     ]
    },
    {
     "name": "stderr",
     "output_type": "stream",
     "text": [
      "\n"
     ]
    }
   ],
   "source": [
    "# Define loss function and optimizer\n",
    "criterion = nn.CrossEntropyLoss()\n",
    "optimizer = optim.Adam(basic_vit.parameters(), lr=learning_rate, weight_decay=weight_decay)\n",
    "\n",
    "scheduler = ReduceLROnPlateau(optimizer, 'min', patience=patience_value, factor=0.5, verbose=True)\n",
    "\n",
    "# Set model_name for DINO training\n",
    "model_name = f\"{dataset}_DINO_classifier\"\n",
    "\n",
    "# Train model\n",
    "basic_vit, train_losses, val_losses, train_acc, val_acc = train(basic_vit, train_loader, val_loader, criterion, optimizer, device, model_name, epochs=num_epochs, scheduler=scheduler, patience=patience_value)"
   ]
  },
  {
   "cell_type": "code",
   "execution_count": 30,
   "metadata": {},
   "outputs": [
    {
     "name": "stderr",
     "output_type": "stream",
     "text": [
      "Testing: 40it [00:04,  9.54it/s]\n"
     ]
    },
    {
     "name": "stdout",
     "output_type": "stream",
     "text": [
      "Test accuracy: 0.9760\n",
      "              precision    recall  f1-score   support\n",
      "\n",
      "           0       0.98      0.99      0.99       980\n",
      "           1       0.99      0.99      0.99      1135\n",
      "           2       0.96      0.98      0.97      1032\n",
      "           3       0.97      0.98      0.98      1010\n",
      "           4       0.97      0.98      0.97       982\n",
      "           5       0.99      0.96      0.97       892\n",
      "           6       0.98      0.98      0.98       958\n",
      "           7       0.97      0.97      0.97      1028\n",
      "           8       0.98      0.96      0.97       974\n",
      "           9       0.97      0.96      0.96      1009\n",
      "\n",
      "    accuracy                           0.98     10000\n",
      "   macro avg       0.98      0.98      0.98     10000\n",
      "weighted avg       0.98      0.98      0.98     10000\n",
      "\n",
      "              precision    recall  f1-score   support\n",
      "\n",
      "           0       0.98      0.99      0.99       980\n",
      "           1       0.99      0.99      0.99      1135\n",
      "           2       0.96      0.98      0.97      1032\n",
      "           3       0.97      0.98      0.98      1010\n",
      "           4       0.97      0.98      0.97       982\n",
      "           5       0.99      0.96      0.97       892\n",
      "           6       0.98      0.98      0.98       958\n",
      "           7       0.97      0.97      0.97      1028\n",
      "           8       0.98      0.96      0.97       974\n",
      "           9       0.97      0.96      0.96      1009\n",
      "\n",
      "    accuracy                           0.98     10000\n",
      "   macro avg       0.98      0.98      0.98     10000\n",
      "weighted avg       0.98      0.98      0.98     10000\n",
      "\n"
     ]
    },
    {
     "data": {
      "image/png": "[encoded data removed]",
      "text/plain": [
       "<Figure size 600x600 with 1 Axes>"
      ]
     },
     "metadata": {},
     "output_type": "display_data"
    }
   ],
   "source": [
    "# test on the test set\n",
    "\n",
    "# Set model to eval mode\n",
    "basic_vit.eval()\n",
    "\n",
    "# Initialize lists to store predictions and labels\n",
    "preds = []\n",
    "labels = []\n",
    "\n",
    "# Turn off gradients\n",
    "\n",
    "with torch.no_grad():\n",
    "    # Iterate over test data\n",
    "    for batch_idx, (data, target) in tqdm(enumerate(test_loader), desc=\"Testing\"):\n",
    "        # Send data to device\n",
    "        data, target = data.to(device), target.to(device)\n",
    "\n",
    "        # Forward pass\n",
    "        output = basic_vit(data)\n",
    "\n",
    "        # Get predicted class\n",
    "        pred = output.argmax(dim=1, keepdim=True)\n",
    "\n",
    "        # Save predictions and labels for computing metrics later\n",
    "        preds.extend(pred.cpu().numpy())\n",
    "        labels.extend(target.cpu().numpy())\n",
    "\n",
    "# Print accuracy\n",
    "accuracy = accuracy_score(labels, preds)\n",
    "print(f\"Test accuracy: {accuracy:.4f}\")\n",
    "\n",
    "# Print classification report\n",
    "print(classification_report(labels, preds))\n",
    "\n",
    "# Print classification report and confusion matrix\n",
    "# Only print if dataset is not CIFAR100. CIFAR100 has too many classes to print\n",
    "if dataset != \"CIFAR100\":\n",
    "    # Print classification report\n",
    "    print(classification_report(labels, preds))\n",
    "\n",
    "    # Print confusion matrix\n",
    "    cm = confusion_matrix(labels, preds)\n",
    "\n",
    "    # Normalize the confusion matrix\n",
    "    cm_normalized = cm.astype('float') / cm.sum(axis=1)[:, np.newaxis] * 100  # Convert to percentages\n",
    "\n",
    "    plt.figure(figsize=(6, 6))\n",
    "    sns.heatmap(cm_normalized, annot=True, fmt='.2f', cmap='Blues', cbar=False)\n",
    "    plt.xlabel('Predicted')\n",
    "    plt.ylabel('Actual')\n",
    "    plt.title('Confusion Matrix (in %)')\n",
    "    plt.show()\n"
   ]
  },
  {
   "cell_type": "code",
   "execution_count": 31,
   "metadata": {},
   "outputs": [
    {
     "data": {
      "image/png": "[encoded data removed]",
      "text/plain": [
       "<Figure size 600x400 with 1 Axes>"
      ]
     },
     "metadata": {},
     "output_type": "display_data"
    },
    {
     "data": {
      "image/png": "[encoded data removed]",
      "text/plain": [
       "<Figure size 600x400 with 1 Axes>"
      ]
     },
     "metadata": {},
     "output_type": "display_data"
    }
   ],
   "source": [
    "# Plot losses\n",
    "plt.figure(figsize=(6, 4))\n",
    "plt.title('Loss')\n",
    "plt.plot(train_losses, label='train')\n",
    "plt.plot(val_losses, label='val')\n",
    "plt.legend()\n",
    "plt.show()\n",
    "\n",
    "# Plot accuracies\n",
    "plt.figure(figsize=(6, 4))\n",
    "plt.title('Accuracy')\n",
    "# move list to cpu\n",
    "train_acc = [i.cpu() for i in train_acc]\n",
    "val_acc = [i.cpu() for i in val_acc]\n",
    "plt.plot(train_acc, label='train')\n",
    "plt.plot(val_acc, label='val')\n",
    "plt.legend()\n",
    "plt.show()"
   ]
  },
  {
   "cell_type": "code",
   "execution_count": 32,
   "metadata": {},
   "outputs": [],
   "source": [
    "# def latexify(fig_width=7, fig_height=5, columns=1):\n",
    "#     \"\"\"Set up matplotlib's RC params for LaTeX plotting.\n",
    "#     Call this before plotting a figure.\n",
    "\n",
    "#     Parameters\n",
    "#     ----------\n",
    "#     fig_width : float, optional, inches\n",
    "#     fig_height : float,  optional, inches\n",
    "#     columns : {1, 2}\n",
    "#     \"\"\"\n",
    "\n",
    "#     # Installs:\n",
    "#     # Website: https://nipunbatra.github.io/blog/visualisation/2014/06/02/latexify.html\n",
    "#     # sudo apt install texlive texlive-latex-extra texlive-fonts-recommended dvipng\n",
    "#     # pip install latex\n",
    "#     # sudo apt install cm-super\n",
    "\n",
    "#     # code adapted from http://www.scipy.org/Cookbook/Matplotlib/LaTeX_Examples\n",
    "\n",
    "#     # Width and max height in inches for IEEE journals taken from\n",
    "#     # computer.org/cms/Computer.org/Journal%20templates/transactions_art_guide.pdf\n",
    "\n",
    "#     assert columns in [1, 2]\n",
    "\n",
    "#     if fig_width is None:\n",
    "#         fig_width = 3.39 if columns == 1 else 6.9  # width in inches\n",
    "\n",
    "#     if fig_height is None:\n",
    "#         golden_mean = (sqrt(5) - 1.0) / 2.0  # Aesthetic ratio\n",
    "#         fig_height = fig_width * golden_mean  # height in inches\n",
    "\n",
    "#     MAX_HEIGHT_INCHES = 8.0  # noqa\n",
    "#     if fig_height > MAX_HEIGHT_INCHES:\n",
    "#         print(\n",
    "#             \"WARNING: fig_height too large:\"\n",
    "#             + fig_height\n",
    "#             + \"so will reduce to\"\n",
    "#             + MAX_HEIGHT_INCHES\n",
    "#             + \"inches.\"\n",
    "#         )\n",
    "#         fig_height = MAX_HEIGHT_INCHES\n",
    "#     size = 14\n",
    "#     params = {\n",
    "#         \"backend\": \"ps\",\n",
    "#         \"text.latex.preamble\": r\"\\usepackage{gensymb}\",\n",
    "#         \"axes.labelsize\": size,  # fontsize for x and y labels (was 10)\n",
    "#         \"axes.titlesize\": size,\n",
    "#         \"font.size\": size,  # was 8\n",
    "#         \"legend.fontsize\": size,  # was 8\n",
    "#         \"xtick.labelsize\": size,\n",
    "#         \"ytick.labelsize\": size,\n",
    "#         \"text.usetex\": True,\n",
    "#         \"figure.figsize\": [fig_width, fig_height],\n",
    "#         \"font.family\": \"serif\",\n",
    "#     }\n",
    "\n",
    "#     matplotlib.rcParams.update(params)\n",
    "\n",
    "\n",
    "# latexify()"
   ]
  },
  {
   "cell_type": "code",
   "execution_count": 33,
   "metadata": {},
   "outputs": [],
   "source": [
    "# # Print confusion matrix\n",
    "# cm = confusion_matrix(labels, preds)\n",
    "# plt.figure(figsize=(6, 6))\n",
    "# sns.heatmap(cm, annot=True, fmt='d', cmap='Blues', cbar=False)\n",
    "# plt.xlabel('Predicted')\n",
    "# plt.ylabel('Actual')\n",
    "# plt.show()"
   ]
  }
 ],
 "metadata": {
  "kernelspec": {
   "display_name": "pytorch-vit-env",
   "language": "python",
   "name": "python3"
  },
  "language_info": {
   "codemirror_mode": {
    "name": "ipython",
    "version": 3
   },
   "file_extension": ".py",
   "mimetype": "text/x-python",
   "name": "python",
   "nbconvert_exporter": "python",
   "pygments_lexer": "ipython3",
   "version": "3.11.5"
  },
  "orig_nbformat": 4
 },
 "nbformat": 4,
 "nbformat_minor": 2
}
