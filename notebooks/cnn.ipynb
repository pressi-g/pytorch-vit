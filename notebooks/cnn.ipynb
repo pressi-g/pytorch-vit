{
 "cells": [
  {
   "cell_type": "markdown",
   "metadata": {},
   "source": [
    "# Simple CNN model for CIFAR-10 and CIFAR100"
   ]
  },
  {
   "cell_type": "code",
   "execution_count": 1,
   "metadata": {},
   "outputs": [],
   "source": [
    "# Standard imports\n",
    "import numpy as np\n",
    "import matplotlib.pyplot as plt\n",
    "import seaborn as sns\n",
    "\n",
    "# Machine learning imports\n",
    "import torch\n",
    "import torch.nn as nn\n",
    "import torch.nn.functional as F\n",
    "import torch.optim as optim\n",
    "from torch.utils.data import DataLoader, Dataset\n",
    "from torchvision import transforms, utils, datasets, models\n",
    "from sklearn.model_selection import train_test_split\n",
    "from sklearn.metrics import confusion_matrix, classification_report\n",
    "\n",
    "# Other imports\n",
    "from tqdm import tqdm"
   ]
  },
  {
   "cell_type": "code",
   "execution_count": 2,
   "metadata": {},
   "outputs": [
    {
     "data": {
      "text/plain": [
       "<torch._C.Generator at 0x1576d2a10>"
      ]
     },
     "execution_count": 2,
     "metadata": {},
     "output_type": "execute_result"
    }
   ],
   "source": [
    "# Set random seed for reproducibility\n",
    "torch.manual_seed(42)"
   ]
  },
  {
   "cell_type": "code",
   "execution_count": 3,
   "metadata": {},
   "outputs": [
    {
     "name": "stdout",
     "output_type": "stream",
     "text": [
      "Using mps device\n"
     ]
    }
   ],
   "source": [
    "# Set device: either Cuda (GPU), MPS (Apple Silicon GPU), or CPU\n",
    "device = (\n",
    "    \"cuda\"\n",
    "    if torch.cuda.is_available()\n",
    "    else \"mps\"\n",
    "    if torch.backends.mps.is_available()\n",
    "    else \"cpu\"\n",
    ")\n",
    "print(f\"Using {device} device\")"
   ]
  },
  {
   "cell_type": "code",
   "execution_count": 4,
   "metadata": {},
   "outputs": [
    {
     "name": "stdout",
     "output_type": "stream",
     "text": [
      "Files already downloaded and verified\n",
      "Files already downloaded and verified\n"
     ]
    }
   ],
   "source": [
    "# load the data\n",
    "dataset = 'CIFAR10'\n",
    "batch_size = 64\n",
    "\n",
    "# Define a transform to normalize the data\n",
    "transform = transforms.Compose([transforms.ToTensor(),\n",
    "                                transforms.Normalize((0.5,), (0.5,)),\n",
    "                              ])\n",
    "\n",
    "# Download and load the training data\n",
    "train_dataset = datasets.CIFAR10(f'data/{dataset}_data/', download=True, train=True, transform=transform)\n",
    "test_val_dataset = datasets.CIFAR10(f'data/{dataset}_data/', download=True, train=False, transform=transform)\n",
    "\n",
    "# Split the test_val_set into a validation set and a test set\n",
    "val_dataset, test_dataset = train_test_split(test_val_dataset, test_size=0.5, random_state=42)\n",
    "\n",
    "# Define the dataloaders\n",
    "trainloader = DataLoader(train_dataset, batch_size=batch_size, shuffle=True)\n",
    "valloader = DataLoader(val_dataset, batch_size=batch_size, shuffle=True)\n",
    "testloader = DataLoader(test_dataset, batch_size=batch_size, shuffle=True)"
   ]
  },
  {
   "cell_type": "code",
   "execution_count": 5,
   "metadata": {},
   "outputs": [],
   "source": [
    "# Define a simple Convolutional Neural Network class using pytorch\n",
    "\n",
    "class SimpleCNN(nn.Module):\n",
    "    def __init__(self):\n",
    "        super(SimpleCNN, self).__init__()\n",
    "        \n",
    "        # Define three convolutional layers with batch normalization and max pooling\n",
    "        self.conv1 = nn.Conv2d(3, 16, 3, padding=1)\n",
    "        self.batch_norm1 = nn.BatchNorm2d(16)\n",
    "\n",
    "        self.conv2 = nn.Conv2d(16, 32, 3, padding=1)\n",
    "        self.batch_norm2 = nn.BatchNorm2d(32)\n",
    "\n",
    "        self.conv3 = nn.Conv2d(32, 64, 3, padding=1)\n",
    "        self.batch_norm3 = nn.BatchNorm2d(64)\n",
    "\n",
    "        self.pool = nn.MaxPool2d(2, 2)\n",
    "\n",
    "        # Define two fully connected layers with dropout\n",
    "        self.fc1 = nn.Linear(64 * 4 * 4, 512)\n",
    "        self.dropout = nn.Dropout(0.25)\n",
    "        self.fc2 = nn.Linear(512, 10)\n",
    "\n",
    "\n",
    "    def forward(self, x):\n",
    "        # Add sequence of convolutional and max pooling layers\n",
    "        x = self.pool(F.relu(self.batch_norm1(self.conv1(x))))\n",
    "        x = self.pool(F.relu(self.batch_norm2(self.conv2(x))))\n",
    "        x = self.pool(F.relu(self.batch_norm3(self.conv3(x))))\n",
    "\n",
    "        # Flatten image input\n",
    "        x = x.view(-1, 64 * 4 * 4)\n",
    "\n",
    "        # Add dropout layer\n",
    "        x = self.dropout(x)\n",
    "\n",
    "        # Add first hidden layer, with relu activation function\n",
    "        x = F.relu(self.fc1(x))\n",
    "\n",
    "        # Add dropout layer\n",
    "        x = self.dropout(x)\n",
    "\n",
    "        # Add second hidden layer, with relu activation function\n",
    "        x = self.fc2(x)\n",
    "\n",
    "        return x"
   ]
  },
  {
   "cell_type": "code",
   "execution_count": 6,
   "metadata": {},
   "outputs": [
    {
     "name": "stdout",
     "output_type": "stream",
     "text": [
      "SimpleCNN(\n",
      "  (conv1): Conv2d(3, 16, kernel_size=(3, 3), stride=(1, 1), padding=(1, 1))\n",
      "  (batch_norm1): BatchNorm2d(16, eps=1e-05, momentum=0.1, affine=True, track_running_stats=True)\n",
      "  (conv2): Conv2d(16, 32, kernel_size=(3, 3), stride=(1, 1), padding=(1, 1))\n",
      "  (batch_norm2): BatchNorm2d(32, eps=1e-05, momentum=0.1, affine=True, track_running_stats=True)\n",
      "  (conv3): Conv2d(32, 64, kernel_size=(3, 3), stride=(1, 1), padding=(1, 1))\n",
      "  (batch_norm3): BatchNorm2d(64, eps=1e-05, momentum=0.1, affine=True, track_running_stats=True)\n",
      "  (pool): MaxPool2d(kernel_size=2, stride=2, padding=0, dilation=1, ceil_mode=False)\n",
      "  (fc1): Linear(in_features=1024, out_features=512, bias=True)\n",
      "  (dropout): Dropout(p=0.25, inplace=False)\n",
      "  (fc2): Linear(in_features=512, out_features=10, bias=True)\n",
      ")\n"
     ]
    }
   ],
   "source": [
    "# Initialize the model and print the model architecture\n",
    "model = SimpleCNN()\n",
    "# move the model to the device\n",
    "model.to(device)\n",
    "print(model)"
   ]
  },
  {
   "cell_type": "code",
   "execution_count": 7,
   "metadata": {},
   "outputs": [],
   "source": [
    "# define the loss function and optimizer\n",
    "criterion = nn.CrossEntropyLoss()\n",
    "optimizer = optim.Adam(model.parameters(), lr=0.001)"
   ]
  },
  {
   "cell_type": "code",
   "execution_count": 8,
   "metadata": {},
   "outputs": [],
   "source": [
    "# define the number of epochs\n",
    "epochs = 10\n",
    "\n",
    "# initialize the lists to store the training and validation losses\n",
    "train_losses = []\n",
    "val_losses = []\n",
    "\n",
    "# initialize the lists to store the training and validation accuracies\n",
    "train_accuracies = []\n",
    "val_accuracies = []\n",
    "\n",
    "# initialize the best validation loss\n",
    "best_val_loss = np.Inf"
   ]
  },
  {
   "cell_type": "code",
   "execution_count": 9,
   "metadata": {},
   "outputs": [
    {
     "name": "stderr",
     "output_type": "stream",
     "text": [
      "  0%|          | 0/782 [00:00<?, ?it/s]"
     ]
    },
    {
     "name": "stderr",
     "output_type": "stream",
     "text": [
      "100%|██████████| 782/782 [00:13<00:00, 59.47it/s]\n",
      "100%|██████████| 79/79 [00:00<00:00, 238.24it/s]\n"
     ]
    },
    {
     "name": "stdout",
     "output_type": "stream",
     "text": [
      "Epoch: 1/10 | Train loss: 1.3011 | Val loss: 1.0704 | Train acc: 0.5269 | Val acc: 0.6130\n"
     ]
    },
    {
     "name": "stderr",
     "output_type": "stream",
     "text": [
      "100%|██████████| 782/782 [00:13<00:00, 58.79it/s]\n",
      "100%|██████████| 79/79 [00:00<00:00, 299.45it/s]\n"
     ]
    },
    {
     "name": "stdout",
     "output_type": "stream",
     "text": [
      "Epoch: 2/10 | Train loss: 0.9931 | Val loss: 0.9023 | Train acc: 0.6488 | Val acc: 0.6784\n"
     ]
    },
    {
     "name": "stderr",
     "output_type": "stream",
     "text": [
      "100%|██████████| 782/782 [00:12<00:00, 61.60it/s]\n",
      "100%|██████████| 79/79 [00:00<00:00, 305.35it/s]\n"
     ]
    },
    {
     "name": "stdout",
     "output_type": "stream",
     "text": [
      "Epoch: 3/10 | Train loss: 0.8744 | Val loss: 0.8038 | Train acc: 0.6918 | Val acc: 0.7246\n"
     ]
    },
    {
     "name": "stderr",
     "output_type": "stream",
     "text": [
      "100%|██████████| 782/782 [00:12<00:00, 61.99it/s]\n",
      "100%|██████████| 79/79 [00:00<00:00, 302.12it/s]\n"
     ]
    },
    {
     "name": "stdout",
     "output_type": "stream",
     "text": [
      "Epoch: 4/10 | Train loss: 0.7979 | Val loss: 0.7555 | Train acc: 0.7174 | Val acc: 0.7344\n"
     ]
    },
    {
     "name": "stderr",
     "output_type": "stream",
     "text": [
      "100%|██████████| 782/782 [00:12<00:00, 61.51it/s]\n",
      "100%|██████████| 79/79 [00:00<00:00, 301.38it/s]\n"
     ]
    },
    {
     "name": "stdout",
     "output_type": "stream",
     "text": [
      "Epoch: 5/10 | Train loss: 0.7452 | Val loss: 0.7792 | Train acc: 0.7373 | Val acc: 0.7208\n"
     ]
    },
    {
     "name": "stderr",
     "output_type": "stream",
     "text": [
      "100%|██████████| 782/782 [00:12<00:00, 60.82it/s]\n",
      "100%|██████████| 79/79 [00:00<00:00, 303.79it/s]\n"
     ]
    },
    {
     "name": "stdout",
     "output_type": "stream",
     "text": [
      "Epoch: 6/10 | Train loss: 0.6972 | Val loss: 0.7174 | Train acc: 0.7540 | Val acc: 0.7504\n"
     ]
    },
    {
     "name": "stderr",
     "output_type": "stream",
     "text": [
      "100%|██████████| 782/782 [00:12<00:00, 61.41it/s]\n",
      "100%|██████████| 79/79 [00:00<00:00, 304.23it/s]\n"
     ]
    },
    {
     "name": "stdout",
     "output_type": "stream",
     "text": [
      "Epoch: 7/10 | Train loss: 0.6570 | Val loss: 0.6766 | Train acc: 0.7661 | Val acc: 0.7626\n"
     ]
    },
    {
     "name": "stderr",
     "output_type": "stream",
     "text": [
      "100%|██████████| 782/782 [00:12<00:00, 61.52it/s]\n",
      "100%|██████████| 79/79 [00:00<00:00, 300.07it/s]\n"
     ]
    },
    {
     "name": "stdout",
     "output_type": "stream",
     "text": [
      "Epoch: 8/10 | Train loss: 0.6218 | Val loss: 0.6862 | Train acc: 0.7806 | Val acc: 0.7620\n"
     ]
    },
    {
     "name": "stderr",
     "output_type": "stream",
     "text": [
      "100%|██████████| 782/782 [00:12<00:00, 61.26it/s]\n",
      "100%|██████████| 79/79 [00:00<00:00, 302.38it/s]\n"
     ]
    },
    {
     "name": "stdout",
     "output_type": "stream",
     "text": [
      "Epoch: 9/10 | Train loss: 0.5870 | Val loss: 0.7067 | Train acc: 0.7932 | Val acc: 0.7560\n"
     ]
    },
    {
     "name": "stderr",
     "output_type": "stream",
     "text": [
      "100%|██████████| 782/782 [00:12<00:00, 60.35it/s]\n",
      "100%|██████████| 79/79 [00:00<00:00, 292.83it/s]\n"
     ]
    },
    {
     "name": "stdout",
     "output_type": "stream",
     "text": [
      "Epoch: 10/10 | Train loss: 0.5540 | Val loss: 0.6870 | Train acc: 0.8055 | Val acc: 0.7656\n"
     ]
    },
    {
     "data": {
      "image/png": "[encoded data removed]",
      "text/plain": [
       "<Figure size 600x400 with 1 Axes>"
      ]
     },
     "metadata": {},
     "output_type": "display_data"
    },
    {
     "data": {
      "image/png": "[encoded data removed]",
      "text/plain": [
       "<Figure size 600x400 with 1 Axes>"
      ]
     },
     "metadata": {},
     "output_type": "display_data"
    }
   ],
   "source": [
    "# train the model\n",
    "\n",
    "history = {'train_loss': [], 'train_acc': [], 'val_loss': [], 'val_acc': []}\n",
    "\n",
    "for epoch in range(epochs):\n",
    "    # set the model to train mode\n",
    "    model.train()\n",
    "\n",
    "    # initialize the running training loss and accuracy\n",
    "    running_train_loss = 0.0\n",
    "    running_train_acc = 0.0\n",
    "\n",
    "    # iterate over the training data loader\n",
    "    for inputs, labels in tqdm(trainloader):\n",
    "        # move the inputs and labels to the device\n",
    "        inputs = inputs.to(device)\n",
    "        labels = labels.to(device)\n",
    "\n",
    "        # zero out the gradients\n",
    "        optimizer.zero_grad()\n",
    "\n",
    "        # forward pass\n",
    "        outputs = model(inputs)\n",
    "\n",
    "        # calculate the loss\n",
    "        loss = criterion(outputs, labels)\n",
    "\n",
    "        # backward pass\n",
    "        loss.backward()\n",
    "\n",
    "        # update the parameters\n",
    "        optimizer.step()\n",
    "\n",
    "        # calculate the training loss\n",
    "        running_train_loss += loss.item() * inputs.size(0)\n",
    "\n",
    "        # calculate the training accuracy\n",
    "        _, preds = torch.max(outputs, 1)\n",
    "        running_train_acc += torch.sum(preds == labels.data)\n",
    "\n",
    "    # calculate the average training loss and accuracy\n",
    "    epoch_train_loss = running_train_loss / len(trainloader.dataset)\n",
    "    epoch_train_acc = running_train_acc / len(trainloader.dataset)\n",
    "\n",
    "    # append the training loss and accuracy\n",
    "    history['train_loss'].append(epoch_train_loss)\n",
    "    history['train_acc'].append(epoch_train_acc)\n",
    "\n",
    "    # set the model to evaluation mode\n",
    "    model.eval()\n",
    "\n",
    "    # initialize the running validation loss and accuracy\n",
    "    running_val_loss = 0.0\n",
    "    running_val_acc = 0.0\n",
    "\n",
    "    # iterate over the validation data loader\n",
    "    for inputs, labels in tqdm(valloader):\n",
    "        # move the inputs and labels to the device\n",
    "        inputs = inputs.to(device)\n",
    "        labels = labels.to(device)\n",
    "\n",
    "        # forward pass\n",
    "        outputs = model(inputs)\n",
    "\n",
    "        # calculate the loss\n",
    "        loss = criterion(outputs, labels)\n",
    "\n",
    "        # calculate the validation loss\n",
    "        running_val_loss += loss.item() * inputs.size(0)\n",
    "\n",
    "        # calculate the validation accuracy\n",
    "        _, preds = torch.max(outputs, 1)\n",
    "        running_val_acc += torch.sum(preds == labels.data)\n",
    "\n",
    "    # calculate the average validation loss and accuracy\n",
    "    epoch_val_loss = running_val_loss / len(valloader.dataset)\n",
    "    epoch_val_acc = running_val_acc / len(valloader.dataset)\n",
    "\n",
    "    # append the validation loss and accuracy\n",
    "    history['val_loss'].append(epoch_val_loss)\n",
    "    history['val_acc'].append(epoch_val_acc)\n",
    "\n",
    "    # print the training and validation loss and accuracy\n",
    "    print(\n",
    "        f'Epoch: {epoch+1}/{epochs} | '\n",
    "        f'Train loss: {epoch_train_loss:.4f} | Val loss: {epoch_val_loss:.4f} | '\n",
    "        f'Train acc: {epoch_train_acc:.4f} | Val acc: {epoch_val_acc:.4f}'\n",
    "    )\n",
    "\n",
    "    # save the model if the validation loss is less than the best validation loss\n",
    "    if epoch_val_loss < best_val_loss:\n",
    "        best_val_loss = epoch_val_loss\n",
    "        torch.save(model.state_dict(), f'best_model_{dataset}.pt')\n",
    "\n",
    "# plot the training and validation loss\n",
    "plt.figure(figsize=(6, 4))\n",
    "plt.plot(history['train_loss'], label='Train loss')\n",
    "plt.plot(history['val_loss'], label='Validation loss')\n",
    "plt.xlabel('Epochs')\n",
    "plt.ylabel('Loss')\n",
    "plt.legend()\n",
    "plt.show()\n",
    "\n",
    "# plot the training and validation accuracy\n",
    "plt.figure(figsize=(6, 4))\n",
    "# move the lists to the cpu\n",
    "history['train_acc'] = [t.cpu() for t in history['train_acc']]\n",
    "history['val_acc'] = [t.cpu() for t in history['val_acc']]\n",
    "plt.plot(history['train_acc'], label='Train acc')\n",
    "plt.plot(history['val_acc'], label='Validation acc')\n",
    "plt.xlabel('Epochs')\n",
    "plt.ylabel('Accuracy')\n",
    "plt.legend()\n",
    "plt.show()\n"
   ]
  },
  {
   "cell_type": "code",
   "execution_count": 10,
   "metadata": {},
   "outputs": [
    {
     "name": "stderr",
     "output_type": "stream",
     "text": [
      "100%|██████████| 79/79 [00:00<00:00, 287.44it/s]"
     ]
    },
    {
     "name": "stdout",
     "output_type": "stream",
     "text": [
      "Test loss: 0.6616 | Test acc: 0.7682\n",
      "              precision    recall  f1-score   support\n",
      "\n",
      "           0       1.00      1.00      1.00         1\n",
      "           3       0.00      0.00      0.00         0\n",
      "           4       0.00      0.00      0.00         0\n",
      "           5       0.00      0.00      0.00         1\n",
      "           6       1.00      1.00      1.00         1\n",
      "           7       1.00      0.50      0.67         2\n",
      "           9       1.00      0.67      0.80         3\n",
      "\n",
      "    accuracy                           0.62         8\n",
      "   macro avg       0.57      0.45      0.50         8\n",
      "weighted avg       0.88      0.62      0.72         8\n",
      "\n",
      "[[1 0 0 0 0 0 0]\n",
      " [0 0 0 0 0 0 0]\n",
      " [0 0 0 0 0 0 0]\n",
      " [0 1 0 0 0 0 0]\n",
      " [0 0 0 0 1 0 0]\n",
      " [0 0 0 1 0 1 0]\n",
      " [0 0 1 0 0 0 2]]\n",
      "Total accuracy: 0.625\n"
     ]
    },
    {
     "name": "stderr",
     "output_type": "stream",
     "text": [
      "\n",
      "/Users/prestongovender/miniforge3/envs/pytorch-vit-env/lib/python3.11/site-packages/sklearn/metrics/_classification.py:1469: UndefinedMetricWarning: Recall and F-score are ill-defined and being set to 0.0 in labels with no true samples. Use `zero_division` parameter to control this behavior.\n",
      "  _warn_prf(average, modifier, msg_start, len(result))\n",
      "/Users/prestongovender/miniforge3/envs/pytorch-vit-env/lib/python3.11/site-packages/sklearn/metrics/_classification.py:1469: UndefinedMetricWarning: Recall and F-score are ill-defined and being set to 0.0 in labels with no true samples. Use `zero_division` parameter to control this behavior.\n",
      "  _warn_prf(average, modifier, msg_start, len(result))\n",
      "/Users/prestongovender/miniforge3/envs/pytorch-vit-env/lib/python3.11/site-packages/sklearn/metrics/_classification.py:1469: UndefinedMetricWarning: Recall and F-score are ill-defined and being set to 0.0 in labels with no true samples. Use `zero_division` parameter to control this behavior.\n",
      "  _warn_prf(average, modifier, msg_start, len(result))\n"
     ]
    }
   ],
   "source": [
    "# Test the model on the test set\n",
    "\n",
    "# load the best model\n",
    "model.load_state_dict(torch.load(f'best_model_{dataset}.pt'))\n",
    "\n",
    "# set the model to evaluation mode\n",
    "model.eval()\n",
    "\n",
    "# initialize the running test loss and accuracy\n",
    "running_test_loss = 0.0\n",
    "running_test_acc = 0.0\n",
    "\n",
    "# iterate over the test data loader\n",
    "\n",
    "for inputs, labels in tqdm(testloader):\n",
    "    # move the inputs and labels to the device\n",
    "    inputs = inputs.to(device)\n",
    "    labels = labels.to(device)\n",
    "\n",
    "    # forward pass\n",
    "    outputs = model(inputs)\n",
    "\n",
    "    # calculate the loss\n",
    "    loss = criterion(outputs, labels)\n",
    "\n",
    "    # calculate the test loss\n",
    "    running_test_loss += loss.item() * inputs.size(0)\n",
    "\n",
    "    # calculate the test accuracy\n",
    "    _, preds = torch.max(outputs, 1)\n",
    "    running_test_acc += torch.sum(preds == labels.data)\n",
    "\n",
    "# calculate the average test loss and accuracy\n",
    "epoch_test_loss = running_test_loss / len(testloader.dataset)\n",
    "epoch_test_acc = running_test_acc / len(testloader.dataset)\n",
    "\n",
    "# print the test loss and accuracy\n",
    "print(\n",
    "    f'Test loss: {epoch_test_loss:.4f} | '\n",
    "    f'Test acc: {epoch_test_acc:.4f}'\n",
    ")\n",
    "\n",
    "# print the classification report\n",
    "print(classification_report(labels.data.cpu().numpy(), preds.cpu().numpy()))\n",
    "\n",
    "# print the confusion matrix\n",
    "print(confusion_matrix(labels.data.cpu().numpy(), preds.cpu().numpy()))\n",
    "\n",
    "# print the total accuracy\n",
    "print(f'Total accuracy: {np.sum(preds.cpu().numpy() == labels.data.cpu().numpy()) / len(labels.data.cpu().numpy())}')\n"
   ]
  },
  {
   "cell_type": "markdown",
   "metadata": {},
   "source": [
    "```\n",
    "100%|██████████| 79/79 [00:00<00:00, 287.44it/s]\n",
    "Test loss: 0.6616 | Test acc: 0.7682\n",
    "\n",
    "              precision    recall  f1-score   support\n",
    "\n",
    "           0       1.00      1.00      1.00         1\n",
    "           3       0.00      0.00      0.00         0\n",
    "           4       0.00      0.00      0.00         0\n",
    "           5       0.00      0.00      0.00         1\n",
    "           6       1.00      1.00      1.00         1\n",
    "           7       1.00      0.50      0.67         2\n",
    "           9       1.00      0.67      0.80         3\n",
    "\n",
    "    accuracy                           0.62         8\n",
    "   macro avg       0.57      0.45      0.50         8\n",
    "weighted avg       0.88      0.62      0.72         8\n",
    "\n",
    "[[1 0 0 0 0 0 0]\n",
    " [0 0 0 0 0 0 0]\n",
    " [0 0 0 0 0 0 0]\n",
    " [0 1 0 0 0 0 0]\n",
    " [0 0 0 0 1 0 0]\n",
    " [0 0 0 1 0 1 0]\n",
    " [0 0 1 0 0 0 2]]\n",
    "Total accuracy: 0.625\n"
   ]
  },
  {
   "cell_type": "markdown",
   "metadata": {},
   "source": []
  }
 ],
 "metadata": {
  "kernelspec": {
   "display_name": "pytorch-vit-env",
   "language": "python",
   "name": "python3"
  },
  "language_info": {
   "codemirror_mode": {
    "name": "ipython",
    "version": 3
   },
   "file_extension": ".py",
   "mimetype": "text/x-python",
   "name": "python",
   "nbconvert_exporter": "python",
   "pygments_lexer": "ipython3",
   "version": "3.11.5"
  },
  "orig_nbformat": 4
 },
 "nbformat": 4,
 "nbformat_minor": 2
}
