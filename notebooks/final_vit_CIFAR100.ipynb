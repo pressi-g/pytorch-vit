{
 "cells": [
  {
   "cell_type": "markdown",
   "metadata": {},
   "source": [
    "# Basic Vision Transformer (ViT) with DINO (Knowledge Distillation with No Labels)\n",
    "\n",
    "This notebook contains code (to be refactored into scripts at a later stage) that implements a basic ViT and ViT for use with DINO to be trained on MNIST, CIFAR10, and CIFAR100. \n",
    "\n",
    "The implementation is written using PyTorch and allows for the following options:\n",
    "\n",
    "- Different datasets: MNIST, CIFAR10, and CIFAR100 (more to be added in future - please open an issue if you would like to see a specific dataset added)\n",
    "- Image augmentation and resizing\n",
    "- Different patch sizes\n",
    "- Different number of layers\n",
    "- Different number of heads\n",
    "- Different number of channels\n",
    "- Different number of classes\n",
    "- Different number of epochs\n",
    "- Different batch sizes\n",
    "- Different learning rates\n",
    "- Different optimizers\n",
    "- Different weight decay\n",
    "- Different dropout rates\n",
    "- Different number of workers\n",
    "- Different number of GPUs\n",
    "\n",
    "The implementation is based on the paper [An Image is Worth 16x16 Words: Transformers for Image Recognition at Scale](https://arxiv.org/abs/2010.11929) by Dosovitskiy et al. and the paper [How to Train Vision Transformer on Small-scale Datasets?](https://arxiv.org/abs/2210.07240v1) by Gani et al. \n",
    "\n",
    "The purpose of this notebook is to provide a basic implementation of ViT that can be used as a starting point for more advanced implementations. The user has the flexibility to change the hyperparameters and the architecture to suit their needs by editing the configs. Thereafter, we investigate the use of knowledge distallation with no labels to train ViT on small-scale datasets as a pre-training step before fine-tuning on the small-scale dataset with labels. \n",
    "\n",
    "The code is optimised for readability and speed where possible.\n",
    "\n",
    "In future the code will be refactored into scripts and the configs will be moved to a separate file, whereby the user can edit the configs in the file to suit their experimentation needs.\n",
    "\n",
    "The first half of this notebook builds a basic ViT model and trains it on MNIST, CIFAR10, and CIFAR100. The second half of this notebook builds a ViT model for use with DINO and trains it on MNIST, CIFAR10, and CIFAR100.\n",
    "\n",
    "The second half involves:\n",
    "\n",
    "1. **Pre-training Stage (Self-Supervised)**: This is a two-step approach using local and global views of low-resolution images.\n",
    "   - **Local Views**: Smaller sections or patches of the image.\n",
    "   - **Global Views**: Represent the entire low-resolution image.\n",
    "\n",
    "   A self-supervised task is designed where the student model predicts the teacher model's representations. The teacher is aided with Dynamic Position Embeddings (DPE) to capture spatial information of local and global views better.\n",
    "\n",
    "2. **Weight Transfer**: After the pre-training is complete, the learned weights from the self-supervised training are used to initialise a standard ViT for the subsequent supervised training.\n",
    "\n",
    "3. **Fine-tuning (Supervised)**: This is the phase where actual labeled data is introduced. The model, initialized with weights from the self-supervised phase, is trained on the small-scale dataset using supervised learning. This step leverages the inductive biases achieved during the self-supervised pre-training to ease the optimization of the Vision Transformer on small datasets.\n",
    "\n",
    "\n",
    "- The student is trained to approximate the feature representations of the teacher during the self-supervised phase. It is trying to predict the output of the teacher model based on the local and global views.\n",
    "\n",
    "- Once this self-supervised training is complete, you'd typically want to transfer the student's learned weights to a Vision Transformer, which will be used for the supervised fine-tuning phase.\n",
    "\n",
    "We want to transfer the weights, but not directly from the teacher model. Instead, we transfer from the student model that has been trained to mimic the teacher during the self-supervised phase. This student model's weights serve as a good initialisation for supervised learning on small datasets."
   ]
  },
  {
   "cell_type": "code",
   "execution_count": 2,
   "metadata": {},
   "outputs": [],
   "source": [
    "# Standard imports\n",
    "import numpy as np\n",
    "import matplotlib.pyplot as plt\n",
    "import seaborn as sns\n",
    "import os\n",
    "import copy\n",
    "import time\n",
    "import math\n",
    "import random\n",
    "\n",
    "# Machine learning imports\n",
    "import torch\n",
    "import torch.nn.functional as F\n",
    "from torch import nn, Tensor, optim\n",
    "from torchsummary import summary\n",
    "from torchvision import datasets, transforms\n",
    "from torchvision.transforms import Compose, Resize, ToTensor\n",
    "from torch.optim.lr_scheduler import ReduceLROnPlateau, CosineAnnealingLR\n",
    "from torch.utils.data import DataLoader, random_split\n",
    "from sklearn.model_selection import train_test_split\n",
    "from sklearn.metrics import confusion_matrix, classification_report, accuracy_score\n",
    "\n",
    "# Third-party imports\n",
    "from einops import rearrange, reduce, repeat\n",
    "from einops.layers.torch import Rearrange, Reduce\n",
    "from PIL import Image\n",
    "from tqdm import tqdm\n",
    "\n",
    "# Set seed for reproducibility\n",
    "torch.manual_seed(42)\n",
    "np.random.seed(42)\n",
    "torch.cuda.manual_seed_all(42)"
   ]
  },
  {
   "cell_type": "code",
   "execution_count": 2,
   "metadata": {},
   "outputs": [],
   "source": [
    "dataset = \"CIFAR100\" # <-- change this parameter only! Options: MNIST, CIFAR10, CIFAR100\n",
    "\n",
    "model_name = f\"{dataset}_classifier\"\n",
    "in_channels = 1 if dataset == \"MNIST\" else 3\n",
    "num_classes = 100 if dataset == \"CIFAR100\" else 10\n",
    "learning_rate = 0.001\n",
    "weight_decay = 0.0001\n",
    "batch_size = 256\n",
    "num_epochs = 50\n",
    "self_supervised_epochs = 20\n",
    "fine_tune_epochs = 20\n",
    "image_size = 28 if dataset == \"MNIST\" else 32 # upscale CIFAR10 and CIFAR100 images for better performance -> INVESTIGATE\n",
    "patch_size = 7 if dataset == \"MNIST\" else 8 # keep the number of patches the same for all datasets to keep experiments controlled\n",
    "num_patches = (image_size // patch_size) ** 2\n",
    "projection_dim = 64\n",
    "num_heads = 4\n",
    "transformer_units = [projection_dim * 2, projection_dim]\n",
    "transformer_layers = 8 # depth\n",
    "mlp_head_units = [2048, 1024]\n",
    "patience_value = 10 if dataset == \"MNIST\" else 15 # default: 10 if not set\n",
    "dropout=0.01 # Adjust as necessary\n",
    "ema_decay = 0.996  # Adjust only if necessary"
   ]
  },
  {
   "cell_type": "code",
   "execution_count": 3,
   "metadata": {},
   "outputs": [],
   "source": [
    "def set_device():\n",
    "    ''' \n",
    "    Set device: either Cuda (GPU), MPS (Apple Silicon GPU), or CPU\n",
    "    '''\n",
    "    device = torch.device(\n",
    "        \"cuda\"\n",
    "        if torch.cuda.is_available()\n",
    "        else \"mps\"\n",
    "        if torch.backends.mps.is_available()\n",
    "        else \"cpu\"\n",
    "    )\n",
    "    print(f\"Using {device} device\")\n",
    "    return device"
   ]
  },
  {
   "cell_type": "code",
   "execution_count": 4,
   "metadata": {},
   "outputs": [],
   "source": [
    "def data_loader(dataset: str, batch_size: int, image_size: int, augment: bool = True):\n",
    "    '''\n",
    "    Function that takes in a dataset and returns train and test dataloaders along with the hyperparameters\n",
    "    associated with the dataset.\n",
    "\n",
    "    Parameters:\n",
    "        dataset (str): Name of dataset to load. Options: MNIST, CIFAR10, CIFAR100\n",
    "        batch_size (int): Batch size for dataloaders\n",
    "        augment (bool): Whether to augment training data or not\n",
    "        \n",
    "    Returns:\n",
    "        train_loader (DataLoader): Dataloader for training set\n",
    "        val_loader (DataLoader): Dataloader for validation set\n",
    "        test_loader (DataLoader): Dataloader for test set\n",
    "        num_classes (int): Number of classes in dataset\n",
    "        image_size (int): Size of image in dataset\n",
    "        batch_size (int): Batch size for dataloaders\n",
    "    '''\n",
    "\n",
    "    base_train_transforms = [transforms.Resize((image_size, image_size)), transforms.ToTensor()]\n",
    "    if dataset == \"MNIST\":\n",
    "        base_train_transforms.append(transforms.Normalize((0.5,), (0.5,)))\n",
    "    elif dataset == \"CIFAR10\":\n",
    "        mean, std = (0.4914, 0.4822, 0.4465), (0.2470, 0.2435, 0.2616)\n",
    "        base_train_transforms.append(transforms.Normalize(mean, std))\n",
    "    elif dataset == \"CIFAR100\":\n",
    "        mean, std = (0.5070, 0.4865, 0.4409), (0.2673, 0.2564, 0.2762)\n",
    "        base_train_transforms.append(transforms.Normalize(mean, std))\n",
    "\n",
    "    # Additional augmentations for CIFAR10 and CIFAR100\n",
    "    additional_transforms = []\n",
    "    if augment:\n",
    "\n",
    "        additional_transforms = [\n",
    "            transforms.Resize((image_size, image_size)), # resizing capabilities if needed. Currently not used for our experiments\n",
    "            transforms.RandomCrop(image_size, padding=4),\n",
    "            transforms.RandomHorizontalFlip(), \n",
    "            transforms.RandomRotation(3.6),\n",
    "            transforms.ColorJitter(brightness=0.2, contrast=0.2, saturation=0.2, hue=0.1),\n",
    "            transforms.RandomAffine(degrees=0, scale=(0.8, 1.2)),\n",
    "            transforms.GaussianBlur(kernel_size=3, sigma=(0.1, 2.0)),\n",
    "            transforms.Grayscale(num_output_channels=3),\n",
    "            transforms.RandomSolarize(threshold=0.5, p=0.2),\n",
    "        ]\n",
    "    \n",
    "    dataset_config = {\n",
    "        'MNIST': {\n",
    "            'dataset_cls': datasets.MNIST,\n",
    "            'num_classes': 10,\n",
    "            'default_image_size': 28,\n",
    "            'batch_size': batch_size,  # Use the batch_size parameter\n",
    "            'train_transform': transforms.Compose(base_train_transforms),\n",
    "            'test_transform': transforms.Compose([\n",
    "                transforms.Resize((image_size, image_size)),\n",
    "                transforms.ToTensor(),\n",
    "                transforms.Normalize((0.5,), (0.5,))\n",
    "            ])\n",
    "        },\n",
    "        'CIFAR10': {\n",
    "            'dataset_cls': datasets.CIFAR10,\n",
    "            'num_classes': 10,\n",
    "            'default_image_size': 32,\n",
    "            'batch_size': batch_size,\n",
    "            'train_transform': transforms.Compose(additional_transforms + base_train_transforms),\n",
    "            'test_transform': transforms.Compose([\n",
    "                transforms.Resize((image_size, image_size)),\n",
    "                transforms.ToTensor(),\n",
    "                transforms.Normalize((0.4914, 0.4822, 0.4465), (0.2470, 0.2435, 0.2616))\n",
    "            ])\n",
    "        },\n",
    "        'CIFAR100': {\n",
    "            'dataset_cls': datasets.CIFAR100,\n",
    "            'num_classes': 100,\n",
    "            'default_image_size': 32,\n",
    "            'batch_size': batch_size,\n",
    "            'train_transform': transforms.Compose(additional_transforms + base_train_transforms),\n",
    "            'test_transform': transforms.Compose([\n",
    "                transforms.Resize((image_size, image_size)),\n",
    "                transforms.ToTensor(),\n",
    "                transforms.Normalize((0.5070, 0.4865, 0.4409), (0.2673, 0.2564, 0.2762))\n",
    "            ])\n",
    "        }\n",
    "    }    \n",
    "\n",
    "    # Ensure dataset is valid\n",
    "    if dataset not in dataset_config:\n",
    "        raise ValueError(f\"Unsupported dataset: {dataset}. Supported datasets are: {', '.join(dataset_config.keys())}\")\n",
    "\n",
    "    # Access config\n",
    "    cfg = dataset_config[dataset]\n",
    "\n",
    "    # Print loading info\n",
    "    print(f'Loading {dataset} dataset...')\n",
    "\n",
    "    # Load data\n",
    "    dataset_cls = cfg['dataset_cls']\n",
    "\n",
    "    data_dir = '../data/'\n",
    "    if not os.path.exists(data_dir):\n",
    "        os.makedirs(data_dir)\n",
    "\n",
    "    train_dataset_full = dataset_cls(f'{data_dir}{dataset}_data/', train=True, download=True, transform=cfg['train_transform'])\n",
    "    test_dataset = dataset_cls(f'{data_dir}{dataset}_data/', train=False, download=True, transform=cfg['test_transform'])\n",
    "\n",
    "    # Split training dataset into training and validation sets\n",
    "    train_size = int(0.8 * len(train_dataset_full))\n",
    "    val_size = len(train_dataset_full) - train_size\n",
    "    train_dataset, val_dataset = random_split(train_dataset_full, [train_size, val_size])\n",
    "\n",
    "    # Compute optimal number of workers\n",
    "    num_workers = min(4, os.cpu_count())\n",
    "\n",
    "    # Create data loaders\n",
    "    train_loader = DataLoader(train_dataset, batch_size=cfg['batch_size'], shuffle=True, num_workers=num_workers)\n",
    "    val_loader = DataLoader(val_dataset, batch_size=cfg['batch_size'], shuffle=True, num_workers=num_workers)\n",
    "    test_loader = DataLoader(test_dataset, batch_size=cfg['batch_size'], shuffle=False, num_workers=num_workers)\n",
    "\n",
    "    return train_loader, val_loader, test_loader, cfg['num_classes'], cfg['default_image_size']\n"
   ]
  },
  {
   "cell_type": "code",
   "execution_count": 5,
   "metadata": {},
   "outputs": [],
   "source": [
    "class PatchEmbedding(nn.Module):\n",
    "    '''\n",
    "    Class that creates patch embeddings for images\n",
    "    (image to patch embeddings).\n",
    "\n",
    "    Parameters:\n",
    "        image_size (int): Size of image\n",
    "        patch_size (int): Size of patch\n",
    "        in_channels (int): Number of input channels\n",
    "        embed_dim (int): Embedding dimension\n",
    "\n",
    "    Returns:\n",
    "        x (Tensor): Patch embeddings\n",
    "    '''\n",
    "    def __init__(self, \n",
    "                 image_size: int, \n",
    "                 patch_size: int, \n",
    "                 in_channels: int, \n",
    "                 embed_dim: int):\n",
    "        super().__init__()\n",
    "        self.num_patches = (image_size // patch_size) ** 2\n",
    "\n",
    "        self.projection = nn.Conv2d(\n",
    "            in_channels=in_channels,\n",
    "            out_channels=embed_dim,\n",
    "            kernel_size=patch_size,\n",
    "            stride=patch_size\n",
    "        )\n",
    "\n",
    "    def forward(self, x: Tensor) -> Tensor:\n",
    "        \n",
    "        x = self.projection(x).flatten(2).transpose(1, 2)\n",
    "        return x"
   ]
  },
  {
   "cell_type": "code",
   "execution_count": 6,
   "metadata": {},
   "outputs": [],
   "source": [
    "class Attention(nn.Module):\n",
    "    '''\n",
    "    Class that creates an attention layer.\n",
    "\n",
    "    Parameters:\n",
    "        dim (int): Dimension of input\n",
    "        heads (int): Number of heads\n",
    "        dim_head (int): Dimension of each head\n",
    "        dropout (float): Dropout probability\n",
    "\n",
    "    Returns:\n",
    "        x (Tensor): Output of attention layer\n",
    "    '''\n",
    "    \n",
    "    def __init__(self, \n",
    "                dim: int, \n",
    "                heads: int, \n",
    "                dim_head: int, \n",
    "                dropout: float=0.):\n",
    "        super().__init__()\n",
    "        \n",
    "        self.heads = heads\n",
    "        self.dim_head = dim_head\n",
    "        self.scale = dim_head ** -0.5\n",
    "\n",
    "        # Linear layer to get Q, K, V\n",
    "        self.qkv = nn.Linear(dim, dim * 3, bias=False)\n",
    "        self.attend = nn.Softmax(dim=-1)\n",
    "        self.proj = nn.Linear(dim, dim)\n",
    "        self.dropout = nn.Dropout(dropout)\n",
    "\n",
    "    def forward(self, x: torch.Tensor) -> torch.Tensor:\n",
    "        B, N, C = x.shape\n",
    "        \n",
    "        # Obtain Q, K, V from input tensor x\n",
    "        qkv = self.qkv(x).reshape(B, N, 3, self.heads, self.dim_head).permute(2, 0, 3, 1, 4)\n",
    "        q, k, v = qkv[0], qkv[1], qkv[2]\n",
    "        \n",
    "        # Calculate attention scores and apply scaling\n",
    "        dots = torch.einsum('bhid,bhjd->bhij', q, k) * self.scale\n",
    "        \n",
    "        # Softmax to get attention weights\n",
    "        attn = self.attend(dots)\n",
    "        \n",
    "        # Calculate the output tensor\n",
    "        out = torch.einsum('bhij,bhjd->bhid', attn, v).reshape(B, N, C)\n",
    "        out = self.proj(out)\n",
    "        return out\n"
   ]
  },
  {
   "cell_type": "code",
   "execution_count": 7,
   "metadata": {},
   "outputs": [],
   "source": [
    "class MLP(nn.Module):\n",
    "    '''\n",
    "    Class that creates a multilayer perceptron (MLP).\n",
    "\n",
    "    Parameters:\n",
    "        in_features (int): Number of input features\n",
    "        hidden_features (int, optional): Number of hidden features. Defaults to in_features.\n",
    "        out_features (int, optional): Number of output features. Defaults to in_features.\n",
    "        activation (nn.Module, optional): Activation function. Defaults to nn.GELU().\n",
    "        drop (float, optional): Dropout probability. Defaults to 0.\n",
    "\n",
    "    Returns:\n",
    "        x (Tensor): Output of MLP\n",
    "    '''\n",
    "    def __init__(self, \n",
    "                 in_features: int, \n",
    "                 hidden_features: int = None, \n",
    "                 out_features: int = None, \n",
    "                 activation: nn.Module = nn.GELU(),\n",
    "                 drop: float = 0.):\n",
    "        super().__init__()\n",
    "        \n",
    "        hidden_features = hidden_features or in_features\n",
    "        out_features = out_features or in_features\n",
    "\n",
    "        self.fc1 = nn.Linear(in_features, hidden_features)\n",
    "        self.activation = activation\n",
    "        self.fc2 = nn.Linear(hidden_features, out_features)\n",
    "        self.dropout = nn.Dropout(drop)\n",
    "\n",
    "    def forward(self, x):\n",
    "        x = self.fc1(x)\n",
    "        x = self.activation(x)\n",
    "        x = self.fc2(x)\n",
    "        x = self.dropout(x)\n",
    "        return x\n"
   ]
  },
  {
   "cell_type": "code",
   "execution_count": 8,
   "metadata": {},
   "outputs": [],
   "source": [
    "class TransformerEncoderBlock(nn.Module):\n",
    "    '''\n",
    "    Class that creates a transformer encoder block.\n",
    "\n",
    "    Parameters:\n",
    "        dim (int): Embedding dimension\n",
    "        heads (int): Number of heads\n",
    "        dim_head (int): Dimension of each head\n",
    "        mlp_dim (int): Dimension of MLP\n",
    "        dropout (float): Dropout probability\n",
    "\n",
    "    Returns:\n",
    "        x (Tensor): Output of transformer encoder block\n",
    "    '''\n",
    "    def __init__(self, \n",
    "                 dim: int, \n",
    "                 heads: int, \n",
    "                 dim_head: int, \n",
    "                 mlp_dim: int, \n",
    "                 dropout: float = 0.):\n",
    "        super().__init__()\n",
    "        \n",
    "        # Layer normalization followed by attention (with residual)\n",
    "        self.norm1 = nn.LayerNorm(dim)\n",
    "        self.attn = Attention(dim, heads=heads, dim_head=dim_head, dropout=dropout)\n",
    "        self.dropout1 = nn.Dropout(dropout)\n",
    "        \n",
    "        # Layer normalization followed by feed-forward (with residual)\n",
    "        self.norm2 = nn.LayerNorm(dim)\n",
    "        self.mlp = MLP(in_features=dim, hidden_features=mlp_dim, out_features=dim, drop=dropout)\n",
    "        self.dropout2 = nn.Dropout(dropout)\n",
    "\n",
    "    def forward(self, x: torch.Tensor) -> torch.Tensor:\n",
    "        # Apply attention, add residual connection, and apply dropout\n",
    "        x = x + self.dropout1(self.attn(self.norm1(x)))\n",
    "        \n",
    "        # Apply MLP, add residual connection, and apply dropout\n",
    "        x = x + self.dropout2(self.mlp(self.norm2(x)))\n",
    "        \n",
    "        return x\n"
   ]
  },
  {
   "cell_type": "code",
   "execution_count": 9,
   "metadata": {},
   "outputs": [],
   "source": [
    "class VisionTransformer(nn.Module):\n",
    "    '''\n",
    "    Vision transformer architecture.\n",
    "\n",
    "    Parameters:\n",
    "        image_size (int): Size of image\n",
    "        patch_size (int): Size of patch\n",
    "        in_channels (int): Number of input channels\n",
    "        embed_dim (int): Embedding dimension\n",
    "        depth (int): Depth\n",
    "        heads (int): Number of heads\n",
    "        mlp_dim (int): Dimension of MLP\n",
    "        dropout (float): Dropout probability\n",
    "        num_classes (int): Number of classes\n",
    "\n",
    "    Returns:\n",
    "        x (Tensor): Output of VisionTransformer\n",
    "    '''\n",
    "\n",
    "    def __init__(self, \n",
    "                 image_size: int, \n",
    "                 patch_size: int, \n",
    "                 in_channels: int, \n",
    "                 embed_dim: int, \n",
    "                 depth: int, \n",
    "                 heads: int, \n",
    "                 mlp_dim: int,\n",
    "                 num_classes: int, \n",
    "                 dropout: float = 0., \n",
    "                 mlp_head_units = [2048, 1024]):\n",
    "        super().__init__()        \n",
    "        # Patch embedding layer\n",
    "        self.patch_embed = PatchEmbedding(image_size=image_size, patch_size=patch_size, in_channels=in_channels, embed_dim=embed_dim)\n",
    "        # Initializing cls_token and pos_embed with random values\n",
    "        self.cls_token = nn.Parameter(torch.randn(1, 1, embed_dim))\n",
    "        # Calculate the number of patches\n",
    "        num_patches = (image_size // patch_size) ** 2\n",
    "        self.pos_embed = nn.Parameter(torch.zeros(1, num_patches + 1, embed_dim))  # +1 for the cls_token --> initialising to zeros seems to work better than random values\n",
    "        \n",
    "        self.dropout = nn.Dropout(dropout)\n",
    "        self.transformer_encoder = nn.ModuleList([TransformerEncoderBlock(dim=embed_dim, heads=heads, dim_head=embed_dim // heads, mlp_dim=mlp_dim, dropout=dropout) for _ in range(depth)])\n",
    "        self.norm = nn.LayerNorm(embed_dim)\n",
    "        self.mlp_head = nn.Sequential(\n",
    "            nn.Linear(embed_dim, mlp_head_units[0]),\n",
    "            nn.ReLU(),\n",
    "            nn.Dropout(dropout),\n",
    "            nn.Linear(mlp_head_units[0], mlp_head_units[1]),\n",
    "            nn.ReLU(),\n",
    "            nn.Dropout(dropout),\n",
    "            nn.Linear(mlp_head_units[1], num_classes)\n",
    "        )\n",
    "\n",
    "    def forward(self, x):\n",
    "        B = x.shape[0]  # batch_size\n",
    "        x = self.patch_embed(x)\n",
    "        \n",
    "        cls_tokens = repeat(self.cls_token, '() n d -> b n d', b=B)\n",
    "        x = torch.cat((cls_tokens, x), dim=1)\n",
    "        \n",
    "        assert x.shape[1] == self.pos_embed.shape[1], f\"Positional embeddings don't match the input patches. x.shape: {x.shape} pos_embed.shape: {self.pos_embed.shape}\"\n",
    "        \n",
    "        x = x + self.pos_embed\n",
    "        x = self.dropout(x)\n",
    "\n",
    "        for transformer_encoder in self.transformer_encoder:\n",
    "            x = transformer_encoder(x)\n",
    "\n",
    "        x = self.norm(x)\n",
    "        x = x[:, 0]  # Take the cls_token representation\n",
    "        x = self.mlp_head(x)\n",
    "\n",
    "        return x\n"
   ]
  },
  {
   "cell_type": "code",
   "execution_count": 10,
   "metadata": {},
   "outputs": [],
   "source": [
    "def train(model, train_loader, val_loader, criterion, optimizer, device, model_name,epochs=10, scheduler=None, patience=None):\n",
    "    '''\n",
    "    Function that trains the model.\n",
    "\n",
    "    Parameters:\n",
    "        model (nn.Module): Model to train\n",
    "        train_loader (DataLoader): Dataloader for training set\n",
    "        val_loader (DataLoader): Dataloader for validation set\n",
    "        criterion (nn.Module): Loss function\n",
    "        optimizer (nn.Module): Optimizer\n",
    "        device (str): Device to use\n",
    "        epochs (int): Number of epochs\n",
    "        scheduler (nn.Module): Learning rate scheduler\n",
    "        patience (int): Number of epochs to wait before early stopping\n",
    "        model_name (str): Name of model\n",
    "\n",
    "    Returns:\n",
    "        model (nn.Module): Trained model\n",
    "        train_losses (list): Training losses\n",
    "        val_losses (list): Validation losses\n",
    "        train_acc (list): Training accuracy\n",
    "        val_acc (list): Validation accuracy\n",
    "    '''\n",
    "    \n",
    "    # Set model to training mode\n",
    "    model.train()\n",
    "\n",
    "    # Initialize lists to store losses and accuracy\n",
    "    train_losses = []\n",
    "    val_losses = []\n",
    "    train_acc = []\n",
    "    val_acc = []\n",
    "    best_val_loss = np.inf\n",
    "\n",
    "    epochs_without_improvement = 0  # for early stopping\n",
    "\n",
    "    # Record the start time for training\n",
    "    start_time = time.time()\n",
    "\n",
    "    for epoch in range(epochs):\n",
    "        epoch_train_loss = 0\n",
    "        epoch_train_acc = 0\n",
    "        epoch_val_loss = 0\n",
    "        epoch_val_acc = 0\n",
    "\n",
    "        # Training\n",
    "        for inputs, labels in tqdm(train_loader, desc=f\"Epoch {epoch+1}/{epochs} [Training]\"):\n",
    "            inputs, labels = inputs.to(device), labels.to(device)\n",
    "            optimizer.zero_grad()\n",
    "            outputs = model(inputs).to(device)\n",
    "            loss = criterion(outputs, labels)\n",
    "            loss.backward()\n",
    "            optimizer.step()\n",
    "            epoch_train_loss += loss.item() * inputs.size(0)\n",
    "            _, preds = torch.max(outputs, 1)\n",
    "            epoch_train_acc += torch.sum(preds == labels.data)\n",
    "\n",
    "        # Validation\n",
    "        model.eval()  # <-- set model to eval mode for validation\n",
    "        for inputs, labels in tqdm(val_loader, desc=f\"Epoch {epoch+1}/{epochs} [Validation]\"):\n",
    "            inputs, labels = inputs.to(device), labels.to(device)\n",
    "            outputs = model(inputs).to(device)\n",
    "            loss = criterion(outputs, labels)\n",
    "            epoch_val_loss += loss.item() * inputs.size(0)\n",
    "            _, preds = torch.max(outputs, 1)\n",
    "            epoch_val_acc += torch.sum(preds == labels.data)\n",
    "        model.train()  # <-- set model back to train mode\n",
    "\n",
    "        # Average metrics\n",
    "        epoch_train_loss /= len(train_loader.dataset)\n",
    "        epoch_train_acc = epoch_train_acc.float() / len(train_loader.dataset)\n",
    "        epoch_val_loss /= len(val_loader.dataset)\n",
    "        epoch_val_acc = epoch_val_acc.float() / len(val_loader.dataset)\n",
    "\n",
    "        if scheduler:\n",
    "            scheduler.step(epoch_val_loss)\n",
    "\n",
    "        if epoch_val_loss < best_val_loss:\n",
    "            best_val_loss = epoch_val_loss\n",
    "            best_model_wts = copy.deepcopy(model.state_dict())\n",
    "            epochs_without_improvement = 0  # reset the count\n",
    "        else:\n",
    "            epochs_without_improvement += 1\n",
    "\n",
    "        train_losses.append(epoch_train_loss)\n",
    "        val_losses.append(epoch_val_loss)\n",
    "        train_acc.append(epoch_train_acc)\n",
    "        val_acc.append(epoch_val_acc)\n",
    "\n",
    "        print(f'Epoch {epoch+1}/{epochs} - '\n",
    "              f'Train Loss: {epoch_train_loss:.4f}, '\n",
    "              f'Train Acc: {epoch_train_acc:.4f}, '\n",
    "              f'Val Loss: {epoch_val_loss:.4f}, '\n",
    "              f'Val Acc: {epoch_val_acc:.4f}')\n",
    "\n",
    "        # Early stopping\n",
    "        if patience and epochs_without_improvement == patience:\n",
    "            print(\"Early stopping due to no improvement in validation loss.\")\n",
    "            break\n",
    "\n",
    "    # Record the end time for training\n",
    "    end_time = time.time()\n",
    "    # Calculate the total training time\n",
    "    total_time_seconds = end_time - start_time\n",
    "    if total_time_seconds < 60:\n",
    "        print(f\"Total training time: {total_time_seconds:.2f} seconds\")\n",
    "    else:\n",
    "        total_time_minutes = total_time_seconds / 60\n",
    "        print(f\"Total training time: {total_time_minutes:.2f} minutes\")\n",
    "    \n",
    "    model.load_state_dict(best_model_wts)\n",
    "    # save trained model\n",
    "\n",
    "    save_dir = '../trained_models/'\n",
    "    if not os.path.exists(save_dir):\n",
    "        os.makedirs(save_dir)\n",
    "\n",
    "    torch.save(model.state_dict(), f'{save_dir}{model_name}.pth')\n",
    "\n",
    "    return model, train_losses, val_losses, train_acc, val_acc\n"
   ]
  },
  {
   "cell_type": "code",
   "execution_count": 11,
   "metadata": {},
   "outputs": [
    {
     "name": "stdout",
     "output_type": "stream",
     "text": [
      "Using mps device\n",
      "Loading CIFAR100 dataset...\n",
      "Files already downloaded and verified\n",
      "Files already downloaded and verified\n"
     ]
    }
   ],
   "source": [
    "# Set device\n",
    "device = set_device()\n",
    "\n",
    "# Load data\n",
    "train_loader, val_loader, test_loader, num_classes, default_image_size = data_loader(dataset, batch_size, image_size)\n",
    "\n",
    "patch_embed = PatchEmbedding(\n",
    "    image_size=image_size,\n",
    "    patch_size=patch_size,\n",
    "    in_channels=in_channels,\n",
    "    embed_dim=projection_dim\n",
    ")\n",
    "\n",
    "# Instantiate the classes\n",
    "attention = Attention(dim=projection_dim, heads=num_heads, dim_head=projection_dim // num_heads)\n",
    "mlp = MLP(in_features=projection_dim, hidden_features=transformer_units[0], out_features=transformer_units[1])\n",
    "transformer_encoder_block = TransformerEncoderBlock(dim=projection_dim, heads=num_heads, dim_head=projection_dim // num_heads, mlp_dim=transformer_units[0])"
   ]
  },
  {
   "cell_type": "code",
   "execution_count": 12,
   "metadata": {},
   "outputs": [
    {
     "name": "stderr",
     "output_type": "stream",
     "text": [
      "Epoch 1/50 [Training]: 100%|██████████| 157/157 [00:55<00:00,  2.84it/s]\n",
      "Epoch 1/50 [Validation]: 100%|██████████| 40/40 [00:30<00:00,  1.32it/s]\n"
     ]
    },
    {
     "name": "stdout",
     "output_type": "stream",
     "text": [
      "Epoch 1/50 - Train Loss: 4.3498, Train Acc: 0.0351, Val Loss: 4.2139, Val Acc: 0.0522\n"
     ]
    },
    {
     "name": "stderr",
     "output_type": "stream",
     "text": [
      "Epoch 2/50 [Training]: 100%|██████████| 157/157 [00:54<00:00,  2.89it/s]\n",
      "Epoch 2/50 [Validation]: 100%|██████████| 40/40 [00:30<00:00,  1.32it/s]\n"
     ]
    },
    {
     "name": "stdout",
     "output_type": "stream",
     "text": [
      "Epoch 2/50 - Train Loss: 4.1529, Train Acc: 0.0569, Val Loss: 4.0809, Val Acc: 0.0605\n"
     ]
    },
    {
     "name": "stderr",
     "output_type": "stream",
     "text": [
      "Epoch 3/50 [Training]: 100%|██████████| 157/157 [00:54<00:00,  2.86it/s]\n",
      "Epoch 3/50 [Validation]: 100%|██████████| 40/40 [00:30<00:00,  1.32it/s]\n"
     ]
    },
    {
     "name": "stdout",
     "output_type": "stream",
     "text": [
      "Epoch 3/50 - Train Loss: 4.0455, Train Acc: 0.0715, Val Loss: 3.9832, Val Acc: 0.0835\n"
     ]
    },
    {
     "name": "stderr",
     "output_type": "stream",
     "text": [
      "Epoch 4/50 [Training]: 100%|██████████| 157/157 [00:54<00:00,  2.89it/s]\n",
      "Epoch 4/50 [Validation]: 100%|██████████| 40/40 [00:30<00:00,  1.31it/s]\n"
     ]
    },
    {
     "name": "stdout",
     "output_type": "stream",
     "text": [
      "Epoch 4/50 - Train Loss: 3.9657, Train Acc: 0.0834, Val Loss: 3.9148, Val Acc: 0.0901\n"
     ]
    },
    {
     "name": "stderr",
     "output_type": "stream",
     "text": [
      "Epoch 5/50 [Training]: 100%|██████████| 157/157 [00:54<00:00,  2.89it/s]\n",
      "Epoch 5/50 [Validation]: 100%|██████████| 40/40 [00:30<00:00,  1.32it/s]\n"
     ]
    },
    {
     "name": "stdout",
     "output_type": "stream",
     "text": [
      "Epoch 5/50 - Train Loss: 3.8939, Train Acc: 0.0937, Val Loss: 3.8804, Val Acc: 0.1000\n"
     ]
    },
    {
     "name": "stderr",
     "output_type": "stream",
     "text": [
      "Epoch 6/50 [Training]: 100%|██████████| 157/157 [00:54<00:00,  2.89it/s]\n",
      "Epoch 6/50 [Validation]: 100%|██████████| 40/40 [00:30<00:00,  1.29it/s]\n"
     ]
    },
    {
     "name": "stdout",
     "output_type": "stream",
     "text": [
      "Epoch 6/50 - Train Loss: 3.8203, Train Acc: 0.1041, Val Loss: 3.8153, Val Acc: 0.1106\n"
     ]
    },
    {
     "name": "stderr",
     "output_type": "stream",
     "text": [
      "Epoch 7/50 [Training]: 100%|██████████| 157/157 [00:55<00:00,  2.84it/s]\n",
      "Epoch 7/50 [Validation]: 100%|██████████| 40/40 [00:30<00:00,  1.30it/s]\n"
     ]
    },
    {
     "name": "stdout",
     "output_type": "stream",
     "text": [
      "Epoch 7/50 - Train Loss: 3.7747, Train Acc: 0.1118, Val Loss: 3.7337, Val Acc: 0.1211\n"
     ]
    },
    {
     "name": "stderr",
     "output_type": "stream",
     "text": [
      "Epoch 8/50 [Training]: 100%|██████████| 157/157 [00:55<00:00,  2.85it/s]\n",
      "Epoch 8/50 [Validation]: 100%|██████████| 40/40 [00:31<00:00,  1.26it/s]\n"
     ]
    },
    {
     "name": "stdout",
     "output_type": "stream",
     "text": [
      "Epoch 8/50 - Train Loss: 3.7262, Train Acc: 0.1223, Val Loss: 3.7281, Val Acc: 0.1266\n"
     ]
    },
    {
     "name": "stderr",
     "output_type": "stream",
     "text": [
      "Epoch 9/50 [Training]: 100%|██████████| 157/157 [01:03<00:00,  2.47it/s]\n",
      "Epoch 9/50 [Validation]: 100%|██████████| 40/40 [00:30<00:00,  1.31it/s]\n"
     ]
    },
    {
     "name": "stdout",
     "output_type": "stream",
     "text": [
      "Epoch 9/50 - Train Loss: 3.6867, Train Acc: 0.1257, Val Loss: 3.7129, Val Acc: 0.1287\n"
     ]
    },
    {
     "name": "stderr",
     "output_type": "stream",
     "text": [
      "Epoch 10/50 [Training]: 100%|██████████| 157/157 [00:54<00:00,  2.86it/s]\n",
      "Epoch 10/50 [Validation]: 100%|██████████| 40/40 [00:30<00:00,  1.31it/s]\n"
     ]
    },
    {
     "name": "stdout",
     "output_type": "stream",
     "text": [
      "Epoch 10/50 - Train Loss: 3.6446, Train Acc: 0.1325, Val Loss: 3.6341, Val Acc: 0.1404\n"
     ]
    },
    {
     "name": "stderr",
     "output_type": "stream",
     "text": [
      "Epoch 11/50 [Training]: 100%|██████████| 157/157 [00:54<00:00,  2.87it/s]\n",
      "Epoch 11/50 [Validation]: 100%|██████████| 40/40 [00:30<00:00,  1.32it/s]\n"
     ]
    },
    {
     "name": "stdout",
     "output_type": "stream",
     "text": [
      "Epoch 11/50 - Train Loss: 3.6052, Train Acc: 0.1396, Val Loss: 3.6365, Val Acc: 0.1423\n"
     ]
    },
    {
     "name": "stderr",
     "output_type": "stream",
     "text": [
      "Epoch 12/50 [Training]: 100%|██████████| 157/157 [00:54<00:00,  2.89it/s]\n",
      "Epoch 12/50 [Validation]: 100%|██████████| 40/40 [00:30<00:00,  1.31it/s]\n"
     ]
    },
    {
     "name": "stdout",
     "output_type": "stream",
     "text": [
      "Epoch 12/50 - Train Loss: 3.5692, Train Acc: 0.1485, Val Loss: 3.6028, Val Acc: 0.1496\n"
     ]
    },
    {
     "name": "stderr",
     "output_type": "stream",
     "text": [
      "Epoch 13/50 [Training]: 100%|██████████| 157/157 [00:56<00:00,  2.79it/s]\n",
      "Epoch 13/50 [Validation]: 100%|██████████| 40/40 [00:30<00:00,  1.30it/s]\n"
     ]
    },
    {
     "name": "stdout",
     "output_type": "stream",
     "text": [
      "Epoch 13/50 - Train Loss: 3.5357, Train Acc: 0.1535, Val Loss: 3.5400, Val Acc: 0.1607\n"
     ]
    },
    {
     "name": "stderr",
     "output_type": "stream",
     "text": [
      "Epoch 14/50 [Training]: 100%|██████████| 157/157 [00:54<00:00,  2.86it/s]\n",
      "Epoch 14/50 [Validation]: 100%|██████████| 40/40 [00:30<00:00,  1.32it/s]\n"
     ]
    },
    {
     "name": "stdout",
     "output_type": "stream",
     "text": [
      "Epoch 14/50 - Train Loss: 3.5118, Train Acc: 0.1588, Val Loss: 3.5169, Val Acc: 0.1688\n"
     ]
    },
    {
     "name": "stderr",
     "output_type": "stream",
     "text": [
      "Epoch 15/50 [Training]: 100%|██████████| 157/157 [00:54<00:00,  2.86it/s]\n",
      "Epoch 15/50 [Validation]: 100%|██████████| 40/40 [00:30<00:00,  1.31it/s]\n"
     ]
    },
    {
     "name": "stdout",
     "output_type": "stream",
     "text": [
      "Epoch 15/50 - Train Loss: 3.4835, Train Acc: 0.1634, Val Loss: 3.5204, Val Acc: 0.1634\n"
     ]
    },
    {
     "name": "stderr",
     "output_type": "stream",
     "text": [
      "Epoch 16/50 [Training]: 100%|██████████| 157/157 [00:54<00:00,  2.86it/s]\n",
      "Epoch 16/50 [Validation]: 100%|██████████| 40/40 [00:30<00:00,  1.32it/s]\n"
     ]
    },
    {
     "name": "stdout",
     "output_type": "stream",
     "text": [
      "Epoch 16/50 - Train Loss: 3.4567, Train Acc: 0.1673, Val Loss: 3.5087, Val Acc: 0.1657\n"
     ]
    },
    {
     "name": "stderr",
     "output_type": "stream",
     "text": [
      "Epoch 17/50 [Training]: 100%|██████████| 157/157 [00:54<00:00,  2.87it/s]\n",
      "Epoch 17/50 [Validation]: 100%|██████████| 40/40 [00:30<00:00,  1.30it/s]\n"
     ]
    },
    {
     "name": "stdout",
     "output_type": "stream",
     "text": [
      "Epoch 17/50 - Train Loss: 3.4361, Train Acc: 0.1688, Val Loss: 3.4642, Val Acc: 0.1768\n"
     ]
    },
    {
     "name": "stderr",
     "output_type": "stream",
     "text": [
      "Epoch 18/50 [Training]: 100%|██████████| 157/157 [00:56<00:00,  2.80it/s]\n",
      "Epoch 18/50 [Validation]: 100%|██████████| 40/40 [00:30<00:00,  1.31it/s]\n"
     ]
    },
    {
     "name": "stdout",
     "output_type": "stream",
     "text": [
      "Epoch 18/50 - Train Loss: 3.3993, Train Acc: 0.1783, Val Loss: 3.4248, Val Acc: 0.1838\n"
     ]
    },
    {
     "name": "stderr",
     "output_type": "stream",
     "text": [
      "Epoch 19/50 [Training]: 100%|██████████| 157/157 [00:54<00:00,  2.88it/s]\n",
      "Epoch 19/50 [Validation]: 100%|██████████| 40/40 [00:30<00:00,  1.32it/s]\n"
     ]
    },
    {
     "name": "stdout",
     "output_type": "stream",
     "text": [
      "Epoch 19/50 - Train Loss: 3.3827, Train Acc: 0.1794, Val Loss: 3.4455, Val Acc: 0.1752\n"
     ]
    },
    {
     "name": "stderr",
     "output_type": "stream",
     "text": [
      "Epoch 20/50 [Training]: 100%|██████████| 157/157 [00:54<00:00,  2.88it/s]\n",
      "Epoch 20/50 [Validation]: 100%|██████████| 40/40 [00:30<00:00,  1.32it/s]\n"
     ]
    },
    {
     "name": "stdout",
     "output_type": "stream",
     "text": [
      "Epoch 20/50 - Train Loss: 3.3642, Train Acc: 0.1840, Val Loss: 3.4393, Val Acc: 0.1790\n"
     ]
    },
    {
     "name": "stderr",
     "output_type": "stream",
     "text": [
      "Epoch 21/50 [Training]: 100%|██████████| 157/157 [00:54<00:00,  2.88it/s]\n",
      "Epoch 21/50 [Validation]: 100%|██████████| 40/40 [00:30<00:00,  1.32it/s]\n"
     ]
    },
    {
     "name": "stdout",
     "output_type": "stream",
     "text": [
      "Epoch 21/50 - Train Loss: 3.3529, Train Acc: 0.1843, Val Loss: 3.3979, Val Acc: 0.1823\n"
     ]
    },
    {
     "name": "stderr",
     "output_type": "stream",
     "text": [
      "Epoch 22/50 [Training]: 100%|██████████| 157/157 [00:54<00:00,  2.89it/s]\n",
      "Epoch 22/50 [Validation]: 100%|██████████| 40/40 [00:30<00:00,  1.31it/s]\n"
     ]
    },
    {
     "name": "stdout",
     "output_type": "stream",
     "text": [
      "Epoch 22/50 - Train Loss: 3.3354, Train Acc: 0.1883, Val Loss: 3.3779, Val Acc: 0.1929\n"
     ]
    },
    {
     "name": "stderr",
     "output_type": "stream",
     "text": [
      "Epoch 23/50 [Training]: 100%|██████████| 157/157 [00:54<00:00,  2.89it/s]\n",
      "Epoch 23/50 [Validation]: 100%|██████████| 40/40 [00:30<00:00,  1.32it/s]\n"
     ]
    },
    {
     "name": "stdout",
     "output_type": "stream",
     "text": [
      "Epoch 23/50 - Train Loss: 3.3128, Train Acc: 0.1906, Val Loss: 3.4283, Val Acc: 0.1867\n"
     ]
    },
    {
     "name": "stderr",
     "output_type": "stream",
     "text": [
      "Epoch 24/50 [Training]: 100%|██████████| 157/157 [00:54<00:00,  2.89it/s]\n",
      "Epoch 24/50 [Validation]: 100%|██████████| 40/40 [00:30<00:00,  1.31it/s]\n"
     ]
    },
    {
     "name": "stdout",
     "output_type": "stream",
     "text": [
      "Epoch 24/50 - Train Loss: 3.2942, Train Acc: 0.1931, Val Loss: 3.3594, Val Acc: 0.1949\n"
     ]
    },
    {
     "name": "stderr",
     "output_type": "stream",
     "text": [
      "Epoch 25/50 [Training]: 100%|██████████| 157/157 [00:54<00:00,  2.89it/s]\n",
      "Epoch 25/50 [Validation]: 100%|██████████| 40/40 [00:30<00:00,  1.31it/s]\n"
     ]
    },
    {
     "name": "stdout",
     "output_type": "stream",
     "text": [
      "Epoch 25/50 - Train Loss: 3.2765, Train Acc: 0.1970, Val Loss: 3.3782, Val Acc: 0.1932\n"
     ]
    },
    {
     "name": "stderr",
     "output_type": "stream",
     "text": [
      "Epoch 26/50 [Training]: 100%|██████████| 157/157 [00:56<00:00,  2.76it/s]\n",
      "Epoch 26/50 [Validation]: 100%|██████████| 40/40 [00:30<00:00,  1.30it/s]\n"
     ]
    },
    {
     "name": "stdout",
     "output_type": "stream",
     "text": [
      "Epoch 26/50 - Train Loss: 3.2621, Train Acc: 0.2005, Val Loss: 3.3339, Val Acc: 0.1992\n"
     ]
    },
    {
     "name": "stderr",
     "output_type": "stream",
     "text": [
      "Epoch 27/50 [Training]: 100%|██████████| 157/157 [00:56<00:00,  2.79it/s]\n",
      "Epoch 27/50 [Validation]: 100%|██████████| 40/40 [00:30<00:00,  1.31it/s]\n"
     ]
    },
    {
     "name": "stdout",
     "output_type": "stream",
     "text": [
      "Epoch 27/50 - Train Loss: 3.2481, Train Acc: 0.2037, Val Loss: 3.3465, Val Acc: 0.1992\n"
     ]
    },
    {
     "name": "stderr",
     "output_type": "stream",
     "text": [
      "Epoch 28/50 [Training]: 100%|██████████| 157/157 [00:56<00:00,  2.79it/s]\n",
      "Epoch 28/50 [Validation]: 100%|██████████| 40/40 [00:30<00:00,  1.30it/s]\n"
     ]
    },
    {
     "name": "stdout",
     "output_type": "stream",
     "text": [
      "Epoch 28/50 - Train Loss: 3.2324, Train Acc: 0.2034, Val Loss: 3.3528, Val Acc: 0.1978\n"
     ]
    },
    {
     "name": "stderr",
     "output_type": "stream",
     "text": [
      "Epoch 29/50 [Training]: 100%|██████████| 157/157 [00:56<00:00,  2.79it/s]\n",
      "Epoch 29/50 [Validation]: 100%|██████████| 40/40 [00:30<00:00,  1.30it/s]\n"
     ]
    },
    {
     "name": "stdout",
     "output_type": "stream",
     "text": [
      "Epoch 29/50 - Train Loss: 3.2233, Train Acc: 0.2062, Val Loss: 3.3182, Val Acc: 0.2016\n"
     ]
    },
    {
     "name": "stderr",
     "output_type": "stream",
     "text": [
      "Epoch 30/50 [Training]: 100%|██████████| 157/157 [00:56<00:00,  2.80it/s]\n",
      "Epoch 30/50 [Validation]: 100%|██████████| 40/40 [00:30<00:00,  1.31it/s]\n"
     ]
    },
    {
     "name": "stdout",
     "output_type": "stream",
     "text": [
      "Epoch 30/50 - Train Loss: 3.1982, Train Acc: 0.2115, Val Loss: 3.3191, Val Acc: 0.2085\n"
     ]
    },
    {
     "name": "stderr",
     "output_type": "stream",
     "text": [
      "Epoch 31/50 [Training]: 100%|██████████| 157/157 [00:56<00:00,  2.79it/s]\n",
      "Epoch 31/50 [Validation]: 100%|██████████| 40/40 [00:30<00:00,  1.31it/s]\n"
     ]
    },
    {
     "name": "stdout",
     "output_type": "stream",
     "text": [
      "Epoch 31/50 - Train Loss: 3.1972, Train Acc: 0.2086, Val Loss: 3.2859, Val Acc: 0.2047\n"
     ]
    },
    {
     "name": "stderr",
     "output_type": "stream",
     "text": [
      "Epoch 32/50 [Training]: 100%|██████████| 157/157 [00:56<00:00,  2.79it/s]\n",
      "Epoch 32/50 [Validation]: 100%|██████████| 40/40 [00:30<00:00,  1.31it/s]\n"
     ]
    },
    {
     "name": "stdout",
     "output_type": "stream",
     "text": [
      "Epoch 32/50 - Train Loss: 3.1802, Train Acc: 0.2155, Val Loss: 3.2967, Val Acc: 0.2044\n"
     ]
    },
    {
     "name": "stderr",
     "output_type": "stream",
     "text": [
      "Epoch 33/50 [Training]: 100%|██████████| 157/157 [00:56<00:00,  2.80it/s]\n",
      "Epoch 33/50 [Validation]: 100%|██████████| 40/40 [00:30<00:00,  1.31it/s]\n"
     ]
    },
    {
     "name": "stdout",
     "output_type": "stream",
     "text": [
      "Epoch 33/50 - Train Loss: 3.1589, Train Acc: 0.2218, Val Loss: 3.2820, Val Acc: 0.2085\n"
     ]
    },
    {
     "name": "stderr",
     "output_type": "stream",
     "text": [
      "Epoch 34/50 [Training]: 100%|██████████| 157/157 [00:56<00:00,  2.80it/s]\n",
      "Epoch 34/50 [Validation]: 100%|██████████| 40/40 [00:30<00:00,  1.30it/s]\n"
     ]
    },
    {
     "name": "stdout",
     "output_type": "stream",
     "text": [
      "Epoch 34/50 - Train Loss: 3.1634, Train Acc: 0.2164, Val Loss: 3.2673, Val Acc: 0.2167\n"
     ]
    },
    {
     "name": "stderr",
     "output_type": "stream",
     "text": [
      "Epoch 35/50 [Training]: 100%|██████████| 157/157 [00:54<00:00,  2.88it/s]\n",
      "Epoch 35/50 [Validation]: 100%|██████████| 40/40 [00:30<00:00,  1.31it/s]\n"
     ]
    },
    {
     "name": "stdout",
     "output_type": "stream",
     "text": [
      "Epoch 35/50 - Train Loss: 3.1367, Train Acc: 0.2266, Val Loss: 3.2433, Val Acc: 0.2124\n"
     ]
    },
    {
     "name": "stderr",
     "output_type": "stream",
     "text": [
      "Epoch 36/50 [Training]: 100%|██████████| 157/157 [00:54<00:00,  2.88it/s]\n",
      "Epoch 36/50 [Validation]: 100%|██████████| 40/40 [00:30<00:00,  1.31it/s]\n"
     ]
    },
    {
     "name": "stdout",
     "output_type": "stream",
     "text": [
      "Epoch 36/50 - Train Loss: 3.1275, Train Acc: 0.2238, Val Loss: 3.2819, Val Acc: 0.2091\n"
     ]
    },
    {
     "name": "stderr",
     "output_type": "stream",
     "text": [
      "Epoch 37/50 [Training]: 100%|██████████| 157/157 [00:54<00:00,  2.88it/s]\n",
      "Epoch 37/50 [Validation]: 100%|██████████| 40/40 [00:30<00:00,  1.31it/s]\n"
     ]
    },
    {
     "name": "stdout",
     "output_type": "stream",
     "text": [
      "Epoch 37/50 - Train Loss: 3.1121, Train Acc: 0.2300, Val Loss: 3.2363, Val Acc: 0.2208\n"
     ]
    },
    {
     "name": "stderr",
     "output_type": "stream",
     "text": [
      "Epoch 38/50 [Training]: 100%|██████████| 157/157 [00:54<00:00,  2.88it/s]\n",
      "Epoch 38/50 [Validation]: 100%|██████████| 40/40 [00:30<00:00,  1.31it/s]\n"
     ]
    },
    {
     "name": "stdout",
     "output_type": "stream",
     "text": [
      "Epoch 38/50 - Train Loss: 3.1016, Train Acc: 0.2295, Val Loss: 3.2384, Val Acc: 0.2237\n"
     ]
    },
    {
     "name": "stderr",
     "output_type": "stream",
     "text": [
      "Epoch 39/50 [Training]: 100%|██████████| 157/157 [00:54<00:00,  2.88it/s]\n",
      "Epoch 39/50 [Validation]: 100%|██████████| 40/40 [00:31<00:00,  1.29it/s]\n"
     ]
    },
    {
     "name": "stdout",
     "output_type": "stream",
     "text": [
      "Epoch 39/50 - Train Loss: 3.0870, Train Acc: 0.2323, Val Loss: 3.2378, Val Acc: 0.2199\n"
     ]
    },
    {
     "name": "stderr",
     "output_type": "stream",
     "text": [
      "Epoch 40/50 [Training]: 100%|██████████| 157/157 [00:54<00:00,  2.88it/s]\n",
      "Epoch 40/50 [Validation]: 100%|██████████| 40/40 [00:30<00:00,  1.31it/s]\n"
     ]
    },
    {
     "name": "stdout",
     "output_type": "stream",
     "text": [
      "Epoch 40/50 - Train Loss: 3.0788, Train Acc: 0.2311, Val Loss: 3.2613, Val Acc: 0.2160\n"
     ]
    },
    {
     "name": "stderr",
     "output_type": "stream",
     "text": [
      "Epoch 41/50 [Training]: 100%|██████████| 157/157 [00:54<00:00,  2.88it/s]\n",
      "Epoch 41/50 [Validation]: 100%|██████████| 40/40 [00:30<00:00,  1.30it/s]\n"
     ]
    },
    {
     "name": "stdout",
     "output_type": "stream",
     "text": [
      "Epoch 41/50 - Train Loss: 3.0641, Train Acc: 0.2381, Val Loss: 3.2193, Val Acc: 0.2197\n"
     ]
    },
    {
     "name": "stderr",
     "output_type": "stream",
     "text": [
      "Epoch 42/50 [Training]: 100%|██████████| 157/157 [00:56<00:00,  2.77it/s]\n",
      "Epoch 42/50 [Validation]: 100%|██████████| 40/40 [00:30<00:00,  1.31it/s]\n"
     ]
    },
    {
     "name": "stdout",
     "output_type": "stream",
     "text": [
      "Epoch 42/50 - Train Loss: 3.0530, Train Acc: 0.2379, Val Loss: 3.2075, Val Acc: 0.2262\n"
     ]
    },
    {
     "name": "stderr",
     "output_type": "stream",
     "text": [
      "Epoch 43/50 [Training]: 100%|██████████| 157/157 [00:56<00:00,  2.80it/s]\n",
      "Epoch 43/50 [Validation]: 100%|██████████| 40/40 [00:30<00:00,  1.30it/s]\n"
     ]
    },
    {
     "name": "stdout",
     "output_type": "stream",
     "text": [
      "Epoch 43/50 - Train Loss: 3.0443, Train Acc: 0.2419, Val Loss: 3.2317, Val Acc: 0.2251\n"
     ]
    },
    {
     "name": "stderr",
     "output_type": "stream",
     "text": [
      "Epoch 44/50 [Training]: 100%|██████████| 157/157 [00:56<00:00,  2.78it/s]\n",
      "Epoch 44/50 [Validation]: 100%|██████████| 40/40 [00:30<00:00,  1.31it/s]\n"
     ]
    },
    {
     "name": "stdout",
     "output_type": "stream",
     "text": [
      "Epoch 44/50 - Train Loss: 3.0285, Train Acc: 0.2428, Val Loss: 3.2307, Val Acc: 0.2225\n"
     ]
    },
    {
     "name": "stderr",
     "output_type": "stream",
     "text": [
      "Epoch 45/50 [Training]: 100%|██████████| 157/157 [00:56<00:00,  2.80it/s]\n",
      "Epoch 45/50 [Validation]: 100%|██████████| 40/40 [00:30<00:00,  1.30it/s]\n"
     ]
    },
    {
     "name": "stdout",
     "output_type": "stream",
     "text": [
      "Epoch 45/50 - Train Loss: 3.0195, Train Acc: 0.2437, Val Loss: 3.1840, Val Acc: 0.2346\n"
     ]
    },
    {
     "name": "stderr",
     "output_type": "stream",
     "text": [
      "Epoch 46/50 [Training]: 100%|██████████| 157/157 [00:56<00:00,  2.80it/s]\n",
      "Epoch 46/50 [Validation]: 100%|██████████| 40/40 [00:30<00:00,  1.30it/s]\n"
     ]
    },
    {
     "name": "stdout",
     "output_type": "stream",
     "text": [
      "Epoch 46/50 - Train Loss: 2.9997, Train Acc: 0.2485, Val Loss: 3.1832, Val Acc: 0.2353\n"
     ]
    },
    {
     "name": "stderr",
     "output_type": "stream",
     "text": [
      "Epoch 47/50 [Training]: 100%|██████████| 157/157 [00:56<00:00,  2.80it/s]\n",
      "Epoch 47/50 [Validation]: 100%|██████████| 40/40 [00:30<00:00,  1.30it/s]\n"
     ]
    },
    {
     "name": "stdout",
     "output_type": "stream",
     "text": [
      "Epoch 47/50 - Train Loss: 2.9873, Train Acc: 0.2503, Val Loss: 3.2190, Val Acc: 0.2282\n"
     ]
    },
    {
     "name": "stderr",
     "output_type": "stream",
     "text": [
      "Epoch 48/50 [Training]: 100%|██████████| 157/157 [00:55<00:00,  2.80it/s]\n",
      "Epoch 48/50 [Validation]: 100%|██████████| 40/40 [00:30<00:00,  1.30it/s]\n"
     ]
    },
    {
     "name": "stdout",
     "output_type": "stream",
     "text": [
      "Epoch 48/50 - Train Loss: 2.9776, Train Acc: 0.2492, Val Loss: 3.2004, Val Acc: 0.2308\n"
     ]
    },
    {
     "name": "stderr",
     "output_type": "stream",
     "text": [
      "Epoch 49/50 [Training]: 100%|██████████| 157/157 [00:56<00:00,  2.80it/s]\n",
      "Epoch 49/50 [Validation]: 100%|██████████| 40/40 [00:30<00:00,  1.30it/s]\n"
     ]
    },
    {
     "name": "stdout",
     "output_type": "stream",
     "text": [
      "Epoch 49/50 - Train Loss: 2.9789, Train Acc: 0.2538, Val Loss: 3.1990, Val Acc: 0.2320\n"
     ]
    },
    {
     "name": "stderr",
     "output_type": "stream",
     "text": [
      "Epoch 50/50 [Training]: 100%|██████████| 157/157 [00:55<00:00,  2.80it/s]\n",
      "Epoch 50/50 [Validation]: 100%|██████████| 40/40 [00:30<00:00,  1.30it/s]"
     ]
    },
    {
     "name": "stdout",
     "output_type": "stream",
     "text": [
      "Epoch 50/50 - Train Loss: 2.9517, Train Acc: 0.2569, Val Loss: 3.2108, Val Acc: 0.2322\n",
      "Total training time: 71.70 minutes\n"
     ]
    },
    {
     "name": "stderr",
     "output_type": "stream",
     "text": [
      "\n"
     ]
    }
   ],
   "source": [
    "# Initialize model\n",
    "model = VisionTransformer(\n",
    "    image_size=image_size,\n",
    "    patch_size=patch_size,\n",
    "    in_channels=in_channels,\n",
    "    embed_dim=projection_dim,\n",
    "    depth=transformer_layers,\n",
    "    heads=num_heads,\n",
    "    mlp_dim=mlp_head_units[0],\n",
    "    dropout=dropout,\n",
    "    num_classes=num_classes,\n",
    ").to(device)\n",
    "\n",
    "# Print model summary\n",
    "# summary(model.cpu(), input_size=(in_channels, image_size, image_size))\n",
    "\n",
    "# Define loss function and optimizer\n",
    "criterion = nn.CrossEntropyLoss()\n",
    "optimizer = optim.Adam(model.parameters(), lr=learning_rate, weight_decay=weight_decay)\n",
    "\n",
    "scheduler = ReduceLROnPlateau(optimizer, 'min', patience=patience_value, factor=0.5, verbose=True)\n",
    "\n",
    "# Train model\n",
    "model, train_losses, val_losses, train_acc, val_acc = train(model, train_loader, val_loader, criterion, optimizer, device, model_name, epochs=num_epochs, scheduler=scheduler, patience=patience_value)"
   ]
  },
  {
   "cell_type": "code",
   "execution_count": 13,
   "metadata": {},
   "outputs": [],
   "source": [
    "# create directory to save the plots\n",
    "plot_dir = '../notebooks/plots/vit/'\n",
    "if not os.path.exists(plot_dir):\n",
    "    os.makedirs(plot_dir)"
   ]
  },
  {
   "cell_type": "code",
   "execution_count": 14,
   "metadata": {},
   "outputs": [
    {
     "data": {
      "image/png": "[encoded data removed]",
      "text/plain": [
       "<Figure size 600x400 with 1 Axes>"
      ]
     },
     "metadata": {},
     "output_type": "display_data"
    },
    {
     "data": {
      "text/plain": [
       "<Figure size 640x480 with 0 Axes>"
      ]
     },
     "metadata": {},
     "output_type": "display_data"
    }
   ],
   "source": [
    "# Plot losses\n",
    "plt.figure(figsize=(6, 4))\n",
    "plt.title(f'{model_name} Loss')\n",
    "plt.plot(train_losses, label='Train')\n",
    "plt.plot(val_losses, label='Validation')\n",
    "plt.ylabel('Loss')\n",
    "plt.xlabel('Epoch')\n",
    "plt.legend()\n",
    "# save the plot\n",
    "plt.savefig(f'{plot_dir}{model_name}_basic_loss.pdf', format=\"pdf\")\n",
    "plt.show()\n"
   ]
  },
  {
   "cell_type": "code",
   "execution_count": 15,
   "metadata": {},
   "outputs": [
    {
     "data": {
      "image/png": "[encoded data removed]",
      "text/plain": [
       "<Figure size 600x400 with 1 Axes>"
      ]
     },
     "metadata": {},
     "output_type": "display_data"
    },
    {
     "data": {
      "text/plain": [
       "<Figure size 640x480 with 0 Axes>"
      ]
     },
     "metadata": {},
     "output_type": "display_data"
    }
   ],
   "source": [
    "# Plot accuracies\n",
    "plt.figure(figsize=(6, 4))\n",
    "plt.title(f'{model_name} Accuracy')\n",
    "# move list to cpu\n",
    "train_acc = [i.cpu() for i in train_acc]\n",
    "val_acc = [i.cpu() for i in val_acc]\n",
    "plt.plot(train_acc, label='Train')\n",
    "plt.plot(val_acc, label='Validation')\n",
    "plt.ylabel('Accuracy')\n",
    "plt.xlabel('Epoch')\n",
    "plt.legend()\n",
    "# save the plot\n",
    "plt.savefig(f'{plot_dir}{model_name}_basic_acc.pdf', format=\"pdf\")\n",
    "plt.show()\n"
   ]
  },
  {
   "cell_type": "code",
   "execution_count": 6,
   "metadata": {},
   "outputs": [
    {
     "data": {
      "image/png": "[encoded data removed]",
      "text/plain": [
       "<Figure size 600x400 with 1 Axes>"
      ]
     },
     "metadata": {},
     "output_type": "display_data"
    }
   ],
   "source": [
    "# generate random plot to test if plots are saved\n",
    "plt.figure(figsize=(6, 4))\n",
    "plt.title(f'Random')\n",
    "xx = np.random.rand(10)\n",
    "yy = np.random.rand(10)\n",
    "plt.plot(xx, yy, label='Random')\n",
    "plt.ylabel('Random')\n",
    "plt.xlabel('Epoch')\n",
    "plt.legend()\n",
    "# save the plot\n",
    "plt.savefig('random.pdf', format=\"pdf\")\n",
    "plt.show()\n",
    "\n"
   ]
  },
  {
   "cell_type": "code",
   "execution_count": 16,
   "metadata": {},
   "outputs": [
    {
     "name": "stderr",
     "output_type": "stream",
     "text": [
      "Testing: 40it [00:22,  1.77it/s]"
     ]
    },
    {
     "name": "stdout",
     "output_type": "stream",
     "text": [
      "Test accuracy: 0.2567\n"
     ]
    },
    {
     "name": "stderr",
     "output_type": "stream",
     "text": [
      "\n"
     ]
    }
   ],
   "source": [
    "# test on the test set\n",
    "\n",
    "# Set model to eval mode\n",
    "model.eval()\n",
    "\n",
    "# Initialize lists to store predictions and labels\n",
    "preds = []\n",
    "labels = []\n",
    "\n",
    "# Turn off gradients\n",
    "with torch.no_grad():\n",
    "    # Iterate over test data\n",
    "    for batch_idx, (data, target) in tqdm(enumerate(test_loader), desc=\"Testing\"):\n",
    "        # Send data to device\n",
    "        data, target = data.to(device), target.to(device)\n",
    "\n",
    "        # Forward pass\n",
    "        output = model(data)\n",
    "\n",
    "        # Get predicted class\n",
    "        pred = output.argmax(dim=1, keepdim=True)\n",
    "\n",
    "        # Save predictions and labels for computing metrics later\n",
    "        preds.extend(pred.cpu().numpy())\n",
    "        labels.extend(target.cpu().numpy())\n",
    "\n",
    "# Print accuracy\n",
    "accuracy = accuracy_score(labels, preds)\n",
    "print(f\"Test accuracy: {accuracy:.4f}\")\n",
    "\n",
    "# Print classification report and confusion matrix\n",
    "# Only print if dataset is not CIFAR100. CIFAR100 has too many classes to print\n",
    "if dataset != \"CIFAR100\":\n",
    "    # Print classification report\n",
    "    print(classification_report(labels, preds))\n",
    "\n",
    "    # Print confusion matrix\n",
    "    cm = confusion_matrix(labels, preds)\n",
    "\n",
    "    # Normalize the confusion matrix\n",
    "    cm_normalized = cm.astype('float') / cm.sum(axis=1)[:, np.newaxis] * 100  # Convert to percentages\n",
    "\n",
    "    plt.figure(figsize=(6, 6))\n",
    "    sns.heatmap(cm_normalized, annot=True, fmt='.2f', cmap='Blues', cbar=False)\n",
    "    plt.xlabel('Predicted')\n",
    "    plt.ylabel('Actual')\n",
    "    plt.title(f'{model_name} Confusion Matrix (in %)')\n",
    "    plt.show()\n",
    "    # save the plot\n",
    "    plt.savefig(f'{plot_dir}{model_name}_basic_cm.pdf', format=\"pdf\")"
   ]
  },
  {
   "cell_type": "markdown",
   "metadata": {},
   "source": [
    "# Self-supervised View Prediction as Weight Initialization Scheme:"
   ]
  },
  {
   "cell_type": "markdown",
   "metadata": {},
   "source": [
    "Create local and global views"
   ]
  },
  {
   "cell_type": "code",
   "execution_count": 17,
   "metadata": {},
   "outputs": [],
   "source": [
    "def create_views(x, global_ratio=0.5, local_ratio=0.5, strategy=\"random\"):\n",
    "    '''\n",
    "    Function that creates global and local views of an image.\n",
    "\n",
    "    Parameters:\n",
    "        x (Tensor): Input image tensor of shape (B, C, H, W)\n",
    "        global_ratio (float): Fraction of the image to be used for global views\n",
    "        local_ratio (float): Fraction of the image to be used for local views\n",
    "        strategy (str): Strategy to use for local views. Options: \"random\", \"central\", \"jitter\"\n",
    "\n",
    "    Returns:\n",
    "        global_views (list): List of global views\n",
    "        local_views (list): List of local views\n",
    "    '''\n",
    "\n",
    "    B, C, H, W = x.size()\n",
    "    \n",
    "    global_views = []\n",
    "    local_views = []\n",
    "    \n",
    "    # Create 2 Global Views\n",
    "    for _ in range(2):\n",
    "        global_view = F.interpolate(x, scale_factor=global_ratio)\n",
    "        global_view = F.interpolate(global_view, size=(H, W))\n",
    "        global_views.append(global_view)\n",
    "    \n",
    "    # Create 8 Local Views\n",
    "    for _ in range(8):\n",
    "        new_H, new_W = int(H * local_ratio), int(W * local_ratio)\n",
    "        \n",
    "        if strategy == \"random\":\n",
    "            top = random.randint(0, H - new_H)\n",
    "            left = random.randint(0, W - new_W)\n",
    "        elif strategy == \"central\":\n",
    "            top = (H - new_H) // 2\n",
    "            left = (W - new_W) // 2\n",
    "        elif strategy == \"jitter\":\n",
    "            crop_ratio = local_ratio + random.uniform(-0.1, 0.1)  # Adding jitter\n",
    "            new_H_jitter, new_W_jitter = int(H * crop_ratio), int(W * crop_ratio)\n",
    "            top = random.randint(0, H - new_H_jitter)\n",
    "            left = random.randint(0, W - new_W_jitter)\n",
    "        else:\n",
    "            raise ValueError(f\"Unknown local view strategy: {strategy}\")\n",
    "        \n",
    "        local_view = x[:, :, top:top+new_H, left:left+new_W]\n",
    "        local_view_resized = F.interpolate(local_view, scale_factor=local_ratio)\n",
    "        local_view_resized = F.interpolate(local_view_resized, size=(new_H, new_W))\n",
    "        local_views.append(local_view_resized)\n",
    "    \n",
    "    return global_views, local_views\n"
   ]
  },
  {
   "cell_type": "code",
   "execution_count": 18,
   "metadata": {},
   "outputs": [
    {
     "name": "stdout",
     "output_type": "stream",
     "text": [
      "torch.Size([256, 3, 32, 32]) torch.Size([256, 3, 16, 16])\n"
     ]
    },
    {
     "name": "stderr",
     "output_type": "stream",
     "text": [
      "Clipping input data to the valid range for imshow with RGB data ([0..1] for floats or [0..255] for integers).\n",
      "Clipping input data to the valid range for imshow with RGB data ([0..1] for floats or [0..255] for integers).\n",
      "Clipping input data to the valid range for imshow with RGB data ([0..1] for floats or [0..255] for integers).\n",
      "Clipping input data to the valid range for imshow with RGB data ([0..1] for floats or [0..255] for integers).\n",
      "Clipping input data to the valid range for imshow with RGB data ([0..1] for floats or [0..255] for integers).\n",
      "Clipping input data to the valid range for imshow with RGB data ([0..1] for floats or [0..255] for integers).\n",
      "Clipping input data to the valid range for imshow with RGB data ([0..1] for floats or [0..255] for integers).\n",
      "Clipping input data to the valid range for imshow with RGB data ([0..1] for floats or [0..255] for integers).\n",
      "Clipping input data to the valid range for imshow with RGB data ([0..1] for floats or [0..255] for integers).\n",
      "Clipping input data to the valid range for imshow with RGB data ([0..1] for floats or [0..255] for integers).\n"
     ]
    },
    {
     "data": {
      "image/png": "[encoded data removed]",
      "text/plain": [
       "<Figure size 1600x800 with 16 Axes>"
      ]
     },
     "metadata": {},
     "output_type": "display_data"
    }
   ],
   "source": [
    "# Debug\n",
    "for batch_idx, (data, target) in enumerate(train_loader):\n",
    "    global_views, local_views = create_views(data, global_ratio=0.5, local_ratio=0.5, strategy=\"jitter\")\n",
    "    \n",
    "    # Only print the shapes of the first view in each list for brevity\n",
    "    print(global_views[0].shape, local_views[0].shape)\n",
    "    break\n",
    "\n",
    "# Visualization\n",
    "num_global_views = len(global_views)\n",
    "num_local_views = len(local_views)\n",
    "\n",
    "fig, ax = plt.subplots(2, max(num_global_views, num_local_views), figsize=(16, 8))\n",
    "\n",
    "# Visualize global views\n",
    "for i in range(num_global_views):\n",
    "    global_view_img = global_views[i][0].permute(1, 2, 0).cpu().numpy()\n",
    "    ax[0, i].imshow(global_view_img)\n",
    "    ax[0, i].set_title(f\"Global view {i+1}\")\n",
    "\n",
    "# Visualize local views\n",
    "for i in range(num_local_views):\n",
    "    local_view_img = local_views[i][0].permute(1, 2, 0).cpu().numpy()\n",
    "    ax[1, i].imshow(local_view_img)\n",
    "    ax[1, i].set_title(f\"Local view {i+1}\")\n",
    "\n",
    "# If there are more local views than global views, hide the remaining axes\n",
    "for i in range(num_global_views, num_local_views):\n",
    "    ax[0, i].axis(\"off\")\n",
    "\n",
    "plt.tight_layout()\n",
    "plt.show()\n"
   ]
  },
  {
   "cell_type": "markdown",
   "metadata": {},
   "source": [
    "Create DynamicPositionEmbeddings"
   ]
  },
  {
   "cell_type": "code",
   "execution_count": 19,
   "metadata": {},
   "outputs": [],
   "source": [
    "class DynamicPositionEmbedding(nn.Module):\n",
    "    '''\n",
    "    Class that creates dynamic position embeddings for images using sinusoidal positional encodings.\n",
    "\n",
    "    Parameters:\n",
    "        channels (int): Number of channels\n",
    "        num_patches (int): Number of patches\n",
    "        embed_dim (int): Embedding dimension\n",
    "\n",
    "    Returns:\n",
    "        x (Tensor): Output of dynamic position embedding layer\n",
    "    '''\n",
    "\n",
    "    def __init__(self, num_patches, embed_dim):\n",
    "        super(DynamicPositionEmbedding, self).__init__()\n",
    "\n",
    "        self.pos_embedding = self.create_pos_embedding(num_patches + 1, embed_dim)\n",
    "\n",
    "\n",
    "    def create_pos_embedding(self, num_patches, embed_dim):\n",
    "        position = torch.arange(0, num_patches, dtype=torch.float).unsqueeze(1)\n",
    "        div_term = torch.exp(torch.arange(0, embed_dim, 2).float() * (-math.log(10000.0) / embed_dim))\n",
    "        pos_embedding = torch.zeros(num_patches, embed_dim)\n",
    "        pos_embedding[:, 0::2] = torch.sin(position * div_term)\n",
    "        pos_embedding[:, 1::2] = torch.cos(position * div_term)\n",
    "        pos_embedding = pos_embedding.unsqueeze(0).transpose(0, 1)\n",
    "        return nn.Parameter(pos_embedding, requires_grad=False)\n",
    "\n",
    "    def forward(self, x):\n",
    "        x = x + self.pos_embedding[:x.size(1)].squeeze(1) # Add position embeddings to both patch embeddings and CLS token.\n",
    "        return x"
   ]
  },
  {
   "cell_type": "code",
   "execution_count": 20,
   "metadata": {},
   "outputs": [],
   "source": [
    "# # Debug\n",
    "# # Create an instance of PatchEmbedding and DynamicPositionEmbedding\n",
    "# patch_embed = PatchEmbedding(image_size=28, patch_size=7, in_channels=1, embed_dim=4)  # Assuming these parameters\n",
    "# dynamic_pos_embed = DynamicPositionEmbedding(num_patches=17, embed_dim=4)\n",
    "\n",
    "# x = torch.randn(1, 1, 28, 28)\n",
    "# print(f\"Input shape: {x.shape}\")\n",
    "# x = patch_embed(x)\n",
    "# print(f\"Patch embedding output shape: {x.shape}\")\n",
    "# x = dynamic_pos_embed(x)\n",
    "# print(f\"Dynamic position embedding output shape: {x.shape}\")\n",
    "\n",
    "\n",
    "# # Test the flow\n",
    "# x = torch.randn(1, 1, 28, 28)\n",
    "# print(f\"Input shape: {x.shape}\")\n",
    "# x = patch_embed(x)\n",
    "# print(f\"Patch embedding output shape: {x.shape}\")\n",
    "# x = dynamic_pos_embed(x)\n",
    "# print(f\"Dynamic position embedding output shape: {x.shape}\")"
   ]
  },
  {
   "cell_type": "markdown",
   "metadata": {},
   "source": [
    "Define EMA class for exponential moving average of model weights for the teacher ViT"
   ]
  },
  {
   "cell_type": "code",
   "execution_count": 21,
   "metadata": {},
   "outputs": [],
   "source": [
    "class EMA:\n",
    "    '''\n",
    "    Class to update and maintain the Exponential Moving Average (EMA) of model parameters.\n",
    "    \n",
    "    Parameters:\n",
    "        model (nn.Module): PyTorch model for which the EMA needs to be maintained.\n",
    "        decay (float): Decay rate for the moving average. Value should be between 0 and 1.\n",
    "                       Higher values give more importance to recent model parameters.\n",
    "    \n",
    "    Attributes:\n",
    "        model (nn.Module): PyTorch model.\n",
    "        decay (float): Decay rate for the moving average.\n",
    "        shadow (dict): Dictionary to store the shadow weights.\n",
    "        backup (dict): Dictionary to store the backup of the original model weights.\n",
    "    '''\n",
    "    \n",
    "    def __init__(self, model, ema_decay, num_epochs, optimizer):\n",
    "        self.model = model\n",
    "        self.decay_scheduler = CosineAnnealingLR(optimizer=optimizer, T_max=num_epochs, eta_min=0.001, last_epoch=-1, verbose=False)\n",
    "        self.initial_decay = ema_decay\n",
    "        self.shadow = {}\n",
    "        self.backup = {}\n",
    "\n",
    "        # Initialize the shadow weights with the model parameters\n",
    "        for name, param in model.named_parameters():\n",
    "            self.shadow[name] = param.data.clone()\n",
    "\n",
    "    def apply(self):\n",
    "        \"\"\"\n",
    "        Apply the EMA to the model weights. The model's weights are replaced by the shadow weights.\n",
    "        \"\"\"\n",
    "\n",
    "        # Update decay based on the cosine schedule\n",
    "        self.decay = self.initial_decay + (1 - self.initial_decay) * self.decay_scheduler.get_last_lr()[0]\n",
    "\n",
    "        # Backup current model parameters\n",
    "        for name, param in self.model.named_parameters():\n",
    "            self.backup[name] = param.data.clone()\n",
    "\n",
    "        # Apply EMA to get the shadow weights\n",
    "        for name, param in self.model.named_parameters():\n",
    "            self.shadow[name] = self.decay * self.shadow[name] + (1.0 - self.decay) * param.data\n",
    "            param.data = self.shadow[name]\n",
    "\n",
    "        # Step the scheduler for the next iteration\n",
    "        self.decay_scheduler.step()\n",
    "\n",
    "    def restore(self):\n",
    "        \"\"\"\n",
    "        Restore the model's weights from the backup. This reverts the effects of the `apply` method.\n",
    "        \"\"\"\n",
    "        # Restore model parameters from the backup\n",
    "        for name, param in self.model.named_parameters():\n",
    "            param.data = self.backup[name]"
   ]
  },
  {
   "cell_type": "code",
   "execution_count": 22,
   "metadata": {},
   "outputs": [],
   "source": [
    "def center_and_sharpen(features, sharpen_value=0.5):\n",
    "    '''\n",
    "    Center and sharpen the features.\n",
    "    \n",
    "    Parameters:\n",
    "        features (torch.Tensor): The features tensor.\n",
    "        sharpen_value (float): Value used for sharpening.\n",
    "    \n",
    "    Returns:\n",
    "        torch.Tensor: Centered and sharpened features.\n",
    "    '''\n",
    "    # Centering\n",
    "    centered_features = features - features.mean(dim=0)\n",
    "\n",
    "    # Sharpening\n",
    "    sharpened_features = torch.nn.functional.softmax(centered_features / sharpen_value, dim=1)\n",
    "\n",
    "    return sharpened_features"
   ]
  },
  {
   "cell_type": "markdown",
   "metadata": {},
   "source": [
    "Create the VisionTransformerDPE class and instantiate the teacher ViT and the student ViT"
   ]
  },
  {
   "cell_type": "code",
   "execution_count": 23,
   "metadata": {},
   "outputs": [],
   "source": [
    "class VisionTransformerDPE(nn.Module):\n",
    "    '''\n",
    "    Vision transformer architecture with Dynamic Position Embeddings.\n",
    "\n",
    "    Parameters:\n",
    "        image_size (int): Size of image\n",
    "        patch_size (int): Size of patch\n",
    "        in_channels (int): Number of input channels\n",
    "        embed_dim (int): Embedding dimension\n",
    "        depth (int): Depth\n",
    "        heads (int): Number of heads\n",
    "        mlp_dim (int): Dimension of MLP\n",
    "        dropout (float): Dropout probability\n",
    "        num_classes (int): Number of classes\n",
    "\n",
    "    Returns:\n",
    "        x (Tensor): Output of VisionTransformer\n",
    "    '''\n",
    "    \n",
    "    def __init__(self, \n",
    "                 image_size: int, \n",
    "                 patch_size: int, \n",
    "                 in_channels: int, \n",
    "                 embed_dim: int, \n",
    "                 depth: int, \n",
    "                 heads: int, \n",
    "                 mlp_dim: int,\n",
    "                 num_classes: int, \n",
    "                 dropout: float = 0., \n",
    "                 mlp_head_units = [2048, 1024]):\n",
    "        super().__init__()        \n",
    "        # Patch embedding layer\n",
    "        self.patch_embed = PatchEmbedding(image_size=image_size, patch_size=patch_size, in_channels=in_channels, embed_dim=embed_dim)\n",
    "        # Initializing cls_token and pos_embed with random values\n",
    "        self.cls_token = nn.Parameter(torch.randn(1, 1, embed_dim))        \n",
    "        # Create the Dynamic Positional Embedding layer\n",
    "        num_patches = (image_size // patch_size) ** 2\n",
    "        self.dynamic_pos_embed = DynamicPositionEmbedding(num_patches, embed_dim)\n",
    "        \n",
    "        self.dropout = nn.Dropout(dropout)\n",
    "        self.transformer_encoder = nn.ModuleList([TransformerEncoderBlock(dim=embed_dim, heads=heads, dim_head=embed_dim // heads, mlp_dim=mlp_dim, dropout=dropout) for _ in range(depth)])\n",
    "        self.norm = nn.LayerNorm(embed_dim)\n",
    "        self.mlp_head = nn.Sequential(\n",
    "            nn.Linear(embed_dim, mlp_head_units[0]),\n",
    "            nn.ReLU(),\n",
    "            nn.Dropout(dropout),\n",
    "            nn.Linear(mlp_head_units[0], mlp_head_units[1]),\n",
    "            nn.ReLU(),\n",
    "            nn.Dropout(dropout),\n",
    "            nn.Linear(mlp_head_units[1], num_classes)\n",
    "        )\n",
    "    def forward(self, x):\n",
    "        B = x.shape[0]  # batch_size\n",
    "        x = self.patch_embed(x)\n",
    "        \n",
    "        cls_tokens = repeat(self.cls_token, '() n d -> b n d', b=B)\n",
    "        x = torch.cat((cls_tokens, x), dim=1)\n",
    "        \n",
    "        # Use the DynamicPositionEmbedding for adding the positional embeddings\n",
    "        x = self.dynamic_pos_embed(x)\n",
    "        \n",
    "        x = self.dropout(x)\n",
    "\n",
    "        for transformer_encoder in self.transformer_encoder:\n",
    "            x = transformer_encoder(x)\n",
    "\n",
    "        x = self.norm(x)\n",
    "        x = x[:, 0]  # Take the cls_token representation\n",
    "        x = self.mlp_head(x)\n",
    "\n",
    "        return x\n"
   ]
  },
  {
   "cell_type": "markdown",
   "metadata": {},
   "source": [
    "Define the self-supervised loss"
   ]
  },
  {
   "cell_type": "code",
   "execution_count": 24,
   "metadata": {},
   "outputs": [],
   "source": [
    "class SelfSupervisedLoss(nn.Module):\n",
    "    '''\n",
    "    Implements the self-supervised loss for Vision Transformer as described in \n",
    "    \"How to Train Vision Transformers on Small-scale Datasets\".\n",
    "\n",
    "    This loss combines both global and local views. Specifically, \n",
    "    it computes a loss based on the negative sum of the elementwise product \n",
    "    of the student's outputs and the logarithm of the teacher's outputs.\n",
    "\n",
    "    Attributes:\n",
    "        None\n",
    "\n",
    "    Methods:\n",
    "        forward(student_global, teacher_global, student_locals, teacher_locals): Computes the self-supervised loss.\n",
    "    '''\n",
    "\n",
    "    def __init__(self, temperature=0.5):\n",
    "        super(SelfSupervisedLoss, self).__init__()\n",
    "        self.temperature = temperature\n",
    "\n",
    "    def forward(self, student_global, teacher_global, student_locals, teacher_locals):\n",
    "        '''\n",
    "        Computes the self-supervised loss.\n",
    "\n",
    "        Parameters:\n",
    "        - student_global (torch.Tensor): Global view output from the student network.\n",
    "        - teacher_global (torch.Tensor): Global view output from the teacher network.\n",
    "        - student_locals (List[torch.Tensor]): List of local view outputs from the student network.\n",
    "        - teacher_locals (List[torch.Tensor]): List of local view outputs from the teacher network.\n",
    "\n",
    "        Returns:\n",
    "        - loss (torch.Tensor): Computed self-supervised loss combining both global and local views.\n",
    "        '''\n",
    "\n",
    "        # Temperature-scaled cross-entropy loss\n",
    "        teacher_global = torch.nn.functional.log_softmax(teacher_global / self.temperature, dim=-1)\n",
    "        student_global = torch.nn.functional.softmax(student_global / self.temperature, dim=-1)\n",
    "\n",
    "        # Compute the global view loss component\n",
    "        global_loss = -torch.mean(torch.sum(student_global * teacher_global, dim=-1))\n",
    "\n",
    "        # Compute the local view loss component\n",
    "        teacher_locals = [torch.nn.functional.log_softmax(t_local / self.temperature, dim=-1) for t_local in teacher_locals]\n",
    "        student_locals = [torch.nn.functional.softmax(s_local / self.temperature, dim=-1) for s_local in student_locals]\n",
    "\n",
    "        local_losses = [-torch.mean(torch.sum(s_local * t_local, dim=-1)) for s_local, t_local in zip(student_locals, teacher_locals)]\n",
    "        \n",
    "        # Average the local losses\n",
    "        total_local_loss = sum(local_losses) / len(local_losses)\n",
    "\n",
    "        # Combine the losses\n",
    "        loss = global_loss + total_local_loss\n",
    "        return loss"
   ]
  },
  {
   "cell_type": "markdown",
   "metadata": {},
   "source": [
    "Define the training loops"
   ]
  },
  {
   "cell_type": "markdown",
   "metadata": {},
   "source": [
    "\n",
    "1. **Train the Student (Self-Supervised)**: Using the self-supervised approach, the student model is trained to mimic the teacher's outputs on low-resolution local and global views. During this phase, the student learns inductive biases from the teacher's representations.\n",
    "\n",
    "2. **Fine-tune the Student (Still Self-Supervised)**: Depending on the specifics, there might be additional fine-tuning of the student model within the self-supervised framework to further optimize its performance.\n",
    "\n",
    "3. **Transfer the Student Weights to Standard ViT (Supervised)**: The weights of the student model are then used to initialize a standard Vision Transformer. This ViT is then trained using supervised learning on actual labeled data from the small-scale dataset.\n",
    "\n",
    "This process leverages the inductive biases learned during self-supervised training to improve the training and generalization of the Vision Transformer on small datasets. The teacher model aids in the self-supervised learning, but the weights transferred for supervised fine-tuning are from the student."
   ]
  },
  {
   "cell_type": "code",
   "execution_count": 25,
   "metadata": {},
   "outputs": [],
   "source": [
    "def self_supervised_training(student, teacher, optimizer, ema_updater, epochs, train_loader, val_loader, scheduler, device, criterion):\n",
    "    '''\n",
    "    Train Vision Transformer in a self-supervised manner.\n",
    "    \n",
    "    Parameters:\n",
    "        student (nn.Module): Student Vision Transformer model\n",
    "        teacher (nn.Module): Teacher Vision Transformer model\n",
    "        optimizer (nn.Module): Optimizer\n",
    "        ema_updater (EMA): EMA updater\n",
    "        epochs (int): Number of epochs\n",
    "        train_loader (DataLoader): Training set dataloader\n",
    "        val_loader (DataLoader): Validation set dataloader\n",
    "        scheduler (nn.Module): Learning rate scheduler\n",
    "        device (str): Device to use\n",
    "        criterion (nn.Module): Loss function\n",
    "\n",
    "    Returns:\n",
    "        None\n",
    "    '''\n",
    "    \n",
    "    student.train()\n",
    "    teacher.eval()  # Teacher always in eval mode\n",
    "    loss_fn = SelfSupervisedLoss()\n",
    "    best_val_loss = float('inf')  # Initialize best validation loss to infinity§\n",
    "\n",
    "    # create save directory if it doesn't exist\n",
    "    save_dir = '../trained_models/dino/'\n",
    "    if not os.path.exists(save_dir):\n",
    "        os.makedirs(save_dir)\n",
    "\n",
    "    # Start timer\n",
    "    start_time = time.time()\n",
    "\n",
    "    for epoch in range(epochs):\n",
    "        total_loss = 0.0\n",
    "        for images, _ in tqdm(train_loader, desc=\"Training\"):  # We don't need labels in this phase\n",
    "            images = images.to(device)\n",
    "            \n",
    "            # Create views\n",
    "            global_views, local_views = create_views(images)\n",
    "            \n",
    "            total_view_loss = 0\n",
    "            for i in range(len(global_views)):\n",
    "                global_view = global_views[i].to(device)\n",
    "                local_view = local_views[i].to(device)\n",
    "                \n",
    "                # Forward pass\n",
    "                with torch.no_grad():\n",
    "                    teacher_features = teacher(global_view)\n",
    "                    teacher_features = center_and_sharpen(teacher_features)  # Apply centering and sharpening\n",
    "                    teacher_features = F.normalize(teacher_features, dim=1)\n",
    "\n",
    "\n",
    "                student_global_features, student_local_features = student(global_view), student(local_view)\n",
    "                student_global_features = F.normalize(student_global_features, dim=1)\n",
    "                \n",
    "                # Loss computation for this view\n",
    "                loss = loss_fn(student_global_features, teacher_features, student_local_features, teacher_features)\n",
    "                total_view_loss += loss\n",
    "            \n",
    "            # Average the loss for all views\n",
    "            avg_view_loss = total_view_loss / len(global_views)\n",
    "            total_loss += avg_view_loss.item()\n",
    "            \n",
    "            # Backpropagate based on avg_view_loss\n",
    "            optimizer.zero_grad()\n",
    "            avg_view_loss.backward()\n",
    "            optimizer.step()\n",
    "\n",
    "            # Update teacher with EMA of student weights\n",
    "            ema_updater.apply()\n",
    "\n",
    "        # Average loss for the whole epoch\n",
    "        avg_loss = total_loss / len(train_loader)\n",
    "    \n",
    "        print(f\"Epoch [{epoch+1}/{epochs}] - Training Loss: {avg_loss:.4f}\")\n",
    "\n",
    "        # Use the validation set to adapt the learning rate\n",
    "        with torch.no_grad():\n",
    "            val_loss = 0.0\n",
    "            student.eval()  # Switch student to evaluation mode\n",
    "\n",
    "            for images, labels in tqdm(val_loader, desc=\"Validation\"):\n",
    "                images, labels = images.to(device), labels.to(device)\n",
    "                outputs = student(images)\n",
    "                loss = criterion(outputs, labels)\n",
    "                val_loss += loss.item()\n",
    "\n",
    "            avg_val_loss = val_loss / len(val_loader)\n",
    "            scheduler.step(avg_val_loss)\n",
    "\n",
    "            print(f\"Validation Loss after Epoch [{epoch+1}/{epochs}]: {avg_val_loss:.4f}\")\n",
    "\n",
    "            # Save the model if the validation loss improves\n",
    "            if avg_val_loss < best_val_loss:\n",
    "                best_val_loss = avg_val_loss\n",
    "                torch.save(student.state_dict(), f'{save_dir}{dataset}_self_supervised_best_student_weights.pth')\n",
    "\n",
    "                print(\"Saved improved model with validation loss {:.4f}\".format(avg_val_loss))\n",
    "\n",
    "        student.train()  # Switch student back to training mode after validation\n",
    "\n",
    "    # Record the end time for training\n",
    "    end_time = time.time()\n",
    "    # Calculate the total training time\n",
    "    total_time_seconds = end_time - start_time\n",
    "    if total_time_seconds < 60:\n",
    "        print(f\"Total training time: {total_time_seconds:.2f} seconds\")\n",
    "    else:\n",
    "        total_time_minutes = total_time_seconds / 60\n",
    "        print(f\"Total training time: {total_time_minutes:.2f} minutes\")\n",
    "\n",
    "    # At the end of training, you might want to restore the student's original weights\n",
    "    ema_updater.restore()\n",
    "    print(\"Self-supervised training complete!\")\n"
   ]
  },
  {
   "cell_type": "code",
   "execution_count": 26,
   "metadata": {},
   "outputs": [],
   "source": [
    "def supervised_training(student, optimizer, criterion, num_epochs, train_loader, val_loader, scheduler, device):\n",
    "    '''\n",
    "    Fine-tune the Vision Transformer in a supervised manner.\n",
    "\n",
    "    Parameters:\n",
    "    - student (nn.Module): The student model.\n",
    "    - optimizer (torch.optim.Optimizer): Optimizer for the student model.\n",
    "    - criterion (nn.Module): Loss function.\n",
    "    - num_epochs (int): Number of training epochs.\n",
    "    - train_loader (DataLoader): DataLoader for the training set.\n",
    "    - val_loader (DataLoader): DataLoader for the validation set.\n",
    "    - scheduler: Learning rate scheduler.\n",
    "    - device (torch.device): Device to which tensors will be moved.\n",
    "\n",
    "    Returns:\n",
    "    None\n",
    "    '''\n",
    "    \n",
    "    best_val_loss = float('inf')  # Set the best validation loss to infinity\n",
    "\n",
    "    # create save directory if it doesn't exist\n",
    "    save_dir = '../trained_models/dino/'\n",
    "    if not os.path.exists(save_dir):\n",
    "        os.makedirs(save_dir)\n",
    "\n",
    "    # Start timer\n",
    "    start_time = time.time()\n",
    "\n",
    "    for epoch in range(num_epochs):\n",
    "        student.train()\n",
    "        \n",
    "        total_loss = 0.0\n",
    "        correct = 0\n",
    "        total = 0\n",
    "        \n",
    "        for images, labels in tqdm(train_loader, desc=\"Training\"):\n",
    "            images, labels = images.to(device), labels.to(device)\n",
    "            \n",
    "            # Forward pass\n",
    "            outputs = student(images)\n",
    "            loss = criterion(outputs, labels)\n",
    "            total_loss += loss.item()\n",
    "            \n",
    "            # Compute accuracy\n",
    "            _, predicted = torch.max(outputs.data, 1)\n",
    "            total += labels.size(0)\n",
    "            correct += (predicted == labels).sum().item()\n",
    "            \n",
    "            # Backpropagation\n",
    "            optimizer.zero_grad()\n",
    "            loss.backward()\n",
    "            optimizer.step()\n",
    "            \n",
    "        # Average loss and accuracy\n",
    "        avg_loss = total_loss / len(train_loader)\n",
    "        accuracy = 100 * correct / total\n",
    "        \n",
    "        print(f\"Epoch [{epoch+1}/{num_epochs}] - Loss: {avg_loss:.4f}, Accuracy: {accuracy:.2f}%\")\n",
    "        \n",
    "        # Use the validation set to adapt the learning rate\n",
    "        with torch.no_grad():\n",
    "            val_loss = 0.0\n",
    "            student.eval()\n",
    "            \n",
    "            for images, labels in tqdm(val_loader, desc=\"Validation\"):\n",
    "                images, labels = images.to(device), labels.to(device)\n",
    "                outputs = student(images)\n",
    "                loss = criterion(outputs, labels)\n",
    "                val_loss += loss.item()\n",
    "            \n",
    "            avg_val_loss = val_loss / len(val_loader)\n",
    "            scheduler.step(avg_val_loss)\n",
    "\n",
    "            print(f\"Validation Loss after Epoch [{epoch+1}/{num_epochs}]: {avg_val_loss:.4f}\")\n",
    "\n",
    "            if avg_val_loss < best_val_loss:\n",
    "                best_val_loss = avg_val_loss\n",
    "                torch.save(student.state_dict(), f'{save_dir}{dataset}_supervised_best_student_weights.pth')\n",
    "    \n",
    "    # Record the end time for training\n",
    "    end_time = time.time()\n",
    "    # Calculate the total training time\n",
    "    total_time_seconds = end_time - start_time\n",
    "    if total_time_seconds < 60:\n",
    "        print(f\"Total training time: {total_time_seconds:.2f} seconds\")\n",
    "    else:\n",
    "        total_time_minutes = total_time_seconds / 60\n",
    "        print(f\"Total training time: {total_time_minutes:.2f} minutes\")\n",
    "\n",
    "    print(\"Supervised fine-tuning complete!\")\n"
   ]
  },
  {
   "cell_type": "markdown",
   "metadata": {},
   "source": [
    "### Student Teacher Training\n",
    "\n"
   ]
  },
  {
   "cell_type": "code",
   "execution_count": 27,
   "metadata": {},
   "outputs": [],
   "source": [
    "# Initialize models\n",
    "teacher = VisionTransformerDPE(\n",
    "    image_size=image_size,\n",
    "    patch_size=patch_size,\n",
    "    in_channels=in_channels,\n",
    "    embed_dim=projection_dim,\n",
    "    depth=transformer_layers,\n",
    "    heads=num_heads,\n",
    "    mlp_dim=mlp_head_units[0],\n",
    "    dropout=dropout,\n",
    "    num_classes=num_classes, \n",
    ").to(device)\n",
    "\n",
    "half_image_size = 0.5*image_size\n",
    "\n",
    "student = VisionTransformerDPE(\n",
    "    image_size=image_size,\n",
    "    patch_size=patch_size,\n",
    "    in_channels=in_channels,\n",
    "    embed_dim=projection_dim,\n",
    "    depth=transformer_layers,\n",
    "    heads=num_heads,\n",
    "    mlp_dim=mlp_head_units[0],\n",
    "    dropout=dropout,\n",
    "    num_classes=num_classes,\n",
    ").to(device)\n",
    "\n",
    "# Define loss function and optimizer\n",
    "criterion = nn.CrossEntropyLoss()\n",
    "optimizer = optim.Adam(student.parameters(), lr=learning_rate, weight_decay=weight_decay)\n",
    "\n",
    "scheduler = ReduceLROnPlateau(optimizer, 'min', patience=patience_value, factor=0.5, verbose=True)\n",
    "\n",
    "# The teacher starts off with the same weights as the student\n",
    "teacher.load_state_dict(student.state_dict())\n",
    "\n",
    "# Initialize the EMA updater for the teacher model\n",
    "ema_updater = EMA(student, ema_decay, self_supervised_epochs, optimizer)\n",
    "\n",
    "\n",
    "# Call the self_supervised_training function to start the self-supervised phase\n",
    "# self_supervised_training(student, teacher, optimizer, ema_updater, self_supervised_epochs, \n",
    "                        #  train_loader, val_loader, scheduler, device, criterion)"
   ]
  },
  {
   "cell_type": "code",
   "execution_count": 28,
   "metadata": {},
   "outputs": [
    {
     "name": "stderr",
     "output_type": "stream",
     "text": [
      "Training: 100%|██████████| 157/157 [00:56<00:00,  2.80it/s]\n"
     ]
    },
    {
     "name": "stdout",
     "output_type": "stream",
     "text": [
      "Epoch [1/20] - Loss: 4.6061, Accuracy: 1.05%\n"
     ]
    },
    {
     "name": "stderr",
     "output_type": "stream",
     "text": [
      "Validation: 100%|██████████| 40/40 [00:30<00:00,  1.30it/s]\n"
     ]
    },
    {
     "name": "stdout",
     "output_type": "stream",
     "text": [
      "Validation Loss after Epoch [1/20]: 4.5719\n"
     ]
    },
    {
     "name": "stderr",
     "output_type": "stream",
     "text": [
      "Training: 100%|██████████| 157/157 [00:55<00:00,  2.81it/s]\n"
     ]
    },
    {
     "name": "stdout",
     "output_type": "stream",
     "text": [
      "Epoch [2/20] - Loss: 4.4270, Accuracy: 2.59%\n"
     ]
    },
    {
     "name": "stderr",
     "output_type": "stream",
     "text": [
      "Validation: 100%|██████████| 40/40 [00:30<00:00,  1.32it/s]\n"
     ]
    },
    {
     "name": "stdout",
     "output_type": "stream",
     "text": [
      "Validation Loss after Epoch [2/20]: 4.3184\n"
     ]
    },
    {
     "name": "stderr",
     "output_type": "stream",
     "text": [
      "Training: 100%|██████████| 157/157 [00:55<00:00,  2.81it/s]\n"
     ]
    },
    {
     "name": "stdout",
     "output_type": "stream",
     "text": [
      "Epoch [3/20] - Loss: 4.2694, Accuracy: 4.29%\n"
     ]
    },
    {
     "name": "stderr",
     "output_type": "stream",
     "text": [
      "Validation: 100%|██████████| 40/40 [00:30<00:00,  1.31it/s]\n"
     ]
    },
    {
     "name": "stdout",
     "output_type": "stream",
     "text": [
      "Validation Loss after Epoch [3/20]: 4.2341\n"
     ]
    },
    {
     "name": "stderr",
     "output_type": "stream",
     "text": [
      "Training: 100%|██████████| 157/157 [00:55<00:00,  2.82it/s]\n"
     ]
    },
    {
     "name": "stdout",
     "output_type": "stream",
     "text": [
      "Epoch [4/20] - Loss: 4.2013, Accuracy: 5.07%\n"
     ]
    },
    {
     "name": "stderr",
     "output_type": "stream",
     "text": [
      "Validation: 100%|██████████| 40/40 [00:30<00:00,  1.31it/s]\n"
     ]
    },
    {
     "name": "stdout",
     "output_type": "stream",
     "text": [
      "Validation Loss after Epoch [4/20]: 4.1721\n"
     ]
    },
    {
     "name": "stderr",
     "output_type": "stream",
     "text": [
      "Training: 100%|██████████| 157/157 [00:55<00:00,  2.81it/s]\n"
     ]
    },
    {
     "name": "stdout",
     "output_type": "stream",
     "text": [
      "Epoch [5/20] - Loss: 4.1255, Accuracy: 6.15%\n"
     ]
    },
    {
     "name": "stderr",
     "output_type": "stream",
     "text": [
      "Validation: 100%|██████████| 40/40 [00:30<00:00,  1.31it/s]\n"
     ]
    },
    {
     "name": "stdout",
     "output_type": "stream",
     "text": [
      "Validation Loss after Epoch [5/20]: 4.0804\n"
     ]
    },
    {
     "name": "stderr",
     "output_type": "stream",
     "text": [
      "Training: 100%|██████████| 157/157 [00:55<00:00,  2.81it/s]\n"
     ]
    },
    {
     "name": "stdout",
     "output_type": "stream",
     "text": [
      "Epoch [6/20] - Loss: 4.0700, Accuracy: 6.77%\n"
     ]
    },
    {
     "name": "stderr",
     "output_type": "stream",
     "text": [
      "Validation: 100%|██████████| 40/40 [00:30<00:00,  1.31it/s]\n"
     ]
    },
    {
     "name": "stdout",
     "output_type": "stream",
     "text": [
      "Validation Loss after Epoch [6/20]: 4.0516\n"
     ]
    },
    {
     "name": "stderr",
     "output_type": "stream",
     "text": [
      "Training: 100%|██████████| 157/157 [00:55<00:00,  2.81it/s]\n"
     ]
    },
    {
     "name": "stdout",
     "output_type": "stream",
     "text": [
      "Epoch [7/20] - Loss: 4.0410, Accuracy: 7.23%\n"
     ]
    },
    {
     "name": "stderr",
     "output_type": "stream",
     "text": [
      "Validation: 100%|██████████| 40/40 [00:35<00:00,  1.13it/s]\n"
     ]
    },
    {
     "name": "stdout",
     "output_type": "stream",
     "text": [
      "Validation Loss after Epoch [7/20]: 4.0112\n"
     ]
    },
    {
     "name": "stderr",
     "output_type": "stream",
     "text": [
      "Training: 100%|██████████| 157/157 [00:56<00:00,  2.80it/s]\n"
     ]
    },
    {
     "name": "stdout",
     "output_type": "stream",
     "text": [
      "Epoch [8/20] - Loss: 4.0199, Accuracy: 7.38%\n"
     ]
    },
    {
     "name": "stderr",
     "output_type": "stream",
     "text": [
      "Validation: 100%|██████████| 40/40 [00:30<00:00,  1.31it/s]\n"
     ]
    },
    {
     "name": "stdout",
     "output_type": "stream",
     "text": [
      "Validation Loss after Epoch [8/20]: 3.9923\n"
     ]
    },
    {
     "name": "stderr",
     "output_type": "stream",
     "text": [
      "Training: 100%|██████████| 157/157 [00:55<00:00,  2.82it/s]\n"
     ]
    },
    {
     "name": "stdout",
     "output_type": "stream",
     "text": [
      "Epoch [9/20] - Loss: 3.9899, Accuracy: 7.80%\n"
     ]
    },
    {
     "name": "stderr",
     "output_type": "stream",
     "text": [
      "Validation: 100%|██████████| 40/40 [00:30<00:00,  1.31it/s]\n"
     ]
    },
    {
     "name": "stdout",
     "output_type": "stream",
     "text": [
      "Validation Loss after Epoch [9/20]: 4.0167\n"
     ]
    },
    {
     "name": "stderr",
     "output_type": "stream",
     "text": [
      "Training: 100%|██████████| 157/157 [00:55<00:00,  2.81it/s]\n"
     ]
    },
    {
     "name": "stdout",
     "output_type": "stream",
     "text": [
      "Epoch [10/20] - Loss: 3.9625, Accuracy: 8.25%\n"
     ]
    },
    {
     "name": "stderr",
     "output_type": "stream",
     "text": [
      "Validation: 100%|██████████| 40/40 [00:32<00:00,  1.22it/s]\n"
     ]
    },
    {
     "name": "stdout",
     "output_type": "stream",
     "text": [
      "Validation Loss after Epoch [10/20]: 3.9518\n"
     ]
    },
    {
     "name": "stderr",
     "output_type": "stream",
     "text": [
      "Training: 100%|██████████| 157/157 [00:55<00:00,  2.81it/s]\n"
     ]
    },
    {
     "name": "stdout",
     "output_type": "stream",
     "text": [
      "Epoch [11/20] - Loss: 3.9434, Accuracy: 8.65%\n"
     ]
    },
    {
     "name": "stderr",
     "output_type": "stream",
     "text": [
      "Validation: 100%|██████████| 40/40 [00:30<00:00,  1.31it/s]\n"
     ]
    },
    {
     "name": "stdout",
     "output_type": "stream",
     "text": [
      "Validation Loss after Epoch [11/20]: 3.9171\n"
     ]
    },
    {
     "name": "stderr",
     "output_type": "stream",
     "text": [
      "Training: 100%|██████████| 157/157 [00:55<00:00,  2.81it/s]\n"
     ]
    },
    {
     "name": "stdout",
     "output_type": "stream",
     "text": [
      "Epoch [12/20] - Loss: 3.9193, Accuracy: 8.94%\n"
     ]
    },
    {
     "name": "stderr",
     "output_type": "stream",
     "text": [
      "Validation: 100%|██████████| 40/40 [00:30<00:00,  1.31it/s]\n"
     ]
    },
    {
     "name": "stdout",
     "output_type": "stream",
     "text": [
      "Validation Loss after Epoch [12/20]: 3.9056\n"
     ]
    },
    {
     "name": "stderr",
     "output_type": "stream",
     "text": [
      "Training: 100%|██████████| 157/157 [00:55<00:00,  2.81it/s]\n"
     ]
    },
    {
     "name": "stdout",
     "output_type": "stream",
     "text": [
      "Epoch [13/20] - Loss: 3.8903, Accuracy: 9.21%\n"
     ]
    },
    {
     "name": "stderr",
     "output_type": "stream",
     "text": [
      "Validation: 100%|██████████| 40/40 [00:30<00:00,  1.31it/s]\n"
     ]
    },
    {
     "name": "stdout",
     "output_type": "stream",
     "text": [
      "Validation Loss after Epoch [13/20]: 3.8771\n"
     ]
    },
    {
     "name": "stderr",
     "output_type": "stream",
     "text": [
      "Training: 100%|██████████| 157/157 [00:55<00:00,  2.82it/s]\n"
     ]
    },
    {
     "name": "stdout",
     "output_type": "stream",
     "text": [
      "Epoch [14/20] - Loss: 3.8732, Accuracy: 9.41%\n"
     ]
    },
    {
     "name": "stderr",
     "output_type": "stream",
     "text": [
      "Validation: 100%|██████████| 40/40 [00:30<00:00,  1.31it/s]\n"
     ]
    },
    {
     "name": "stdout",
     "output_type": "stream",
     "text": [
      "Validation Loss after Epoch [14/20]: 3.8639\n"
     ]
    },
    {
     "name": "stderr",
     "output_type": "stream",
     "text": [
      "Training: 100%|██████████| 157/157 [00:55<00:00,  2.81it/s]\n"
     ]
    },
    {
     "name": "stdout",
     "output_type": "stream",
     "text": [
      "Epoch [15/20] - Loss: 3.8517, Accuracy: 9.96%\n"
     ]
    },
    {
     "name": "stderr",
     "output_type": "stream",
     "text": [
      "Validation: 100%|██████████| 40/40 [00:30<00:00,  1.32it/s]\n"
     ]
    },
    {
     "name": "stdout",
     "output_type": "stream",
     "text": [
      "Validation Loss after Epoch [15/20]: 3.8475\n"
     ]
    },
    {
     "name": "stderr",
     "output_type": "stream",
     "text": [
      "Training: 100%|██████████| 157/157 [00:55<00:00,  2.81it/s]\n"
     ]
    },
    {
     "name": "stdout",
     "output_type": "stream",
     "text": [
      "Epoch [16/20] - Loss: 3.8345, Accuracy: 10.25%\n"
     ]
    },
    {
     "name": "stderr",
     "output_type": "stream",
     "text": [
      "Validation: 100%|██████████| 40/40 [00:30<00:00,  1.31it/s]\n"
     ]
    },
    {
     "name": "stdout",
     "output_type": "stream",
     "text": [
      "Validation Loss after Epoch [16/20]: 3.8365\n"
     ]
    },
    {
     "name": "stderr",
     "output_type": "stream",
     "text": [
      "Training: 100%|██████████| 157/157 [00:55<00:00,  2.81it/s]\n"
     ]
    },
    {
     "name": "stdout",
     "output_type": "stream",
     "text": [
      "Epoch [17/20] - Loss: 3.8123, Accuracy: 10.47%\n"
     ]
    },
    {
     "name": "stderr",
     "output_type": "stream",
     "text": [
      "Validation: 100%|██████████| 40/40 [00:30<00:00,  1.31it/s]\n"
     ]
    },
    {
     "name": "stdout",
     "output_type": "stream",
     "text": [
      "Validation Loss after Epoch [17/20]: 3.8332\n"
     ]
    },
    {
     "name": "stderr",
     "output_type": "stream",
     "text": [
      "Training: 100%|██████████| 157/157 [00:55<00:00,  2.82it/s]\n"
     ]
    },
    {
     "name": "stdout",
     "output_type": "stream",
     "text": [
      "Epoch [18/20] - Loss: 3.8058, Accuracy: 10.69%\n"
     ]
    },
    {
     "name": "stderr",
     "output_type": "stream",
     "text": [
      "Validation: 100%|██████████| 40/40 [00:30<00:00,  1.31it/s]\n"
     ]
    },
    {
     "name": "stdout",
     "output_type": "stream",
     "text": [
      "Validation Loss after Epoch [18/20]: 3.8009\n"
     ]
    },
    {
     "name": "stderr",
     "output_type": "stream",
     "text": [
      "Training: 100%|██████████| 157/157 [00:55<00:00,  2.82it/s]\n"
     ]
    },
    {
     "name": "stdout",
     "output_type": "stream",
     "text": [
      "Epoch [19/20] - Loss: 3.7915, Accuracy: 10.94%\n"
     ]
    },
    {
     "name": "stderr",
     "output_type": "stream",
     "text": [
      "Validation: 100%|██████████| 40/40 [00:30<00:00,  1.31it/s]\n"
     ]
    },
    {
     "name": "stdout",
     "output_type": "stream",
     "text": [
      "Validation Loss after Epoch [19/20]: 3.8155\n"
     ]
    },
    {
     "name": "stderr",
     "output_type": "stream",
     "text": [
      "Training: 100%|██████████| 157/157 [00:55<00:00,  2.82it/s]\n"
     ]
    },
    {
     "name": "stdout",
     "output_type": "stream",
     "text": [
      "Epoch [20/20] - Loss: 3.7724, Accuracy: 11.22%\n"
     ]
    },
    {
     "name": "stderr",
     "output_type": "stream",
     "text": [
      "Validation: 100%|██████████| 40/40 [00:30<00:00,  1.31it/s]"
     ]
    },
    {
     "name": "stdout",
     "output_type": "stream",
     "text": [
      "Validation Loss after Epoch [20/20]: 3.7622\n",
      "Total training time: 28.94 minutes\n",
      "Supervised fine-tuning complete!\n"
     ]
    },
    {
     "name": "stderr",
     "output_type": "stream",
     "text": [
      "\n"
     ]
    }
   ],
   "source": [
    "# Load the saved state_dict\n",
    "saved_state_dict = torch.load(f'../trained_models/dino/{dataset}_self_supervised_best_student_weights.pth')\n",
    "\n",
    "# Create a new state_dict that excludes 'mlp_head'\n",
    "new_state_dict = {k: v for k, v in saved_state_dict.items() if not k.startswith('mlp_head')}\n",
    "\n",
    "# Load this state_dict into student (it won't touch the mlp_head)\n",
    "student.load_state_dict(new_state_dict, strict=False)\n",
    "\n",
    "# Replace the self-supervised projection head with a new classifier head\n",
    "student.mlp_head = nn.Sequential(\n",
    "    nn.Linear(projection_dim, mlp_head_units[0]),\n",
    "    nn.ReLU(),\n",
    "    nn.Dropout(dropout),\n",
    "    nn.Linear(mlp_head_units[0], mlp_head_units[1]),\n",
    "    nn.ReLU(),\n",
    "    nn.Dropout(dropout),\n",
    "    nn.Linear(mlp_head_units[1], num_classes)\n",
    ").to(device)\n",
    "\n",
    "# Reset optimizer for the supervised phase\n",
    "optimizer = optim.Adam(student.parameters(), lr=learning_rate, weight_decay=weight_decay)\n",
    "# Reset scheduler for the supervised phase\n",
    "scheduler = ReduceLROnPlateau(optimizer, 'min', patience=patience_value, factor=0.5, verbose=True)\n",
    "\n",
    "# Call the supervised_training function to start the supervised phase\n",
    "supervised_training(student, optimizer, criterion, fine_tune_epochs, train_loader, val_loader, scheduler, device)\n"
   ]
  },
  {
   "cell_type": "code",
   "execution_count": 29,
   "metadata": {},
   "outputs": [],
   "source": [
    "# Load the saved model's weights\n",
    "SAVE_PATH = f'../trained_models/dino/{dataset}_supervised_best_student_weights.pth'\n",
    "student.load_state_dict(torch.load(SAVE_PATH, map_location=device))\n",
    "\n",
    "# Instantiate new model representing the basic ViT to which we will transfer the weights\n",
    "basic_vit = VisionTransformer(\n",
    "    image_size=image_size,\n",
    "    patch_size=patch_size,\n",
    "    in_channels=in_channels,\n",
    "    embed_dim=projection_dim,\n",
    "    depth=transformer_layers,\n",
    "    heads=num_heads,\n",
    "    mlp_dim=mlp_head_units[0],\n",
    "    dropout=dropout,\n",
    "    num_classes=num_classes,\n",
    ").to(device)\n",
    "\n",
    "# Transfer Patch Embedding Layer\n",
    "basic_vit.patch_embed.load_state_dict(student.patch_embed.state_dict())\n",
    "\n",
    "# Transfer Transformer Encoder Layers\n",
    "for teacher_block, student_block in zip(basic_vit.transformer_encoder, student.transformer_encoder):\n",
    "    teacher_block.load_state_dict(student_block.state_dict())\n",
    "\n",
    "# Transfer MLP Head\n",
    "basic_vit.mlp_head.load_state_dict(student.mlp_head.state_dict())\n",
    "\n",
    "# Transfer CLS Token\n",
    "basic_vit.cls_token.data = student.cls_token.data.clone()\n"
   ]
  },
  {
   "cell_type": "code",
   "execution_count": 30,
   "metadata": {},
   "outputs": [
    {
     "name": "stderr",
     "output_type": "stream",
     "text": [
      "Epoch 1/50 [Training]: 100%|██████████| 157/157 [00:56<00:00,  2.80it/s]\n",
      "Epoch 1/50 [Validation]: 100%|██████████| 40/40 [00:30<00:00,  1.31it/s]\n"
     ]
    },
    {
     "name": "stdout",
     "output_type": "stream",
     "text": [
      "Epoch 1/50 - Train Loss: 3.7674, Train Acc: 0.1142, Val Loss: 3.7781, Val Acc: 0.1182\n"
     ]
    },
    {
     "name": "stderr",
     "output_type": "stream",
     "text": [
      "Epoch 2/50 [Training]: 100%|██████████| 157/157 [00:55<00:00,  2.80it/s]\n",
      "Epoch 2/50 [Validation]: 100%|██████████| 40/40 [00:30<00:00,  1.31it/s]\n"
     ]
    },
    {
     "name": "stdout",
     "output_type": "stream",
     "text": [
      "Epoch 2/50 - Train Loss: 3.7475, Train Acc: 0.1174, Val Loss: 3.7583, Val Acc: 0.1215\n"
     ]
    },
    {
     "name": "stderr",
     "output_type": "stream",
     "text": [
      "Epoch 3/50 [Training]: 100%|██████████| 157/157 [00:55<00:00,  2.81it/s]\n",
      "Epoch 3/50 [Validation]: 100%|██████████| 40/40 [00:30<00:00,  1.30it/s]\n"
     ]
    },
    {
     "name": "stdout",
     "output_type": "stream",
     "text": [
      "Epoch 3/50 - Train Loss: 3.7304, Train Acc: 0.1170, Val Loss: 3.7631, Val Acc: 0.1174\n"
     ]
    },
    {
     "name": "stderr",
     "output_type": "stream",
     "text": [
      "Epoch 4/50 [Training]: 100%|██████████| 157/157 [00:56<00:00,  2.80it/s]\n",
      "Epoch 4/50 [Validation]: 100%|██████████| 40/40 [00:30<00:00,  1.30it/s]\n"
     ]
    },
    {
     "name": "stdout",
     "output_type": "stream",
     "text": [
      "Epoch 4/50 - Train Loss: 3.7165, Train Acc: 0.1215, Val Loss: 3.7378, Val Acc: 0.1214\n"
     ]
    },
    {
     "name": "stderr",
     "output_type": "stream",
     "text": [
      "Epoch 5/50 [Training]: 100%|██████████| 157/157 [00:55<00:00,  2.81it/s]\n",
      "Epoch 5/50 [Validation]: 100%|██████████| 40/40 [00:30<00:00,  1.31it/s]\n"
     ]
    },
    {
     "name": "stdout",
     "output_type": "stream",
     "text": [
      "Epoch 5/50 - Train Loss: 3.7098, Train Acc: 0.1252, Val Loss: 3.7170, Val Acc: 0.1239\n"
     ]
    },
    {
     "name": "stderr",
     "output_type": "stream",
     "text": [
      "Epoch 6/50 [Training]: 100%|██████████| 157/157 [00:55<00:00,  2.81it/s]\n",
      "Epoch 6/50 [Validation]: 100%|██████████| 40/40 [00:30<00:00,  1.30it/s]\n"
     ]
    },
    {
     "name": "stdout",
     "output_type": "stream",
     "text": [
      "Epoch 6/50 - Train Loss: 3.6956, Train Acc: 0.1255, Val Loss: 3.7144, Val Acc: 0.1283\n"
     ]
    },
    {
     "name": "stderr",
     "output_type": "stream",
     "text": [
      "Epoch 7/50 [Training]: 100%|██████████| 157/157 [00:55<00:00,  2.81it/s]\n",
      "Epoch 7/50 [Validation]: 100%|██████████| 40/40 [00:30<00:00,  1.31it/s]\n"
     ]
    },
    {
     "name": "stdout",
     "output_type": "stream",
     "text": [
      "Epoch 7/50 - Train Loss: 3.6808, Train Acc: 0.1289, Val Loss: 3.6997, Val Acc: 0.1313\n"
     ]
    },
    {
     "name": "stderr",
     "output_type": "stream",
     "text": [
      "Epoch 8/50 [Training]: 100%|██████████| 157/157 [00:55<00:00,  2.81it/s]\n",
      "Epoch 8/50 [Validation]: 100%|██████████| 40/40 [00:30<00:00,  1.31it/s]\n"
     ]
    },
    {
     "name": "stdout",
     "output_type": "stream",
     "text": [
      "Epoch 8/50 - Train Loss: 3.6724, Train Acc: 0.1305, Val Loss: 3.7078, Val Acc: 0.1345\n"
     ]
    },
    {
     "name": "stderr",
     "output_type": "stream",
     "text": [
      "Epoch 9/50 [Training]: 100%|██████████| 157/157 [00:55<00:00,  2.80it/s]\n",
      "Epoch 9/50 [Validation]: 100%|██████████| 40/40 [00:30<00:00,  1.30it/s]\n"
     ]
    },
    {
     "name": "stdout",
     "output_type": "stream",
     "text": [
      "Epoch 9/50 - Train Loss: 3.6605, Train Acc: 0.1321, Val Loss: 3.7155, Val Acc: 0.1277\n"
     ]
    },
    {
     "name": "stderr",
     "output_type": "stream",
     "text": [
      "Epoch 10/50 [Training]: 100%|██████████| 157/157 [00:56<00:00,  2.80it/s]\n",
      "Epoch 10/50 [Validation]: 100%|██████████| 40/40 [00:30<00:00,  1.31it/s]\n"
     ]
    },
    {
     "name": "stdout",
     "output_type": "stream",
     "text": [
      "Epoch 10/50 - Train Loss: 3.6435, Train Acc: 0.1341, Val Loss: 3.6720, Val Acc: 0.1376\n"
     ]
    },
    {
     "name": "stderr",
     "output_type": "stream",
     "text": [
      "Epoch 11/50 [Training]: 100%|██████████| 157/157 [00:56<00:00,  2.79it/s]\n",
      "Epoch 11/50 [Validation]: 100%|██████████| 40/40 [00:30<00:00,  1.30it/s]\n"
     ]
    },
    {
     "name": "stdout",
     "output_type": "stream",
     "text": [
      "Epoch 11/50 - Train Loss: 3.6459, Train Acc: 0.1345, Val Loss: 3.6544, Val Acc: 0.1433\n"
     ]
    },
    {
     "name": "stderr",
     "output_type": "stream",
     "text": [
      "Epoch 12/50 [Training]: 100%|██████████| 157/157 [00:55<00:00,  2.81it/s]\n",
      "Epoch 12/50 [Validation]: 100%|██████████| 40/40 [00:30<00:00,  1.30it/s]\n"
     ]
    },
    {
     "name": "stdout",
     "output_type": "stream",
     "text": [
      "Epoch 12/50 - Train Loss: 3.6242, Train Acc: 0.1368, Val Loss: 3.6732, Val Acc: 0.1430\n"
     ]
    },
    {
     "name": "stderr",
     "output_type": "stream",
     "text": [
      "Epoch 13/50 [Training]: 100%|██████████| 157/157 [00:55<00:00,  2.81it/s]\n",
      "Epoch 13/50 [Validation]: 100%|██████████| 40/40 [00:30<00:00,  1.30it/s]\n"
     ]
    },
    {
     "name": "stdout",
     "output_type": "stream",
     "text": [
      "Epoch 13/50 - Train Loss: 3.6218, Train Acc: 0.1385, Val Loss: 3.6286, Val Acc: 0.1461\n"
     ]
    },
    {
     "name": "stderr",
     "output_type": "stream",
     "text": [
      "Epoch 14/50 [Training]: 100%|██████████| 157/157 [00:56<00:00,  2.80it/s]\n",
      "Epoch 14/50 [Validation]: 100%|██████████| 40/40 [00:30<00:00,  1.31it/s]\n"
     ]
    },
    {
     "name": "stdout",
     "output_type": "stream",
     "text": [
      "Epoch 14/50 - Train Loss: 3.6113, Train Acc: 0.1406, Val Loss: 3.6290, Val Acc: 0.1450\n"
     ]
    },
    {
     "name": "stderr",
     "output_type": "stream",
     "text": [
      "Epoch 15/50 [Training]: 100%|██████████| 157/157 [00:56<00:00,  2.80it/s]\n",
      "Epoch 15/50 [Validation]: 100%|██████████| 40/40 [00:30<00:00,  1.30it/s]\n"
     ]
    },
    {
     "name": "stdout",
     "output_type": "stream",
     "text": [
      "Epoch 15/50 - Train Loss: 3.5909, Train Acc: 0.1449, Val Loss: 3.6249, Val Acc: 0.1484\n"
     ]
    },
    {
     "name": "stderr",
     "output_type": "stream",
     "text": [
      "Epoch 16/50 [Training]: 100%|██████████| 157/157 [00:55<00:00,  2.81it/s]\n",
      "Epoch 16/50 [Validation]: 100%|██████████| 40/40 [00:30<00:00,  1.30it/s]\n"
     ]
    },
    {
     "name": "stdout",
     "output_type": "stream",
     "text": [
      "Epoch 16/50 - Train Loss: 3.5909, Train Acc: 0.1424, Val Loss: 3.6177, Val Acc: 0.1529\n"
     ]
    },
    {
     "name": "stderr",
     "output_type": "stream",
     "text": [
      "Epoch 17/50 [Training]: 100%|██████████| 157/157 [00:55<00:00,  2.80it/s]\n",
      "Epoch 17/50 [Validation]: 100%|██████████| 40/40 [00:30<00:00,  1.30it/s]\n"
     ]
    },
    {
     "name": "stdout",
     "output_type": "stream",
     "text": [
      "Epoch 17/50 - Train Loss: 3.5744, Train Acc: 0.1469, Val Loss: 3.6241, Val Acc: 0.1510\n"
     ]
    },
    {
     "name": "stderr",
     "output_type": "stream",
     "text": [
      "Epoch 18/50 [Training]: 100%|██████████| 157/157 [00:56<00:00,  2.77it/s]\n",
      "Epoch 18/50 [Validation]: 100%|██████████| 40/40 [00:30<00:00,  1.29it/s]\n"
     ]
    },
    {
     "name": "stdout",
     "output_type": "stream",
     "text": [
      "Epoch 18/50 - Train Loss: 3.5689, Train Acc: 0.1474, Val Loss: 3.5930, Val Acc: 0.1524\n"
     ]
    },
    {
     "name": "stderr",
     "output_type": "stream",
     "text": [
      "Epoch 19/50 [Training]: 100%|██████████| 157/157 [00:56<00:00,  2.80it/s]\n",
      "Epoch 19/50 [Validation]: 100%|██████████| 40/40 [00:30<00:00,  1.30it/s]\n"
     ]
    },
    {
     "name": "stdout",
     "output_type": "stream",
     "text": [
      "Epoch 19/50 - Train Loss: 3.5576, Train Acc: 0.1494, Val Loss: 3.6023, Val Acc: 0.1505\n"
     ]
    },
    {
     "name": "stderr",
     "output_type": "stream",
     "text": [
      "Epoch 20/50 [Training]: 100%|██████████| 157/157 [00:55<00:00,  2.80it/s]\n",
      "Epoch 20/50 [Validation]: 100%|██████████| 40/40 [00:30<00:00,  1.30it/s]\n"
     ]
    },
    {
     "name": "stdout",
     "output_type": "stream",
     "text": [
      "Epoch 20/50 - Train Loss: 3.5468, Train Acc: 0.1536, Val Loss: 3.6023, Val Acc: 0.1540\n"
     ]
    },
    {
     "name": "stderr",
     "output_type": "stream",
     "text": [
      "Epoch 21/50 [Training]: 100%|██████████| 157/157 [00:55<00:00,  2.80it/s]\n",
      "Epoch 21/50 [Validation]: 100%|██████████| 40/40 [00:31<00:00,  1.28it/s]\n"
     ]
    },
    {
     "name": "stdout",
     "output_type": "stream",
     "text": [
      "Epoch 21/50 - Train Loss: 3.5442, Train Acc: 0.1519, Val Loss: 3.5745, Val Acc: 0.1534\n"
     ]
    },
    {
     "name": "stderr",
     "output_type": "stream",
     "text": [
      "Epoch 22/50 [Training]: 100%|██████████| 157/157 [00:55<00:00,  2.81it/s]\n",
      "Epoch 22/50 [Validation]: 100%|██████████| 40/40 [00:30<00:00,  1.31it/s]\n"
     ]
    },
    {
     "name": "stdout",
     "output_type": "stream",
     "text": [
      "Epoch 22/50 - Train Loss: 3.5252, Train Acc: 0.1547, Val Loss: 3.5563, Val Acc: 0.1625\n"
     ]
    },
    {
     "name": "stderr",
     "output_type": "stream",
     "text": [
      "Epoch 23/50 [Training]: 100%|██████████| 157/157 [00:55<00:00,  2.81it/s]\n",
      "Epoch 23/50 [Validation]: 100%|██████████| 40/40 [00:30<00:00,  1.30it/s]\n"
     ]
    },
    {
     "name": "stdout",
     "output_type": "stream",
     "text": [
      "Epoch 23/50 - Train Loss: 3.5185, Train Acc: 0.1576, Val Loss: 3.5449, Val Acc: 0.1548\n"
     ]
    },
    {
     "name": "stderr",
     "output_type": "stream",
     "text": [
      "Epoch 24/50 [Training]: 100%|██████████| 157/157 [00:55<00:00,  2.80it/s]\n",
      "Epoch 24/50 [Validation]: 100%|██████████| 40/40 [00:30<00:00,  1.30it/s]\n"
     ]
    },
    {
     "name": "stdout",
     "output_type": "stream",
     "text": [
      "Epoch 24/50 - Train Loss: 3.5135, Train Acc: 0.1573, Val Loss: 3.5471, Val Acc: 0.1612\n"
     ]
    },
    {
     "name": "stderr",
     "output_type": "stream",
     "text": [
      "Epoch 25/50 [Training]: 100%|██████████| 157/157 [00:56<00:00,  2.80it/s]\n",
      "Epoch 25/50 [Validation]: 100%|██████████| 40/40 [00:30<00:00,  1.30it/s]\n"
     ]
    },
    {
     "name": "stdout",
     "output_type": "stream",
     "text": [
      "Epoch 25/50 - Train Loss: 3.5104, Train Acc: 0.1577, Val Loss: 3.5286, Val Acc: 0.1622\n"
     ]
    },
    {
     "name": "stderr",
     "output_type": "stream",
     "text": [
      "Epoch 26/50 [Training]: 100%|██████████| 157/157 [00:55<00:00,  2.81it/s]\n",
      "Epoch 26/50 [Validation]: 100%|██████████| 40/40 [00:30<00:00,  1.30it/s]\n"
     ]
    },
    {
     "name": "stdout",
     "output_type": "stream",
     "text": [
      "Epoch 26/50 - Train Loss: 3.5008, Train Acc: 0.1587, Val Loss: 3.5424, Val Acc: 0.1652\n"
     ]
    },
    {
     "name": "stderr",
     "output_type": "stream",
     "text": [
      "Epoch 27/50 [Training]: 100%|██████████| 157/157 [00:56<00:00,  2.79it/s]\n",
      "Epoch 27/50 [Validation]: 100%|██████████| 40/40 [00:30<00:00,  1.31it/s]\n"
     ]
    },
    {
     "name": "stdout",
     "output_type": "stream",
     "text": [
      "Epoch 27/50 - Train Loss: 3.4862, Train Acc: 0.1624, Val Loss: 3.5403, Val Acc: 0.1656\n"
     ]
    },
    {
     "name": "stderr",
     "output_type": "stream",
     "text": [
      "Epoch 28/50 [Training]: 100%|██████████| 157/157 [00:55<00:00,  2.80it/s]\n",
      "Epoch 28/50 [Validation]: 100%|██████████| 40/40 [00:30<00:00,  1.31it/s]\n"
     ]
    },
    {
     "name": "stdout",
     "output_type": "stream",
     "text": [
      "Epoch 28/50 - Train Loss: 3.4864, Train Acc: 0.1649, Val Loss: 3.5297, Val Acc: 0.1680\n"
     ]
    },
    {
     "name": "stderr",
     "output_type": "stream",
     "text": [
      "Epoch 29/50 [Training]: 100%|██████████| 157/157 [00:56<00:00,  2.80it/s]\n",
      "Epoch 29/50 [Validation]: 100%|██████████| 40/40 [00:30<00:00,  1.30it/s]\n"
     ]
    },
    {
     "name": "stdout",
     "output_type": "stream",
     "text": [
      "Epoch 29/50 - Train Loss: 3.4718, Train Acc: 0.1658, Val Loss: 3.5395, Val Acc: 0.1624\n"
     ]
    },
    {
     "name": "stderr",
     "output_type": "stream",
     "text": [
      "Epoch 30/50 [Training]: 100%|██████████| 157/157 [00:56<00:00,  2.80it/s]\n",
      "Epoch 30/50 [Validation]: 100%|██████████| 40/40 [00:30<00:00,  1.30it/s]\n"
     ]
    },
    {
     "name": "stdout",
     "output_type": "stream",
     "text": [
      "Epoch 30/50 - Train Loss: 3.4628, Train Acc: 0.1661, Val Loss: 3.4917, Val Acc: 0.1744\n"
     ]
    },
    {
     "name": "stderr",
     "output_type": "stream",
     "text": [
      "Epoch 31/50 [Training]: 100%|██████████| 157/157 [00:59<00:00,  2.66it/s]\n",
      "Epoch 31/50 [Validation]: 100%|██████████| 40/40 [00:30<00:00,  1.30it/s]\n"
     ]
    },
    {
     "name": "stdout",
     "output_type": "stream",
     "text": [
      "Epoch 31/50 - Train Loss: 3.4579, Train Acc: 0.1703, Val Loss: 3.4931, Val Acc: 0.1766\n"
     ]
    },
    {
     "name": "stderr",
     "output_type": "stream",
     "text": [
      "Epoch 32/50 [Training]: 100%|██████████| 157/157 [00:55<00:00,  2.80it/s]\n",
      "Epoch 32/50 [Validation]: 100%|██████████| 40/40 [00:30<00:00,  1.30it/s]\n"
     ]
    },
    {
     "name": "stdout",
     "output_type": "stream",
     "text": [
      "Epoch 32/50 - Train Loss: 3.4486, Train Acc: 0.1685, Val Loss: 3.4959, Val Acc: 0.1715\n"
     ]
    },
    {
     "name": "stderr",
     "output_type": "stream",
     "text": [
      "Epoch 33/50 [Training]: 100%|██████████| 157/157 [00:56<00:00,  2.79it/s]\n",
      "Epoch 33/50 [Validation]: 100%|██████████| 40/40 [00:30<00:00,  1.31it/s]\n"
     ]
    },
    {
     "name": "stdout",
     "output_type": "stream",
     "text": [
      "Epoch 33/50 - Train Loss: 3.4428, Train Acc: 0.1690, Val Loss: 3.4781, Val Acc: 0.1683\n"
     ]
    },
    {
     "name": "stderr",
     "output_type": "stream",
     "text": [
      "Epoch 34/50 [Training]: 100%|██████████| 157/157 [00:54<00:00,  2.89it/s]\n",
      "Epoch 34/50 [Validation]: 100%|██████████| 40/40 [34:56<00:00, 52.41s/it]\n"
     ]
    },
    {
     "name": "stdout",
     "output_type": "stream",
     "text": [
      "Epoch 34/50 - Train Loss: 3.4271, Train Acc: 0.1756, Val Loss: 3.4603, Val Acc: 0.1749\n"
     ]
    },
    {
     "name": "stderr",
     "output_type": "stream",
     "text": [
      "Epoch 35/50 [Training]: 100%|██████████| 157/157 [1:04:43<00:00, 24.73s/it]  \n",
      "Epoch 35/50 [Validation]: 100%|██████████| 40/40 [03:38<00:00,  5.46s/it]  \n"
     ]
    },
    {
     "name": "stdout",
     "output_type": "stream",
     "text": [
      "Epoch 35/50 - Train Loss: 3.4335, Train Acc: 0.1724, Val Loss: 3.4750, Val Acc: 0.1782\n"
     ]
    },
    {
     "name": "stderr",
     "output_type": "stream",
     "text": [
      "Epoch 36/50 [Training]: 100%|██████████| 157/157 [06:01<00:00,  2.30s/it] \n",
      "Epoch 36/50 [Validation]: 100%|██████████| 40/40 [16:08<00:00, 24.20s/it] \n"
     ]
    },
    {
     "name": "stdout",
     "output_type": "stream",
     "text": [
      "Epoch 36/50 - Train Loss: 3.4224, Train Acc: 0.1769, Val Loss: 3.4742, Val Acc: 0.1702\n"
     ]
    },
    {
     "name": "stderr",
     "output_type": "stream",
     "text": [
      "Epoch 37/50 [Training]: 100%|██████████| 157/157 [04:40<00:00,  1.79s/it]\n",
      "Epoch 37/50 [Validation]: 100%|██████████| 40/40 [15:39<00:00, 23.49s/it]\n"
     ]
    },
    {
     "name": "stdout",
     "output_type": "stream",
     "text": [
      "Epoch 37/50 - Train Loss: 3.4087, Train Acc: 0.1757, Val Loss: 3.4987, Val Acc: 0.1717\n"
     ]
    },
    {
     "name": "stderr",
     "output_type": "stream",
     "text": [
      "Epoch 38/50 [Training]: 100%|██████████| 157/157 [16:34<00:00,  6.33s/it]\n",
      "Epoch 38/50 [Validation]: 100%|██████████| 40/40 [00:30<00:00,  1.31it/s]\n"
     ]
    },
    {
     "name": "stdout",
     "output_type": "stream",
     "text": [
      "Epoch 38/50 - Train Loss: 3.4094, Train Acc: 0.1771, Val Loss: 3.4762, Val Acc: 0.1750\n"
     ]
    },
    {
     "name": "stderr",
     "output_type": "stream",
     "text": [
      "Epoch 39/50 [Training]: 100%|██████████| 157/157 [17:24<00:00,  6.65s/it]  \n",
      "Epoch 39/50 [Validation]: 100%|██████████| 40/40 [16:51<00:00, 25.29s/it] \n"
     ]
    },
    {
     "name": "stdout",
     "output_type": "stream",
     "text": [
      "Epoch 39/50 - Train Loss: 3.4039, Train Acc: 0.1748, Val Loss: 3.4487, Val Acc: 0.1793\n"
     ]
    },
    {
     "name": "stderr",
     "output_type": "stream",
     "text": [
      "Epoch 40/50 [Training]: 100%|██████████| 157/157 [16:49<00:00,  6.43s/it]   \n",
      "Epoch 40/50 [Validation]: 100%|██████████| 40/40 [17:20<00:00, 26.02s/it]\n"
     ]
    },
    {
     "name": "stdout",
     "output_type": "stream",
     "text": [
      "Epoch 40/50 - Train Loss: 3.3915, Train Acc: 0.1781, Val Loss: 3.4738, Val Acc: 0.1781\n"
     ]
    },
    {
     "name": "stderr",
     "output_type": "stream",
     "text": [
      "Epoch 41/50 [Training]: 100%|██████████| 157/157 [00:53<00:00,  2.94it/s]\n",
      "Epoch 41/50 [Validation]: 100%|██████████| 40/40 [17:52<00:00, 26.81s/it]    \n"
     ]
    },
    {
     "name": "stdout",
     "output_type": "stream",
     "text": [
      "Epoch 41/50 - Train Loss: 3.3919, Train Acc: 0.1797, Val Loss: 3.4541, Val Acc: 0.1792\n"
     ]
    },
    {
     "name": "stderr",
     "output_type": "stream",
     "text": [
      "Epoch 42/50 [Training]: 100%|██████████| 157/157 [17:36<00:00,  6.73s/it]  \n",
      "Epoch 42/50 [Validation]: 100%|██████████| 40/40 [15:36<00:00, 23.41s/it] \n"
     ]
    },
    {
     "name": "stdout",
     "output_type": "stream",
     "text": [
      "Epoch 42/50 - Train Loss: 3.3803, Train Acc: 0.1822, Val Loss: 3.4747, Val Acc: 0.1740\n"
     ]
    },
    {
     "name": "stderr",
     "output_type": "stream",
     "text": [
      "Epoch 43/50 [Training]: 100%|██████████| 157/157 [16:30<00:00,  6.31s/it]   \n",
      "Epoch 43/50 [Validation]: 100%|██████████| 40/40 [16:44<00:00, 25.12s/it]\n"
     ]
    },
    {
     "name": "stdout",
     "output_type": "stream",
     "text": [
      "Epoch 43/50 - Train Loss: 3.3748, Train Acc: 0.1823, Val Loss: 3.4457, Val Acc: 0.1771\n"
     ]
    },
    {
     "name": "stderr",
     "output_type": "stream",
     "text": [
      "Epoch 44/50 [Training]: 100%|██████████| 157/157 [06:21<00:00,  2.43s/it]\n",
      "Epoch 44/50 [Validation]: 100%|██████████| 40/40 [00:31<00:00,  1.26it/s]\n"
     ]
    },
    {
     "name": "stdout",
     "output_type": "stream",
     "text": [
      "Epoch 44/50 - Train Loss: 3.3712, Train Acc: 0.1820, Val Loss: 3.4222, Val Acc: 0.1882\n"
     ]
    },
    {
     "name": "stderr",
     "output_type": "stream",
     "text": [
      "Epoch 45/50 [Training]: 100%|██████████| 157/157 [00:54<00:00,  2.89it/s]\n",
      "Epoch 45/50 [Validation]: 100%|██████████| 40/40 [00:30<00:00,  1.30it/s]\n"
     ]
    },
    {
     "name": "stdout",
     "output_type": "stream",
     "text": [
      "Epoch 45/50 - Train Loss: 3.3600, Train Acc: 0.1840, Val Loss: 3.4190, Val Acc: 0.1859\n"
     ]
    },
    {
     "name": "stderr",
     "output_type": "stream",
     "text": [
      "Epoch 46/50 [Training]: 100%|██████████| 157/157 [00:54<00:00,  2.87it/s]\n",
      "Epoch 46/50 [Validation]: 100%|██████████| 40/40 [00:31<00:00,  1.28it/s]\n"
     ]
    },
    {
     "name": "stdout",
     "output_type": "stream",
     "text": [
      "Epoch 46/50 - Train Loss: 3.3637, Train Acc: 0.1859, Val Loss: 3.4600, Val Acc: 0.1782\n"
     ]
    },
    {
     "name": "stderr",
     "output_type": "stream",
     "text": [
      "Epoch 47/50 [Training]: 100%|██████████| 157/157 [01:02<00:00,  2.49it/s]\n",
      "Epoch 47/50 [Validation]: 100%|██████████| 40/40 [00:30<00:00,  1.30it/s]\n"
     ]
    },
    {
     "name": "stdout",
     "output_type": "stream",
     "text": [
      "Epoch 47/50 - Train Loss: 3.3546, Train Acc: 0.1853, Val Loss: 3.4260, Val Acc: 0.1852\n"
     ]
    },
    {
     "name": "stderr",
     "output_type": "stream",
     "text": [
      "Epoch 48/50 [Training]: 100%|██████████| 157/157 [00:54<00:00,  2.88it/s]\n",
      "Epoch 48/50 [Validation]: 100%|██████████| 40/40 [00:30<00:00,  1.31it/s]\n"
     ]
    },
    {
     "name": "stdout",
     "output_type": "stream",
     "text": [
      "Epoch 48/50 - Train Loss: 3.3451, Train Acc: 0.1886, Val Loss: 3.4347, Val Acc: 0.1853\n"
     ]
    },
    {
     "name": "stderr",
     "output_type": "stream",
     "text": [
      "Epoch 49/50 [Training]: 100%|██████████| 157/157 [00:54<00:00,  2.85it/s]\n",
      "Epoch 49/50 [Validation]: 100%|██████████| 40/40 [00:30<00:00,  1.31it/s]\n"
     ]
    },
    {
     "name": "stdout",
     "output_type": "stream",
     "text": [
      "Epoch 49/50 - Train Loss: 3.3401, Train Acc: 0.1867, Val Loss: 3.4524, Val Acc: 0.1738\n"
     ]
    },
    {
     "name": "stderr",
     "output_type": "stream",
     "text": [
      "Epoch 50/50 [Training]: 100%|██████████| 157/157 [00:54<00:00,  2.86it/s]\n",
      "Epoch 50/50 [Validation]: 100%|██████████| 40/40 [00:30<00:00,  1.31it/s]"
     ]
    },
    {
     "name": "stdout",
     "output_type": "stream",
     "text": [
      "Epoch 50/50 - Train Loss: 3.3314, Train Acc: 0.1908, Val Loss: 3.4124, Val Acc: 0.1887\n",
      "Total training time: 380.80 minutes\n"
     ]
    },
    {
     "name": "stderr",
     "output_type": "stream",
     "text": [
      "\n"
     ]
    }
   ],
   "source": [
    "# Define loss function and optimizer\n",
    "criterion = nn.CrossEntropyLoss()\n",
    "optimizer = optim.Adam(basic_vit.parameters(), lr=learning_rate, weight_decay=weight_decay)\n",
    "\n",
    "scheduler = ReduceLROnPlateau(optimizer, 'min', patience=patience_value, factor=0.5, verbose=True)\n",
    "\n",
    "# Set model_name for DINO training\n",
    "model_name = f\"{dataset}_DINO_classifier\"\n",
    "\n",
    "# Train model\n",
    "basic_vit, train_losses, val_losses, train_acc, val_acc = train(basic_vit, train_loader, val_loader, criterion, optimizer, device, model_name, epochs=num_epochs, scheduler=scheduler, patience=patience_value)"
   ]
  },
  {
   "cell_type": "code",
   "execution_count": 31,
   "metadata": {},
   "outputs": [
    {
     "name": "stderr",
     "output_type": "stream",
     "text": [
      "Testing: 40it [00:22,  1.78it/s]"
     ]
    },
    {
     "name": "stdout",
     "output_type": "stream",
     "text": [
      "Test accuracy: 0.2114\n",
      "              precision    recall  f1-score   support\n",
      "\n",
      "           0       0.40      0.44      0.42       100\n",
      "           1       0.20      0.38      0.26       100\n",
      "           2       0.11      0.06      0.08       100\n",
      "           3       0.10      0.05      0.07       100\n",
      "           4       0.11      0.09      0.10       100\n",
      "           5       0.13      0.13      0.13       100\n",
      "           6       0.18      0.30      0.23       100\n",
      "           7       0.29      0.21      0.24       100\n",
      "           8       0.21      0.15      0.17       100\n",
      "           9       0.25      0.24      0.25       100\n",
      "          10       0.00      0.00      0.00       100\n",
      "          11       0.18      0.08      0.11       100\n",
      "          12       0.27      0.20      0.23       100\n",
      "          13       0.10      0.07      0.08       100\n",
      "          14       0.14      0.08      0.10       100\n",
      "          15       0.14      0.11      0.12       100\n",
      "          16       0.33      0.15      0.21       100\n",
      "          17       0.26      0.44      0.33       100\n",
      "          18       0.27      0.26      0.27       100\n",
      "          19       0.17      0.06      0.09       100\n",
      "          20       0.25      0.31      0.28       100\n",
      "          21       0.18      0.25      0.21       100\n",
      "          22       0.14      0.02      0.04       100\n",
      "          23       0.34      0.41      0.37       100\n",
      "          24       0.25      0.61      0.35       100\n",
      "          25       0.12      0.02      0.03       100\n",
      "          26       0.11      0.02      0.03       100\n",
      "          27       0.10      0.08      0.09       100\n",
      "          28       0.35      0.12      0.18       100\n",
      "          29       0.10      0.14      0.11       100\n",
      "          30       0.24      0.35      0.28       100\n",
      "          31       0.15      0.17      0.16       100\n",
      "          32       0.14      0.08      0.10       100\n",
      "          33       0.21      0.12      0.15       100\n",
      "          34       0.15      0.18      0.16       100\n",
      "          35       0.20      0.09      0.12       100\n",
      "          36       0.13      0.25      0.17       100\n",
      "          37       0.22      0.10      0.14       100\n",
      "          38       0.12      0.19      0.15       100\n",
      "          39       0.45      0.10      0.16       100\n",
      "          40       0.12      0.02      0.03       100\n",
      "          41       0.34      0.42      0.38       100\n",
      "          42       0.15      0.14      0.15       100\n",
      "          43       0.16      0.32      0.21       100\n",
      "          44       0.16      0.10      0.12       100\n",
      "          45       0.12      0.02      0.03       100\n",
      "          46       0.15      0.15      0.15       100\n",
      "          47       0.43      0.30      0.35       100\n",
      "          48       0.14      0.20      0.17       100\n",
      "          49       0.22      0.38      0.28       100\n",
      "          50       0.08      0.01      0.02       100\n",
      "          51       0.15      0.21      0.18       100\n",
      "          52       0.30      0.76      0.43       100\n",
      "          53       0.41      0.33      0.36       100\n",
      "          54       0.37      0.31      0.34       100\n",
      "          55       0.09      0.02      0.03       100\n",
      "          56       0.15      0.35      0.21       100\n",
      "          57       0.26      0.23      0.24       100\n",
      "          58       0.12      0.08      0.10       100\n",
      "          59       0.16      0.10      0.12       100\n",
      "          60       0.58      0.66      0.62       100\n",
      "          61       0.15      0.13      0.14       100\n",
      "          62       0.38      0.36      0.37       100\n",
      "          63       0.44      0.17      0.24       100\n",
      "          64       0.09      0.14      0.11       100\n",
      "          65       0.12      0.06      0.08       100\n",
      "          66       0.07      0.02      0.03       100\n",
      "          67       0.30      0.21      0.25       100\n",
      "          68       0.37      0.63      0.46       100\n",
      "          69       0.29      0.28      0.28       100\n",
      "          70       0.25      0.27      0.26       100\n",
      "          71       0.41      0.48      0.44       100\n",
      "          72       0.08      0.02      0.03       100\n",
      "          73       0.30      0.26      0.28       100\n",
      "          74       0.14      0.14      0.14       100\n",
      "          75       0.22      0.43      0.29       100\n",
      "          76       0.42      0.53      0.47       100\n",
      "          77       0.10      0.23      0.13       100\n",
      "          78       0.12      0.06      0.08       100\n",
      "          79       0.21      0.15      0.18       100\n",
      "          80       0.05      0.07      0.06       100\n",
      "          81       0.09      0.02      0.03       100\n",
      "          82       0.42      0.56      0.48       100\n",
      "          83       0.28      0.27      0.28       100\n",
      "          84       0.10      0.05      0.07       100\n",
      "          85       0.16      0.26      0.20       100\n",
      "          86       0.16      0.42      0.23       100\n",
      "          87       0.19      0.14      0.16       100\n",
      "          88       0.14      0.12      0.13       100\n",
      "          89       0.16      0.17      0.16       100\n",
      "          90       0.12      0.14      0.13       100\n",
      "          91       0.18      0.47      0.26       100\n",
      "          92       0.20      0.16      0.18       100\n",
      "          93       0.17      0.19      0.18       100\n",
      "          94       0.30      0.36      0.33       100\n",
      "          95       0.37      0.28      0.32       100\n",
      "          96       0.20      0.23      0.21       100\n",
      "          97       0.13      0.19      0.16       100\n",
      "          98       0.09      0.17      0.12       100\n",
      "          99       0.50      0.08      0.14       100\n",
      "\n",
      "    accuracy                           0.21     10000\n",
      "   macro avg       0.21      0.21      0.19     10000\n",
      "weighted avg       0.21      0.21      0.19     10000\n",
      "\n"
     ]
    },
    {
     "name": "stderr",
     "output_type": "stream",
     "text": [
      "\n"
     ]
    }
   ],
   "source": [
    "# test on the test set\n",
    "\n",
    "# Set model to eval mode\n",
    "basic_vit.eval()\n",
    "\n",
    "# Initialize lists to store predictions and labels\n",
    "preds = []\n",
    "labels = []\n",
    "\n",
    "# Turn off gradients\n",
    "\n",
    "with torch.no_grad():\n",
    "    # Iterate over test data\n",
    "    for batch_idx, (data, target) in tqdm(enumerate(test_loader), desc=\"Testing\"):\n",
    "        # Send data to device\n",
    "        data, target = data.to(device), target.to(device)\n",
    "\n",
    "        # Forward pass\n",
    "        output = basic_vit(data)\n",
    "\n",
    "        # Get predicted class\n",
    "        pred = output.argmax(dim=1, keepdim=True)\n",
    "\n",
    "        # Save predictions and labels for computing metrics later\n",
    "        preds.extend(pred.cpu().numpy())\n",
    "        labels.extend(target.cpu().numpy())\n",
    "\n",
    "# Print accuracy\n",
    "accuracy = accuracy_score(labels, preds)\n",
    "print(f\"Test accuracy: {accuracy:.4f}\")\n",
    "\n",
    "# Print classification report\n",
    "print(classification_report(labels, preds))\n",
    "\n",
    "# Print classification report and confusion matrix\n",
    "# Only print if dataset is not CIFAR100. CIFAR100 has too many classes to print\n",
    "if dataset != \"CIFAR100\":\n",
    "    # Print classification report\n",
    "    print(classification_report(labels, preds))\n",
    "\n",
    "    # Print confusion matrix\n",
    "    cm = confusion_matrix(labels, preds)\n",
    "\n",
    "    # Normalize the confusion matrix\n",
    "    cm_normalized = cm.astype('float') / cm.sum(axis=1)[:, np.newaxis] * 100  # Convert to percentages\n",
    "\n",
    "    plt.figure(figsize=(6, 6))\n",
    "    sns.heatmap(cm_normalized, annot=True, fmt='.2f', cmap='Blues', cbar=False)\n",
    "    plt.xlabel('Predicted')\n",
    "    plt.ylabel('Actual')\n",
    "    plt.title(f'{model_name} Confusion Matrix (in %)')\n",
    "    # save the plot\n",
    "    plt.savefig(f'{plot_dir}{model_name}_dino_cm.pdf', format=\"pdf\")\n",
    "    plt.show()\n"
   ]
  },
  {
   "cell_type": "code",
   "execution_count": 32,
   "metadata": {},
   "outputs": [
    {
     "data": {
      "image/png": "[encoded data removed]",
      "text/plain": [
       "<Figure size 600x400 with 1 Axes>"
      ]
     },
     "metadata": {},
     "output_type": "display_data"
    },
    {
     "data": {
      "text/plain": [
       "<Figure size 640x480 with 0 Axes>"
      ]
     },
     "metadata": {},
     "output_type": "display_data"
    }
   ],
   "source": [
    "# Plot losses\n",
    "plt.figure(figsize=(6, 4))\n",
    "plt.title(f'{model_name} Loss')\n",
    "plt.plot(train_losses, label='Train')\n",
    "plt.plot(val_losses, label='Validation')\n",
    "plt.ylabel('Loss')\n",
    "plt.xlabel('Epoch')\n",
    "plt.legend()\n",
    "# save the plot\n",
    "plt.savefig(f'{plot_dir}{model_name}_dino_loss.pdf', format=\"pdf\")\n",
    "plt.show()\n"
   ]
  },
  {
   "cell_type": "code",
   "execution_count": 33,
   "metadata": {},
   "outputs": [
    {
     "data": {
      "image/png": "[encoded data removed]",
      "text/plain": [
       "<Figure size 600x400 with 1 Axes>"
      ]
     },
     "metadata": {},
     "output_type": "display_data"
    },
    {
     "data": {
      "text/plain": [
       "<Figure size 640x480 with 0 Axes>"
      ]
     },
     "metadata": {},
     "output_type": "display_data"
    }
   ],
   "source": [
    "# Plot accuracies\n",
    "plt.figure(figsize=(6, 4))\n",
    "plt.title(f'{model_name} Accuracy')\n",
    "# move list to cpu\n",
    "train_acc = [i.cpu() for i in train_acc]\n",
    "val_acc = [i.cpu() for i in val_acc]\n",
    "plt.plot(train_acc, label='Train')\n",
    "plt.plot(val_acc, label='Validation')\n",
    "plt.ylabel('Accuracy')\n",
    "plt.xlabel('Epoch')\n",
    "plt.legend()\n",
    "# save the plot\n",
    "plt.savefig(f'{plot_dir}{model_name}_dino_acc.pdf', format=\"pdf\")\n",
    "plt.show()\n"
   ]
  },
  {
   "cell_type": "code",
   "execution_count": 34,
   "metadata": {},
   "outputs": [],
   "source": [
    "# def latexify(fig_width=7, fig_height=5, columns=1):\n",
    "#     \"\"\"Set up matplotlib's RC params for LaTeX plotting.\n",
    "#     Call this before plotting a figure.\n",
    "\n",
    "#     Parameters\n",
    "#     ----------\n",
    "#     fig_width : float, optional, inches\n",
    "#     fig_height : float,  optional, inches\n",
    "#     columns : {1, 2}\n",
    "#     \"\"\"\n",
    "\n",
    "#     # Installs:\n",
    "#     # Website: https://nipunbatra.github.io/blog/visualisation/2014/06/02/latexify.html\n",
    "#     # sudo apt install texlive texlive-latex-extra texlive-fonts-recommended dvipng\n",
    "#     # pip install latex\n",
    "#     # sudo apt install cm-super\n",
    "\n",
    "#     # code adapted from http://www.scipy.org/Cookbook/Matplotlib/LaTeX_Examples\n",
    "\n",
    "#     # Width and max height in inches for IEEE journals taken from\n",
    "#     # computer.org/cms/Computer.org/Journal%20templates/transactions_art_guide.pdf\n",
    "\n",
    "#     assert columns in [1, 2]\n",
    "\n",
    "#     if fig_width is None:\n",
    "#         fig_width = 3.39 if columns == 1 else 6.9  # width in inches\n",
    "\n",
    "#     if fig_height is None:\n",
    "#         golden_mean = (sqrt(5) - 1.0) / 2.0  # Aesthetic ratio\n",
    "#         fig_height = fig_width * golden_mean  # height in inches\n",
    "\n",
    "#     MAX_HEIGHT_INCHES = 8.0  # noqa\n",
    "#     if fig_height > MAX_HEIGHT_INCHES:\n",
    "#         print(\n",
    "#             \"WARNING: fig_height too large:\"\n",
    "#             + fig_height\n",
    "#             + \"so will reduce to\"\n",
    "#             + MAX_HEIGHT_INCHES\n",
    "#             + \"inches.\"\n",
    "#         )\n",
    "#         fig_height = MAX_HEIGHT_INCHES\n",
    "#     size = 14\n",
    "#     params = {\n",
    "#         \"backend\": \"ps\",\n",
    "#         \"text.latex.preamble\": r\"\\usepackage{gensymb}\",\n",
    "#         \"axes.labelsize\": size,  # fontsize for x and y labels (was 10)\n",
    "#         \"axes.titlesize\": size,\n",
    "#         \"font.size\": size,  # was 8\n",
    "#         \"legend.fontsize\": size,  # was 8\n",
    "#         \"xtick.labelsize\": size,\n",
    "#         \"ytick.labelsize\": size,\n",
    "#         \"text.usetex\": True,\n",
    "#         \"figure.figsize\": [fig_width, fig_height],\n",
    "#         \"font.family\": \"serif\",\n",
    "#     }\n",
    "\n",
    "#     matplotlib.rcParams.update(params)\n",
    "\n",
    "\n",
    "# latexify()"
   ]
  },
  {
   "cell_type": "code",
   "execution_count": 35,
   "metadata": {},
   "outputs": [],
   "source": [
    "# # Print confusion matrix\n",
    "# cm = confusion_matrix(labels, preds)\n",
    "# plt.figure(figsize=(6, 6))\n",
    "# sns.heatmap(cm, annot=True, fmt='d', cmap='Blues', cbar=False)\n",
    "# plt.xlabel('Predicted')\n",
    "# plt.ylabel('Actual')\n",
    "# plt.show()"
   ]
  }
 ],
 "metadata": {
  "kernelspec": {
   "display_name": "pytorch-vit-env",
   "language": "python",
   "name": "python3"
  },
  "language_info": {
   "codemirror_mode": {
    "name": "ipython",
    "version": 3
   },
   "file_extension": ".py",
   "mimetype": "text/x-python",
   "name": "python",
   "nbconvert_exporter": "python",
   "pygments_lexer": "ipython3",
   "version": "3.11.5"
  },
  "orig_nbformat": 4
 },
 "nbformat": 4,
 "nbformat_minor": 2
}
