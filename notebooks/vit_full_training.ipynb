{
 "cells": [
  {
   "cell_type": "markdown",
   "metadata": {},
   "source": [
    "# Basic Vision Transformer (ViT) Implementation\n",
    "\n",
    "This notebook contains code (to be refactored into scripts at a later stage) that implements a basic ViT to be trained on MNIST, CIFAR10, and CIFAR100. \n",
    "\n",
    "The implementation is written using PyTorch and allows for the following options:\n",
    "\n",
    "- Different datasets: MNIST, CIFAR10, and CIFAR100 (more to be added in future - please open an issue if you would like to see a specific dataset added)\n",
    "- Image augmentation and resizing\n",
    "- Different patch sizes\n",
    "- Different number of layers\n",
    "- Different number of heads\n",
    "- Different number of channels\n",
    "- Different number of classes\n",
    "- Different number of epochs\n",
    "- Different batch sizes\n",
    "- Different learning rates\n",
    "- Different optimizers\n",
    "- Different weight decay\n",
    "- Different dropout rates\n",
    "- Different number of workers\n",
    "- Different number of GPUs\n",
    "\n",
    "The implementation is based on the paper [An Image is Worth 16x16 Words: Transformers for Image Recognition at Scale](https://arxiv.org/abs/2010.11929) by Dosovitskiy et al.\n",
    "\n",
    "The purpose of this notebook is to provide a basic implementation of ViT that can be used as a starting point for more advanced implementations. The user has the flexibility to change the hyperparameters and the architecture to suit their needs by editing the configs. \n",
    "\n",
    "The code is optimised for readability and speed where possible.\n",
    "\n",
    "In future the code will be refactored into scripts and the configs will be moved to a separate file, whereby the user can edit the configs in the file to suit their experimentations."
   ]
  },
  {
   "cell_type": "code",
   "execution_count": 42,
   "metadata": {},
   "outputs": [],
   "source": [
    "# Standard imports\n",
    "import numpy as np\n",
    "import matplotlib.pyplot as plt\n",
    "import seaborn as sns\n",
    "import os\n",
    "import copy\n",
    "import time\n",
    "\n",
    "# Machine learning imports\n",
    "import torch\n",
    "import torch.nn.functional as F\n",
    "from torch import nn\n",
    "from torch import Tensor, optim\n",
    "from torchsummary import summary\n",
    "from torchvision import datasets, transforms\n",
    "from torchvision.transforms import Compose, Resize, ToTensor\n",
    "from torch.utils.data import DataLoader, random_split\n",
    "from sklearn.model_selection import train_test_split\n",
    "from sklearn.metrics import confusion_matrix, classification_report, accuracy_score\n",
    "from torch.optim.lr_scheduler import ReduceLROnPlateau\n",
    "\n",
    "\n",
    "# Third-party imports\n",
    "from einops import rearrange, reduce, repeat\n",
    "from einops.layers.torch import Rearrange, Reduce\n",
    "from PIL import Image\n",
    "from tqdm import tqdm\n",
    "\n",
    "# Set seed for reproducibility\n",
    "torch.manual_seed(42)\n",
    "np.random.seed(42)"
   ]
  },
  {
   "cell_type": "code",
   "execution_count": 43,
   "metadata": {},
   "outputs": [],
   "source": [
    "# Function that sets device to either Cuda (GPU), MPS (Apple Silicon GPU), or CPU\n",
    "def set_device():\n",
    "    # Set device: either Cuda (GPU), MPS (Apple Silicon GPU), or CPU\n",
    "    device = (\n",
    "        \"cuda\"\n",
    "        if torch.cuda.is_available()\n",
    "        else \"mps\"\n",
    "        if torch.backends.mps.is_available()\n",
    "        else \"cpu\"\n",
    "    )\n",
    "    print(f\"Using {device} device\")\n",
    "    return device"
   ]
  },
  {
   "cell_type": "code",
   "execution_count": 44,
   "metadata": {},
   "outputs": [],
   "source": [
    "def simple_transform():\n",
    "    '''Return a simple transformation for validation/testing.'''\n",
    "    transform = transforms.Compose([\n",
    "        transforms.ToTensor(),\n",
    "        transforms.Normalize((0.5, 0.5, 0.5), (0.5, 0.5, 0.5))\n",
    "    ])\n",
    "    return transform"
   ]
  },
  {
   "cell_type": "code",
   "execution_count": 45,
   "metadata": {},
   "outputs": [],
   "source": [
    "def data_loader(dataset: str, batch_size: int, image_size: int, augment: bool = True):\n",
    "    '''\n",
    "    Function that takes in a dataset and returns train and test dataloaders along with the hyperparameters\n",
    "    associated with the dataset.\n",
    "\n",
    "    Parameters:\n",
    "        dataset (str): Name of dataset to load. Options: MNIST, CIFAR10, CIFAR100\n",
    "        batch_size (int): Batch size for dataloaders\n",
    "        augment (bool): Whether to augment training data or not\n",
    "        \n",
    "    Returns:\n",
    "        train_loader (DataLoader): Dataloader for training set\n",
    "        val_loader (DataLoader): Dataloader for validation set\n",
    "        test_loader (DataLoader): Dataloader for test set\n",
    "        num_classes (int): Number of classes in dataset\n",
    "        image_size (int): Size of image in dataset\n",
    "        batch_size (int): Batch size for dataloaders\n",
    "    '''\n",
    "\n",
    "    base_train_transforms = [transforms.Resize((image_size, image_size)), transforms.ToTensor()]\n",
    "    if dataset == \"MNIST\":\n",
    "        base_train_transforms.append(transforms.Normalize((0.5,), (0.5,)))\n",
    "    elif dataset == \"CIFAR10\":\n",
    "        mean, std = (0.4914, 0.4822, 0.4465), (0.2470, 0.2435, 0.2616)\n",
    "        base_train_transforms.append(transforms.Normalize(mean, std))\n",
    "    elif dataset == \"CIFAR100\":\n",
    "        mean, std = (0.5070, 0.4865, 0.4409), (0.2673, 0.2564, 0.2762)\n",
    "        base_train_transforms.append(transforms.Normalize(mean, std))\n",
    "\n",
    "    # Additional augmentations for CIFAR10 and CIFAR100\n",
    "    additional_transforms = []\n",
    "    if augment:\n",
    "\n",
    "        additional_transforms = [\n",
    "            transforms.Resize((image_size, image_size)),\n",
    "            # transforms.RandomCrop(image_size, padding=4),\n",
    "            transforms.RandomHorizontalFlip(),\n",
    "            transforms.RandomRotation(3.6),\n",
    "            transforms.ColorJitter(brightness=0.2, contrast=0.2, saturation=0.2, hue=0.1),\n",
    "            transforms.RandomAffine(degrees=0, scale=(0.8, 1.2)),\n",
    "\n",
    "        ]\n",
    "    \n",
    "    dataset_config = {\n",
    "        'MNIST': {\n",
    "            'num_classes': 10,\n",
    "            'default_image_size': 28,\n",
    "            'batch_size': batch_size,  # Use the batch_size parameter\n",
    "            'train_transform': transforms.Compose(base_train_transforms),\n",
    "            'test_transform': transforms.Compose([\n",
    "                transforms.Resize((image_size, image_size)),\n",
    "                transforms.ToTensor(),\n",
    "                transforms.Normalize((0.5,), (0.5,))\n",
    "            ])\n",
    "        },\n",
    "        'CIFAR10': {\n",
    "            'num_classes': 10,\n",
    "            'default_image_size': 32,\n",
    "            'batch_size': batch_size,\n",
    "            'train_transform': transforms.Compose(additional_transforms + base_train_transforms),\n",
    "            'test_transform': transforms.Compose([\n",
    "                transforms.Resize((image_size, image_size)),\n",
    "                transforms.ToTensor(),\n",
    "                transforms.Normalize((0.4914, 0.4822, 0.4465), (0.2470, 0.2435, 0.2616))\n",
    "            ])\n",
    "        },\n",
    "        'CIFAR100': {\n",
    "            'num_classes': 100,\n",
    "            'default_image_size': 32,\n",
    "            'batch_size': batch_size,\n",
    "            'train_transform': transforms.Compose(additional_transforms + base_train_transforms),\n",
    "            'test_transform': transforms.Compose([\n",
    "                transforms.Resize((image_size, image_size)),\n",
    "                transforms.ToTensor(),\n",
    "                transforms.Normalize((0.5070, 0.4865, 0.4409), (0.2673, 0.2564, 0.2762))\n",
    "            ])\n",
    "        }\n",
    "    }    \n",
    "\n",
    "    # Ensure dataset is valid\n",
    "    if dataset not in dataset_config:\n",
    "        raise ValueError(f\"Unsupported dataset: {dataset}. Supported datasets are: {', '.join(dataset_config.keys())}\")\n",
    "\n",
    "    # Access config\n",
    "    cfg = dataset_config[dataset]\n",
    "\n",
    "    # Print loading info\n",
    "    print(f'Loading {dataset} dataset...')\n",
    "\n",
    "    # Load data\n",
    "    if dataset == 'MNIST':\n",
    "        dataset_cls = datasets.MNIST\n",
    "    elif dataset == 'CIFAR10':\n",
    "        dataset_cls = datasets.CIFAR10\n",
    "    else:\n",
    "        dataset_cls = datasets.CIFAR100\n",
    "\n",
    "    train_dataset_full = dataset_cls(f'../data/{dataset}_data/', train=True, download=True, transform=cfg['train_transform'])\n",
    "    test_dataset = dataset_cls(f'../data/{dataset}_data/', train=False, download=True, transform=cfg['test_transform'])\n",
    "\n",
    "    # Split training dataset into training and validation sets\n",
    "    train_size = int(0.8 * len(train_dataset_full))\n",
    "    val_size = len(train_dataset_full) - train_size\n",
    "    train_dataset, val_dataset = random_split(train_dataset_full, [train_size, val_size])\n",
    "\n",
    "    # Compute optimal number of workers\n",
    "    num_workers = min(4, os.cpu_count())\n",
    "\n",
    "    # Create data loaders\n",
    "    train_loader = DataLoader(train_dataset, batch_size=cfg['batch_size'], shuffle=True, num_workers=num_workers)\n",
    "    val_loader = DataLoader(val_dataset, batch_size=cfg['batch_size'], shuffle=True, num_workers=num_workers)\n",
    "    test_loader = DataLoader(test_dataset, batch_size=cfg['batch_size'], shuffle=False, num_workers=num_workers)\n",
    "\n",
    "    return train_loader, val_loader, test_loader, cfg['num_classes'], cfg['default_image_size'], batch_size\n"
   ]
  },
  {
   "cell_type": "code",
   "execution_count": 46,
   "metadata": {},
   "outputs": [],
   "source": [
    "class PatchEmbedding(nn.Module):\n",
    "    '''\n",
    "    Class that creates patch embeddings for images\n",
    "    (image to patch embeddings).\n",
    "\n",
    "    Parameters:\n",
    "        image_size (int): Size of image\n",
    "        patch_size (int): Size of patch\n",
    "        in_channels (int): Number of input channels\n",
    "        embed_dim (int): Embedding dimension\n",
    "\n",
    "    Returns:\n",
    "        x (Tensor): Patch embeddings\n",
    "    '''\n",
    "    def __init__(self, \n",
    "                 image_size: int, \n",
    "                 patch_size: int, \n",
    "                 in_channels: int, \n",
    "                 embed_dim: int):\n",
    "        super().__init__()\n",
    "        self.num_patches = (image_size // patch_size) ** 2\n",
    "\n",
    "        self.projection = nn.Conv2d(\n",
    "            in_channels=in_channels,\n",
    "            out_channels=embed_dim,\n",
    "            kernel_size=patch_size,\n",
    "            stride=patch_size\n",
    "        )\n",
    "\n",
    "    def forward(self, x: Tensor) -> Tensor:\n",
    "        \"\"\"\n",
    "        Converts an input image tensor into patch embeddings.\n",
    "\n",
    "        Args:\n",
    "            x (Tensor): Input image tensor of shape (B, C, H, W).\n",
    "\n",
    "        Returns:\n",
    "            Tensor: The patch embeddings of shape (B, num_patches, embed_dim).\n",
    "        \"\"\"\n",
    "        x = self.projection(x).flatten(2).transpose(1, 2)\n",
    "\n",
    "        return x"
   ]
  },
  {
   "cell_type": "code",
   "execution_count": 47,
   "metadata": {},
   "outputs": [],
   "source": [
    "class Attention(nn.Module):\n",
    "    '''\n",
    "    Class that creates an attention layer.\n",
    "\n",
    "    Parameters:\n",
    "        dim (int): Dimension of input\n",
    "        heads (int): Number of heads\n",
    "        dim_head (int): Dimension of each head\n",
    "        dropout (float): Dropout probability\n",
    "\n",
    "    Returns:\n",
    "        x (Tensor): Output of attention layer\n",
    "    '''\n",
    "    \n",
    "    def __init__(self, \n",
    "                dim: int, \n",
    "                heads: int, \n",
    "                dim_head: int, \n",
    "                dropout: float=0.):\n",
    "        super().__init__()\n",
    "        \n",
    "        self.heads = heads\n",
    "        self.dim_head = dim_head\n",
    "        self.scale = dim_head ** -0.5\n",
    "\n",
    "        # Linear layer to get Q, K, V\n",
    "        self.qkv = nn.Linear(dim, dim * 3, bias=False)\n",
    "        self.attend = nn.Softmax(dim=-1)\n",
    "        self.proj = nn.Linear(dim, dim)\n",
    "        self.dropout = nn.Dropout(dropout)\n",
    "\n",
    "    def forward(self, x: torch.Tensor) -> torch.Tensor:\n",
    "        B, N, C = x.shape\n",
    "        \n",
    "        # Obtain Q, K, V from input tensor x\n",
    "        qkv = self.qkv(x).reshape(B, N, 3, self.heads, self.dim_head).permute(2, 0, 3, 1, 4)\n",
    "        q, k, v = qkv[0], qkv[1], qkv[2]\n",
    "        \n",
    "        # Calculate attention scores and apply scaling\n",
    "        dots = torch.einsum('bhid,bhjd->bhij', q, k) * self.scale\n",
    "        \n",
    "        # Softmax to get attention weights\n",
    "        attn = self.attend(dots)\n",
    "        \n",
    "        # Calculate the output tensor\n",
    "        out = torch.einsum('bhij,bhjd->bhid', attn, v).reshape(B, N, C)\n",
    "        out = self.proj(out)\n",
    "        return out\n"
   ]
  },
  {
   "cell_type": "code",
   "execution_count": 48,
   "metadata": {},
   "outputs": [],
   "source": [
    "class MLP(nn.Module):\n",
    "    '''\n",
    "    Class that creates a multilayer perceptron (MLP).\n",
    "\n",
    "    Parameters:\n",
    "        in_features (int): Number of input features\n",
    "        hidden_features (int, optional): Number of hidden features. Defaults to in_features.\n",
    "        out_features (int, optional): Number of output features. Defaults to in_features.\n",
    "        activation (nn.Module, optional): Activation function. Defaults to nn.GELU().\n",
    "        drop (float, optional): Dropout probability. Defaults to 0.\n",
    "\n",
    "    Returns:\n",
    "        x (Tensor): Output of MLP\n",
    "    '''\n",
    "    def __init__(self, \n",
    "                 in_features: int, \n",
    "                 hidden_features: int = None, \n",
    "                 out_features: int = None, \n",
    "                 activation: nn.Module = nn.GELU(),\n",
    "                 drop: float = 0.):\n",
    "        super().__init__()\n",
    "        \n",
    "        hidden_features = hidden_features or in_features\n",
    "        out_features = out_features or in_features\n",
    "\n",
    "        self.fc1 = nn.Linear(in_features, hidden_features)\n",
    "        self.activation = activation\n",
    "        self.fc2 = nn.Linear(hidden_features, out_features)\n",
    "        self.dropout = nn.Dropout(drop)\n",
    "\n",
    "    def forward(self, x):\n",
    "        x = self.fc1(x)\n",
    "        x = self.activation(x)\n",
    "        x = self.fc2(x)\n",
    "        x = self.dropout(x)\n",
    "        return x\n"
   ]
  },
  {
   "cell_type": "code",
   "execution_count": 49,
   "metadata": {},
   "outputs": [],
   "source": [
    "class TransformerEncoderBlock(nn.Module):\n",
    "    '''\n",
    "    Class that creates a transformer encoder block.\n",
    "\n",
    "    Parameters:\n",
    "        dim (int): Embedding dimension\n",
    "        heads (int): Number of heads\n",
    "        dim_head (int): Dimension of each head\n",
    "        mlp_dim (int): Dimension of MLP\n",
    "        dropout (float): Dropout probability\n",
    "\n",
    "    Returns:\n",
    "        x (Tensor): Output of transformer encoder block\n",
    "    '''\n",
    "    def __init__(self, \n",
    "                 dim: int, \n",
    "                 heads: int, \n",
    "                 dim_head: int, \n",
    "                 mlp_dim: int, \n",
    "                 dropout: float = 0.):\n",
    "        super().__init__()\n",
    "        \n",
    "        # Layer normalization followed by attention (with residual)\n",
    "        self.norm1 = nn.LayerNorm(dim)\n",
    "        self.attn = Attention(dim, heads=heads, dim_head=dim_head, dropout=dropout)\n",
    "        self.dropout1 = nn.Dropout(dropout)\n",
    "        \n",
    "        # Layer normalization followed by feed-forward (with residual)\n",
    "        self.norm2 = nn.LayerNorm(dim)\n",
    "        self.mlp = MLP(in_features=dim, hidden_features=mlp_dim, out_features=dim, drop=dropout)\n",
    "        self.dropout2 = nn.Dropout(dropout)\n",
    "\n",
    "    def forward(self, x: torch.Tensor) -> torch.Tensor:\n",
    "        # Apply attention, add residual connection, and apply dropout\n",
    "        x = x + self.dropout1(self.attn(self.norm1(x)))\n",
    "        \n",
    "        # Apply MLP, add residual connection, and apply dropout\n",
    "        x = x + self.dropout2(self.mlp(self.norm2(x)))\n",
    "        \n",
    "        return x\n"
   ]
  },
  {
   "cell_type": "code",
   "execution_count": 50,
   "metadata": {},
   "outputs": [],
   "source": [
    "class VisionTransformer(nn.Module):\n",
    "    '''\n",
    "    Vision transformer architecture.\n",
    "\n",
    "    Parameters:\n",
    "        image_size (int): Size of image\n",
    "        patch_size (int): Size of patch\n",
    "        in_channels (int): Number of input channels\n",
    "        embed_dim (int): Embedding dimension\n",
    "        depth (int): Depth\n",
    "        heads (int): Number of heads\n",
    "        mlp_dim (int): Dimension of MLP\n",
    "        dropout (float): Dropout probability\n",
    "        num_classes (int): Number of classes\n",
    "\n",
    "    Returns:\n",
    "        x (Tensor): Output of VisionTransformer\n",
    "    '''\n",
    "\n",
    "    def __init__(self, \n",
    "                 image_size: int, \n",
    "                 patch_size: int, \n",
    "                 in_channels: int, \n",
    "                 embed_dim: int, \n",
    "                 depth: int, \n",
    "                 heads: int, \n",
    "                 mlp_dim: int,\n",
    "                 num_classes: int, \n",
    "                 dropout: float = 0., \n",
    "                 mlp_head_units = [2048, 1024]):\n",
    "        super().__init__()        \n",
    "        # Patch embedding layer\n",
    "        self.patch_embed = PatchEmbedding(image_size=image_size, patch_size=patch_size, in_channels=in_channels, embed_dim=embed_dim)\n",
    "        # Initializing cls_token and pos_embed with random values\n",
    "        self.cls_token = nn.Parameter(torch.randn(1, 1, embed_dim))\n",
    "        # Calculate the number of patches\n",
    "        num_patches = (image_size // patch_size) ** 2\n",
    "        self.pos_embed = nn.Parameter(torch.zeros(1, num_patches + 1, embed_dim))  # +1 for the cls_token --> initialising to zeros seems to work better than random values\n",
    "        # self.pos_embed = nn.Parameter(torch.randn(1, num_patches + 1, embed_dim))  # +1 for the cls_token\n",
    "        \n",
    "        self.dropout = nn.Dropout(dropout)\n",
    "        self.transformer_encoder = nn.ModuleList([TransformerEncoderBlock(dim=embed_dim, heads=heads, dim_head=embed_dim // heads, mlp_dim=mlp_dim, dropout=dropout) for _ in range(depth)])\n",
    "        self.norm = nn.LayerNorm(embed_dim)\n",
    "        self.mlp_head = nn.Sequential(\n",
    "            nn.Linear(embed_dim, mlp_head_units[0]),\n",
    "            nn.ReLU(),\n",
    "            nn.Dropout(dropout),\n",
    "            nn.Linear(mlp_head_units[0], mlp_head_units[1]),\n",
    "            nn.ReLU(),\n",
    "            nn.Dropout(dropout),\n",
    "            nn.Linear(mlp_head_units[1], num_classes)\n",
    "        )\n",
    "\n",
    "    def forward(self, x):\n",
    "        B = x.shape[0]  # batch_size\n",
    "        x = self.patch_embed(x)\n",
    "        \n",
    "        cls_tokens = repeat(self.cls_token, '() n d -> b n d', b=B)\n",
    "        x = torch.cat((cls_tokens, x), dim=1)\n",
    "        \n",
    "        assert x.shape[1] == self.pos_embed.shape[1], f\"Positional embeddings don't match the input patches. x.shape: {x.shape} pos_embed.shape: {self.pos_embed.shape}\"\n",
    "        \n",
    "        x = x + self.pos_embed\n",
    "        x = self.dropout(x)\n",
    "\n",
    "        for transformer_encoder in self.transformer_encoder:\n",
    "            x = transformer_encoder(x)\n",
    "\n",
    "        x = self.norm(x)\n",
    "        x = x[:, 0]  # Take the cls_token representation\n",
    "        x = self.mlp_head(x)\n",
    "\n",
    "        return x\n",
    "\n"
   ]
  },
  {
   "cell_type": "code",
   "execution_count": 51,
   "metadata": {},
   "outputs": [],
   "source": [
    "def train(model, train_loader, val_loader, criterion, optimizer, device, model_name,epochs=10, scheduler=None, patience=None):\n",
    "    '''\n",
    "    Function that trains the model.\n",
    "\n",
    "    Parameters:\n",
    "        model (nn.Module): Model to train\n",
    "        train_loader (DataLoader): Dataloader for training set\n",
    "        val_loader (DataLoader): Dataloader for validation set\n",
    "        criterion (nn.Module): Loss function\n",
    "        optimizer (nn.Module): Optimizer\n",
    "        device (str): Device to use\n",
    "        epochs (int): Number of epochs\n",
    "        scheduler (nn.Module): Learning rate scheduler\n",
    "        patience (int): Number of epochs to wait before early stopping\n",
    "        model_name (str): Name of model\n",
    "\n",
    "    Returns:\n",
    "        model (nn.Module): Trained model\n",
    "        train_losses (list): Training losses\n",
    "        val_losses (list): Validation losses\n",
    "        train_acc (list): Training accuracy\n",
    "        val_acc (list): Validation accuracy\n",
    "    '''\n",
    "    \n",
    "    # Set model to training mode\n",
    "    model.train()\n",
    "\n",
    "    # Initialize lists to store losses and accuracy\n",
    "    train_losses = []\n",
    "    val_losses = []\n",
    "    train_acc = []\n",
    "    val_acc = []\n",
    "    best_val_loss = np.inf\n",
    "\n",
    "    epochs_without_improvement = 0  # for early stopping\n",
    "\n",
    "    # Record the start time for training\n",
    "    start_time = time.time()\n",
    "\n",
    "    for epoch in range(epochs):\n",
    "        epoch_train_loss = 0\n",
    "        epoch_train_acc = 0\n",
    "        epoch_val_loss = 0\n",
    "        epoch_val_acc = 0\n",
    "\n",
    "        # Training\n",
    "        for inputs, labels in tqdm(train_loader, desc=f\"Epoch {epoch+1}/{epochs} [Training]\"):\n",
    "            inputs, labels = inputs.to(device), labels.to(device)\n",
    "            optimizer.zero_grad()\n",
    "            outputs = model(inputs).to(device)\n",
    "            loss = criterion(outputs, labels)\n",
    "            loss.backward()\n",
    "            optimizer.step()\n",
    "            epoch_train_loss += loss.item() * inputs.size(0)\n",
    "            _, preds = torch.max(outputs, 1)\n",
    "            epoch_train_acc += torch.sum(preds == labels.data)\n",
    "\n",
    "        # Validation\n",
    "        model.eval()  # <-- set model to eval mode for validation\n",
    "        for inputs, labels in tqdm(val_loader, desc=f\"Epoch {epoch+1}/{epochs} [Validation]\"):\n",
    "            inputs, labels = inputs.to(device), labels.to(device)\n",
    "            outputs = model(inputs).to(device)\n",
    "            loss = criterion(outputs, labels)\n",
    "            epoch_val_loss += loss.item() * inputs.size(0)\n",
    "            _, preds = torch.max(outputs, 1)\n",
    "            epoch_val_acc += torch.sum(preds == labels.data)\n",
    "        model.train()  # <-- set model back to train mode\n",
    "\n",
    "        # Average metrics\n",
    "        epoch_train_loss /= len(train_loader.dataset)\n",
    "        epoch_train_acc = epoch_train_acc.float() / len(train_loader.dataset)\n",
    "        epoch_val_loss /= len(val_loader.dataset)\n",
    "        epoch_val_acc = epoch_val_acc.float() / len(val_loader.dataset)\n",
    "\n",
    "        if scheduler:\n",
    "            scheduler.step(epoch_val_loss)\n",
    "\n",
    "        if epoch_val_loss < best_val_loss:\n",
    "            best_val_loss = epoch_val_loss\n",
    "            best_model_wts = copy.deepcopy(model.state_dict())\n",
    "            epochs_without_improvement = 0  # reset the count\n",
    "        else:\n",
    "            epochs_without_improvement += 1\n",
    "\n",
    "        train_losses.append(epoch_train_loss)\n",
    "        val_losses.append(epoch_val_loss)\n",
    "        train_acc.append(epoch_train_acc)\n",
    "        val_acc.append(epoch_val_acc)\n",
    "\n",
    "        print(f'Epoch {epoch+1}/{epochs} - '\n",
    "              f'Train Loss: {epoch_train_loss:.4f}, '\n",
    "              f'Train Acc: {epoch_train_acc:.4f}, '\n",
    "              f'Val Loss: {epoch_val_loss:.4f}, '\n",
    "              f'Val Acc: {epoch_val_acc:.4f}')\n",
    "\n",
    "        # Early stopping\n",
    "        if patience and epochs_without_improvement == patience:\n",
    "            print(\"Early stopping due to no improvement in validation loss.\")\n",
    "            break\n",
    "\n",
    "    # Record the end time for training\n",
    "    end_time = time.time()\n",
    "    # Calculate the total training time\n",
    "    total_time_seconds = end_time - start_time\n",
    "    if total_time_seconds < 60:\n",
    "        print(f\"Total training time: {total_time_seconds:.2f} seconds\")\n",
    "    else:\n",
    "        total_time_minutes = total_time_seconds / 60\n",
    "        print(f\"Total training time: {total_time_minutes:.2f} minutes\")\n",
    "    \n",
    "    model.load_state_dict(best_model_wts)\n",
    "    # save trained model\n",
    "    torch.save(model.state_dict(), f'../trained_models/{model_name}.pth')\n",
    "\n",
    "    return model, train_losses, val_losses, train_acc, val_acc\n"
   ]
  },
  {
   "cell_type": "code",
   "execution_count": 52,
   "metadata": {},
   "outputs": [
    {
     "name": "stdout",
     "output_type": "stream",
     "text": [
      "Using mps device\n",
      "Loading CIFAR100 dataset...\n"
     ]
    },
    {
     "name": "stdout",
     "output_type": "stream",
     "text": [
      "Files already downloaded and verified\n",
      "Files already downloaded and verified\n"
     ]
    },
    {
     "name": "stderr",
     "output_type": "stream",
     "text": [
      "Epoch 1/100 [Training]: 100%|██████████| 157/157 [00:54<00:00,  2.86it/s]\n",
      "Epoch 1/100 [Validation]: 100%|██████████| 40/40 [00:30<00:00,  1.30it/s]\n"
     ]
    },
    {
     "name": "stdout",
     "output_type": "stream",
     "text": [
      "Epoch 1/100 - Train Loss: 4.3066, Train Acc: 0.0400, Val Loss: 4.1651, Val Acc: 0.0550\n"
     ]
    },
    {
     "name": "stderr",
     "output_type": "stream",
     "text": [
      "Epoch 2/100 [Training]: 100%|██████████| 157/157 [00:54<00:00,  2.91it/s]\n",
      "Epoch 2/100 [Validation]: 100%|██████████| 40/40 [00:30<00:00,  1.30it/s]\n"
     ]
    },
    {
     "name": "stdout",
     "output_type": "stream",
     "text": [
      "Epoch 2/100 - Train Loss: 4.0617, Train Acc: 0.0691, Val Loss: 4.0109, Val Acc: 0.0771\n"
     ]
    },
    {
     "name": "stderr",
     "output_type": "stream",
     "text": [
      "Epoch 3/100 [Training]: 100%|██████████| 157/157 [00:54<00:00,  2.90it/s]\n",
      "Epoch 3/100 [Validation]: 100%|██████████| 40/40 [00:30<00:00,  1.31it/s]\n"
     ]
    },
    {
     "name": "stdout",
     "output_type": "stream",
     "text": [
      "Epoch 3/100 - Train Loss: 3.8970, Train Acc: 0.0916, Val Loss: 3.8267, Val Acc: 0.1059\n"
     ]
    },
    {
     "name": "stderr",
     "output_type": "stream",
     "text": [
      "Epoch 4/100 [Training]: 100%|██████████| 157/157 [00:53<00:00,  2.93it/s]\n",
      "Epoch 4/100 [Validation]: 100%|██████████| 40/40 [00:30<00:00,  1.31it/s]\n"
     ]
    },
    {
     "name": "stdout",
     "output_type": "stream",
     "text": [
      "Epoch 4/100 - Train Loss: 3.7681, Train Acc: 0.1122, Val Loss: 3.7670, Val Acc: 0.1110\n"
     ]
    },
    {
     "name": "stderr",
     "output_type": "stream",
     "text": [
      "Epoch 5/100 [Training]: 100%|██████████| 157/157 [00:53<00:00,  2.93it/s]\n",
      "Epoch 5/100 [Validation]: 100%|██████████| 40/40 [00:30<00:00,  1.31it/s]\n"
     ]
    },
    {
     "name": "stdout",
     "output_type": "stream",
     "text": [
      "Epoch 5/100 - Train Loss: 3.6626, Train Acc: 0.1313, Val Loss: 3.6893, Val Acc: 0.1302\n"
     ]
    },
    {
     "name": "stderr",
     "output_type": "stream",
     "text": [
      "Epoch 6/100 [Training]: 100%|██████████| 157/157 [00:53<00:00,  2.91it/s]\n",
      "Epoch 6/100 [Validation]: 100%|██████████| 40/40 [00:31<00:00,  1.29it/s]\n"
     ]
    },
    {
     "name": "stdout",
     "output_type": "stream",
     "text": [
      "Epoch 6/100 - Train Loss: 3.5687, Train Acc: 0.1472, Val Loss: 3.5719, Val Acc: 0.1509\n"
     ]
    },
    {
     "name": "stderr",
     "output_type": "stream",
     "text": [
      "Epoch 7/100 [Training]: 100%|██████████| 157/157 [00:54<00:00,  2.90it/s]\n",
      "Epoch 7/100 [Validation]: 100%|██████████| 40/40 [00:30<00:00,  1.31it/s]\n"
     ]
    },
    {
     "name": "stdout",
     "output_type": "stream",
     "text": [
      "Epoch 7/100 - Train Loss: 3.4968, Train Acc: 0.1585, Val Loss: 3.4868, Val Acc: 0.1704\n"
     ]
    },
    {
     "name": "stderr",
     "output_type": "stream",
     "text": [
      "Epoch 8/100 [Training]: 100%|██████████| 157/157 [00:54<00:00,  2.90it/s]\n",
      "Epoch 8/100 [Validation]: 100%|██████████| 40/40 [00:30<00:00,  1.31it/s]\n"
     ]
    },
    {
     "name": "stdout",
     "output_type": "stream",
     "text": [
      "Epoch 8/100 - Train Loss: 3.4363, Train Acc: 0.1708, Val Loss: 3.4952, Val Acc: 0.1668\n"
     ]
    },
    {
     "name": "stderr",
     "output_type": "stream",
     "text": [
      "Epoch 9/100 [Training]: 100%|██████████| 157/157 [00:53<00:00,  2.92it/s]\n",
      "Epoch 9/100 [Validation]: 100%|██████████| 40/40 [00:30<00:00,  1.31it/s]\n"
     ]
    },
    {
     "name": "stdout",
     "output_type": "stream",
     "text": [
      "Epoch 9/100 - Train Loss: 3.3775, Train Acc: 0.1813, Val Loss: 3.4168, Val Acc: 0.1785\n"
     ]
    },
    {
     "name": "stderr",
     "output_type": "stream",
     "text": [
      "Epoch 10/100 [Training]: 100%|██████████| 157/157 [00:54<00:00,  2.88it/s]\n",
      "Epoch 10/100 [Validation]: 100%|██████████| 40/40 [00:30<00:00,  1.31it/s]\n"
     ]
    },
    {
     "name": "stdout",
     "output_type": "stream",
     "text": [
      "Epoch 10/100 - Train Loss: 3.3281, Train Acc: 0.1908, Val Loss: 3.3996, Val Acc: 0.1848\n"
     ]
    },
    {
     "name": "stderr",
     "output_type": "stream",
     "text": [
      "Epoch 11/100 [Training]: 100%|██████████| 157/157 [00:54<00:00,  2.88it/s]\n",
      "Epoch 11/100 [Validation]: 100%|██████████| 40/40 [00:30<00:00,  1.29it/s]\n"
     ]
    },
    {
     "name": "stdout",
     "output_type": "stream",
     "text": [
      "Epoch 11/100 - Train Loss: 3.2849, Train Acc: 0.1962, Val Loss: 3.3770, Val Acc: 0.1809\n"
     ]
    },
    {
     "name": "stderr",
     "output_type": "stream",
     "text": [
      "Epoch 12/100 [Training]: 100%|██████████| 157/157 [00:53<00:00,  2.93it/s]\n",
      "Epoch 12/100 [Validation]: 100%|██████████| 40/40 [00:31<00:00,  1.28it/s]\n"
     ]
    },
    {
     "name": "stdout",
     "output_type": "stream",
     "text": [
      "Epoch 12/100 - Train Loss: 3.2532, Train Acc: 0.2027, Val Loss: 3.3401, Val Acc: 0.1962\n"
     ]
    },
    {
     "name": "stderr",
     "output_type": "stream",
     "text": [
      "Epoch 13/100 [Training]: 100%|██████████| 157/157 [01:02<00:00,  2.52it/s]\n",
      "Epoch 13/100 [Validation]: 100%|██████████| 40/40 [00:31<00:00,  1.28it/s]\n"
     ]
    },
    {
     "name": "stdout",
     "output_type": "stream",
     "text": [
      "Epoch 13/100 - Train Loss: 3.2037, Train Acc: 0.2120, Val Loss: 3.3426, Val Acc: 0.1991\n"
     ]
    },
    {
     "name": "stderr",
     "output_type": "stream",
     "text": [
      "Epoch 14/100 [Training]: 100%|██████████| 157/157 [00:53<00:00,  2.93it/s]\n",
      "Epoch 14/100 [Validation]: 100%|██████████| 40/40 [00:30<00:00,  1.30it/s]\n"
     ]
    },
    {
     "name": "stdout",
     "output_type": "stream",
     "text": [
      "Epoch 14/100 - Train Loss: 3.1691, Train Acc: 0.2204, Val Loss: 3.2793, Val Acc: 0.2078\n"
     ]
    },
    {
     "name": "stderr",
     "output_type": "stream",
     "text": [
      "Epoch 15/100 [Training]: 100%|██████████| 157/157 [00:54<00:00,  2.87it/s]\n",
      "Epoch 15/100 [Validation]: 100%|██████████| 40/40 [00:30<00:00,  1.30it/s]\n"
     ]
    },
    {
     "name": "stdout",
     "output_type": "stream",
     "text": [
      "Epoch 15/100 - Train Loss: 3.1283, Train Acc: 0.2228, Val Loss: 3.2804, Val Acc: 0.2062\n"
     ]
    },
    {
     "name": "stderr",
     "output_type": "stream",
     "text": [
      "Epoch 16/100 [Training]: 100%|██████████| 157/157 [00:53<00:00,  2.92it/s]\n",
      "Epoch 16/100 [Validation]: 100%|██████████| 40/40 [00:30<00:00,  1.31it/s]\n"
     ]
    },
    {
     "name": "stdout",
     "output_type": "stream",
     "text": [
      "Epoch 16/100 - Train Loss: 3.0913, Train Acc: 0.2341, Val Loss: 3.2561, Val Acc: 0.2141\n"
     ]
    },
    {
     "name": "stderr",
     "output_type": "stream",
     "text": [
      "Epoch 17/100 [Training]: 100%|██████████| 157/157 [00:53<00:00,  2.93it/s]\n",
      "Epoch 17/100 [Validation]: 100%|██████████| 40/40 [00:30<00:00,  1.30it/s]\n"
     ]
    },
    {
     "name": "stdout",
     "output_type": "stream",
     "text": [
      "Epoch 17/100 - Train Loss: 3.0638, Train Acc: 0.2387, Val Loss: 3.2376, Val Acc: 0.2176\n"
     ]
    },
    {
     "name": "stderr",
     "output_type": "stream",
     "text": [
      "Epoch 18/100 [Training]: 100%|██████████| 157/157 [00:53<00:00,  2.92it/s]\n",
      "Epoch 18/100 [Validation]: 100%|██████████| 40/40 [00:30<00:00,  1.31it/s]\n"
     ]
    },
    {
     "name": "stdout",
     "output_type": "stream",
     "text": [
      "Epoch 18/100 - Train Loss: 3.0175, Train Acc: 0.2446, Val Loss: 3.2164, Val Acc: 0.2229\n"
     ]
    },
    {
     "name": "stderr",
     "output_type": "stream",
     "text": [
      "Epoch 19/100 [Training]: 100%|██████████| 157/157 [00:54<00:00,  2.90it/s]\n",
      "Epoch 19/100 [Validation]: 100%|██████████| 40/40 [00:30<00:00,  1.30it/s]\n"
     ]
    },
    {
     "name": "stdout",
     "output_type": "stream",
     "text": [
      "Epoch 19/100 - Train Loss: 2.9876, Train Acc: 0.2505, Val Loss: 3.1836, Val Acc: 0.2268\n"
     ]
    },
    {
     "name": "stderr",
     "output_type": "stream",
     "text": [
      "Epoch 20/100 [Training]: 100%|██████████| 157/157 [00:53<00:00,  2.92it/s]\n",
      "Epoch 20/100 [Validation]: 100%|██████████| 40/40 [00:30<00:00,  1.30it/s]\n"
     ]
    },
    {
     "name": "stdout",
     "output_type": "stream",
     "text": [
      "Epoch 20/100 - Train Loss: 2.9491, Train Acc: 0.2590, Val Loss: 3.1986, Val Acc: 0.2268\n"
     ]
    },
    {
     "name": "stderr",
     "output_type": "stream",
     "text": [
      "Epoch 21/100 [Training]: 100%|██████████| 157/157 [00:54<00:00,  2.90it/s]\n",
      "Epoch 21/100 [Validation]: 100%|██████████| 40/40 [00:30<00:00,  1.31it/s]\n"
     ]
    },
    {
     "name": "stdout",
     "output_type": "stream",
     "text": [
      "Epoch 21/100 - Train Loss: 2.9181, Train Acc: 0.2633, Val Loss: 3.1419, Val Acc: 0.2363\n"
     ]
    },
    {
     "name": "stderr",
     "output_type": "stream",
     "text": [
      "Epoch 22/100 [Training]: 100%|██████████| 157/157 [00:54<00:00,  2.89it/s]\n",
      "Epoch 22/100 [Validation]: 100%|██████████| 40/40 [00:31<00:00,  1.28it/s]\n"
     ]
    },
    {
     "name": "stdout",
     "output_type": "stream",
     "text": [
      "Epoch 22/100 - Train Loss: 2.8918, Train Acc: 0.2667, Val Loss: 3.1506, Val Acc: 0.2397\n"
     ]
    },
    {
     "name": "stderr",
     "output_type": "stream",
     "text": [
      "Epoch 23/100 [Training]: 100%|██████████| 157/157 [00:55<00:00,  2.85it/s]\n",
      "Epoch 23/100 [Validation]: 100%|██████████| 40/40 [00:31<00:00,  1.29it/s]\n"
     ]
    },
    {
     "name": "stdout",
     "output_type": "stream",
     "text": [
      "Epoch 23/100 - Train Loss: 2.8617, Train Acc: 0.2745, Val Loss: 3.1424, Val Acc: 0.2402\n"
     ]
    },
    {
     "name": "stderr",
     "output_type": "stream",
     "text": [
      "Epoch 24/100 [Training]: 100%|██████████| 157/157 [00:54<00:00,  2.86it/s]\n",
      "Epoch 24/100 [Validation]: 100%|██████████| 40/40 [00:31<00:00,  1.29it/s]\n"
     ]
    },
    {
     "name": "stdout",
     "output_type": "stream",
     "text": [
      "Epoch 24/100 - Train Loss: 2.8275, Train Acc: 0.2816, Val Loss: 3.1321, Val Acc: 0.2411\n"
     ]
    },
    {
     "name": "stderr",
     "output_type": "stream",
     "text": [
      "Epoch 25/100 [Training]: 100%|██████████| 157/157 [00:54<00:00,  2.86it/s]\n",
      "Epoch 25/100 [Validation]: 100%|██████████| 40/40 [00:30<00:00,  1.30it/s]\n"
     ]
    },
    {
     "name": "stdout",
     "output_type": "stream",
     "text": [
      "Epoch 25/100 - Train Loss: 2.7959, Train Acc: 0.2873, Val Loss: 3.1430, Val Acc: 0.2421\n"
     ]
    },
    {
     "name": "stderr",
     "output_type": "stream",
     "text": [
      "Epoch 26/100 [Training]: 100%|██████████| 157/157 [00:55<00:00,  2.84it/s]\n",
      "Epoch 26/100 [Validation]: 100%|██████████| 40/40 [00:30<00:00,  1.30it/s]\n"
     ]
    },
    {
     "name": "stdout",
     "output_type": "stream",
     "text": [
      "Epoch 26/100 - Train Loss: 2.7639, Train Acc: 0.2909, Val Loss: 3.1083, Val Acc: 0.2471\n"
     ]
    },
    {
     "name": "stderr",
     "output_type": "stream",
     "text": [
      "Epoch 27/100 [Training]: 100%|██████████| 157/157 [00:55<00:00,  2.84it/s]\n",
      "Epoch 27/100 [Validation]: 100%|██████████| 40/40 [00:31<00:00,  1.28it/s]\n"
     ]
    },
    {
     "name": "stdout",
     "output_type": "stream",
     "text": [
      "Epoch 27/100 - Train Loss: 2.7266, Train Acc: 0.2991, Val Loss: 3.1118, Val Acc: 0.2481\n"
     ]
    },
    {
     "name": "stderr",
     "output_type": "stream",
     "text": [
      "Epoch 28/100 [Training]: 100%|██████████| 157/157 [00:55<00:00,  2.85it/s]\n",
      "Epoch 28/100 [Validation]: 100%|██████████| 40/40 [00:31<00:00,  1.29it/s]\n"
     ]
    },
    {
     "name": "stdout",
     "output_type": "stream",
     "text": [
      "Epoch 28/100 - Train Loss: 2.7057, Train Acc: 0.3009, Val Loss: 3.1046, Val Acc: 0.2477\n"
     ]
    },
    {
     "name": "stderr",
     "output_type": "stream",
     "text": [
      "Epoch 29/100 [Training]: 100%|██████████| 157/157 [00:55<00:00,  2.85it/s]\n",
      "Epoch 29/100 [Validation]: 100%|██████████| 40/40 [00:30<00:00,  1.29it/s]\n"
     ]
    },
    {
     "name": "stdout",
     "output_type": "stream",
     "text": [
      "Epoch 29/100 - Train Loss: 2.6720, Train Acc: 0.3088, Val Loss: 3.1086, Val Acc: 0.2568\n"
     ]
    },
    {
     "name": "stderr",
     "output_type": "stream",
     "text": [
      "Epoch 30/100 [Training]: 100%|██████████| 157/157 [00:55<00:00,  2.84it/s]\n",
      "Epoch 30/100 [Validation]: 100%|██████████| 40/40 [00:30<00:00,  1.30it/s]\n"
     ]
    },
    {
     "name": "stdout",
     "output_type": "stream",
     "text": [
      "Epoch 30/100 - Train Loss: 2.6480, Train Acc: 0.3167, Val Loss: 3.0999, Val Acc: 0.2547\n"
     ]
    },
    {
     "name": "stderr",
     "output_type": "stream",
     "text": [
      "Epoch 31/100 [Training]: 100%|██████████| 157/157 [00:54<00:00,  2.86it/s]\n",
      "Epoch 31/100 [Validation]: 100%|██████████| 40/40 [00:31<00:00,  1.29it/s]\n"
     ]
    },
    {
     "name": "stdout",
     "output_type": "stream",
     "text": [
      "Epoch 31/100 - Train Loss: 2.6019, Train Acc: 0.3226, Val Loss: 3.0817, Val Acc: 0.2506\n"
     ]
    },
    {
     "name": "stderr",
     "output_type": "stream",
     "text": [
      "Epoch 32/100 [Training]: 100%|██████████| 157/157 [00:54<00:00,  2.86it/s]\n",
      "Epoch 32/100 [Validation]: 100%|██████████| 40/40 [00:31<00:00,  1.29it/s]\n"
     ]
    },
    {
     "name": "stdout",
     "output_type": "stream",
     "text": [
      "Epoch 32/100 - Train Loss: 2.5787, Train Acc: 0.3272, Val Loss: 3.1024, Val Acc: 0.2579\n"
     ]
    },
    {
     "name": "stderr",
     "output_type": "stream",
     "text": [
      "Epoch 33/100 [Training]: 100%|██████████| 157/157 [00:54<00:00,  2.86it/s]\n",
      "Epoch 33/100 [Validation]: 100%|██████████| 40/40 [00:30<00:00,  1.29it/s]\n"
     ]
    },
    {
     "name": "stdout",
     "output_type": "stream",
     "text": [
      "Epoch 33/100 - Train Loss: 2.5489, Train Acc: 0.3311, Val Loss: 3.1058, Val Acc: 0.2609\n"
     ]
    },
    {
     "name": "stderr",
     "output_type": "stream",
     "text": [
      "Epoch 34/100 [Training]: 100%|██████████| 157/157 [00:55<00:00,  2.85it/s]\n",
      "Epoch 34/100 [Validation]: 100%|██████████| 40/40 [00:31<00:00,  1.28it/s]\n"
     ]
    },
    {
     "name": "stdout",
     "output_type": "stream",
     "text": [
      "Epoch 34/100 - Train Loss: 2.5174, Train Acc: 0.3396, Val Loss: 3.1310, Val Acc: 0.2586\n"
     ]
    },
    {
     "name": "stderr",
     "output_type": "stream",
     "text": [
      "Epoch 35/100 [Training]: 100%|██████████| 157/157 [00:55<00:00,  2.84it/s]\n",
      "Epoch 35/100 [Validation]: 100%|██████████| 40/40 [00:33<00:00,  1.20it/s]\n"
     ]
    },
    {
     "name": "stdout",
     "output_type": "stream",
     "text": [
      "Epoch 35/100 - Train Loss: 2.4843, Train Acc: 0.3453, Val Loss: 3.1473, Val Acc: 0.2597\n"
     ]
    },
    {
     "name": "stderr",
     "output_type": "stream",
     "text": [
      "Epoch 36/100 [Training]: 100%|██████████| 157/157 [00:55<00:00,  2.83it/s]\n",
      "Epoch 36/100 [Validation]: 100%|██████████| 40/40 [00:33<00:00,  1.19it/s]\n"
     ]
    },
    {
     "name": "stdout",
     "output_type": "stream",
     "text": [
      "Epoch 36/100 - Train Loss: 2.4523, Train Acc: 0.3559, Val Loss: 3.1107, Val Acc: 0.2596\n"
     ]
    },
    {
     "name": "stderr",
     "output_type": "stream",
     "text": [
      "Epoch 37/100 [Training]: 100%|██████████| 157/157 [00:55<00:00,  2.83it/s]\n",
      "Epoch 37/100 [Validation]: 100%|██████████| 40/40 [00:31<00:00,  1.28it/s]\n"
     ]
    },
    {
     "name": "stdout",
     "output_type": "stream",
     "text": [
      "Epoch 37/100 - Train Loss: 2.4110, Train Acc: 0.3623, Val Loss: 3.1118, Val Acc: 0.2621\n"
     ]
    },
    {
     "name": "stderr",
     "output_type": "stream",
     "text": [
      "Epoch 38/100 [Training]: 100%|██████████| 157/157 [00:54<00:00,  2.87it/s]\n",
      "Epoch 38/100 [Validation]: 100%|██████████| 40/40 [00:31<00:00,  1.26it/s]\n"
     ]
    },
    {
     "name": "stdout",
     "output_type": "stream",
     "text": [
      "Epoch 38/100 - Train Loss: 2.3793, Train Acc: 0.3680, Val Loss: 3.1353, Val Acc: 0.2602\n"
     ]
    },
    {
     "name": "stderr",
     "output_type": "stream",
     "text": [
      "Epoch 39/100 [Training]: 100%|██████████| 157/157 [00:54<00:00,  2.86it/s]\n",
      "Epoch 39/100 [Validation]: 100%|██████████| 40/40 [00:31<00:00,  1.28it/s]\n"
     ]
    },
    {
     "name": "stdout",
     "output_type": "stream",
     "text": [
      "Epoch 39/100 - Train Loss: 2.3414, Train Acc: 0.3752, Val Loss: 3.1451, Val Acc: 0.2610\n"
     ]
    },
    {
     "name": "stderr",
     "output_type": "stream",
     "text": [
      "Epoch 40/100 [Training]: 100%|██████████| 157/157 [00:55<00:00,  2.83it/s]\n",
      "Epoch 40/100 [Validation]: 100%|██████████| 40/40 [00:31<00:00,  1.27it/s]\n"
     ]
    },
    {
     "name": "stdout",
     "output_type": "stream",
     "text": [
      "Epoch 40/100 - Train Loss: 2.3030, Train Acc: 0.3851, Val Loss: 3.1329, Val Acc: 0.2638\n"
     ]
    },
    {
     "name": "stderr",
     "output_type": "stream",
     "text": [
      "Epoch 41/100 [Training]: 100%|██████████| 157/157 [00:57<00:00,  2.74it/s]\n",
      "Epoch 41/100 [Validation]: 100%|██████████| 40/40 [00:31<00:00,  1.26it/s]\n"
     ]
    },
    {
     "name": "stdout",
     "output_type": "stream",
     "text": [
      "Epoch 41/100 - Train Loss: 2.2707, Train Acc: 0.3891, Val Loss: 3.1586, Val Acc: 0.2610\n"
     ]
    },
    {
     "name": "stderr",
     "output_type": "stream",
     "text": [
      "Epoch 42/100 [Training]: 100%|██████████| 157/157 [00:57<00:00,  2.74it/s]\n",
      "Epoch 42/100 [Validation]: 100%|██████████| 40/40 [00:31<00:00,  1.26it/s]\n"
     ]
    },
    {
     "name": "stdout",
     "output_type": "stream",
     "text": [
      "Epoch 42/100 - Train Loss: 2.2399, Train Acc: 0.3973, Val Loss: 3.1700, Val Acc: 0.2610\n"
     ]
    },
    {
     "name": "stderr",
     "output_type": "stream",
     "text": [
      "Epoch 43/100 [Training]: 100%|██████████| 157/157 [00:55<00:00,  2.83it/s]\n",
      "Epoch 43/100 [Validation]: 100%|██████████| 40/40 [00:32<00:00,  1.24it/s]\n"
     ]
    },
    {
     "name": "stdout",
     "output_type": "stream",
     "text": [
      "Epoch 43/100 - Train Loss: 2.1954, Train Acc: 0.4057, Val Loss: 3.1819, Val Acc: 0.2591\n"
     ]
    },
    {
     "name": "stderr",
     "output_type": "stream",
     "text": [
      "Epoch 44/100 [Training]: 100%|██████████| 157/157 [00:55<00:00,  2.85it/s]\n",
      "Epoch 44/100 [Validation]: 100%|██████████| 40/40 [00:32<00:00,  1.25it/s]\n"
     ]
    },
    {
     "name": "stdout",
     "output_type": "stream",
     "text": [
      "Epoch 44/100 - Train Loss: 2.1508, Train Acc: 0.4156, Val Loss: 3.1827, Val Acc: 0.2638\n"
     ]
    },
    {
     "name": "stderr",
     "output_type": "stream",
     "text": [
      "Epoch 45/100 [Training]: 100%|██████████| 157/157 [00:55<00:00,  2.81it/s]\n",
      "Epoch 45/100 [Validation]: 100%|██████████| 40/40 [00:31<00:00,  1.25it/s]\n"
     ]
    },
    {
     "name": "stdout",
     "output_type": "stream",
     "text": [
      "Epoch 45/100 - Train Loss: 2.1351, Train Acc: 0.4182, Val Loss: 3.2117, Val Acc: 0.2615\n"
     ]
    },
    {
     "name": "stderr",
     "output_type": "stream",
     "text": [
      "Epoch 46/100 [Training]: 100%|██████████| 157/157 [01:02<00:00,  2.50it/s]\n",
      "Epoch 46/100 [Validation]: 100%|██████████| 40/40 [00:33<00:00,  1.19it/s]\n"
     ]
    },
    {
     "name": "stdout",
     "output_type": "stream",
     "text": [
      "Epoch 46/100 - Train Loss: 2.0878, Train Acc: 0.4284, Val Loss: 3.2313, Val Acc: 0.2673\n"
     ]
    },
    {
     "name": "stderr",
     "output_type": "stream",
     "text": [
      "Epoch 47/100 [Training]: 100%|██████████| 157/157 [00:56<00:00,  2.80it/s]\n",
      "Epoch 47/100 [Validation]: 100%|██████████| 40/40 [00:32<00:00,  1.24it/s]\n"
     ]
    },
    {
     "name": "stdout",
     "output_type": "stream",
     "text": [
      "Epoch 47/100 - Train Loss: 2.0570, Train Acc: 0.4372, Val Loss: 3.2537, Val Acc: 0.2599\n"
     ]
    },
    {
     "name": "stderr",
     "output_type": "stream",
     "text": [
      "Epoch 48/100 [Training]: 100%|██████████| 157/157 [00:55<00:00,  2.82it/s]\n",
      "Epoch 48/100 [Validation]: 100%|██████████| 40/40 [00:31<00:00,  1.25it/s]\n"
     ]
    },
    {
     "name": "stdout",
     "output_type": "stream",
     "text": [
      "Epoch 48/100 - Train Loss: 2.0031, Train Acc: 0.4480, Val Loss: 3.2703, Val Acc: 0.2667\n"
     ]
    },
    {
     "name": "stderr",
     "output_type": "stream",
     "text": [
      "Epoch 49/100 [Training]: 100%|██████████| 157/157 [00:56<00:00,  2.78it/s]\n",
      "Epoch 49/100 [Validation]: 100%|██████████| 40/40 [00:32<00:00,  1.23it/s]\n"
     ]
    },
    {
     "name": "stdout",
     "output_type": "stream",
     "text": [
      "Epoch 49/100 - Train Loss: 1.9689, Train Acc: 0.4555, Val Loss: 3.3196, Val Acc: 0.2584\n"
     ]
    },
    {
     "name": "stderr",
     "output_type": "stream",
     "text": [
      "Epoch 50/100 [Training]: 100%|██████████| 157/157 [00:59<00:00,  2.63it/s]\n",
      "Epoch 50/100 [Validation]: 100%|██████████| 40/40 [00:32<00:00,  1.22it/s]\n"
     ]
    },
    {
     "name": "stdout",
     "output_type": "stream",
     "text": [
      "Epoch 50/100 - Train Loss: 1.9405, Train Acc: 0.4603, Val Loss: 3.2944, Val Acc: 0.2621\n"
     ]
    },
    {
     "name": "stderr",
     "output_type": "stream",
     "text": [
      "Epoch 51/100 [Training]: 100%|██████████| 157/157 [01:33<00:00,  1.68it/s]\n",
      "Epoch 51/100 [Validation]: 100%|██████████| 40/40 [00:34<00:00,  1.17it/s]\n"
     ]
    },
    {
     "name": "stdout",
     "output_type": "stream",
     "text": [
      "Epoch 51/100 - Train Loss: 1.8857, Train Acc: 0.4743, Val Loss: 3.3111, Val Acc: 0.2718\n",
      "Early stopping due to no improvement in validation loss.\n",
      "Total training time: 74.23 minutes\n"
     ]
    }
   ],
   "source": [
    "# train the model\n",
    "dataset = \"CIFAR100\" # <-- change this parameter only! Options: MNIST, CIFAR10, CIFAR100\n",
    "\n",
    "model_name = f\"{dataset}_classifier\"\n",
    "in_channels = 1 if dataset == \"MNIST\" else 3\n",
    "num_classes = 100 if dataset == \"CIFAR100\" else 10\n",
    "learning_rate = 0.001\n",
    "weight_decay = 0.0001\n",
    "batch_size = 256\n",
    "num_epochs = 100\n",
    "image_size = 28 if dataset == \"MNIST\" else 32 # upscale CIFAR10 and CIFAR100 images for better performance -> INVESTIGATE\n",
    "patch_size = 7 if dataset == \"MNIST\" else 8 # keep the number of patches the same for all datasets to keep experiments controlled\n",
    "num_patches = (image_size // patch_size) ** 2\n",
    "projection_dim = 64\n",
    "num_heads = 4\n",
    "transformer_units = [projection_dim * 2, projection_dim]\n",
    "transformer_layers = 8 # depth\n",
    "mlp_head_units = [2048, 1024]\n",
    "patience_value = 10 if dataset == \"MNIST\" else 20 # default: 10 if not set\n",
    "dropout=0. # Adjust as necessary\n",
    "\n",
    "# Set device\n",
    "device = set_device()\n",
    "\n",
    "# Load data\n",
    "train_loader, val_loader, test_loader, num_classes, default_image_size, batch_size = data_loader(dataset, batch_size, image_size)\n",
    "\n",
    "patch_embed = PatchEmbedding(\n",
    "    image_size=image_size,\n",
    "    patch_size=patch_size,\n",
    "    in_channels=in_channels,\n",
    "    embed_dim=projection_dim\n",
    ")\n",
    "\n",
    "# Instantiate the classes\n",
    "attention = Attention(dim=projection_dim, heads=num_heads, dim_head=projection_dim // num_heads)\n",
    "mlp = MLP(in_features=projection_dim, hidden_features=transformer_units[0], out_features=transformer_units[1])\n",
    "transformer_encoder_block = TransformerEncoderBlock(dim=projection_dim, heads=num_heads, dim_head=projection_dim // num_heads, mlp_dim=transformer_units[0])\n",
    "\n",
    "# Initialize model\n",
    "model = VisionTransformer(\n",
    "    image_size=image_size,\n",
    "    patch_size=patch_size,\n",
    "    in_channels=in_channels,\n",
    "    embed_dim=projection_dim,\n",
    "    depth=transformer_layers,\n",
    "    heads=num_heads,\n",
    "    mlp_dim=mlp_head_units[0],\n",
    "    dropout=dropout,\n",
    "    num_classes=num_classes\n",
    ").to(device)\n",
    "\n",
    "# Print model summary\n",
    "# summary(model.cpu(), input_size=(in_channels, image_size, image_size))\n",
    "\n",
    "# Define loss function and optimizer\n",
    "criterion = nn.CrossEntropyLoss()\n",
    "optimizer = optim.Adam(model.parameters(), lr=learning_rate, weight_decay=weight_decay)\n",
    "\n",
    "scheduler = ReduceLROnPlateau(optimizer, 'min', patience=patience_value, factor=0.1, verbose=True)\n",
    "\n",
    "# Train model\n",
    "model, train_losses, val_losses, train_acc, val_acc = train(model, train_loader, val_loader, criterion, optimizer, device, model_name, epochs=num_epochs, scheduler=scheduler, patience=patience_value)"
   ]
  },
  {
   "cell_type": "code",
   "execution_count": null,
   "metadata": {},
   "outputs": [],
   "source": [
    "# PLACEHOLDER FOR TRAINING"
   ]
  },
  {
   "cell_type": "markdown",
   "metadata": {},
   "source": [
    "# Basic ViT on MNIST"
   ]
  },
  {
   "cell_type": "markdown",
   "metadata": {},
   "source": [
    "```\n",
    "Using mps device\n",
    "Loading MNIST dataset...\n",
    "Epoch 1/100 [Training]: 100%|██████████| 188/188 [00:34<00:00,  5.41it/s]\n",
    "Epoch 1/100 [Validation]: 100%|██████████| 47/47 [00:05<00:00,  9.38it/s]\n",
    "Epoch 1/100 - Train Loss: 0.9125, Train Acc: 0.6762, Val Loss: 0.3476, Val Acc: 0.8909\n",
    "Epoch 2/100 [Training]: 100%|██████████| 188/188 [00:31<00:00,  5.92it/s]\n",
    "Epoch 2/100 [Validation]: 100%|██████████| 47/47 [00:04<00:00, 10.04it/s]\n",
    "Epoch 2/100 - Train Loss: 0.2448, Train Acc: 0.9242, Val Loss: 0.2064, Val Acc: 0.9362\n",
    "Epoch 3/100 [Training]: 100%|██████████| 188/188 [00:31<00:00,  5.92it/s]\n",
    "Epoch 3/100 [Validation]: 100%|██████████| 47/47 [00:05<00:00,  9.40it/s]\n",
    "Epoch 3/100 - Train Loss: 0.1677, Train Acc: 0.9482, Val Loss: 0.1616, Val Acc: 0.9492\n",
    "Epoch 4/100 [Training]: 100%|██████████| 188/188 [00:32<00:00,  5.74it/s]\n",
    "Epoch 4/100 [Validation]: 100%|██████████| 47/47 [00:05<00:00,  9.36it/s]\n",
    "Epoch 4/100 - Train Loss: 0.1295, Train Acc: 0.9596, Val Loss: 0.1371, Val Acc: 0.9577\n",
    "Epoch 5/100 [Training]: 100%|██████████| 188/188 [00:32<00:00,  5.81it/s]\n",
    "Epoch 5/100 [Validation]: 100%|██████████| 47/47 [00:04<00:00, 10.03it/s]\n",
    "Epoch 5/100 - Train Loss: 0.1198, Train Acc: 0.9622, Val Loss: 0.1273, Val Acc: 0.9608\n",
    "Epoch 6/100 [Training]: 100%|██████████| 188/188 [00:32<00:00,  5.84it/s]\n",
    "Epoch 6/100 [Validation]: 100%|██████████| 47/47 [00:04<00:00,  9.54it/s]\n",
    "Epoch 6/100 - Train Loss: 0.1052, Train Acc: 0.9670, Val Loss: 0.1399, Val Acc: 0.9563\n",
    "Epoch 7/100 [Training]: 100%|██████████| 188/188 [00:32<00:00,  5.83it/s]\n",
    "Epoch 7/100 [Validation]: 100%|██████████| 47/47 [00:04<00:00,  9.93it/s]\n",
    "Epoch 7/100 - Train Loss: 0.0952, Train Acc: 0.9697, Val Loss: 0.1290, Val Acc: 0.9606\n",
    "Epoch 8/100 [Training]: 100%|██████████| 188/188 [00:32<00:00,  5.84it/s]\n",
    "Epoch 8/100 [Validation]: 100%|██████████| 47/47 [00:04<00:00,  9.97it/s]\n",
    "Epoch 8/100 - Train Loss: 0.0930, Train Acc: 0.9706, Val Loss: 0.1182, Val Acc: 0.9624\n",
    "Epoch 9/100 [Training]: 100%|██████████| 188/188 [00:32<00:00,  5.82it/s]\n",
    "Epoch 9/100 [Validation]: 100%|██████████| 47/47 [00:04<00:00,  9.51it/s]\n",
    "Epoch 9/100 - Train Loss: 0.0769, Train Acc: 0.9755, Val Loss: 0.1077, Val Acc: 0.9652\n",
    "Epoch 10/100 [Training]: 100%|██████████| 188/188 [00:32<00:00,  5.81it/s]\n",
    "Epoch 10/100 [Validation]: 100%|██████████| 47/47 [00:04<00:00, 10.08it/s]\n",
    "Epoch 10/100 - Train Loss: 0.0771, Train Acc: 0.9762, Val Loss: 0.0968, Val Acc: 0.9708\n",
    "Epoch 11/100 [Training]: 100%|██████████| 188/188 [00:32<00:00,  5.84it/s]\n",
    "Epoch 11/100 [Validation]: 100%|██████████| 47/47 [00:04<00:00, 10.08it/s]\n",
    "Epoch 11/100 - Train Loss: 0.0735, Train Acc: 0.9761, Val Loss: 0.0948, Val Acc: 0.9713\n",
    "Epoch 12/100 [Training]: 100%|██████████| 188/188 [00:33<00:00,  5.65it/s]\n",
    "Epoch 12/100 [Validation]: 100%|██████████| 47/47 [00:05<00:00,  9.32it/s]\n",
    "Epoch 12/100 - Train Loss: 0.0615, Train Acc: 0.9805, Val Loss: 0.0899, Val Acc: 0.9729\n",
    "Epoch 13/100 [Training]: 100%|██████████| 188/188 [00:32<00:00,  5.77it/s]\n",
    "Epoch 13/100 [Validation]: 100%|██████████| 47/47 [00:04<00:00,  9.90it/s]\n",
    "Epoch 13/100 - Train Loss: 0.0639, Train Acc: 0.9798, Val Loss: 0.0867, Val Acc: 0.9746\n",
    "Epoch 14/100 [Training]: 100%|██████████| 188/188 [00:32<00:00,  5.76it/s]\n",
    "Epoch 14/100 [Validation]: 100%|██████████| 47/47 [00:04<00:00,  9.89it/s]\n",
    "Epoch 14/100 - Train Loss: 0.0569, Train Acc: 0.9816, Val Loss: 0.0909, Val Acc: 0.9708\n",
    "Epoch 15/100 [Training]: 100%|██████████| 188/188 [00:32<00:00,  5.76it/s]\n",
    "Epoch 15/100 [Validation]: 100%|██████████| 47/47 [00:04<00:00,  9.99it/s]\n",
    "Epoch 15/100 - Train Loss: 0.0563, Train Acc: 0.9822, Val Loss: 0.0903, Val Acc: 0.9732\n",
    "Epoch 16/100 [Training]: 100%|██████████| 188/188 [00:32<00:00,  5.75it/s]\n",
    "Epoch 16/100 [Validation]: 100%|██████████| 47/47 [00:04<00:00, 10.01it/s]\n",
    "Epoch 16/100 - Train Loss: 0.0547, Train Acc: 0.9826, Val Loss: 0.1106, Val Acc: 0.9664\n",
    "Epoch 17/100 [Training]: 100%|██████████| 188/188 [00:32<00:00,  5.76it/s]\n",
    "Epoch 17/100 [Validation]: 100%|██████████| 47/47 [00:04<00:00, 10.03it/s]\n",
    "Epoch 17/100 - Train Loss: 0.0494, Train Acc: 0.9841, Val Loss: 0.0928, Val Acc: 0.9712\n",
    "Epoch 18/100 [Training]: 100%|██████████| 188/188 [00:32<00:00,  5.77it/s]\n",
    "Epoch 18/100 [Validation]: 100%|██████████| 47/47 [00:04<00:00, 10.00it/s]\n",
    "Epoch 18/100 - Train Loss: 0.0516, Train Acc: 0.9834, Val Loss: 0.0817, Val Acc: 0.9744\n",
    "Epoch 19/100 [Training]: 100%|██████████| 188/188 [00:32<00:00,  5.74it/s]\n",
    "Epoch 19/100 [Validation]: 100%|██████████| 47/47 [00:05<00:00,  9.33it/s]\n",
    "Epoch 19/100 - Train Loss: 0.0459, Train Acc: 0.9855, Val Loss: 0.0831, Val Acc: 0.9753\n",
    "Epoch 20/100 [Training]: 100%|██████████| 188/188 [00:32<00:00,  5.77it/s]\n",
    "Epoch 20/100 [Validation]: 100%|██████████| 47/47 [00:04<00:00, 10.03it/s]\n",
    "Epoch 20/100 - Train Loss: 0.0429, Train Acc: 0.9862, Val Loss: 0.0962, Val Acc: 0.9719\n",
    "Epoch 21/100 [Training]: 100%|██████████| 188/188 [00:32<00:00,  5.80it/s]\n",
    "Epoch 21/100 [Validation]: 100%|██████████| 47/47 [00:04<00:00,  9.98it/s]\n",
    "Epoch 21/100 - Train Loss: 0.0456, Train Acc: 0.9848, Val Loss: 0.0870, Val Acc: 0.9733\n",
    "Epoch 22/100 [Training]: 100%|██████████| 188/188 [00:32<00:00,  5.80it/s]\n",
    "Epoch 22/100 [Validation]: 100%|██████████| 47/47 [00:04<00:00,  9.73it/s]\n",
    "Epoch 22/100 - Train Loss: 0.0413, Train Acc: 0.9861, Val Loss: 0.0803, Val Acc: 0.9765\n",
    "Epoch 23/100 [Training]: 100%|██████████| 188/188 [00:32<00:00,  5.71it/s]\n",
    "Epoch 23/100 [Validation]: 100%|██████████| 47/47 [00:05<00:00,  9.03it/s]\n",
    "Epoch 23/100 - Train Loss: 0.0378, Train Acc: 0.9884, Val Loss: 0.0872, Val Acc: 0.9752\n",
    "Epoch 24/100 [Training]: 100%|██████████| 188/188 [00:33<00:00,  5.68it/s]\n",
    "Epoch 24/100 [Validation]: 100%|██████████| 47/47 [00:04<00:00,  9.65it/s]\n",
    "Epoch 24/100 - Train Loss: 0.0420, Train Acc: 0.9858, Val Loss: 0.0847, Val Acc: 0.9762\n",
    "Epoch 25/100 [Training]: 100%|██████████| 188/188 [00:31<00:00,  5.95it/s]\n",
    "Epoch 25/100 [Validation]: 100%|██████████| 47/47 [00:04<00:00,  9.84it/s]\n",
    "Epoch 25/100 - Train Loss: 0.0380, Train Acc: 0.9872, Val Loss: 0.0824, Val Acc: 0.9757\n",
    "Epoch 26/100 [Training]: 100%|██████████| 188/188 [13:50<00:00,  4.42s/it]  \n",
    "Epoch 26/100 [Validation]: 100%|██████████| 47/47 [00:05<00:00,  9.07it/s]\n",
    "Epoch 26/100 - Train Loss: 0.0339, Train Acc: 0.9894, Val Loss: 0.0962, Val Acc: 0.9735\n",
    "Epoch 27/100 [Training]: 100%|██████████| 188/188 [00:32<00:00,  5.72it/s]\n",
    "Epoch 27/100 [Validation]: 100%|██████████| 47/47 [00:04<00:00,  9.45it/s]\n",
    "Epoch 27/100 - Train Loss: 0.0350, Train Acc: 0.9883, Val Loss: 0.0787, Val Acc: 0.9775\n",
    "Epoch 28/100 [Training]: 100%|██████████| 188/188 [00:32<00:00,  5.77it/s]\n",
    "Epoch 28/100 [Validation]: 100%|██████████| 47/47 [00:04<00:00, 10.03it/s]\n",
    "Epoch 28/100 - Train Loss: 0.0331, Train Acc: 0.9890, Val Loss: 0.0844, Val Acc: 0.9753\n",
    "Epoch 29/100 [Training]: 100%|██████████| 188/188 [00:32<00:00,  5.75it/s]\n",
    "Epoch 29/100 [Validation]: 100%|██████████| 47/47 [00:04<00:00,  9.64it/s]\n",
    "Epoch 29/100 - Train Loss: 0.0350, Train Acc: 0.9884, Val Loss: 0.0906, Val Acc: 0.9736\n",
    "Epoch 30/100 [Training]: 100%|██████████| 188/188 [00:32<00:00,  5.79it/s]\n",
    "Epoch 30/100 [Validation]: 100%|██████████| 47/47 [00:04<00:00,  9.94it/s]\n",
    "Epoch 30/100 - Train Loss: 0.0317, Train Acc: 0.9896, Val Loss: 0.0794, Val Acc: 0.9782\n",
    "Epoch 31/100 [Training]: 100%|██████████| 188/188 [00:32<00:00,  5.74it/s]\n",
    "Epoch 31/100 [Validation]: 100%|██████████| 47/47 [00:04<00:00,  9.81it/s]\n",
    "Epoch 31/100 - Train Loss: 0.0288, Train Acc: 0.9901, Val Loss: 0.0825, Val Acc: 0.9752\n",
    "Epoch 32/100 [Training]: 100%|██████████| 188/188 [00:32<00:00,  5.73it/s]\n",
    "Epoch 32/100 [Validation]: 100%|██████████| 47/47 [00:04<00:00,  9.81it/s]\n",
    "Epoch 32/100 - Train Loss: 0.0292, Train Acc: 0.9899, Val Loss: 0.0878, Val Acc: 0.9742\n",
    "Epoch 33/100 [Training]: 100%|██████████| 188/188 [00:32<00:00,  5.72it/s]\n",
    "Epoch 33/100 [Validation]: 100%|██████████| 47/47 [00:04<00:00,  9.47it/s]\n",
    "Epoch 33/100 - Train Loss: 0.0291, Train Acc: 0.9903, Val Loss: 0.0811, Val Acc: 0.9756\n",
    "Epoch 34/100 [Training]: 100%|██████████| 188/188 [00:33<00:00,  5.65it/s]\n",
    "Epoch 34/100 [Validation]: 100%|██████████| 47/47 [00:04<00:00,  9.51it/s]\n",
    "Epoch 34/100 - Train Loss: 0.0261, Train Acc: 0.9911, Val Loss: 0.0777, Val Acc: 0.9790\n",
    "Epoch 35/100 [Training]: 100%|██████████| 188/188 [00:33<00:00,  5.59it/s]\n",
    "Epoch 35/100 [Validation]: 100%|██████████| 47/47 [00:04<00:00,  9.53it/s]\n",
    "Epoch 35/100 - Train Loss: 0.0278, Train Acc: 0.9906, Val Loss: 0.0757, Val Acc: 0.9787\n",
    "Epoch 36/100 [Training]: 100%|██████████| 188/188 [00:33<00:00,  5.68it/s]\n",
    "Epoch 36/100 [Validation]: 100%|██████████| 47/47 [00:04<00:00,  9.55it/s]\n",
    "Epoch 36/100 - Train Loss: 0.0221, Train Acc: 0.9925, Val Loss: 0.0913, Val Acc: 0.9753\n",
    "Epoch 37/100 [Training]: 100%|██████████| 188/188 [00:32<00:00,  5.79it/s]\n",
    "Epoch 37/100 [Validation]: 100%|██████████| 47/47 [00:04<00:00, 10.11it/s]\n",
    "Epoch 37/100 - Train Loss: 0.0236, Train Acc: 0.9919, Val Loss: 0.0794, Val Acc: 0.9769\n",
    "Epoch 38/100 [Training]: 100%|██████████| 188/188 [00:32<00:00,  5.80it/s]\n",
    "Epoch 38/100 [Validation]: 100%|██████████| 47/47 [00:04<00:00, 10.06it/s]\n",
    "Epoch 38/100 - Train Loss: 0.0249, Train Acc: 0.9922, Val Loss: 0.1001, Val Acc: 0.9728\n",
    "Epoch 39/100 [Training]: 100%|██████████| 188/188 [00:32<00:00,  5.78it/s]\n",
    "Epoch 39/100 [Validation]: 100%|██████████| 47/47 [00:04<00:00,  9.84it/s]\n",
    "Epoch 39/100 - Train Loss: 0.0255, Train Acc: 0.9910, Val Loss: 0.1023, Val Acc: 0.9726\n",
    "Epoch 40/100 [Training]: 100%|██████████| 188/188 [00:32<00:00,  5.80it/s]\n",
    "Epoch 40/100 [Validation]: 100%|██████████| 47/47 [00:04<00:00, 10.00it/s]\n",
    "Epoch 40/100 - Train Loss: 0.0214, Train Acc: 0.9929, Val Loss: 0.1191, Val Acc: 0.9692\n",
    "Epoch 41/100 [Training]: 100%|██████████| 188/188 [00:32<00:00,  5.80it/s]\n",
    "Epoch 41/100 [Validation]: 100%|██████████| 47/47 [00:04<00:00,  9.99it/s]\n",
    "Epoch 41/100 - Train Loss: 0.0245, Train Acc: 0.9917, Val Loss: 0.0816, Val Acc: 0.9771\n",
    "Epoch 42/100 [Training]: 100%|██████████| 188/188 [00:32<00:00,  5.80it/s]\n",
    "Epoch 42/100 [Validation]: 100%|██████████| 47/47 [00:04<00:00, 10.03it/s]\n",
    "Epoch 42/100 - Train Loss: 0.0228, Train Acc: 0.9923, Val Loss: 0.1077, Val Acc: 0.9725\n",
    "Epoch 43/100 [Training]: 100%|██████████| 188/188 [00:32<00:00,  5.78it/s]\n",
    "Epoch 43/100 [Validation]: 100%|██████████| 47/47 [00:05<00:00,  9.24it/s]\n",
    "Epoch 43/100 - Train Loss: 0.0253, Train Acc: 0.9912, Val Loss: 0.0822, Val Acc: 0.9772\n",
    "Epoch 44/100 [Training]: 100%|██████████| 188/188 [00:32<00:00,  5.77it/s]\n",
    "Epoch 44/100 [Validation]: 100%|██████████| 47/47 [00:04<00:00,  9.50it/s]\n",
    "Epoch 44/100 - Train Loss: 0.0230, Train Acc: 0.9925, Val Loss: 0.0925, Val Acc: 0.9726\n",
    "Epoch 45/100 [Training]: 100%|██████████| 188/188 [00:32<00:00,  5.79it/s]\n",
    "Epoch 45/100 [Validation]: 100%|██████████| 47/47 [00:04<00:00,  9.96it/s]\n",
    "Epoch 45/100 - Train Loss: 0.0216, Train Acc: 0.9926, Val Loss: 0.0849, Val Acc: 0.9778\n",
    "Early stopping due to no improvement in validation loss.\n",
    "Total training time: 41.39 minutes\n",
    "```"
   ]
  },
  {
   "cell_type": "code",
   "execution_count": 40,
   "metadata": {},
   "outputs": [
    {
     "data": {
      "image/png": "[encoded data removed]",
      "text/plain": [
       "<Figure size 600x400 with 1 Axes>"
      ]
     },
     "metadata": {},
     "output_type": "display_data"
    },
    {
     "data": {
      "image/png": "[encoded data removed]",
      "text/plain": [
       "<Figure size 600x400 with 1 Axes>"
      ]
     },
     "metadata": {},
     "output_type": "display_data"
    }
   ],
   "source": [
    "# Plot losses\n",
    "plt.figure(figsize=(6, 4))\n",
    "plt.title('Loss')\n",
    "plt.plot(train_losses, label='train')\n",
    "plt.plot(val_losses, label='val')\n",
    "plt.legend()\n",
    "plt.show()\n",
    "\n",
    "# Plot accuracies\n",
    "plt.figure(figsize=(6, 4))\n",
    "plt.title('Accuracy')\n",
    "# move list to cpu\n",
    "train_acc = [i.cpu() for i in train_acc]\n",
    "val_acc = [i.cpu() for i in val_acc]\n",
    "plt.plot(train_acc, label='train')\n",
    "plt.plot(val_acc, label='val')\n",
    "plt.legend()\n",
    "plt.show()"
   ]
  },
  {
   "cell_type": "code",
   "execution_count": 41,
   "metadata": {},
   "outputs": [
    {
     "name": "stderr",
     "output_type": "stream",
     "text": [
      "Testing: 40it [00:04,  9.27it/s]"
     ]
    },
    {
     "name": "stdout",
     "output_type": "stream",
     "text": [
      "Test accuracy: 0.9798\n",
      "              precision    recall  f1-score   support\n",
      "\n",
      "           0       0.99      0.99      0.99       980\n",
      "           1       0.99      0.99      0.99      1135\n",
      "           2       0.99      0.98      0.98      1032\n",
      "           3       0.96      0.99      0.98      1010\n",
      "           4       0.98      0.98      0.98       982\n",
      "           5       0.98      0.97      0.97       892\n",
      "           6       0.98      0.98      0.98       958\n",
      "           7       0.97      0.98      0.98      1028\n",
      "           8       0.98      0.97      0.97       974\n",
      "           9       0.98      0.97      0.97      1009\n",
      "\n",
      "    accuracy                           0.98     10000\n",
      "   macro avg       0.98      0.98      0.98     10000\n",
      "weighted avg       0.98      0.98      0.98     10000\n",
      "\n"
     ]
    },
    {
     "name": "stderr",
     "output_type": "stream",
     "text": [
      "\n"
     ]
    },
    {
     "data": {
      "image/png": "[encoded data removed]",
      "text/plain": [
       "<Figure size 600x600 with 1 Axes>"
      ]
     },
     "metadata": {},
     "output_type": "display_data"
    }
   ],
   "source": [
    "# test on the test set\n",
    "\n",
    "# Set model to eval mode\n",
    "model.eval()\n",
    "\n",
    "# Initialize lists to store predictions and labels\n",
    "preds = []\n",
    "labels = []\n",
    "\n",
    "# Turn off gradients\n",
    "with torch.no_grad():\n",
    "    # Iterate over test data\n",
    "    for batch_idx, (data, target) in tqdm(enumerate(test_loader), desc=\"Testing\"):\n",
    "        # Send data to device\n",
    "        data, target = data.to(device), target.to(device)\n",
    "\n",
    "        # Forward pass\n",
    "        output = model(data)\n",
    "\n",
    "        # Get predicted class\n",
    "        pred = output.argmax(dim=1, keepdim=True)\n",
    "\n",
    "        # Save predictions and labels for computing metrics later\n",
    "        preds.extend(pred.cpu().numpy())\n",
    "        labels.extend(target.cpu().numpy())\n",
    "\n",
    "# Print accuracy\n",
    "accuracy = accuracy_score(labels, preds)\n",
    "print(f\"Test accuracy: {accuracy:.4f}\")\n",
    "\n",
    "# Print classification report\n",
    "print(classification_report(labels, preds))\n",
    "\n",
    "# Print confusion matrix\n",
    "cm = confusion_matrix(labels, preds)\n",
    "plt.figure(figsize=(6, 6))\n",
    "sns.heatmap(cm, annot=True, fmt='d', cmap='Blues', cbar=False)\n",
    "plt.xlabel('Predicted')\n",
    "plt.ylabel('Actual')\n",
    "plt.show()"
   ]
  },
  {
   "cell_type": "markdown",
   "metadata": {},
   "source": [
    "# Basic ViT on CIFAR10"
   ]
  },
  {
   "cell_type": "markdown",
   "metadata": {},
   "source": [
    "```\n",
    "Using mps device\n",
    "Loading CIFAR10 dataset...\n",
    "Files already downloaded and verified\n",
    "Files already downloaded and verified\n",
    "Epoch 1/100 [Training]: 100%|██████████| 157/157 [01:03<00:00,  2.47it/s]\n",
    "Epoch 1/100 [Validation]: 100%|██████████| 40/40 [00:30<00:00,  1.33it/s]\n",
    "Epoch 1/100 - Train Loss: 2.0720, Train Acc: 0.2055, Val Loss: 1.9485, Val Acc: 0.2732\n",
    "Epoch 2/100 [Training]: 100%|██████████| 157/157 [00:53<00:00,  2.94it/s]\n",
    "Epoch 2/100 [Validation]: 100%|██████████| 40/40 [00:30<00:00,  1.30it/s]\n",
    "Epoch 2/100 - Train Loss: 1.9053, Train Acc: 0.2862, Val Loss: 1.8633, Val Acc: 0.3131\n",
    "Epoch 3/100 [Training]: 100%|██████████| 157/157 [00:53<00:00,  2.95it/s]\n",
    "Epoch 3/100 [Validation]: 100%|██████████| 40/40 [00:30<00:00,  1.31it/s]\n",
    "Epoch 3/100 - Train Loss: 1.8012, Train Acc: 0.3326, Val Loss: 1.7921, Val Acc: 0.3351\n",
    "Epoch 4/100 [Training]: 100%|██████████| 157/157 [00:53<00:00,  2.94it/s]\n",
    "Epoch 4/100 [Validation]: 100%|██████████| 40/40 [00:30<00:00,  1.30it/s]\n",
    "Epoch 4/100 - Train Loss: 1.7301, Train Acc: 0.3612, Val Loss: 1.6873, Val Acc: 0.3746\n",
    "Epoch 5/100 [Training]: 100%|██████████| 157/157 [00:53<00:00,  2.94it/s]\n",
    "Epoch 5/100 [Validation]: 100%|██████████| 40/40 [00:30<00:00,  1.31it/s]\n",
    "Epoch 5/100 - Train Loss: 1.6707, Train Acc: 0.3852, Val Loss: 1.6393, Val Acc: 0.4068\n",
    "Epoch 6/100 [Training]: 100%|██████████| 157/157 [00:53<00:00,  2.94it/s]\n",
    "Epoch 6/100 [Validation]: 100%|██████████| 40/40 [00:30<00:00,  1.31it/s]\n",
    "Epoch 6/100 - Train Loss: 1.6340, Train Acc: 0.3983, Val Loss: 1.6151, Val Acc: 0.4040\n",
    "Epoch 7/100 [Training]: 100%|██████████| 157/157 [00:53<00:00,  2.94it/s]\n",
    "Epoch 7/100 [Validation]: 100%|██████████| 40/40 [00:30<00:00,  1.30it/s]\n",
    "Epoch 7/100 - Train Loss: 1.5878, Train Acc: 0.4212, Val Loss: 1.5575, Val Acc: 0.4276\n",
    "Epoch 8/100 [Training]: 100%|██████████| 157/157 [00:55<00:00,  2.81it/s]\n",
    "Epoch 8/100 [Validation]: 100%|██████████| 40/40 [00:30<00:00,  1.30it/s]\n",
    "Epoch 8/100 - Train Loss: 1.5618, Train Acc: 0.4298, Val Loss: 1.5776, Val Acc: 0.4192\n",
    "Epoch 9/100 [Training]: 100%|██████████| 157/157 [00:55<00:00,  2.83it/s]\n",
    "Epoch 9/100 [Validation]: 100%|██████████| 40/40 [00:30<00:00,  1.30it/s]\n",
    "Epoch 9/100 - Train Loss: 1.5241, Train Acc: 0.4450, Val Loss: 1.5223, Val Acc: 0.4482\n",
    "Epoch 10/100 [Training]: 100%|██████████| 157/157 [00:55<00:00,  2.83it/s]\n",
    "Epoch 10/100 [Validation]: 100%|██████████| 40/40 [00:30<00:00,  1.30it/s]\n",
    "Epoch 10/100 - Train Loss: 1.5136, Train Acc: 0.4480, Val Loss: 1.5038, Val Acc: 0.4614\n",
    "Epoch 11/100 [Training]: 100%|██████████| 157/157 [00:55<00:00,  2.84it/s]\n",
    "Epoch 11/100 [Validation]: 100%|██████████| 40/40 [00:30<00:00,  1.30it/s]\n",
    "Epoch 11/100 - Train Loss: 1.4945, Train Acc: 0.4582, Val Loss: 1.5013, Val Acc: 0.4641\n",
    "Epoch 12/100 [Training]: 100%|██████████| 157/157 [00:55<00:00,  2.83it/s]\n",
    "Epoch 12/100 [Validation]: 100%|██████████| 40/40 [00:30<00:00,  1.30it/s]\n",
    "Epoch 12/100 - Train Loss: 1.4717, Train Acc: 0.4663, Val Loss: 1.4629, Val Acc: 0.4692\n",
    "Epoch 13/100 [Training]: 100%|██████████| 157/157 [00:55<00:00,  2.83it/s]\n",
    "Epoch 13/100 [Validation]: 100%|██████████| 40/40 [00:30<00:00,  1.30it/s]\n",
    "Epoch 13/100 - Train Loss: 1.4497, Train Acc: 0.4745, Val Loss: 1.4712, Val Acc: 0.4677\n",
    "Epoch 14/100 [Training]: 100%|██████████| 157/157 [00:55<00:00,  2.82it/s]\n",
    "Epoch 14/100 [Validation]: 100%|██████████| 40/40 [00:30<00:00,  1.29it/s]\n",
    "Epoch 14/100 - Train Loss: 1.4357, Train Acc: 0.4805, Val Loss: 1.4193, Val Acc: 0.4866\n",
    "Epoch 15/100 [Training]: 100%|██████████| 157/157 [00:55<00:00,  2.83it/s]\n",
    "Epoch 15/100 [Validation]: 100%|██████████| 40/40 [00:30<00:00,  1.30it/s]\n",
    "Epoch 15/100 - Train Loss: 1.4254, Train Acc: 0.4835, Val Loss: 1.4407, Val Acc: 0.4825\n",
    "Epoch 16/100 [Training]: 100%|██████████| 157/157 [00:55<00:00,  2.83it/s]\n",
    "Epoch 16/100 [Validation]: 100%|██████████| 40/40 [00:30<00:00,  1.29it/s]\n",
    "Epoch 16/100 - Train Loss: 1.4208, Train Acc: 0.4887, Val Loss: 1.4372, Val Acc: 0.4874\n",
    "Epoch 17/100 [Training]: 100%|██████████| 157/157 [00:56<00:00,  2.80it/s]\n",
    "Epoch 17/100 [Validation]: 100%|██████████| 40/40 [00:30<00:00,  1.29it/s]\n",
    "Epoch 17/100 - Train Loss: 1.3974, Train Acc: 0.4974, Val Loss: 1.4049, Val Acc: 0.4901\n",
    "Epoch 18/100 [Training]: 100%|██████████| 157/157 [00:55<00:00,  2.83it/s]\n",
    "Epoch 18/100 [Validation]: 100%|██████████| 40/40 [00:30<00:00,  1.29it/s]\n",
    "Epoch 18/100 - Train Loss: 1.3809, Train Acc: 0.5030, Val Loss: 1.4441, Val Acc: 0.4828\n",
    "Epoch 19/100 [Training]: 100%|██████████| 157/157 [00:55<00:00,  2.82it/s]\n",
    "Epoch 19/100 [Validation]: 100%|██████████| 40/40 [00:30<00:00,  1.30it/s]\n",
    "Epoch 19/100 - Train Loss: 1.3711, Train Acc: 0.5095, Val Loss: 1.3802, Val Acc: 0.5043\n",
    "Epoch 20/100 [Training]: 100%|██████████| 157/157 [00:55<00:00,  2.84it/s]\n",
    "Epoch 20/100 [Validation]: 100%|██████████| 40/40 [00:30<00:00,  1.29it/s]\n",
    "Epoch 20/100 - Train Loss: 1.3492, Train Acc: 0.5161, Val Loss: 1.3863, Val Acc: 0.5042\n",
    "Epoch 21/100 [Training]: 100%|██████████| 157/157 [00:55<00:00,  2.83it/s]\n",
    "Epoch 21/100 [Validation]: 100%|██████████| 40/40 [00:30<00:00,  1.30it/s]\n",
    "Epoch 21/100 - Train Loss: 1.3418, Train Acc: 0.5181, Val Loss: 1.3811, Val Acc: 0.4987\n",
    "Epoch 22/100 [Training]: 100%|██████████| 157/157 [00:55<00:00,  2.83it/s]\n",
    "Epoch 22/100 [Validation]: 100%|██████████| 40/40 [00:30<00:00,  1.29it/s]\n",
    "Epoch 22/100 - Train Loss: 1.3277, Train Acc: 0.5230, Val Loss: 1.3590, Val Acc: 0.5137\n",
    "Epoch 23/100 [Training]: 100%|██████████| 157/157 [00:55<00:00,  2.82it/s]\n",
    "Epoch 23/100 [Validation]: 100%|██████████| 40/40 [00:30<00:00,  1.30it/s]\n",
    "Epoch 23/100 - Train Loss: 1.3159, Train Acc: 0.5282, Val Loss: 1.3490, Val Acc: 0.5148\n",
    "Epoch 24/100 [Training]: 100%|██████████| 157/157 [00:55<00:00,  2.84it/s]\n",
    "Epoch 24/100 [Validation]: 100%|██████████| 40/40 [00:30<00:00,  1.31it/s]\n",
    "Epoch 24/100 - Train Loss: 1.3027, Train Acc: 0.5326, Val Loss: 1.3565, Val Acc: 0.5094\n",
    "Epoch 25/100 [Training]: 100%|██████████| 157/157 [00:53<00:00,  2.92it/s]\n",
    "Epoch 25/100 [Validation]: 100%|██████████| 40/40 [00:30<00:00,  1.30it/s]\n",
    "Epoch 25/100 - Train Loss: 1.2872, Train Acc: 0.5391, Val Loss: 1.3458, Val Acc: 0.5152\n",
    "Epoch 26/100 [Training]: 100%|██████████| 157/157 [00:53<00:00,  2.92it/s]\n",
    "Epoch 26/100 [Validation]: 100%|██████████| 40/40 [00:30<00:00,  1.30it/s]\n",
    "Epoch 26/100 - Train Loss: 1.2902, Train Acc: 0.5371, Val Loss: 1.3408, Val Acc: 0.5254\n",
    "Epoch 27/100 [Training]: 100%|██████████| 157/157 [00:54<00:00,  2.90it/s]\n",
    "Epoch 27/100 [Validation]: 100%|██████████| 40/40 [00:30<00:00,  1.30it/s]\n",
    "Epoch 27/100 - Train Loss: 1.2676, Train Acc: 0.5440, Val Loss: 1.3234, Val Acc: 0.5271\n",
    "Epoch 28/100 [Training]: 100%|██████████| 157/157 [00:53<00:00,  2.92it/s]\n",
    "Epoch 28/100 [Validation]: 100%|██████████| 40/40 [00:30<00:00,  1.30it/s]\n",
    "Epoch 28/100 - Train Loss: 1.2607, Train Acc: 0.5493, Val Loss: 1.3332, Val Acc: 0.5282\n",
    "Epoch 29/100 [Training]: 100%|██████████| 157/157 [00:53<00:00,  2.91it/s]\n",
    "Epoch 29/100 [Validation]: 100%|██████████| 40/40 [00:30<00:00,  1.31it/s]\n",
    "Epoch 29/100 - Train Loss: 1.2599, Train Acc: 0.5482, Val Loss: 1.3312, Val Acc: 0.5263\n",
    "Epoch 30/100 [Training]: 100%|██████████| 157/157 [00:53<00:00,  2.92it/s]\n",
    "Epoch 30/100 [Validation]: 100%|██████████| 40/40 [00:30<00:00,  1.30it/s]\n",
    "Epoch 30/100 - Train Loss: 1.2403, Train Acc: 0.5566, Val Loss: 1.3171, Val Acc: 0.5322\n",
    "Epoch 31/100 [Training]: 100%|██████████| 157/157 [00:54<00:00,  2.90it/s]\n",
    "Epoch 31/100 [Validation]: 100%|██████████| 40/40 [00:31<00:00,  1.28it/s]\n",
    "Epoch 31/100 - Train Loss: 1.2381, Train Acc: 0.5569, Val Loss: 1.2953, Val Acc: 0.5303\n",
    "Epoch 32/100 [Training]: 100%|██████████| 157/157 [00:55<00:00,  2.83it/s]\n",
    "Epoch 32/100 [Validation]: 100%|██████████| 40/40 [00:30<00:00,  1.30it/s]\n",
    "Epoch 32/100 - Train Loss: 1.2264, Train Acc: 0.5606, Val Loss: 1.2868, Val Acc: 0.5357\n",
    "Epoch 33/100 [Training]: 100%|██████████| 157/157 [00:55<00:00,  2.83it/s]\n",
    "Epoch 33/100 [Validation]: 100%|██████████| 40/40 [00:30<00:00,  1.30it/s]\n",
    "Epoch 33/100 - Train Loss: 1.2142, Train Acc: 0.5630, Val Loss: 1.2948, Val Acc: 0.5370\n",
    "Epoch 34/100 [Training]: 100%|██████████| 157/157 [00:55<00:00,  2.82it/s]\n",
    "Epoch 34/100 [Validation]: 100%|██████████| 40/40 [00:30<00:00,  1.30it/s]\n",
    "Epoch 34/100 - Train Loss: 1.2039, Train Acc: 0.5684, Val Loss: 1.2749, Val Acc: 0.5432\n",
    "Epoch 35/100 [Training]: 100%|██████████| 157/157 [00:55<00:00,  2.83it/s]\n",
    "Epoch 35/100 [Validation]: 100%|██████████| 40/40 [00:31<00:00,  1.29it/s]\n",
    "Epoch 35/100 - Train Loss: 1.1932, Train Acc: 0.5724, Val Loss: 1.2973, Val Acc: 0.5422\n",
    "Epoch 36/100 [Training]: 100%|██████████| 157/157 [00:55<00:00,  2.83it/s]\n",
    "Epoch 36/100 [Validation]: 100%|██████████| 40/40 [00:30<00:00,  1.30it/s]\n",
    "Epoch 36/100 - Train Loss: 1.1873, Train Acc: 0.5751, Val Loss: 1.2774, Val Acc: 0.5484\n",
    "Epoch 37/100 [Training]: 100%|██████████| 157/157 [00:55<00:00,  2.81it/s]\n",
    "Epoch 37/100 [Validation]: 100%|██████████| 40/40 [00:30<00:00,  1.30it/s]\n",
    "Epoch 37/100 - Train Loss: 1.1808, Train Acc: 0.5768, Val Loss: 1.2767, Val Acc: 0.5449\n",
    "Epoch 38/100 [Training]: 100%|██████████| 157/157 [00:55<00:00,  2.81it/s]\n",
    "Epoch 38/100 [Validation]: 100%|██████████| 40/40 [00:30<00:00,  1.30it/s]\n",
    "Epoch 38/100 - Train Loss: 1.1742, Train Acc: 0.5799, Val Loss: 1.2629, Val Acc: 0.5513\n",
    "Epoch 39/100 [Training]: 100%|██████████| 157/157 [00:55<00:00,  2.82it/s]\n",
    "Epoch 39/100 [Validation]: 100%|██████████| 40/40 [00:30<00:00,  1.30it/s]\n",
    "Epoch 39/100 - Train Loss: 1.1602, Train Acc: 0.5834, Val Loss: 1.2606, Val Acc: 0.5572\n",
    "Epoch 40/100 [Training]: 100%|██████████| 157/157 [00:55<00:00,  2.81it/s]\n",
    "Epoch 40/100 [Validation]: 100%|██████████| 40/40 [00:30<00:00,  1.30it/s]\n",
    "Epoch 40/100 - Train Loss: 1.1540, Train Acc: 0.5861, Val Loss: 1.2563, Val Acc: 0.5558\n",
    "Epoch 41/100 [Training]: 100%|██████████| 157/157 [00:53<00:00,  2.93it/s]\n",
    "Epoch 41/100 [Validation]: 100%|██████████| 40/40 [00:30<00:00,  1.31it/s]\n",
    "Epoch 41/100 - Train Loss: 1.1476, Train Acc: 0.5888, Val Loss: 1.2951, Val Acc: 0.5462\n",
    "Epoch 42/100 [Training]: 100%|██████████| 157/157 [00:53<00:00,  2.93it/s]\n",
    "Epoch 42/100 [Validation]: 100%|██████████| 40/40 [00:30<00:00,  1.30it/s]\n",
    "Epoch 42/100 - Train Loss: 1.1455, Train Acc: 0.5893, Val Loss: 1.2633, Val Acc: 0.5570\n",
    "Epoch 43/100 [Training]: 100%|██████████| 157/157 [00:53<00:00,  2.91it/s]\n",
    "Epoch 43/100 [Validation]: 100%|██████████| 40/40 [00:30<00:00,  1.30it/s]\n",
    "Epoch 43/100 - Train Loss: 1.1261, Train Acc: 0.5965, Val Loss: 1.2427, Val Acc: 0.5628\n",
    "Epoch 44/100 [Training]: 100%|██████████| 157/157 [00:53<00:00,  2.93it/s]\n",
    "Epoch 44/100 [Validation]: 100%|██████████| 40/40 [00:30<00:00,  1.31it/s]\n",
    "Epoch 44/100 - Train Loss: 1.1195, Train Acc: 0.5973, Val Loss: 1.2491, Val Acc: 0.5563\n",
    "Epoch 45/100 [Training]: 100%|██████████| 157/157 [00:54<00:00,  2.90it/s]\n",
    "Epoch 45/100 [Validation]: 100%|██████████| 40/40 [00:30<00:00,  1.31it/s]\n",
    "Epoch 45/100 - Train Loss: 1.1187, Train Acc: 0.5995, Val Loss: 1.2334, Val Acc: 0.5599\n",
    "Epoch 46/100 [Training]: 100%|██████████| 157/157 [00:53<00:00,  2.93it/s]\n",
    "Epoch 46/100 [Validation]: 100%|██████████| 40/40 [00:30<00:00,  1.30it/s]\n",
    "Epoch 46/100 - Train Loss: 1.1043, Train Acc: 0.6038, Val Loss: 1.2518, Val Acc: 0.5529\n",
    "Epoch 47/100 [Training]: 100%|██████████| 157/157 [00:54<00:00,  2.90it/s]\n",
    "Epoch 47/100 [Validation]: 100%|██████████| 40/40 [00:31<00:00,  1.28it/s]\n",
    "Epoch 47/100 - Train Loss: 1.0965, Train Acc: 0.6065, Val Loss: 1.2360, Val Acc: 0.5631\n",
    "Epoch 48/100 [Training]: 100%|██████████| 157/157 [00:55<00:00,  2.82it/s]\n",
    "Epoch 48/100 [Validation]: 100%|██████████| 40/40 [00:30<00:00,  1.30it/s]\n",
    "Epoch 48/100 - Train Loss: 1.0863, Train Acc: 0.6107, Val Loss: 1.2536, Val Acc: 0.5602\n",
    "Epoch 49/100 [Training]: 100%|██████████| 157/157 [00:55<00:00,  2.84it/s]\n",
    "Epoch 49/100 [Validation]: 100%|██████████| 40/40 [00:30<00:00,  1.30it/s]\n",
    "Epoch 49/100 - Train Loss: 1.0800, Train Acc: 0.6133, Val Loss: 1.2407, Val Acc: 0.5628\n",
    "Epoch 50/100 [Training]: 100%|██████████| 157/157 [00:55<00:00,  2.82it/s]\n",
    "Epoch 50/100 [Validation]: 100%|██████████| 40/40 [00:31<00:00,  1.28it/s]\n",
    "Epoch 50/100 - Train Loss: 1.0774, Train Acc: 0.6126, Val Loss: 1.2369, Val Acc: 0.5590\n",
    "Epoch 51/100 [Training]: 100%|██████████| 157/157 [00:55<00:00,  2.84it/s]\n",
    "Epoch 51/100 [Validation]: 100%|██████████| 40/40 [00:30<00:00,  1.29it/s]\n",
    "Epoch 51/100 - Train Loss: 1.0619, Train Acc: 0.6197, Val Loss: 1.2372, Val Acc: 0.5664\n",
    "Epoch 52/100 [Training]: 100%|██████████| 157/157 [00:55<00:00,  2.83it/s]\n",
    "Epoch 52/100 [Validation]: 100%|██████████| 40/40 [00:30<00:00,  1.30it/s]\n",
    "Epoch 52/100 - Train Loss: 1.0534, Train Acc: 0.6204, Val Loss: 1.2445, Val Acc: 0.5656\n",
    "Epoch 53/100 [Training]: 100%|██████████| 157/157 [00:55<00:00,  2.83it/s]\n",
    "Epoch 53/100 [Validation]: 100%|██████████| 40/40 [00:30<00:00,  1.31it/s]\n",
    "Epoch 53/100 - Train Loss: 1.0473, Train Acc: 0.6246, Val Loss: 1.2297, Val Acc: 0.5649\n",
    "Epoch 54/100 [Training]: 100%|██████████| 157/157 [00:55<00:00,  2.84it/s]\n",
    "Epoch 54/100 [Validation]: 100%|██████████| 40/40 [00:30<00:00,  1.29it/s]\n",
    "Epoch 54/100 - Train Loss: 1.0375, Train Acc: 0.6272, Val Loss: 1.2270, Val Acc: 0.5756\n",
    "Epoch 55/100 [Training]: 100%|██████████| 157/157 [00:55<00:00,  2.84it/s]\n",
    "Epoch 55/100 [Validation]: 100%|██████████| 40/40 [00:30<00:00,  1.30it/s]\n",
    "Epoch 55/100 - Train Loss: 1.0311, Train Acc: 0.6293, Val Loss: 1.2255, Val Acc: 0.5660\n",
    "Epoch 56/100 [Training]: 100%|██████████| 157/157 [00:55<00:00,  2.84it/s]\n",
    "Epoch 56/100 [Validation]: 100%|██████████| 40/40 [00:30<00:00,  1.30it/s]\n",
    "Epoch 56/100 - Train Loss: 1.0192, Train Acc: 0.6325, Val Loss: 1.2146, Val Acc: 0.5761\n",
    "Epoch 57/100 [Training]: 100%|██████████| 157/157 [00:55<00:00,  2.84it/s]\n",
    "Epoch 57/100 [Validation]: 100%|██████████| 40/40 [00:30<00:00,  1.30it/s]\n",
    "Epoch 57/100 - Train Loss: 1.0080, Train Acc: 0.6387, Val Loss: 1.2480, Val Acc: 0.5712\n",
    "Epoch 58/100 [Training]: 100%|██████████| 157/157 [00:55<00:00,  2.81it/s]\n",
    "Epoch 58/100 [Validation]: 100%|██████████| 40/40 [00:30<00:00,  1.29it/s]\n",
    "Epoch 58/100 - Train Loss: 1.0042, Train Acc: 0.6403, Val Loss: 1.2511, Val Acc: 0.5625\n",
    "Epoch 59/100 [Training]: 100%|██████████| 157/157 [00:55<00:00,  2.84it/s]\n",
    "Epoch 59/100 [Validation]: 100%|██████████| 40/40 [00:30<00:00,  1.30it/s]\n",
    "Epoch 59/100 - Train Loss: 0.9984, Train Acc: 0.6412, Val Loss: 1.2306, Val Acc: 0.5689\n",
    "Epoch 60/100 [Training]: 100%|██████████| 157/157 [00:55<00:00,  2.84it/s]\n",
    "Epoch 60/100 [Validation]: 100%|██████████| 40/40 [00:30<00:00,  1.30it/s]\n",
    "Epoch 60/100 - Train Loss: 0.9976, Train Acc: 0.6413, Val Loss: 1.2590, Val Acc: 0.5710\n",
    "Epoch 61/100 [Training]: 100%|██████████| 157/157 [00:55<00:00,  2.84it/s]\n",
    "Epoch 61/100 [Validation]: 100%|██████████| 40/40 [00:33<00:00,  1.19it/s]\n",
    "Epoch 61/100 - Train Loss: 0.9849, Train Acc: 0.6448, Val Loss: 1.2633, Val Acc: 0.5635\n",
    "Epoch 62/100 [Training]: 100%|██████████| 157/157 [00:55<00:00,  2.81it/s]\n",
    "Epoch 62/100 [Validation]: 100%|██████████| 40/40 [00:30<00:00,  1.30it/s]\n",
    "Epoch 62/100 - Train Loss: 0.9756, Train Acc: 0.6515, Val Loss: 1.2348, Val Acc: 0.5693\n",
    "Epoch 63/100 [Training]: 100%|██████████| 157/157 [00:55<00:00,  2.82it/s]\n",
    "Epoch 63/100 [Validation]: 100%|██████████| 40/40 [00:30<00:00,  1.30it/s]\n",
    "Epoch 63/100 - Train Loss: 0.9704, Train Acc: 0.6490, Val Loss: 1.2226, Val Acc: 0.5755\n",
    "Epoch 64/100 [Training]: 100%|██████████| 157/157 [00:55<00:00,  2.83it/s]\n",
    "Epoch 64/100 [Validation]: 100%|██████████| 40/40 [00:30<00:00,  1.30it/s]\n",
    "Epoch 64/100 - Train Loss: 0.9519, Train Acc: 0.6588, Val Loss: 1.2189, Val Acc: 0.5809\n",
    "Epoch 65/100 [Training]: 100%|██████████| 157/157 [00:55<00:00,  2.82it/s]\n",
    "Epoch 65/100 [Validation]: 100%|██████████| 40/40 [00:30<00:00,  1.31it/s]\n",
    "Epoch 65/100 - Train Loss: 0.9432, Train Acc: 0.6597, Val Loss: 1.2268, Val Acc: 0.5808\n",
    "Epoch 66/100 [Training]: 100%|██████████| 157/157 [00:55<00:00,  2.83it/s]\n",
    "Epoch 66/100 [Validation]: 100%|██████████| 40/40 [00:30<00:00,  1.29it/s]\n",
    "Epoch 66/100 - Train Loss: 0.9335, Train Acc: 0.6631, Val Loss: 1.2571, Val Acc: 0.5676\n",
    "Epoch 67/100 [Training]: 100%|██████████| 157/157 [00:55<00:00,  2.81it/s]\n",
    "Epoch 67/100 [Validation]: 100%|██████████| 40/40 [00:31<00:00,  1.27it/s]\n",
    "Epoch 67/100 - Train Loss: 0.9316, Train Acc: 0.6644, Val Loss: 1.2542, Val Acc: 0.5656\n",
    "Epoch 68/100 [Training]: 100%|██████████| 157/157 [00:53<00:00,  2.92it/s]\n",
    "Epoch 68/100 [Validation]: 100%|██████████| 40/40 [00:30<00:00,  1.31it/s]\n",
    "Epoch 68/100 - Train Loss: 0.9198, Train Acc: 0.6685, Val Loss: 1.2667, Val Acc: 0.5656\n",
    "Epoch 69/100 [Training]: 100%|██████████| 157/157 [00:53<00:00,  2.92it/s]\n",
    "Epoch 69/100 [Validation]: 100%|██████████| 40/40 [00:30<00:00,  1.31it/s]\n",
    "Epoch 69/100 - Train Loss: 0.9094, Train Acc: 0.6709, Val Loss: 1.2296, Val Acc: 0.5782\n",
    "Epoch 70/100 [Training]: 100%|██████████| 157/157 [00:53<00:00,  2.93it/s]\n",
    "Epoch 70/100 [Validation]: 100%|██████████| 40/40 [00:30<00:00,  1.31it/s]\n",
    "Epoch 70/100 - Train Loss: 0.9000, Train Acc: 0.6772, Val Loss: 1.2870, Val Acc: 0.5638\n",
    "Epoch 71/100 [Training]: 100%|██████████| 157/157 [00:53<00:00,  2.93it/s]\n",
    "Epoch 71/100 [Validation]: 100%|██████████| 40/40 [00:30<00:00,  1.31it/s]\n",
    "Epoch 71/100 - Train Loss: 0.8935, Train Acc: 0.6800, Val Loss: 1.2528, Val Acc: 0.5772\n",
    "Epoch 72/100 [Training]: 100%|██████████| 157/157 [00:53<00:00,  2.91it/s]\n",
    "Epoch 72/100 [Validation]: 100%|██████████| 40/40 [00:30<00:00,  1.29it/s]\n",
    "Epoch 72/100 - Train Loss: 0.8858, Train Acc: 0.6808, Val Loss: 1.2378, Val Acc: 0.5761\n",
    "Epoch 73/100 [Training]: 100%|██████████| 157/157 [00:53<00:00,  2.92it/s]\n",
    "Epoch 73/100 [Validation]: 100%|██████████| 40/40 [00:30<00:00,  1.30it/s]\n",
    "Epoch 73/100 - Train Loss: 0.8699, Train Acc: 0.6893, Val Loss: 1.2513, Val Acc: 0.5742\n",
    "Epoch 74/100 [Training]: 100%|██████████| 157/157 [00:53<00:00,  2.91it/s]\n",
    "Epoch 74/100 [Validation]: 100%|██████████| 40/40 [00:30<00:00,  1.31it/s]\n",
    "Epoch 74/100 - Train Loss: 0.8594, Train Acc: 0.6903, Val Loss: 1.2468, Val Acc: 0.5754\n",
    "Epoch 75/100 [Training]: 100%|██████████| 157/157 [00:53<00:00,  2.91it/s]\n",
    "Epoch 75/100 [Validation]: 100%|██████████| 40/40 [00:30<00:00,  1.30it/s]\n",
    "Epoch 75/100 - Train Loss: 0.8552, Train Acc: 0.6902, Val Loss: 1.2581, Val Acc: 0.5768\n",
    "Epoch 76/100 [Training]: 100%|██████████| 157/157 [00:53<00:00,  2.92it/s]\n",
    "Epoch 76/100 [Validation]: 100%|██████████| 40/40 [00:30<00:00,  1.30it/s]\n",
    "Epoch 76/100 - Train Loss: 0.8379, Train Acc: 0.7005, Val Loss: 1.2886, Val Acc: 0.5712\n",
    "Early stopping due to no improvement in validation loss.\n",
    "Total training time: 108.68 minutes\n",
    "```"
   ]
  },
  {
   "cell_type": "code",
   "execution_count": 27,
   "metadata": {},
   "outputs": [
    {
     "data": {
      "image/png": "[encoded data removed]",
      "text/plain": [
       "<Figure size 600x400 with 1 Axes>"
      ]
     },
     "metadata": {},
     "output_type": "display_data"
    },
    {
     "data": {
      "image/png": "[encoded data removed]",
      "text/plain": [
       "<Figure size 600x400 with 1 Axes>"
      ]
     },
     "metadata": {},
     "output_type": "display_data"
    }
   ],
   "source": [
    "# Plot losses\n",
    "plt.figure(figsize=(6, 4))\n",
    "plt.title('Loss')\n",
    "plt.plot(train_losses, label='train')\n",
    "plt.plot(val_losses, label='val')\n",
    "plt.legend()\n",
    "plt.show()\n",
    "\n",
    "# Plot accuracies\n",
    "plt.figure(figsize=(6, 4))\n",
    "plt.title('Accuracy')\n",
    "# move list to cpu\n",
    "train_acc = [i.cpu() for i in train_acc]\n",
    "val_acc = [i.cpu() for i in val_acc]\n",
    "plt.plot(train_acc, label='train')\n",
    "plt.plot(val_acc, label='val')\n",
    "plt.legend()\n",
    "plt.show()"
   ]
  },
  {
   "cell_type": "code",
   "execution_count": 28,
   "metadata": {},
   "outputs": [
    {
     "name": "stderr",
     "output_type": "stream",
     "text": [
      "Testing: 40it [00:22,  1.75it/s]"
     ]
    },
    {
     "name": "stdout",
     "output_type": "stream",
     "text": [
      "Test accuracy: 0.5981\n",
      "              precision    recall  f1-score   support\n",
      "\n",
      "           0       0.58      0.73      0.65      1000\n",
      "           1       0.73      0.67      0.70      1000\n",
      "           2       0.49      0.48      0.49      1000\n",
      "           3       0.45      0.39      0.42      1000\n",
      "           4       0.54      0.51      0.52      1000\n",
      "           5       0.51      0.49      0.50      1000\n",
      "           6       0.65      0.67      0.66      1000\n",
      "           7       0.70      0.65      0.67      1000\n",
      "           8       0.71      0.73      0.72      1000\n",
      "           9       0.61      0.67      0.64      1000\n",
      "\n",
      "    accuracy                           0.60     10000\n",
      "   macro avg       0.60      0.60      0.60     10000\n",
      "weighted avg       0.60      0.60      0.60     10000\n",
      "\n"
     ]
    },
    {
     "name": "stderr",
     "output_type": "stream",
     "text": [
      "\n"
     ]
    },
    {
     "data": {
      "image/png": "[encoded data removed]",
      "text/plain": [
       "<Figure size 600x600 with 1 Axes>"
      ]
     },
     "metadata": {},
     "output_type": "display_data"
    }
   ],
   "source": [
    "# test on the test set\n",
    "\n",
    "# Set model to eval mode\n",
    "model.eval()\n",
    "\n",
    "# Initialize lists to store predictions and labels\n",
    "preds = []\n",
    "labels = []\n",
    "\n",
    "# Turn off gradients\n",
    "with torch.no_grad():\n",
    "    # Iterate over test data\n",
    "    for batch_idx, (data, target) in tqdm(enumerate(test_loader), desc=\"Testing\"):\n",
    "        # Send data to device\n",
    "        data, target = data.to(device), target.to(device)\n",
    "\n",
    "        # Forward pass\n",
    "        output = model(data)\n",
    "\n",
    "        # Get predicted class\n",
    "        pred = output.argmax(dim=1, keepdim=True)\n",
    "\n",
    "        # Save predictions and labels for computing metrics later\n",
    "        preds.extend(pred.cpu().numpy())\n",
    "        labels.extend(target.cpu().numpy())\n",
    "\n",
    "# Print accuracy\n",
    "accuracy = accuracy_score(labels, preds)\n",
    "print(f\"Test accuracy: {accuracy:.4f}\")\n",
    "\n",
    "# Print classification report\n",
    "print(classification_report(labels, preds))\n",
    "\n",
    "# Print confusion matrix\n",
    "cm = confusion_matrix(labels, preds)\n",
    "plt.figure(figsize=(6, 6))\n",
    "sns.heatmap(cm, annot=True, fmt='d', cmap='Blues', cbar=False)\n",
    "plt.xlabel('Predicted')\n",
    "plt.ylabel('Actual')\n",
    "plt.show()"
   ]
  },
  {
   "cell_type": "markdown",
   "metadata": {},
   "source": [
    "# Basic ViT on CIFAR100"
   ]
  },
  {
   "cell_type": "markdown",
   "metadata": {},
   "source": [
    "```\n",
    "Using mps device\n",
    "Loading CIFAR100 dataset...\n",
    "Files already downloaded and verified\n",
    "Files already downloaded and verified\n",
    "Epoch 1/100 [Training]: 100%|██████████| 157/157 [00:54<00:00,  2.86it/s]\n",
    "Epoch 1/100 [Validation]: 100%|██████████| 40/40 [00:30<00:00,  1.30it/s]\n",
    "Epoch 1/100 - Train Loss: 4.3066, Train Acc: 0.0400, Val Loss: 4.1651, Val Acc: 0.0550\n",
    "Epoch 2/100 [Training]: 100%|██████████| 157/157 [00:54<00:00,  2.91it/s]\n",
    "Epoch 2/100 [Validation]: 100%|██████████| 40/40 [00:30<00:00,  1.30it/s]\n",
    "Epoch 2/100 - Train Loss: 4.0617, Train Acc: 0.0691, Val Loss: 4.0109, Val Acc: 0.0771\n",
    "Epoch 3/100 [Training]: 100%|██████████| 157/157 [00:54<00:00,  2.90it/s]\n",
    "Epoch 3/100 [Validation]: 100%|██████████| 40/40 [00:30<00:00,  1.31it/s]\n",
    "Epoch 3/100 - Train Loss: 3.8970, Train Acc: 0.0916, Val Loss: 3.8267, Val Acc: 0.1059\n",
    "Epoch 4/100 [Training]: 100%|██████████| 157/157 [00:53<00:00,  2.93it/s]\n",
    "Epoch 4/100 [Validation]: 100%|██████████| 40/40 [00:30<00:00,  1.31it/s]\n",
    "Epoch 4/100 - Train Loss: 3.7681, Train Acc: 0.1122, Val Loss: 3.7670, Val Acc: 0.1110\n",
    "Epoch 5/100 [Training]: 100%|██████████| 157/157 [00:53<00:00,  2.93it/s]\n",
    "Epoch 5/100 [Validation]: 100%|██████████| 40/40 [00:30<00:00,  1.31it/s]\n",
    "Epoch 5/100 - Train Loss: 3.6626, Train Acc: 0.1313, Val Loss: 3.6893, Val Acc: 0.1302\n",
    "Epoch 6/100 [Training]: 100%|██████████| 157/157 [00:53<00:00,  2.91it/s]\n",
    "Epoch 6/100 [Validation]: 100%|██████████| 40/40 [00:31<00:00,  1.29it/s]\n",
    "Epoch 6/100 - Train Loss: 3.5687, Train Acc: 0.1472, Val Loss: 3.5719, Val Acc: 0.1509\n",
    "Epoch 7/100 [Training]: 100%|██████████| 157/157 [00:54<00:00,  2.90it/s]\n",
    "Epoch 7/100 [Validation]: 100%|██████████| 40/40 [00:30<00:00,  1.31it/s]\n",
    "Epoch 7/100 - Train Loss: 3.4968, Train Acc: 0.1585, Val Loss: 3.4868, Val Acc: 0.1704\n",
    "Epoch 8/100 [Training]: 100%|██████████| 157/157 [00:54<00:00,  2.90it/s]\n",
    "Epoch 8/100 [Validation]: 100%|██████████| 40/40 [00:30<00:00,  1.31it/s]\n",
    "Epoch 8/100 - Train Loss: 3.4363, Train Acc: 0.1708, Val Loss: 3.4952, Val Acc: 0.1668\n",
    "Epoch 9/100 [Training]: 100%|██████████| 157/157 [00:53<00:00,  2.92it/s]\n",
    "Epoch 9/100 [Validation]: 100%|██████████| 40/40 [00:30<00:00,  1.31it/s]\n",
    "Epoch 9/100 - Train Loss: 3.3775, Train Acc: 0.1813, Val Loss: 3.4168, Val Acc: 0.1785\n",
    "Epoch 10/100 [Training]: 100%|██████████| 157/157 [00:54<00:00,  2.88it/s]\n",
    "Epoch 10/100 [Validation]: 100%|██████████| 40/40 [00:30<00:00,  1.31it/s]\n",
    "Epoch 10/100 - Train Loss: 3.3281, Train Acc: 0.1908, Val Loss: 3.3996, Val Acc: 0.1848\n",
    "Epoch 11/100 [Training]: 100%|██████████| 157/157 [00:54<00:00,  2.88it/s]\n",
    "Epoch 11/100 [Validation]: 100%|██████████| 40/40 [00:30<00:00,  1.29it/s]\n",
    "Epoch 11/100 - Train Loss: 3.2849, Train Acc: 0.1962, Val Loss: 3.3770, Val Acc: 0.1809\n",
    "Epoch 12/100 [Training]: 100%|██████████| 157/157 [00:53<00:00,  2.93it/s]\n",
    "Epoch 12/100 [Validation]: 100%|██████████| 40/40 [00:31<00:00,  1.28it/s]\n",
    "Epoch 12/100 - Train Loss: 3.2532, Train Acc: 0.2027, Val Loss: 3.3401, Val Acc: 0.1962\n",
    "Epoch 13/100 [Training]: 100%|██████████| 157/157 [01:02<00:00,  2.52it/s]\n",
    "Epoch 13/100 [Validation]: 100%|██████████| 40/40 [00:31<00:00,  1.28it/s]\n",
    "Epoch 13/100 - Train Loss: 3.2037, Train Acc: 0.2120, Val Loss: 3.3426, Val Acc: 0.1991\n",
    "Epoch 14/100 [Training]: 100%|██████████| 157/157 [00:53<00:00,  2.93it/s]\n",
    "Epoch 14/100 [Validation]: 100%|██████████| 40/40 [00:30<00:00,  1.30it/s]\n",
    "Epoch 14/100 - Train Loss: 3.1691, Train Acc: 0.2204, Val Loss: 3.2793, Val Acc: 0.2078\n",
    "Epoch 15/100 [Training]: 100%|██████████| 157/157 [00:54<00:00,  2.87it/s]\n",
    "Epoch 15/100 [Validation]: 100%|██████████| 40/40 [00:30<00:00,  1.30it/s]\n",
    "Epoch 15/100 - Train Loss: 3.1283, Train Acc: 0.2228, Val Loss: 3.2804, Val Acc: 0.2062\n",
    "Epoch 16/100 [Training]: 100%|██████████| 157/157 [00:53<00:00,  2.92it/s]\n",
    "Epoch 16/100 [Validation]: 100%|██████████| 40/40 [00:30<00:00,  1.31it/s]\n",
    "Epoch 16/100 - Train Loss: 3.0913, Train Acc: 0.2341, Val Loss: 3.2561, Val Acc: 0.2141\n",
    "Epoch 17/100 [Training]: 100%|██████████| 157/157 [00:53<00:00,  2.93it/s]\n",
    "Epoch 17/100 [Validation]: 100%|██████████| 40/40 [00:30<00:00,  1.30it/s]\n",
    "Epoch 17/100 - Train Loss: 3.0638, Train Acc: 0.2387, Val Loss: 3.2376, Val Acc: 0.2176\n",
    "Epoch 18/100 [Training]: 100%|██████████| 157/157 [00:53<00:00,  2.92it/s]\n",
    "Epoch 18/100 [Validation]: 100%|██████████| 40/40 [00:30<00:00,  1.31it/s]\n",
    "Epoch 18/100 - Train Loss: 3.0175, Train Acc: 0.2446, Val Loss: 3.2164, Val Acc: 0.2229\n",
    "Epoch 19/100 [Training]: 100%|██████████| 157/157 [00:54<00:00,  2.90it/s]\n",
    "Epoch 19/100 [Validation]: 100%|██████████| 40/40 [00:30<00:00,  1.30it/s]\n",
    "Epoch 19/100 - Train Loss: 2.9876, Train Acc: 0.2505, Val Loss: 3.1836, Val Acc: 0.2268\n",
    "Epoch 20/100 [Training]: 100%|██████████| 157/157 [00:53<00:00,  2.92it/s]\n",
    "Epoch 20/100 [Validation]: 100%|██████████| 40/40 [00:30<00:00,  1.30it/s]\n",
    "Epoch 20/100 - Train Loss: 2.9491, Train Acc: 0.2590, Val Loss: 3.1986, Val Acc: 0.2268\n",
    "Epoch 21/100 [Training]: 100%|██████████| 157/157 [00:54<00:00,  2.90it/s]\n",
    "Epoch 21/100 [Validation]: 100%|██████████| 40/40 [00:30<00:00,  1.31it/s]\n",
    "Epoch 21/100 - Train Loss: 2.9181, Train Acc: 0.2633, Val Loss: 3.1419, Val Acc: 0.2363\n",
    "Epoch 22/100 [Training]: 100%|██████████| 157/157 [00:54<00:00,  2.89it/s]\n",
    "Epoch 22/100 [Validation]: 100%|██████████| 40/40 [00:31<00:00,  1.28it/s]\n",
    "Epoch 22/100 - Train Loss: 2.8918, Train Acc: 0.2667, Val Loss: 3.1506, Val Acc: 0.2397\n",
    "Epoch 23/100 [Training]: 100%|██████████| 157/157 [00:55<00:00,  2.85it/s]\n",
    "Epoch 23/100 [Validation]: 100%|██████████| 40/40 [00:31<00:00,  1.29it/s]\n",
    "Epoch 23/100 - Train Loss: 2.8617, Train Acc: 0.2745, Val Loss: 3.1424, Val Acc: 0.2402\n",
    "Epoch 24/100 [Training]: 100%|██████████| 157/157 [00:54<00:00,  2.86it/s]\n",
    "Epoch 24/100 [Validation]: 100%|██████████| 40/40 [00:31<00:00,  1.29it/s]\n",
    "Epoch 24/100 - Train Loss: 2.8275, Train Acc: 0.2816, Val Loss: 3.1321, Val Acc: 0.2411\n",
    "Epoch 25/100 [Training]: 100%|██████████| 157/157 [00:54<00:00,  2.86it/s]\n",
    "Epoch 25/100 [Validation]: 100%|██████████| 40/40 [00:30<00:00,  1.30it/s]\n",
    "Epoch 25/100 - Train Loss: 2.7959, Train Acc: 0.2873, Val Loss: 3.1430, Val Acc: 0.2421\n",
    "Epoch 26/100 [Training]: 100%|██████████| 157/157 [00:55<00:00,  2.84it/s]\n",
    "Epoch 26/100 [Validation]: 100%|██████████| 40/40 [00:30<00:00,  1.30it/s]\n",
    "Epoch 26/100 - Train Loss: 2.7639, Train Acc: 0.2909, Val Loss: 3.1083, Val Acc: 0.2471\n",
    "Epoch 27/100 [Training]: 100%|██████████| 157/157 [00:55<00:00,  2.84it/s]\n",
    "Epoch 27/100 [Validation]: 100%|██████████| 40/40 [00:31<00:00,  1.28it/s]\n",
    "Epoch 27/100 - Train Loss: 2.7266, Train Acc: 0.2991, Val Loss: 3.1118, Val Acc: 0.2481\n",
    "Epoch 28/100 [Training]: 100%|██████████| 157/157 [00:55<00:00,  2.85it/s]\n",
    "Epoch 28/100 [Validation]: 100%|██████████| 40/40 [00:31<00:00,  1.29it/s]\n",
    "Epoch 28/100 - Train Loss: 2.7057, Train Acc: 0.3009, Val Loss: 3.1046, Val Acc: 0.2477\n",
    "Epoch 29/100 [Training]: 100%|██████████| 157/157 [00:55<00:00,  2.85it/s]\n",
    "Epoch 29/100 [Validation]: 100%|██████████| 40/40 [00:30<00:00,  1.29it/s]\n",
    "Epoch 29/100 - Train Loss: 2.6720, Train Acc: 0.3088, Val Loss: 3.1086, Val Acc: 0.2568\n",
    "Epoch 30/100 [Training]: 100%|██████████| 157/157 [00:55<00:00,  2.84it/s]\n",
    "Epoch 30/100 [Validation]: 100%|██████████| 40/40 [00:30<00:00,  1.30it/s]\n",
    "Epoch 30/100 - Train Loss: 2.6480, Train Acc: 0.3167, Val Loss: 3.0999, Val Acc: 0.2547\n",
    "Epoch 31/100 [Training]: 100%|██████████| 157/157 [00:54<00:00,  2.86it/s]\n",
    "Epoch 31/100 [Validation]: 100%|██████████| 40/40 [00:31<00:00,  1.29it/s]\n",
    "Epoch 31/100 - Train Loss: 2.6019, Train Acc: 0.3226, Val Loss: 3.0817, Val Acc: 0.2506\n",
    "Epoch 32/100 [Training]: 100%|██████████| 157/157 [00:54<00:00,  2.86it/s]\n",
    "Epoch 32/100 [Validation]: 100%|██████████| 40/40 [00:31<00:00,  1.29it/s]\n",
    "Epoch 32/100 - Train Loss: 2.5787, Train Acc: 0.3272, Val Loss: 3.1024, Val Acc: 0.2579\n",
    "Epoch 33/100 [Training]: 100%|██████████| 157/157 [00:54<00:00,  2.86it/s]\n",
    "Epoch 33/100 [Validation]: 100%|██████████| 40/40 [00:30<00:00,  1.29it/s]\n",
    "Epoch 33/100 - Train Loss: 2.5489, Train Acc: 0.3311, Val Loss: 3.1058, Val Acc: 0.2609\n",
    "Epoch 34/100 [Training]: 100%|██████████| 157/157 [00:55<00:00,  2.85it/s]\n",
    "Epoch 34/100 [Validation]: 100%|██████████| 40/40 [00:31<00:00,  1.28it/s]\n",
    "Epoch 34/100 - Train Loss: 2.5174, Train Acc: 0.3396, Val Loss: 3.1310, Val Acc: 0.2586\n",
    "Epoch 35/100 [Training]: 100%|██████████| 157/157 [00:55<00:00,  2.84it/s]\n",
    "Epoch 35/100 [Validation]: 100%|██████████| 40/40 [00:33<00:00,  1.20it/s]\n",
    "Epoch 35/100 - Train Loss: 2.4843, Train Acc: 0.3453, Val Loss: 3.1473, Val Acc: 0.2597\n",
    "Epoch 36/100 [Training]: 100%|██████████| 157/157 [00:55<00:00,  2.83it/s]\n",
    "Epoch 36/100 [Validation]: 100%|██████████| 40/40 [00:33<00:00,  1.19it/s]\n",
    "Epoch 36/100 - Train Loss: 2.4523, Train Acc: 0.3559, Val Loss: 3.1107, Val Acc: 0.2596\n",
    "Epoch 37/100 [Training]: 100%|██████████| 157/157 [00:55<00:00,  2.83it/s]\n",
    "Epoch 37/100 [Validation]: 100%|██████████| 40/40 [00:31<00:00,  1.28it/s]\n",
    "Epoch 37/100 - Train Loss: 2.4110, Train Acc: 0.3623, Val Loss: 3.1118, Val Acc: 0.2621\n",
    "Epoch 38/100 [Training]: 100%|██████████| 157/157 [00:54<00:00,  2.87it/s]\n",
    "Epoch 38/100 [Validation]: 100%|██████████| 40/40 [00:31<00:00,  1.26it/s]\n",
    "Epoch 38/100 - Train Loss: 2.3793, Train Acc: 0.3680, Val Loss: 3.1353, Val Acc: 0.2602\n",
    "Epoch 39/100 [Training]: 100%|██████████| 157/157 [00:54<00:00,  2.86it/s]\n",
    "Epoch 39/100 [Validation]: 100%|██████████| 40/40 [00:31<00:00,  1.28it/s]\n",
    "Epoch 39/100 - Train Loss: 2.3414, Train Acc: 0.3752, Val Loss: 3.1451, Val Acc: 0.2610\n",
    "Epoch 40/100 [Training]: 100%|██████████| 157/157 [00:55<00:00,  2.83it/s]\n",
    "Epoch 40/100 [Validation]: 100%|██████████| 40/40 [00:31<00:00,  1.27it/s]\n",
    "Epoch 40/100 - Train Loss: 2.3030, Train Acc: 0.3851, Val Loss: 3.1329, Val Acc: 0.2638\n",
    "Epoch 41/100 [Training]: 100%|██████████| 157/157 [00:57<00:00,  2.74it/s]\n",
    "Epoch 41/100 [Validation]: 100%|██████████| 40/40 [00:31<00:00,  1.26it/s]\n",
    "Epoch 41/100 - Train Loss: 2.2707, Train Acc: 0.3891, Val Loss: 3.1586, Val Acc: 0.2610\n",
    "Epoch 42/100 [Training]: 100%|██████████| 157/157 [00:57<00:00,  2.74it/s]\n",
    "Epoch 42/100 [Validation]: 100%|██████████| 40/40 [00:31<00:00,  1.26it/s]\n",
    "Epoch 42/100 - Train Loss: 2.2399, Train Acc: 0.3973, Val Loss: 3.1700, Val Acc: 0.2610\n",
    "Epoch 43/100 [Training]: 100%|██████████| 157/157 [00:55<00:00,  2.83it/s]\n",
    "Epoch 43/100 [Validation]: 100%|██████████| 40/40 [00:32<00:00,  1.24it/s]\n",
    "Epoch 43/100 - Train Loss: 2.1954, Train Acc: 0.4057, Val Loss: 3.1819, Val Acc: 0.2591\n",
    "Epoch 44/100 [Training]: 100%|██████████| 157/157 [00:55<00:00,  2.85it/s]\n",
    "Epoch 44/100 [Validation]: 100%|██████████| 40/40 [00:32<00:00,  1.25it/s]\n",
    "Epoch 44/100 - Train Loss: 2.1508, Train Acc: 0.4156, Val Loss: 3.1827, Val Acc: 0.2638\n",
    "Epoch 45/100 [Training]: 100%|██████████| 157/157 [00:55<00:00,  2.81it/s]\n",
    "Epoch 45/100 [Validation]: 100%|██████████| 40/40 [00:31<00:00,  1.25it/s]\n",
    "Epoch 45/100 - Train Loss: 2.1351, Train Acc: 0.4182, Val Loss: 3.2117, Val Acc: 0.2615\n",
    "Epoch 46/100 [Training]: 100%|██████████| 157/157 [01:02<00:00,  2.50it/s]\n",
    "Epoch 46/100 [Validation]: 100%|██████████| 40/40 [00:33<00:00,  1.19it/s]\n",
    "Epoch 46/100 - Train Loss: 2.0878, Train Acc: 0.4284, Val Loss: 3.2313, Val Acc: 0.2673\n",
    "Epoch 47/100 [Training]: 100%|██████████| 157/157 [00:56<00:00,  2.80it/s]\n",
    "Epoch 47/100 [Validation]: 100%|██████████| 40/40 [00:32<00:00,  1.24it/s]\n",
    "Epoch 47/100 - Train Loss: 2.0570, Train Acc: 0.4372, Val Loss: 3.2537, Val Acc: 0.2599\n",
    "Epoch 48/100 [Training]: 100%|██████████| 157/157 [00:55<00:00,  2.82it/s]\n",
    "Epoch 48/100 [Validation]: 100%|██████████| 40/40 [00:31<00:00,  1.25it/s]\n",
    "Epoch 48/100 - Train Loss: 2.0031, Train Acc: 0.4480, Val Loss: 3.2703, Val Acc: 0.2667\n",
    "Epoch 49/100 [Training]: 100%|██████████| 157/157 [00:56<00:00,  2.78it/s]\n",
    "Epoch 49/100 [Validation]: 100%|██████████| 40/40 [00:32<00:00,  1.23it/s]\n",
    "Epoch 49/100 - Train Loss: 1.9689, Train Acc: 0.4555, Val Loss: 3.3196, Val Acc: 0.2584\n",
    "Epoch 50/100 [Training]: 100%|██████████| 157/157 [00:59<00:00,  2.63it/s]\n",
    "Epoch 50/100 [Validation]: 100%|██████████| 40/40 [00:32<00:00,  1.22it/s]\n",
    "Epoch 50/100 - Train Loss: 1.9405, Train Acc: 0.4603, Val Loss: 3.2944, Val Acc: 0.2621\n",
    "Epoch 51/100 [Training]: 100%|██████████| 157/157 [01:33<00:00,  1.68it/s]\n",
    "Epoch 51/100 [Validation]: 100%|██████████| 40/40 [00:34<00:00,  1.17it/s]\n",
    "Epoch 51/100 - Train Loss: 1.8857, Train Acc: 0.4743, Val Loss: 3.3111, Val Acc: 0.2718\n",
    "Early stopping due to no improvement in validation loss.\n",
    "Total training time: 74.23 minutes\n",
    "```"
   ]
  },
  {
   "cell_type": "code",
   "execution_count": 53,
   "metadata": {},
   "outputs": [
    {
     "data": {
      "image/png": "[encoded data removed]",
      "text/plain": [
       "<Figure size 600x400 with 1 Axes>"
      ]
     },
     "metadata": {},
     "output_type": "display_data"
    },
    {
     "data": {
      "image/png": "[encoded data removed]",
      "text/plain": [
       "<Figure size 600x400 with 1 Axes>"
      ]
     },
     "metadata": {},
     "output_type": "display_data"
    }
   ],
   "source": [
    "# Plot losses\n",
    "plt.figure(figsize=(6, 4))\n",
    "plt.title('Loss')\n",
    "plt.plot(train_losses, label='train')\n",
    "plt.plot(val_losses, label='val')\n",
    "plt.legend()\n",
    "plt.show()\n",
    "\n",
    "# Plot accuracies\n",
    "plt.figure(figsize=(6, 4))\n",
    "plt.title('Accuracy')\n",
    "# move list to cpu\n",
    "train_acc = [i.cpu() for i in train_acc]\n",
    "val_acc = [i.cpu() for i in val_acc]\n",
    "plt.plot(train_acc, label='train')\n",
    "plt.plot(val_acc, label='val')\n",
    "plt.legend()\n",
    "plt.show()"
   ]
  },
  {
   "cell_type": "code",
   "execution_count": 54,
   "metadata": {},
   "outputs": [
    {
     "name": "stderr",
     "output_type": "stream",
     "text": [
      "Testing: 40it [00:23,  1.71it/s]"
     ]
    },
    {
     "name": "stdout",
     "output_type": "stream",
     "text": [
      "Test accuracy: 0.2836\n",
      "              precision    recall  f1-score   support\n",
      "\n",
      "           0       0.55      0.41      0.47       100\n",
      "           1       0.36      0.32      0.34       100\n",
      "           2       0.13      0.07      0.09       100\n",
      "           3       0.19      0.16      0.17       100\n",
      "           4       0.18      0.11      0.14       100\n",
      "           5       0.19      0.24      0.21       100\n",
      "           6       0.20      0.38      0.26       100\n",
      "           7       0.40      0.32      0.35       100\n",
      "           8       0.19      0.27      0.22       100\n",
      "           9       0.53      0.31      0.39       100\n",
      "          10       0.30      0.07      0.11       100\n",
      "          11       0.18      0.20      0.19       100\n",
      "          12       0.26      0.31      0.29       100\n",
      "          13       0.19      0.36      0.25       100\n",
      "          14       0.21      0.16      0.18       100\n",
      "          15       0.15      0.16      0.15       100\n",
      "          16       0.31      0.28      0.29       100\n",
      "          17       0.41      0.65      0.51       100\n",
      "          18       0.47      0.23      0.31       100\n",
      "          19       0.25      0.20      0.22       100\n",
      "          20       0.67      0.46      0.54       100\n",
      "          21       0.40      0.40      0.40       100\n",
      "          22       0.20      0.16      0.18       100\n",
      "          23       0.44      0.47      0.46       100\n",
      "          24       0.46      0.62      0.53       100\n",
      "          25       0.17      0.20      0.19       100\n",
      "          26       0.18      0.11      0.14       100\n",
      "          27       0.12      0.12      0.12       100\n",
      "          28       0.34      0.41      0.37       100\n",
      "          29       0.25      0.18      0.21       100\n",
      "          30       0.33      0.31      0.32       100\n",
      "          31       0.23      0.36      0.28       100\n",
      "          32       0.31      0.22      0.26       100\n",
      "          33       0.33      0.26      0.29       100\n",
      "          34       0.22      0.28      0.25       100\n",
      "          35       0.17      0.07      0.10       100\n",
      "          36       0.18      0.37      0.25       100\n",
      "          37       0.16      0.26      0.20       100\n",
      "          38       0.18      0.27      0.21       100\n",
      "          39       0.24      0.39      0.30       100\n",
      "          40       0.28      0.21      0.24       100\n",
      "          41       0.53      0.55      0.54       100\n",
      "          42       0.16      0.26      0.20       100\n",
      "          43       0.18      0.28      0.22       100\n",
      "          44       0.18      0.08      0.11       100\n",
      "          45       0.14      0.08      0.10       100\n",
      "          46       0.24      0.19      0.21       100\n",
      "          47       0.46      0.41      0.43       100\n",
      "          48       0.31      0.50      0.38       100\n",
      "          49       0.26      0.37      0.31       100\n",
      "          50       0.10      0.05      0.07       100\n",
      "          51       0.21      0.27      0.24       100\n",
      "          52       0.46      0.79      0.58       100\n",
      "          53       0.42      0.50      0.46       100\n",
      "          54       0.38      0.41      0.40       100\n",
      "          55       0.08      0.05      0.06       100\n",
      "          56       0.40      0.23      0.29       100\n",
      "          57       0.30      0.26      0.28       100\n",
      "          58       0.22      0.34      0.26       100\n",
      "          59       0.36      0.16      0.22       100\n",
      "          60       0.70      0.72      0.71       100\n",
      "          61       0.45      0.31      0.37       100\n",
      "          62       0.43      0.43      0.43       100\n",
      "          63       0.26      0.29      0.27       100\n",
      "          64       0.18      0.06      0.09       100\n",
      "          65       0.16      0.19      0.17       100\n",
      "          66       0.10      0.06      0.08       100\n",
      "          67       0.39      0.25      0.30       100\n",
      "          68       0.49      0.74      0.59       100\n",
      "          69       0.37      0.39      0.38       100\n",
      "          70       0.35      0.27      0.30       100\n",
      "          71       0.56      0.46      0.51       100\n",
      "          72       0.17      0.12      0.14       100\n",
      "          73       0.31      0.26      0.28       100\n",
      "          74       0.12      0.18      0.15       100\n",
      "          75       0.33      0.51      0.40       100\n",
      "          76       0.56      0.43      0.49       100\n",
      "          77       0.17      0.08      0.11       100\n",
      "          78       0.16      0.11      0.13       100\n",
      "          79       0.16      0.13      0.14       100\n",
      "          80       0.12      0.10      0.11       100\n",
      "          81       0.18      0.07      0.10       100\n",
      "          82       0.47      0.64      0.54       100\n",
      "          83       0.30      0.20      0.24       100\n",
      "          84       0.13      0.07      0.09       100\n",
      "          85       0.38      0.24      0.29       100\n",
      "          86       0.25      0.37      0.30       100\n",
      "          87       0.22      0.28      0.25       100\n",
      "          88       0.17      0.22      0.19       100\n",
      "          89       0.30      0.33      0.31       100\n",
      "          90       0.19      0.22      0.20       100\n",
      "          91       0.31      0.42      0.36       100\n",
      "          92       0.16      0.14      0.15       100\n",
      "          93       0.22      0.20      0.21       100\n",
      "          94       0.42      0.50      0.46       100\n",
      "          95       0.39      0.48      0.43       100\n",
      "          96       0.26      0.18      0.21       100\n",
      "          97       0.17      0.28      0.22       100\n",
      "          98       0.22      0.12      0.15       100\n",
      "          99       0.32      0.19      0.24       100\n",
      "\n",
      "    accuracy                           0.28     10000\n",
      "   macro avg       0.28      0.28      0.27     10000\n",
      "weighted avg       0.28      0.28      0.27     10000\n",
      "\n"
     ]
    },
    {
     "name": "stderr",
     "output_type": "stream",
     "text": [
      "\n"
     ]
    }
   ],
   "source": [
    "# test on the test set\n",
    "\n",
    "# Set model to eval mode\n",
    "model.eval()\n",
    "\n",
    "# Initialize lists to store predictions and labels\n",
    "preds = []\n",
    "labels = []\n",
    "\n",
    "# Turn off gradients\n",
    "with torch.no_grad():\n",
    "    # Iterate over test data\n",
    "    for batch_idx, (data, target) in tqdm(enumerate(test_loader), desc=\"Testing\"):\n",
    "        # Send data to device\n",
    "        data, target = data.to(device), target.to(device)\n",
    "\n",
    "        # Forward pass\n",
    "        output = model(data)\n",
    "\n",
    "        # Get predicted class\n",
    "        pred = output.argmax(dim=1, keepdim=True)\n",
    "\n",
    "        # Save predictions and labels for computing metrics later\n",
    "        preds.extend(pred.cpu().numpy())\n",
    "        labels.extend(target.cpu().numpy())\n",
    "\n",
    "# Print accuracy\n",
    "accuracy = accuracy_score(labels, preds)\n",
    "print(f\"Test accuracy: {accuracy:.4f}\")\n",
    "\n",
    "# Print classification report\n",
    "print(classification_report(labels, preds))\n",
    "\n",
    "# Print confusion matrix - can't print a confusion matrix because 100 classes :(\n",
    "# cm = confusion_matrix(labels, preds)\n",
    "# plt.figure(figsize=(6, 6))\n",
    "# sns.heatmap(cm, annot=True, fmt='d', cmap='Blues', cbar=False)\n",
    "# plt.xlabel('Predicted')\n",
    "# plt.ylabel('Actual')\n",
    "# plt.show()"
   ]
  }
 ],
 "metadata": {
  "kernelspec": {
   "display_name": "pytorch-vit-env",
   "language": "python",
   "name": "python3"
  },
  "language_info": {
   "codemirror_mode": {
    "name": "ipython",
    "version": 3
   },
   "file_extension": ".py",
   "mimetype": "text/x-python",
   "name": "python",
   "nbconvert_exporter": "python",
   "pygments_lexer": "ipython3",
   "version": "3.11.5"
  },
  "orig_nbformat": 4
 },
 "nbformat": 4,
 "nbformat_minor": 2
}
