{
 "cells": [
  {
   "cell_type": "markdown",
   "metadata": {},
   "source": [
    "# Simple CNN model for MNIST, CIFAR-10, and CIFAR-100"
   ]
  },
  {
   "cell_type": "code",
   "execution_count": 1,
   "metadata": {},
   "outputs": [],
   "source": [
    "# Standard imports\n",
    "import numpy as np\n",
    "import matplotlib.pyplot as plt\n",
    "import seaborn as sns\n",
    "import os\n",
    "import copy\n",
    "import time\n",
    "import math\n",
    "import random\n",
    "\n",
    "# Machine learning imports\n",
    "import torch\n",
    "import torch.nn as nn\n",
    "import torch.nn.functional as F\n",
    "import torch.optim as optim\n",
    "from torchsummary import summary\n",
    "from torch.optim.lr_scheduler import ReduceLROnPlateau\n",
    "from torch.utils.data import DataLoader, random_split\n",
    "from torchvision import transforms, utils, datasets, models\n",
    "from sklearn.model_selection import train_test_split\n",
    "from sklearn.metrics import confusion_matrix, classification_report, accuracy_score\n",
    "\n",
    "# Other imports\n",
    "from tqdm import tqdm\n",
    "\n",
    "# Set seed for reproducibility\n",
    "torch.manual_seed(42)\n",
    "np.random.seed(42)\n",
    "torch.cuda.manual_seed_all(42)"
   ]
  },
  {
   "cell_type": "code",
   "execution_count": 2,
   "metadata": {},
   "outputs": [],
   "source": [
    "def set_device():\n",
    "    ''' \n",
    "    Set device: either Cuda (GPU), MPS (Apple Silicon GPU), or CPU\n",
    "    '''\n",
    "    device = torch.device(\n",
    "        \"cuda\"\n",
    "        if torch.cuda.is_available()\n",
    "        else \"mps\"\n",
    "        if torch.backends.mps.is_available()\n",
    "        else \"cpu\"\n",
    "    )\n",
    "    print(f\"Using {device} device\")\n",
    "    return device"
   ]
  },
  {
   "cell_type": "code",
   "execution_count": 3,
   "metadata": {},
   "outputs": [],
   "source": [
    "def data_loader(dataset: str, batch_size: int, image_size: int, augment: bool = True):\n",
    "    '''\n",
    "    Function that takes in a dataset and returns train and test dataloaders along with the hyperparameters\n",
    "    associated with the dataset.\n",
    "\n",
    "    Parameters:\n",
    "        dataset (str): Name of dataset to load. Options: MNIST, CIFAR10, CIFAR100\n",
    "        batch_size (int): Batch size for dataloaders\n",
    "        augment (bool): Whether to augment training data or not\n",
    "        \n",
    "    Returns:\n",
    "        train_loader (DataLoader): Dataloader for training set\n",
    "        val_loader (DataLoader): Dataloader for validation set\n",
    "        test_loader (DataLoader): Dataloader for test set\n",
    "        num_classes (int): Number of classes in dataset\n",
    "        image_size (int): Size of image in dataset\n",
    "        batch_size (int): Batch size for dataloaders\n",
    "    '''\n",
    "\n",
    "    base_train_transforms = [transforms.Resize((image_size, image_size)), transforms.ToTensor()]\n",
    "    if dataset == \"MNIST\":\n",
    "        base_train_transforms.append(transforms.Normalize((0.5,), (0.5,)))\n",
    "    elif dataset == \"CIFAR10\":\n",
    "        mean, std = (0.4914, 0.4822, 0.4465), (0.2470, 0.2435, 0.2616)\n",
    "        base_train_transforms.append(transforms.Normalize(mean, std))\n",
    "    elif dataset == \"CIFAR100\":\n",
    "        mean, std = (0.5070, 0.4865, 0.4409), (0.2673, 0.2564, 0.2762)\n",
    "        base_train_transforms.append(transforms.Normalize(mean, std))\n",
    "\n",
    "    # Additional augmentations for CIFAR10 and CIFAR100\n",
    "    additional_transforms = []\n",
    "    if augment:\n",
    "\n",
    "        additional_transforms = [\n",
    "            transforms.Resize((image_size, image_size)), # resizing capabilities if needed. Currently not used for our experiments\n",
    "            transforms.RandomCrop(image_size, padding=4),\n",
    "            transforms.RandomHorizontalFlip(), \n",
    "            transforms.RandomRotation(3.6),\n",
    "            transforms.ColorJitter(brightness=0.2, contrast=0.2, saturation=0.2, hue=0.1),\n",
    "            transforms.RandomAffine(degrees=0, scale=(0.8, 1.2)),\n",
    "            transforms.GaussianBlur(kernel_size=3, sigma=(0.1, 2.0)),\n",
    "            transforms.Grayscale(num_output_channels=3),\n",
    "            transforms.RandomSolarize(threshold=0.5, p=0.2),\n",
    "        ]\n",
    "    \n",
    "    dataset_config = {\n",
    "        'MNIST': {\n",
    "            'dataset_cls': datasets.MNIST,\n",
    "            'num_classes': 10,\n",
    "            'default_image_size': 28,\n",
    "            'batch_size': batch_size,  # Use the batch_size parameter\n",
    "            'train_transform': transforms.Compose(base_train_transforms),\n",
    "            'test_transform': transforms.Compose([\n",
    "                transforms.Resize((image_size, image_size)),\n",
    "                transforms.ToTensor(),\n",
    "                transforms.Normalize((0.5,), (0.5,))\n",
    "            ])\n",
    "        },\n",
    "        'CIFAR10': {\n",
    "            'dataset_cls': datasets.CIFAR10,\n",
    "            'num_classes': 10,\n",
    "            'default_image_size': 32,\n",
    "            'batch_size': batch_size,\n",
    "            'train_transform': transforms.Compose(additional_transforms + base_train_transforms),\n",
    "            'test_transform': transforms.Compose([\n",
    "                transforms.Resize((image_size, image_size)),\n",
    "                transforms.ToTensor(),\n",
    "                transforms.Normalize((0.4914, 0.4822, 0.4465), (0.2470, 0.2435, 0.2616))\n",
    "            ])\n",
    "        },\n",
    "        'CIFAR100': {\n",
    "            'dataset_cls': datasets.CIFAR100,\n",
    "            'num_classes': 100,\n",
    "            'default_image_size': 32,\n",
    "            'batch_size': batch_size,\n",
    "            'train_transform': transforms.Compose(additional_transforms + base_train_transforms),\n",
    "            'test_transform': transforms.Compose([\n",
    "                transforms.Resize((image_size, image_size)),\n",
    "                transforms.ToTensor(),\n",
    "                transforms.Normalize((0.5070, 0.4865, 0.4409), (0.2673, 0.2564, 0.2762))\n",
    "            ])\n",
    "        }\n",
    "    }    \n",
    "\n",
    "    # Ensure dataset is valid\n",
    "    if dataset not in dataset_config:\n",
    "        raise ValueError(f\"Unsupported dataset: {dataset}. Supported datasets are: {', '.join(dataset_config.keys())}\")\n",
    "\n",
    "    # Access config\n",
    "    cfg = dataset_config[dataset]\n",
    "\n",
    "    # Print loading info\n",
    "    print(f'Loading {dataset} dataset...')\n",
    "\n",
    "    # Load data\n",
    "    dataset_cls = cfg['dataset_cls']\n",
    "\n",
    "    data_dir = '../data/'\n",
    "    if not os.path.exists(data_dir):\n",
    "        os.makedirs(data_dir)\n",
    "\n",
    "    train_dataset_full = dataset_cls(f'{data_dir}{dataset}_data/', train=True, download=True, transform=cfg['train_transform'])\n",
    "    test_dataset = dataset_cls(f'{data_dir}{dataset}_data/', train=False, download=True, transform=cfg['test_transform'])\n",
    "\n",
    "    # Split training dataset into training and validation sets\n",
    "    train_size = int(0.8 * len(train_dataset_full))\n",
    "    val_size = len(train_dataset_full) - train_size\n",
    "    train_dataset, val_dataset = random_split(train_dataset_full, [train_size, val_size])\n",
    "\n",
    "    # Compute optimal number of workers\n",
    "    num_workers = min(4, os.cpu_count())\n",
    "\n",
    "    # Create data loaders\n",
    "    train_loader = DataLoader(train_dataset, batch_size=cfg['batch_size'], shuffle=True, num_workers=num_workers)\n",
    "    val_loader = DataLoader(val_dataset, batch_size=cfg['batch_size'], shuffle=True, num_workers=num_workers)\n",
    "    test_loader = DataLoader(test_dataset, batch_size=cfg['batch_size'], shuffle=False, num_workers=num_workers)\n",
    "\n",
    "    return train_loader, val_loader, test_loader, cfg['num_classes'], cfg['default_image_size']"
   ]
  },
  {
   "cell_type": "code",
   "execution_count": 4,
   "metadata": {},
   "outputs": [],
   "source": [
    "class SimpleCNN(nn.Module):\n",
    "    def __init__(self, dataset: str, drop: float):\n",
    "        super(SimpleCNN, self).__init__()\n",
    "\n",
    "        # Determine number of channels and classes based on the dataset\n",
    "        in_channels = 1 if dataset == \"MNIST\" else 3\n",
    "        num_classes = 100 if dataset == \"CIFAR100\" else 10\n",
    "\n",
    "        # Pooling operation adjusted for dataset\n",
    "        pool_kernel_size = 2\n",
    "        pool_stride = 2  # Setting stride to 2 for both MNIST and CIFAR\n",
    "        self.pool = nn.MaxPool2d(pool_kernel_size, pool_stride)\n",
    "\n",
    "        if dataset == \"MNIST\":\n",
    "            self.conv1 = nn.Conv2d(in_channels, 14, 3, padding=1)\n",
    "            self.batch_norm1 = nn.BatchNorm2d(14)\n",
    "\n",
    "            self.conv2 = nn.Conv2d(14, 28, 3, padding=1)\n",
    "            self.batch_norm2 = nn.BatchNorm2d(28)\n",
    "\n",
    "            self.conv3 = nn.Conv2d(28, 56, 3, padding=1)\n",
    "            self.batch_norm3 = nn.BatchNorm2d(56)\n",
    "\n",
    "            self.fc1 = nn.Linear(56 * 3 * 3, 512)\n",
    "\n",
    "            self.dropout = nn.Dropout(drop)\n",
    "            self.fc2 = nn.Linear(512, num_classes)\n",
    "        else:\n",
    "            self.conv1 = nn.Conv2d(in_channels, 16, 3, padding=1)\n",
    "            self.batch_norm1 = nn.BatchNorm2d(16)\n",
    "\n",
    "            self.conv2 = nn.Conv2d(16, 32, 3, padding=1)\n",
    "            self.batch_norm2 = nn.BatchNorm2d(32)\n",
    "\n",
    "            self.conv3 = nn.Conv2d(32, 64, 3, padding=1)\n",
    "            self.batch_norm3 = nn.BatchNorm2d(64)\n",
    "\n",
    "            self.fc1 = nn.Linear(64 * 4 * 4, 512)\n",
    "            self.dropout = nn.Dropout(drop)\n",
    "            self.fc2 = nn.Linear(512, num_classes)\n",
    "\n",
    "    def forward(self, x):\n",
    "        # Add sequence of convolutional and max pooling layers\n",
    "        x = self.pool(F.relu(self.batch_norm1(self.conv1(x))))\n",
    "        x = self.pool(F.relu(self.batch_norm2(self.conv2(x))))\n",
    "        x = self.pool(F.relu(self.batch_norm3(self.conv3(x))))\n",
    "\n",
    "        # Flattening\n",
    "        x = x.view(x.size(0), -1)\n",
    "\n",
    "        # Add first hidden layer, with relu activation function\n",
    "        x = F.relu(self.fc1(x))\n",
    "\n",
    "        # Add dropout layer\n",
    "        x = self.dropout(x)\n",
    "\n",
    "        # Add second hidden layer, with relu activation function\n",
    "        x = self.fc2(x)\n",
    "\n",
    "        return x\n"
   ]
  },
  {
   "cell_type": "code",
   "execution_count": 5,
   "metadata": {},
   "outputs": [],
   "source": [
    "cifar10_model = SimpleCNN(dataset=\"CIFAR10\", drop=0.01)\n",
    "cifar100_model = SimpleCNN(dataset=\"CIFAR100\", drop=0.01)\n",
    "mnist_model = SimpleCNN(dataset=\"MNIST\", drop=0.01)"
   ]
  },
  {
   "cell_type": "code",
   "execution_count": 6,
   "metadata": {},
   "outputs": [
    {
     "name": "stdout",
     "output_type": "stream",
     "text": [
      "----------------------------------------------------------------\n",
      "        Layer (type)               Output Shape         Param #\n",
      "================================================================\n",
      "            Conv2d-1           [-1, 14, 28, 28]             140\n",
      "       BatchNorm2d-2           [-1, 14, 28, 28]              28\n",
      "         MaxPool2d-3           [-1, 14, 14, 14]               0\n",
      "            Conv2d-4           [-1, 28, 14, 14]           3,556\n",
      "       BatchNorm2d-5           [-1, 28, 14, 14]              56\n",
      "         MaxPool2d-6             [-1, 28, 7, 7]               0\n",
      "            Conv2d-7             [-1, 56, 7, 7]          14,168\n",
      "       BatchNorm2d-8             [-1, 56, 7, 7]             112\n",
      "         MaxPool2d-9             [-1, 56, 3, 3]               0\n",
      "           Linear-10                  [-1, 512]         258,560\n",
      "          Dropout-11                  [-1, 512]               0\n",
      "           Linear-12                   [-1, 10]           5,130\n",
      "================================================================\n",
      "Total params: 281,750\n",
      "Trainable params: 281,750\n",
      "Non-trainable params: 0\n",
      "----------------------------------------------------------------\n",
      "Input size (MB): 0.00\n",
      "Forward/backward pass size (MB): 0.34\n",
      "Params size (MB): 1.07\n",
      "Estimated Total Size (MB): 1.41\n",
      "----------------------------------------------------------------\n"
     ]
    }
   ],
   "source": [
    "# Print model summary\n",
    "summary(mnist_model, (1, 28, 28))"
   ]
  },
  {
   "cell_type": "code",
   "execution_count": 7,
   "metadata": {},
   "outputs": [
    {
     "name": "stdout",
     "output_type": "stream",
     "text": [
      "----------------------------------------------------------------\n",
      "        Layer (type)               Output Shape         Param #\n",
      "================================================================\n",
      "            Conv2d-1           [-1, 16, 32, 32]             448\n",
      "       BatchNorm2d-2           [-1, 16, 32, 32]              32\n",
      "         MaxPool2d-3           [-1, 16, 16, 16]               0\n",
      "            Conv2d-4           [-1, 32, 16, 16]           4,640\n",
      "       BatchNorm2d-5           [-1, 32, 16, 16]              64\n",
      "         MaxPool2d-6             [-1, 32, 8, 8]               0\n",
      "            Conv2d-7             [-1, 64, 8, 8]          18,496\n",
      "       BatchNorm2d-8             [-1, 64, 8, 8]             128\n",
      "         MaxPool2d-9             [-1, 64, 4, 4]               0\n",
      "           Linear-10                  [-1, 512]         524,800\n",
      "          Dropout-11                  [-1, 512]               0\n",
      "           Linear-12                   [-1, 10]           5,130\n",
      "================================================================\n",
      "Total params: 553,738\n",
      "Trainable params: 553,738\n",
      "Non-trainable params: 0\n",
      "----------------------------------------------------------------\n",
      "Input size (MB): 0.01\n",
      "Forward/backward pass size (MB): 0.50\n",
      "Params size (MB): 2.11\n",
      "Estimated Total Size (MB): 2.62\n",
      "----------------------------------------------------------------\n"
     ]
    }
   ],
   "source": [
    "# Print model summary\n",
    "summary(cifar10_model, (3, 32, 32))"
   ]
  },
  {
   "cell_type": "code",
   "execution_count": 8,
   "metadata": {},
   "outputs": [
    {
     "name": "stdout",
     "output_type": "stream",
     "text": [
      "----------------------------------------------------------------\n",
      "        Layer (type)               Output Shape         Param #\n",
      "================================================================\n",
      "            Conv2d-1           [-1, 16, 32, 32]             448\n",
      "       BatchNorm2d-2           [-1, 16, 32, 32]              32\n",
      "         MaxPool2d-3           [-1, 16, 16, 16]               0\n",
      "            Conv2d-4           [-1, 32, 16, 16]           4,640\n",
      "       BatchNorm2d-5           [-1, 32, 16, 16]              64\n",
      "         MaxPool2d-6             [-1, 32, 8, 8]               0\n",
      "            Conv2d-7             [-1, 64, 8, 8]          18,496\n",
      "       BatchNorm2d-8             [-1, 64, 8, 8]             128\n",
      "         MaxPool2d-9             [-1, 64, 4, 4]               0\n",
      "           Linear-10                  [-1, 512]         524,800\n",
      "          Dropout-11                  [-1, 512]               0\n",
      "           Linear-12                  [-1, 100]          51,300\n",
      "================================================================\n",
      "Total params: 599,908\n",
      "Trainable params: 599,908\n",
      "Non-trainable params: 0\n",
      "----------------------------------------------------------------\n",
      "Input size (MB): 0.01\n",
      "Forward/backward pass size (MB): 0.50\n",
      "Params size (MB): 2.29\n",
      "Estimated Total Size (MB): 2.80\n",
      "----------------------------------------------------------------\n"
     ]
    }
   ],
   "source": [
    "# Print model summary\n",
    "summary(cifar100_model, (3, 32, 32))"
   ]
  },
  {
   "cell_type": "code",
   "execution_count": 9,
   "metadata": {},
   "outputs": [],
   "source": [
    "dataset = \"CIFAR100\" # <-- change this parameter only! Options: MNIST, CIFAR10, CIFAR100\n",
    "model_name = f\"{dataset}_cnn_classifier\"\n",
    "image_size = 28 if dataset == \"MNIST\" else 32\n",
    "learning_rate = 0.002\n",
    "weight_decay = 0.0001\n",
    "batch_size = 256\n",
    "num_epochs = 50\n",
    "patience_value = 10 if dataset == \"MNIST\" else 15 # default: 10 if not set\n",
    "drop=0.01 # Adjust as necessary"
   ]
  },
  {
   "cell_type": "code",
   "execution_count": 10,
   "metadata": {},
   "outputs": [
    {
     "name": "stdout",
     "output_type": "stream",
     "text": [
      "Using mps device\n",
      "Loading CIFAR100 dataset...\n",
      "Files already downloaded and verified\n",
      "Files already downloaded and verified\n"
     ]
    }
   ],
   "source": [
    "# Send the models to the device\n",
    "device = set_device()\n",
    "\n",
    "# Initialise model\n",
    "model = SimpleCNN(dataset, drop=drop)\n",
    "model.to(device)\n",
    "\n",
    "# Define loss function and optimizer\n",
    "criterion = nn.CrossEntropyLoss()\n",
    "optimizer = optim.Adam(model.parameters(), lr=learning_rate, weight_decay=weight_decay)\n",
    "scheduler = ReduceLROnPlateau(optimizer, patience=patience_value, verbose=True)\n",
    "\n",
    "# Load data\n",
    "train_loader, val_loader, test_loader, num_classes, image_size = data_loader(dataset, batch_size, image_size=image_size, augment=False)\n"
   ]
  },
  {
   "cell_type": "code",
   "execution_count": 11,
   "metadata": {},
   "outputs": [],
   "source": [
    "def train(model, train_loader, val_loader, criterion, optimizer, device, model_name,epochs=10, scheduler=None, patience=None):\n",
    "    '''\n",
    "    Function that trains the model.\n",
    "\n",
    "    Parameters:\n",
    "        model (nn.Module): Model to train\n",
    "        train_loader (DataLoader): Dataloader for training set\n",
    "        val_loader (DataLoader): Dataloader for validation set\n",
    "        criterion (nn.Module): Loss function\n",
    "        optimizer (nn.Module): Optimizer\n",
    "        device (str): Device to use\n",
    "        epochs (int): Number of epochs\n",
    "        scheduler (nn.Module): Learning rate scheduler\n",
    "        patience (int): Number of epochs to wait before early stopping\n",
    "        model_name (str): Name of model\n",
    "\n",
    "    Returns:\n",
    "        model (nn.Module): Trained model\n",
    "        train_losses (list): Training losses\n",
    "        val_losses (list): Validation losses\n",
    "        train_acc (list): Training accuracy\n",
    "        val_acc (list): Validation accuracy\n",
    "    '''\n",
    "    \n",
    "    # Set model to training mode\n",
    "    model.train()\n",
    "\n",
    "    # Initialize lists to store losses and accuracy\n",
    "    train_losses = []\n",
    "    val_losses = []\n",
    "    train_acc = []\n",
    "    val_acc = []\n",
    "    best_val_loss = np.inf\n",
    "\n",
    "    epochs_without_improvement = 0  # for early stopping\n",
    "\n",
    "    # Record the start time for training\n",
    "    start_time = time.time()\n",
    "\n",
    "    for epoch in range(epochs):\n",
    "        epoch_train_loss = 0\n",
    "        epoch_train_acc = 0\n",
    "        epoch_val_loss = 0\n",
    "        epoch_val_acc = 0\n",
    "\n",
    "        # Training\n",
    "        for inputs, labels in tqdm(train_loader, desc=f\"Epoch {epoch+1}/{epochs} [Training]\"):\n",
    "            inputs, labels = inputs.to(device), labels.to(device)\n",
    "            optimizer.zero_grad()\n",
    "            outputs = model(inputs).to(device)\n",
    "            loss = criterion(outputs, labels)\n",
    "            loss.backward()\n",
    "            optimizer.step()\n",
    "            epoch_train_loss += loss.item() * inputs.size(0)\n",
    "            _, preds = torch.max(outputs, 1)\n",
    "            epoch_train_acc += torch.sum(preds == labels.data)\n",
    "\n",
    "        # Validation\n",
    "        model.eval()  # <-- set model to eval mode for validation\n",
    "        for inputs, labels in tqdm(val_loader, desc=f\"Epoch {epoch+1}/{epochs} [Validation]\"):\n",
    "            inputs, labels = inputs.to(device), labels.to(device)\n",
    "            outputs = model(inputs).to(device)\n",
    "            loss = criterion(outputs, labels)\n",
    "            epoch_val_loss += loss.item() * inputs.size(0)\n",
    "            _, preds = torch.max(outputs, 1)\n",
    "            epoch_val_acc += torch.sum(preds == labels.data)\n",
    "        model.train()  # <-- set model back to train mode\n",
    "\n",
    "        # Average metrics\n",
    "        epoch_train_loss /= len(train_loader.dataset)\n",
    "        epoch_train_acc = epoch_train_acc.float() / len(train_loader.dataset)\n",
    "        epoch_val_loss /= len(val_loader.dataset)\n",
    "        epoch_val_acc = epoch_val_acc.float() / len(val_loader.dataset)\n",
    "\n",
    "        if scheduler:\n",
    "            scheduler.step(epoch_val_loss)\n",
    "\n",
    "        if epoch_val_loss < best_val_loss:\n",
    "            best_val_loss = epoch_val_loss\n",
    "            best_model_wts = copy.deepcopy(model.state_dict())\n",
    "            epochs_without_improvement = 0  # reset the count\n",
    "        else:\n",
    "            epochs_without_improvement += 1\n",
    "\n",
    "        train_losses.append(epoch_train_loss)\n",
    "        val_losses.append(epoch_val_loss)\n",
    "        train_acc.append(epoch_train_acc)\n",
    "        val_acc.append(epoch_val_acc)\n",
    "\n",
    "        print(f'Epoch {epoch+1}/{epochs} - '\n",
    "              f'Train Loss: {epoch_train_loss:.4f}, '\n",
    "              f'Train Acc: {epoch_train_acc:.4f}, '\n",
    "              f'Val Loss: {epoch_val_loss:.4f}, '\n",
    "              f'Val Acc: {epoch_val_acc:.4f}')\n",
    "\n",
    "        # Early stopping\n",
    "        if patience and epochs_without_improvement == patience:\n",
    "            print(\"Early stopping due to no improvement in validation loss.\")\n",
    "            break\n",
    "\n",
    "    # Record the end time for training\n",
    "    end_time = time.time()\n",
    "    # Calculate the total training time\n",
    "    total_time_seconds = end_time - start_time\n",
    "    if total_time_seconds < 60:\n",
    "        print(f\"Total training time: {total_time_seconds:.2f} seconds\")\n",
    "    else:\n",
    "        total_time_minutes = total_time_seconds / 60\n",
    "        print(f\"Total training time: {total_time_minutes:.2f} minutes\")\n",
    "    \n",
    "    model.load_state_dict(best_model_wts)\n",
    "    # save trained model\n",
    "\n",
    "    save_dir = '../trained_models/'\n",
    "    if not os.path.exists(save_dir):\n",
    "        os.makedirs(save_dir)\n",
    "\n",
    "    torch.save(model.state_dict(), f'{save_dir}{model_name}.pth')\n",
    "\n",
    "    return model, train_losses, val_losses, train_acc, val_acc"
   ]
  },
  {
   "cell_type": "code",
   "execution_count": 12,
   "metadata": {},
   "outputs": [
    {
     "name": "stderr",
     "output_type": "stream",
     "text": [
      "Epoch 1/50 [Training]:   0%|          | 0/157 [00:00<?, ?it/s]"
     ]
    },
    {
     "name": "stderr",
     "output_type": "stream",
     "text": [
      "Epoch 1/50 [Training]: 100%|██████████| 157/157 [00:31<00:00,  4.99it/s]\n",
      "Epoch 1/50 [Validation]: 100%|██████████| 40/40 [00:28<00:00,  1.40it/s]\n"
     ]
    },
    {
     "name": "stdout",
     "output_type": "stream",
     "text": [
      "Epoch 1/50 - Train Loss: 3.5372, Train Acc: 0.1636, Val Loss: 3.0554, Val Acc: 0.2362\n"
     ]
    },
    {
     "name": "stderr",
     "output_type": "stream",
     "text": [
      "Epoch 2/50 [Training]: 100%|██████████| 157/157 [00:31<00:00,  5.06it/s]\n",
      "Epoch 2/50 [Validation]: 100%|██████████| 40/40 [00:28<00:00,  1.42it/s]\n"
     ]
    },
    {
     "name": "stdout",
     "output_type": "stream",
     "text": [
      "Epoch 2/50 - Train Loss: 2.7625, Train Acc: 0.3005, Val Loss: 2.6574, Val Acc: 0.3198\n"
     ]
    },
    {
     "name": "stderr",
     "output_type": "stream",
     "text": [
      "Epoch 3/50 [Training]: 100%|██████████| 157/157 [00:30<00:00,  5.07it/s]\n",
      "Epoch 3/50 [Validation]: 100%|██████████| 40/40 [00:28<00:00,  1.42it/s]\n"
     ]
    },
    {
     "name": "stdout",
     "output_type": "stream",
     "text": [
      "Epoch 3/50 - Train Loss: 2.4053, Train Acc: 0.3744, Val Loss: 2.5143, Val Acc: 0.3540\n"
     ]
    },
    {
     "name": "stderr",
     "output_type": "stream",
     "text": [
      "Epoch 4/50 [Training]: 100%|██████████| 157/157 [00:31<00:00,  5.06it/s]\n",
      "Epoch 4/50 [Validation]: 100%|██████████| 40/40 [00:28<00:00,  1.42it/s]\n"
     ]
    },
    {
     "name": "stdout",
     "output_type": "stream",
     "text": [
      "Epoch 4/50 - Train Loss: 2.1709, Train Acc: 0.4244, Val Loss: 2.3553, Val Acc: 0.3910\n"
     ]
    },
    {
     "name": "stderr",
     "output_type": "stream",
     "text": [
      "Epoch 5/50 [Training]: 100%|██████████| 157/157 [00:30<00:00,  5.07it/s]\n",
      "Epoch 5/50 [Validation]: 100%|██████████| 40/40 [00:28<00:00,  1.42it/s]\n"
     ]
    },
    {
     "name": "stdout",
     "output_type": "stream",
     "text": [
      "Epoch 5/50 - Train Loss: 1.9933, Train Acc: 0.4644, Val Loss: 2.3712, Val Acc: 0.4010\n"
     ]
    },
    {
     "name": "stderr",
     "output_type": "stream",
     "text": [
      "Epoch 6/50 [Training]: 100%|██████████| 157/157 [00:31<00:00,  5.06it/s]\n",
      "Epoch 6/50 [Validation]: 100%|██████████| 40/40 [00:28<00:00,  1.42it/s]\n"
     ]
    },
    {
     "name": "stdout",
     "output_type": "stream",
     "text": [
      "Epoch 6/50 - Train Loss: 1.8235, Train Acc: 0.5006, Val Loss: 2.3600, Val Acc: 0.3927\n"
     ]
    },
    {
     "name": "stderr",
     "output_type": "stream",
     "text": [
      "Epoch 7/50 [Training]: 100%|██████████| 157/157 [00:31<00:00,  5.06it/s]\n",
      "Epoch 7/50 [Validation]: 100%|██████████| 40/40 [00:28<00:00,  1.42it/s]\n"
     ]
    },
    {
     "name": "stdout",
     "output_type": "stream",
     "text": [
      "Epoch 7/50 - Train Loss: 1.6896, Train Acc: 0.5356, Val Loss: 2.2970, Val Acc: 0.4130\n"
     ]
    },
    {
     "name": "stderr",
     "output_type": "stream",
     "text": [
      "Epoch 8/50 [Training]: 100%|██████████| 157/157 [00:31<00:00,  5.04it/s]\n",
      "Epoch 8/50 [Validation]: 100%|██████████| 40/40 [00:28<00:00,  1.42it/s]\n"
     ]
    },
    {
     "name": "stdout",
     "output_type": "stream",
     "text": [
      "Epoch 8/50 - Train Loss: 1.5593, Train Acc: 0.5666, Val Loss: 2.2846, Val Acc: 0.4205\n"
     ]
    },
    {
     "name": "stderr",
     "output_type": "stream",
     "text": [
      "Epoch 9/50 [Training]: 100%|██████████| 157/157 [00:31<00:00,  5.06it/s]\n",
      "Epoch 9/50 [Validation]: 100%|██████████| 40/40 [00:28<00:00,  1.42it/s]\n"
     ]
    },
    {
     "name": "stdout",
     "output_type": "stream",
     "text": [
      "Epoch 9/50 - Train Loss: 1.4471, Train Acc: 0.5924, Val Loss: 2.3535, Val Acc: 0.4204\n"
     ]
    },
    {
     "name": "stderr",
     "output_type": "stream",
     "text": [
      "Epoch 10/50 [Training]: 100%|██████████| 157/157 [00:31<00:00,  5.06it/s]\n",
      "Epoch 10/50 [Validation]: 100%|██████████| 40/40 [00:28<00:00,  1.42it/s]\n"
     ]
    },
    {
     "name": "stdout",
     "output_type": "stream",
     "text": [
      "Epoch 10/50 - Train Loss: 1.3248, Train Acc: 0.6252, Val Loss: 2.3671, Val Acc: 0.4308\n"
     ]
    },
    {
     "name": "stderr",
     "output_type": "stream",
     "text": [
      "Epoch 11/50 [Training]: 100%|██████████| 157/157 [00:31<00:00,  5.06it/s]\n",
      "Epoch 11/50 [Validation]: 100%|██████████| 40/40 [00:28<00:00,  1.42it/s]\n"
     ]
    },
    {
     "name": "stdout",
     "output_type": "stream",
     "text": [
      "Epoch 11/50 - Train Loss: 1.2201, Train Acc: 0.6493, Val Loss: 2.3808, Val Acc: 0.4245\n"
     ]
    },
    {
     "name": "stderr",
     "output_type": "stream",
     "text": [
      "Epoch 12/50 [Training]: 100%|██████████| 157/157 [00:31<00:00,  5.06it/s]\n",
      "Epoch 12/50 [Validation]: 100%|██████████| 40/40 [00:28<00:00,  1.42it/s]\n"
     ]
    },
    {
     "name": "stdout",
     "output_type": "stream",
     "text": [
      "Epoch 12/50 - Train Loss: 1.1267, Train Acc: 0.6742, Val Loss: 2.4836, Val Acc: 0.4263\n"
     ]
    },
    {
     "name": "stderr",
     "output_type": "stream",
     "text": [
      "Epoch 13/50 [Training]: 100%|██████████| 157/157 [00:31<00:00,  5.06it/s]\n",
      "Epoch 13/50 [Validation]: 100%|██████████| 40/40 [00:28<00:00,  1.42it/s]\n"
     ]
    },
    {
     "name": "stdout",
     "output_type": "stream",
     "text": [
      "Epoch 13/50 - Train Loss: 1.0315, Train Acc: 0.6981, Val Loss: 2.4975, Val Acc: 0.4231\n"
     ]
    },
    {
     "name": "stderr",
     "output_type": "stream",
     "text": [
      "Epoch 14/50 [Training]: 100%|██████████| 157/157 [00:31<00:00,  5.06it/s]\n",
      "Epoch 14/50 [Validation]: 100%|██████████| 40/40 [00:28<00:00,  1.42it/s]\n"
     ]
    },
    {
     "name": "stdout",
     "output_type": "stream",
     "text": [
      "Epoch 14/50 - Train Loss: 0.9424, Train Acc: 0.7245, Val Loss: 2.6799, Val Acc: 0.4139\n"
     ]
    },
    {
     "name": "stderr",
     "output_type": "stream",
     "text": [
      "Epoch 15/50 [Training]: 100%|██████████| 157/157 [00:31<00:00,  5.05it/s]\n",
      "Epoch 15/50 [Validation]: 100%|██████████| 40/40 [00:28<00:00,  1.42it/s]\n"
     ]
    },
    {
     "name": "stdout",
     "output_type": "stream",
     "text": [
      "Epoch 15/50 - Train Loss: 0.8525, Train Acc: 0.7468, Val Loss: 2.6270, Val Acc: 0.4231\n"
     ]
    },
    {
     "name": "stderr",
     "output_type": "stream",
     "text": [
      "Epoch 16/50 [Training]: 100%|██████████| 157/157 [00:31<00:00,  5.06it/s]\n",
      "Epoch 16/50 [Validation]: 100%|██████████| 40/40 [00:28<00:00,  1.42it/s]\n"
     ]
    },
    {
     "name": "stdout",
     "output_type": "stream",
     "text": [
      "Epoch 16/50 - Train Loss: 0.7855, Train Acc: 0.7661, Val Loss: 2.7163, Val Acc: 0.4293\n"
     ]
    },
    {
     "name": "stderr",
     "output_type": "stream",
     "text": [
      "Epoch 17/50 [Training]: 100%|██████████| 157/157 [00:31<00:00,  5.06it/s]\n",
      "Epoch 17/50 [Validation]: 100%|██████████| 40/40 [00:28<00:00,  1.42it/s]\n"
     ]
    },
    {
     "name": "stdout",
     "output_type": "stream",
     "text": [
      "Epoch 17/50 - Train Loss: 0.7140, Train Acc: 0.7827, Val Loss: 2.8788, Val Acc: 0.4187\n"
     ]
    },
    {
     "name": "stderr",
     "output_type": "stream",
     "text": [
      "Epoch 18/50 [Training]: 100%|██████████| 157/157 [00:31<00:00,  5.06it/s]\n",
      "Epoch 18/50 [Validation]: 100%|██████████| 40/40 [00:28<00:00,  1.42it/s]\n"
     ]
    },
    {
     "name": "stdout",
     "output_type": "stream",
     "text": [
      "Epoch 18/50 - Train Loss: 0.6462, Train Acc: 0.8049, Val Loss: 2.9302, Val Acc: 0.4184\n"
     ]
    },
    {
     "name": "stderr",
     "output_type": "stream",
     "text": [
      "Epoch 19/50 [Training]: 100%|██████████| 157/157 [00:30<00:00,  5.06it/s]\n",
      "Epoch 19/50 [Validation]: 100%|██████████| 40/40 [00:28<00:00,  1.42it/s]\n"
     ]
    },
    {
     "name": "stdout",
     "output_type": "stream",
     "text": [
      "Epoch 19/50 - Train Loss: 0.5909, Train Acc: 0.8208, Val Loss: 3.1075, Val Acc: 0.4016\n"
     ]
    },
    {
     "name": "stderr",
     "output_type": "stream",
     "text": [
      "Epoch 20/50 [Training]: 100%|██████████| 157/157 [00:31<00:00,  5.06it/s]\n",
      "Epoch 20/50 [Validation]: 100%|██████████| 40/40 [00:28<00:00,  1.42it/s]\n"
     ]
    },
    {
     "name": "stdout",
     "output_type": "stream",
     "text": [
      "Epoch 20/50 - Train Loss: 0.5392, Train Acc: 0.8344, Val Loss: 3.1622, Val Acc: 0.4152\n"
     ]
    },
    {
     "name": "stderr",
     "output_type": "stream",
     "text": [
      "Epoch 21/50 [Training]: 100%|██████████| 157/157 [00:31<00:00,  5.06it/s]\n",
      "Epoch 21/50 [Validation]: 100%|██████████| 40/40 [00:28<00:00,  1.42it/s]\n"
     ]
    },
    {
     "name": "stdout",
     "output_type": "stream",
     "text": [
      "Epoch 21/50 - Train Loss: 0.4915, Train Acc: 0.8485, Val Loss: 3.2473, Val Acc: 0.4083\n"
     ]
    },
    {
     "name": "stderr",
     "output_type": "stream",
     "text": [
      "Epoch 22/50 [Training]: 100%|██████████| 157/157 [00:31<00:00,  5.05it/s]\n",
      "Epoch 22/50 [Validation]: 100%|██████████| 40/40 [00:28<00:00,  1.42it/s]\n"
     ]
    },
    {
     "name": "stdout",
     "output_type": "stream",
     "text": [
      "Epoch 22/50 - Train Loss: 0.4643, Train Acc: 0.8573, Val Loss: 3.4670, Val Acc: 0.3969\n"
     ]
    },
    {
     "name": "stderr",
     "output_type": "stream",
     "text": [
      "Epoch 23/50 [Training]: 100%|██████████| 157/157 [00:31<00:00,  5.05it/s]\n",
      "Epoch 23/50 [Validation]: 100%|██████████| 40/40 [00:28<00:00,  1.42it/s]"
     ]
    },
    {
     "name": "stdout",
     "output_type": "stream",
     "text": [
      "Epoch 23/50 - Train Loss: 0.4145, Train Acc: 0.8705, Val Loss: 3.5026, Val Acc: 0.4088\n",
      "Early stopping due to no improvement in validation loss.\n",
      "Total training time: 22.71 minutes\n"
     ]
    },
    {
     "name": "stderr",
     "output_type": "stream",
     "text": [
      "\n"
     ]
    }
   ],
   "source": [
    "# train the model\n",
    "model, train_losses, val_losses, train_acc, val_acc = train(model, train_loader, val_loader, criterion, optimizer, device, model_name, epochs=num_epochs, scheduler=scheduler, patience=patience_value)"
   ]
  },
  {
   "cell_type": "code",
   "execution_count": 13,
   "metadata": {},
   "outputs": [],
   "source": [
    "# create directory to save the plots\n",
    "plot_dir = '../notebooks/plots/cnn/'\n",
    "if not os.path.exists(plot_dir):\n",
    "    os.makedirs(plot_dir)"
   ]
  },
  {
   "cell_type": "code",
   "execution_count": 14,
   "metadata": {},
   "outputs": [
    {
     "data": {
      "image/png": "[encoded data removed]",
      "text/plain": [
       "<Figure size 600x400 with 1 Axes>"
      ]
     },
     "metadata": {},
     "output_type": "display_data"
    }
   ],
   "source": [
    "# Plot losses\n",
    "plt.figure(figsize=(6, 4))\n",
    "plt.title(f'{dataset} Basic CNN: Loss')\n",
    "plt.plot(train_losses, label='Train')\n",
    "plt.plot(val_losses, label='Validation')\n",
    "plt.ylabel('Loss')\n",
    "plt.xlabel('Epoch')\n",
    "plt.legend()\n",
    "# save the plot\n",
    "plt.savefig(f'{plot_dir}{model_name}_basic_cnn_loss.pdf', format=\"pdf\")\n",
    "plt.show()\n"
   ]
  },
  {
   "cell_type": "code",
   "execution_count": 15,
   "metadata": {},
   "outputs": [
    {
     "data": {
      "image/png": "[encoded data removed]",
      "text/plain": [
       "<Figure size 600x400 with 1 Axes>"
      ]
     },
     "metadata": {},
     "output_type": "display_data"
    }
   ],
   "source": [
    "# Plot accuracies\n",
    "plt.figure(figsize=(6, 4))\n",
    "plt.title(f'{dataset} Basic CNN: Accuracy')\n",
    "# move list to cpu\n",
    "train_acc = [i.cpu() for i in train_acc]\n",
    "val_acc = [i.cpu() for i in val_acc]\n",
    "plt.plot(train_acc, label='Train')\n",
    "plt.plot(val_acc, label='Validation')\n",
    "plt.ylabel('Accuracy')\n",
    "plt.xlabel('Epoch')\n",
    "plt.legend()\n",
    "# save the plot\n",
    "plt.savefig(f'{plot_dir}{model_name}_basic_cnn_acc.pdf', format=\"pdf\")\n",
    "plt.show()"
   ]
  },
  {
   "cell_type": "code",
   "execution_count": 16,
   "metadata": {},
   "outputs": [
    {
     "name": "stderr",
     "output_type": "stream",
     "text": [
      "Testing: 40it [00:20,  1.95it/s]"
     ]
    },
    {
     "name": "stdout",
     "output_type": "stream",
     "text": [
      "Test accuracy: 0.4251\n"
     ]
    },
    {
     "name": "stderr",
     "output_type": "stream",
     "text": [
      "\n"
     ]
    }
   ],
   "source": [
    "# test on the test set\n",
    "\n",
    "# Set model to eval mode\n",
    "model.eval()\n",
    "\n",
    "# Initialize lists to store predictions and labels\n",
    "preds = []\n",
    "labels = []\n",
    "\n",
    "# Turn off gradients\n",
    "with torch.no_grad():\n",
    "    # Iterate over test data\n",
    "    for batch_idx, (data, target) in tqdm(enumerate(test_loader), desc=\"Testing\"):\n",
    "        # Send data to device\n",
    "        data, target = data.to(device), target.to(device)\n",
    "\n",
    "        # Forward pass\n",
    "        output = model(data)\n",
    "\n",
    "        # Get predicted class\n",
    "        pred = output.argmax(dim=1, keepdim=True)\n",
    "\n",
    "        # Save predictions and labels for computing metrics later\n",
    "        preds.extend(pred.cpu().numpy())\n",
    "        labels.extend(target.cpu().numpy())\n",
    "\n",
    "# Print accuracy\n",
    "accuracy = accuracy_score(labels, preds)\n",
    "print(f\"Test accuracy: {accuracy:.4f}\")\n"
   ]
  },
  {
   "cell_type": "code",
   "execution_count": 18,
   "metadata": {},
   "outputs": [],
   "source": [
    "# Print classification report and confusion matrix\n",
    "# Only print if dataset is not CIFAR100. CIFAR100 has too many classes to print\n",
    "if dataset != \"CIFAR100\":\n",
    "    # Print classification report\n",
    "    print(classification_report(labels, preds))\n",
    "\n",
    "    # Print confusion matrix\n",
    "    cm = confusion_matrix(labels, preds)\n",
    "\n",
    "    # Normalize the confusion matrix\n",
    "    cm_normalized = cm.astype('float') / cm.sum(axis=1)[:, np.newaxis] * 100  # Convert to percentages\n",
    "\n",
    "    plt.figure(figsize=(6, 6))\n",
    "    sns.heatmap(cm_normalized, annot=True, fmt='.2f', cmap='Blues', cbar=False)\n",
    "    plt.xlabel('Predicted')\n",
    "    plt.ylabel('Actual')\n",
    "    plt.title(f'{dataset} CNN: Confusion Matrix (in %)')\n",
    "    # save the plot\n",
    "    plt.savefig(f'{plot_dir}{model_name}_cnn_cm.pdf', format=\"pdf\")\n",
    "    plt.show()"
   ]
  },
  {
   "cell_type": "code",
   "execution_count": null,
   "metadata": {},
   "outputs": [],
   "source": []
  }
 ],
 "metadata": {
  "kernelspec": {
   "display_name": "pytorch-vit-env",
   "language": "python",
   "name": "python3"
  },
  "language_info": {
   "codemirror_mode": {
    "name": "ipython",
    "version": 3
   },
   "file_extension": ".py",
   "mimetype": "text/x-python",
   "name": "python",
   "nbconvert_exporter": "python",
   "pygments_lexer": "ipython3",
   "version": "3.11.5"
  },
  "orig_nbformat": 4
 },
 "nbformat": 4,
 "nbformat_minor": 2
}
