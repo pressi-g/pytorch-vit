{
 "cells": [
  {
   "cell_type": "markdown",
   "metadata": {},
   "source": [
    "# Basic Vision Transformer (ViT) with DINO (Knowledge Distillation with No Labels)\n",
    "\n",
    "This notebook contains code (to be refactored into scripts at a later stage) that implements a basic ViT and ViT for use with DINO to be trained on MNIST, CIFAR10, and CIFAR100. \n",
    "\n",
    "The implementation is written using PyTorch and allows for the following options:\n",
    "\n",
    "- Different datasets: MNIST, CIFAR10, and CIFAR100 (more to be added in future - please open an issue if you would like to see a specific dataset added)\n",
    "- Image augmentation and resizing\n",
    "- Different patch sizes\n",
    "- Different number of layers\n",
    "- Different number of heads\n",
    "- Different number of channels\n",
    "- Different number of classes\n",
    "- Different number of epochs\n",
    "- Different batch sizes\n",
    "- Different learning rates\n",
    "- Different optimizers\n",
    "- Different weight decay\n",
    "- Different dropout rates\n",
    "- Different number of workers\n",
    "- Different number of GPUs\n",
    "\n",
    "The implementation is based on the paper [An Image is Worth 16x16 Words: Transformers for Image Recognition at Scale](https://arxiv.org/abs/2010.11929) by Dosovitskiy et al. and the paper [How to Train Vision Transformer on Small-scale Datasets?](https://arxiv.org/abs/2210.07240v1) by Gani et al. \n",
    "\n",
    "The purpose of this notebook is to provide a basic implementation of ViT that can be used as a starting point for more advanced implementations. The user has the flexibility to change the hyperparameters and the architecture to suit their needs by editing the configs. Thereafter, we investigate the use of knowledge distallation with no labels to train ViT on small-scale datasets as a pre-training step before fine-tuning on the small-scale dataset with labels. \n",
    "\n",
    "The code is optimised for readability and speed where possible.\n",
    "\n",
    "In future the code will be refactored into scripts and the configs will be moved to a separate file, whereby the user can edit the configs in the file to suit their experimentation needs.\n",
    "\n",
    "The first half of this notebook builds a basic ViT model and trains it on MNIST, CIFAR10, and CIFAR100. The second half of this notebook builds a ViT model for use with DINO and trains it on MNIST, CIFAR10, and CIFAR100.\n",
    "\n",
    "The second half involves:\n",
    "\n",
    "1. **Pre-training Stage (Self-Supervised)**: This is a two-step approach using local and global views of low-resolution images.\n",
    "   - **Local Views**: Smaller sections or patches of the image.\n",
    "   - **Global Views**: Represent the entire low-resolution image.\n",
    "\n",
    "   A self-supervised task is designed where the student model predicts the teacher model's representations. The teacher is aided with Dynamic Position Embeddings (DPE) to capture spatial information of local and global views better.\n",
    "\n",
    "2. **Weight Transfer**: After the pre-training is complete, the learned weights from the self-supervised training are used to initialise a standard ViT for the subsequent supervised training.\n",
    "\n",
    "3. **Fine-tuning (Supervised)**: This is the phase where actual labeled data is introduced. The model, initialized with weights from the self-supervised phase, is trained on the small-scale dataset using supervised learning. This step leverages the inductive biases achieved during the self-supervised pre-training to ease the optimization of the Vision Transformer on small datasets.\n",
    "\n",
    "\n",
    "- The student is trained to approximate the feature representations of the teacher during the self-supervised phase. It is trying to predict the output of the teacher model based on the local and global views.\n",
    "\n",
    "- Once this self-supervised training is complete, you'd typically want to transfer the student's learned weights to a Vision Transformer, which will be used for the supervised fine-tuning phase.\n",
    "\n",
    "We want to transfer the weights, but not directly from the teacher model. Instead, we transfer from the student model that has been trained to mimic the teacher during the self-supervised phase. This student model's weights serve as a good initialisation for supervised learning on small datasets."
   ]
  },
  {
   "cell_type": "code",
   "execution_count": 1,
   "metadata": {},
   "outputs": [],
   "source": [
    "# Standard imports\n",
    "import numpy as np\n",
    "import matplotlib.pyplot as plt\n",
    "import seaborn as sns\n",
    "import os\n",
    "import copy\n",
    "import time\n",
    "import math\n",
    "import random\n",
    "\n",
    "# Machine learning imports\n",
    "import torch\n",
    "import torch.nn.functional as F\n",
    "from torch import nn, Tensor, optim\n",
    "from torchsummary import summary\n",
    "from torchvision import datasets, transforms\n",
    "from torchvision.transforms import Compose, Resize, ToTensor\n",
    "from torch.optim.lr_scheduler import ReduceLROnPlateau, CosineAnnealingLR\n",
    "from torch.utils.data import DataLoader, random_split\n",
    "from sklearn.model_selection import train_test_split\n",
    "from sklearn.metrics import confusion_matrix, classification_report, accuracy_score\n",
    "\n",
    "# Third-party imports\n",
    "from einops import rearrange, reduce, repeat\n",
    "from einops.layers.torch import Rearrange, Reduce\n",
    "from PIL import Image\n",
    "from tqdm import tqdm\n",
    "\n",
    "# Set seed for reproducibility\n",
    "torch.manual_seed(42)\n",
    "np.random.seed(42)\n",
    "torch.cuda.manual_seed_all(42)"
   ]
  },
  {
   "cell_type": "code",
   "execution_count": 2,
   "metadata": {},
   "outputs": [],
   "source": [
    "dataset = \"CIFAR100\" # <-- change this parameter only! Options: MNIST, CIFAR10, CIFAR100\n",
    "data_use = 75 # <-- change this parameter for scaling dataset in percentage! Options: 25, 50, 75, 100\n",
    "model_name = f\"{dataset}_{data_use}_classifier\"\n",
    "in_channels = 1 if dataset == \"MNIST\" else 3\n",
    "num_classes = 100 if dataset == \"CIFAR100\" else 10\n",
    "learning_rate = 0.002 #0.001\n",
    "weight_decay = 0.0001\n",
    "batch_size = 256\n",
    "num_epochs = 50\n",
    "self_supervised_epochs = 20\n",
    "fine_tune_epochs = 20\n",
    "image_size = 28 if dataset == \"MNIST\" else 32 # upscale CIFAR10 and CIFAR100 images for better performance -> INVESTIGATE\n",
    "patch_size = 7 if dataset == \"MNIST\" else 8 # keep the number of patches the same for all datasets to keep experiments controlled\n",
    "num_patches = (image_size // patch_size) ** 2\n",
    "projection_dim = 64\n",
    "num_heads = 4\n",
    "transformer_units = [projection_dim * 2, projection_dim]\n",
    "transformer_layers = 8 # depth\n",
    "mlp_head_units = [2048, 1024]\n",
    "patience_value = 10 if dataset == \"MNIST\" else 15 # default: 10 if not set\n",
    "dropout=0.01 # Adjust as necessary\n",
    "ema_decay = 0.999  # Adjust only if necessary"
   ]
  },
  {
   "cell_type": "code",
   "execution_count": 3,
   "metadata": {},
   "outputs": [],
   "source": [
    "def set_device():\n",
    "    ''' \n",
    "    Set device: either Cuda (GPU), MPS (Apple Silicon GPU), or CPU\n",
    "    '''\n",
    "    device = torch.device(\n",
    "        \"cuda\"\n",
    "        if torch.cuda.is_available()\n",
    "        else \"mps\"\n",
    "        if torch.backends.mps.is_available()\n",
    "        else \"cpu\"\n",
    "    )\n",
    "    print(f\"Using {device} device\")\n",
    "    return device"
   ]
  },
  {
   "cell_type": "code",
   "execution_count": 4,
   "metadata": {},
   "outputs": [],
   "source": [
    "def data_loader(dataset: str, batch_size: int, image_size: int, data_use: int = 100, augment: bool = True):\n",
    "    '''\n",
    "    Function that takes in a dataset and returns train and test dataloaders along with the hyperparameters\n",
    "    associated with the dataset.\n",
    "\n",
    "    Parameters:\n",
    "        dataset (str): Name of dataset to load. Options: MNIST, CIFAR10, CIFAR100\n",
    "        batch_size (int): Batch size for dataloaders\n",
    "        augment (bool): Whether to augment training data or not\n",
    "        \n",
    "    Returns:\n",
    "        train_loader (DataLoader): Dataloader for training set\n",
    "        val_loader (DataLoader): Dataloader for validation set\n",
    "        test_loader (DataLoader): Dataloader for test set\n",
    "        num_classes (int): Number of classes in dataset\n",
    "        image_size (int): Size of image in dataset\n",
    "        batch_size (int): Batch size for dataloaders\n",
    "    '''\n",
    "\n",
    "    base_train_transforms = [transforms.Resize((image_size, image_size)), transforms.ToTensor()]\n",
    "    if dataset == \"MNIST\":\n",
    "        base_train_transforms.append(transforms.Normalize((0.5,), (0.5,)))\n",
    "    elif dataset == \"CIFAR10\":\n",
    "        mean, std = (0.4914, 0.4822, 0.4465), (0.2470, 0.2435, 0.2616)\n",
    "        base_train_transforms.append(transforms.Normalize(mean, std))\n",
    "    elif dataset == \"CIFAR100\":\n",
    "        mean, std = (0.5070, 0.4865, 0.4409), (0.2673, 0.2564, 0.2762)\n",
    "        base_train_transforms.append(transforms.Normalize(mean, std))\n",
    "\n",
    "    # Additional augmentations for CIFAR10 and CIFAR100\n",
    "    additional_transforms = []\n",
    "    if augment:\n",
    "\n",
    "        additional_transforms = [\n",
    "            transforms.Resize((image_size, image_size)), # resizing capabilities if needed. Currently not used for our experiments\n",
    "            transforms.RandomCrop(image_size, padding=4),\n",
    "            transforms.RandomHorizontalFlip(), \n",
    "            transforms.RandomRotation(3.6),\n",
    "            transforms.ColorJitter(brightness=0.2, contrast=0.2, saturation=0.2, hue=0.1),\n",
    "            transforms.RandomAffine(degrees=0, scale=(0.8, 1.2)),\n",
    "            transforms.GaussianBlur(kernel_size=3, sigma=(0.1, 2.0)),\n",
    "            transforms.Grayscale(num_output_channels=3),\n",
    "            transforms.RandomSolarize(threshold=0.5, p=0.2),\n",
    "        ]\n",
    "    \n",
    "    dataset_config = {\n",
    "        'MNIST': {\n",
    "            'dataset_cls': datasets.MNIST,\n",
    "            'num_classes': 10,\n",
    "            'default_image_size': 28,\n",
    "            'batch_size': batch_size,  # Use the batch_size parameter\n",
    "            'train_transform': transforms.Compose(base_train_transforms),\n",
    "            'test_transform': transforms.Compose([\n",
    "                transforms.Resize((image_size, image_size)),\n",
    "                transforms.ToTensor(),\n",
    "                transforms.Normalize((0.5,), (0.5,))\n",
    "            ])\n",
    "        },\n",
    "        'CIFAR10': {\n",
    "            'dataset_cls': datasets.CIFAR10,\n",
    "            'num_classes': 10,\n",
    "            'default_image_size': 32,\n",
    "            'batch_size': batch_size,\n",
    "            'train_transform': transforms.Compose(additional_transforms + base_train_transforms),\n",
    "            'test_transform': transforms.Compose([\n",
    "                transforms.Resize((image_size, image_size)),\n",
    "                transforms.ToTensor(),\n",
    "                transforms.Normalize((0.4914, 0.4822, 0.4465), (0.2470, 0.2435, 0.2616))\n",
    "            ])\n",
    "        },\n",
    "        'CIFAR100': {\n",
    "            'dataset_cls': datasets.CIFAR100,\n",
    "            'num_classes': 100,\n",
    "            'default_image_size': 32,\n",
    "            'batch_size': batch_size,\n",
    "            'train_transform': transforms.Compose(additional_transforms + base_train_transforms),\n",
    "            'test_transform': transforms.Compose([\n",
    "                transforms.Resize((image_size, image_size)),\n",
    "                transforms.ToTensor(),\n",
    "                transforms.Normalize((0.5070, 0.4865, 0.4409), (0.2673, 0.2564, 0.2762))\n",
    "            ])\n",
    "        }\n",
    "    }    \n",
    "\n",
    "    # Ensure dataset is valid\n",
    "    if dataset not in dataset_config:\n",
    "        raise ValueError(f\"Unsupported dataset: {dataset}. Supported datasets are: {', '.join(dataset_config.keys())}\")\n",
    "\n",
    "    # Access config\n",
    "    cfg = dataset_config[dataset]\n",
    "\n",
    "    # Print loading info\n",
    "    print(f'Loading {dataset} dataset...')\n",
    "\n",
    "    # Load data\n",
    "    dataset_cls = cfg['dataset_cls']\n",
    "\n",
    "    data_dir = '../data/'\n",
    "    if not os.path.exists(data_dir):\n",
    "        os.makedirs(data_dir)\n",
    "\n",
    "    train_dataset_full = dataset_cls(f'{data_dir}{dataset}_data/', train=True, download=True, transform=cfg['train_transform'])\n",
    "    # decrease the amount of training data to data_use percentage\n",
    "    train_dataset_full, _ = train_test_split(train_dataset_full, train_size=data_use/100, random_state=42, shuffle=True, stratify=train_dataset_full.targets)\n",
    "\n",
    "    test_dataset = dataset_cls(f'{data_dir}{dataset}_data/', train=False, download=True, transform=cfg['test_transform'])\n",
    "    # decrease the amount of test data to data_use value\n",
    "    test_dataset, _ = train_test_split(test_dataset, train_size=data_use/100, random_state=42, shuffle=True, stratify=test_dataset.targets)\n",
    "\n",
    "    # Split training dataset into training and validation sets\n",
    "    train_size = int(0.8 * len(train_dataset_full))\n",
    "    val_size = len(train_dataset_full) - train_size\n",
    "    train_dataset, val_dataset = random_split(train_dataset_full, [train_size, val_size])\n",
    "\n",
    "    # Compute optimal number of workers\n",
    "    num_workers = min(4, os.cpu_count())\n",
    "\n",
    "    # Create data loaders\n",
    "    train_loader = DataLoader(train_dataset, batch_size=cfg['batch_size'], shuffle=True, num_workers=num_workers)\n",
    "    val_loader = DataLoader(val_dataset, batch_size=cfg['batch_size'], shuffle=True, num_workers=num_workers)\n",
    "    test_loader = DataLoader(test_dataset, batch_size=cfg['batch_size'], shuffle=False, num_workers=num_workers)\n",
    "\n",
    "    return train_loader, val_loader, test_loader, cfg['num_classes'], cfg['default_image_size']\n"
   ]
  },
  {
   "cell_type": "code",
   "execution_count": 5,
   "metadata": {},
   "outputs": [],
   "source": [
    "class PatchEmbedding(nn.Module):\n",
    "    '''\n",
    "    Class that creates patch embeddings for images\n",
    "    (image to patch embeddings).\n",
    "\n",
    "    Parameters:\n",
    "        image_size (int): Size of image\n",
    "        patch_size (int): Size of patch\n",
    "        in_channels (int): Number of input channels\n",
    "        embed_dim (int): Embedding dimension\n",
    "\n",
    "    Returns:\n",
    "        x (Tensor): Patch embeddings\n",
    "    '''\n",
    "    def __init__(self, \n",
    "                 image_size: int, \n",
    "                 patch_size: int, \n",
    "                 in_channels: int, \n",
    "                 embed_dim: int):\n",
    "        super().__init__()\n",
    "        self.num_patches = (image_size // patch_size) ** 2\n",
    "\n",
    "        self.projection = nn.Conv2d(\n",
    "            in_channels=in_channels,\n",
    "            out_channels=embed_dim,\n",
    "            kernel_size=patch_size,\n",
    "            stride=patch_size\n",
    "        )\n",
    "\n",
    "    def forward(self, x: Tensor) -> Tensor:\n",
    "        \n",
    "        x = self.projection(x).flatten(2).transpose(1, 2)\n",
    "        return x"
   ]
  },
  {
   "cell_type": "code",
   "execution_count": 6,
   "metadata": {},
   "outputs": [],
   "source": [
    "class Attention(nn.Module):\n",
    "    '''\n",
    "    Class that creates an attention layer.\n",
    "\n",
    "    Parameters:\n",
    "        dim (int): Dimension of input\n",
    "        heads (int): Number of heads\n",
    "        dim_head (int): Dimension of each head\n",
    "        dropout (float): Dropout probability\n",
    "\n",
    "    Returns:\n",
    "        x (Tensor): Output of attention layer\n",
    "    '''\n",
    "    \n",
    "    def __init__(self, \n",
    "                dim: int, \n",
    "                heads: int, \n",
    "                dim_head: int, \n",
    "                dropout: float=0.):\n",
    "        super().__init__()\n",
    "        \n",
    "        self.heads = heads\n",
    "        self.dim_head = dim_head\n",
    "        self.scale = dim_head ** -0.5\n",
    "\n",
    "        # Linear layer to get Q, K, V\n",
    "        self.qkv = nn.Linear(dim, dim * 3, bias=False)\n",
    "        self.attend = nn.Softmax(dim=-1)\n",
    "        self.proj = nn.Linear(dim, dim)\n",
    "        self.dropout = nn.Dropout(dropout)\n",
    "\n",
    "    def forward(self, x: torch.Tensor) -> torch.Tensor:\n",
    "        B, N, C = x.shape\n",
    "        \n",
    "        # Obtain Q, K, V from input tensor x\n",
    "        qkv = self.qkv(x).reshape(B, N, 3, self.heads, self.dim_head).permute(2, 0, 3, 1, 4)\n",
    "        q, k, v = qkv[0], qkv[1], qkv[2]\n",
    "        \n",
    "        # Calculate attention scores and apply scaling\n",
    "        dots = torch.einsum('bhid,bhjd->bhij', q, k) * self.scale\n",
    "        \n",
    "        # Softmax to get attention weights\n",
    "        attn = self.attend(dots)\n",
    "        \n",
    "        # Calculate the output tensor\n",
    "        out = torch.einsum('bhij,bhjd->bhid', attn, v).reshape(B, N, C)\n",
    "        out = self.proj(out)\n",
    "        return out\n"
   ]
  },
  {
   "cell_type": "code",
   "execution_count": 7,
   "metadata": {},
   "outputs": [],
   "source": [
    "class MLP(nn.Module):\n",
    "    '''\n",
    "    Class that creates a multilayer perceptron (MLP).\n",
    "\n",
    "    Parameters:\n",
    "        in_features (int): Number of input features\n",
    "        hidden_features (int, optional): Number of hidden features. Defaults to in_features.\n",
    "        out_features (int, optional): Number of output features. Defaults to in_features.\n",
    "        activation (nn.Module, optional): Activation function. Defaults to nn.GELU().\n",
    "        drop (float, optional): Dropout probability. Defaults to 0.\n",
    "\n",
    "    Returns:\n",
    "        x (Tensor): Output of MLP\n",
    "    '''\n",
    "    def __init__(self, \n",
    "                 in_features: int, \n",
    "                 hidden_features: int = None, \n",
    "                 out_features: int = None, \n",
    "                 activation: nn.Module = nn.GELU(),\n",
    "                 drop: float = 0.):\n",
    "        super().__init__()\n",
    "        \n",
    "        hidden_features = hidden_features or in_features\n",
    "        out_features = out_features or in_features\n",
    "\n",
    "        self.fc1 = nn.Linear(in_features, hidden_features)\n",
    "        self.activation = activation\n",
    "        self.fc2 = nn.Linear(hidden_features, out_features)\n",
    "        self.dropout = nn.Dropout(drop)\n",
    "\n",
    "    def forward(self, x):\n",
    "        x = self.fc1(x)\n",
    "        x = self.activation(x)\n",
    "        x = self.fc2(x)\n",
    "        x = self.dropout(x)\n",
    "        return x\n"
   ]
  },
  {
   "cell_type": "code",
   "execution_count": 8,
   "metadata": {},
   "outputs": [],
   "source": [
    "class TransformerEncoderBlock(nn.Module):\n",
    "    '''\n",
    "    Class that creates a transformer encoder block.\n",
    "\n",
    "    Parameters:\n",
    "        dim (int): Embedding dimension\n",
    "        heads (int): Number of heads\n",
    "        dim_head (int): Dimension of each head\n",
    "        mlp_dim (int): Dimension of MLP\n",
    "        dropout (float): Dropout probability\n",
    "\n",
    "    Returns:\n",
    "        x (Tensor): Output of transformer encoder block\n",
    "    '''\n",
    "    def __init__(self, \n",
    "                 dim: int, \n",
    "                 heads: int, \n",
    "                 dim_head: int, \n",
    "                 mlp_dim: int, \n",
    "                 dropout: float = 0.):\n",
    "        super().__init__()\n",
    "        \n",
    "        # Layer normalization followed by attention (with residual)\n",
    "        self.norm1 = nn.LayerNorm(dim)\n",
    "        self.attn = Attention(dim, heads=heads, dim_head=dim_head, dropout=dropout)\n",
    "        self.dropout1 = nn.Dropout(dropout)\n",
    "        \n",
    "        # Layer normalization followed by feed-forward (with residual)\n",
    "        self.norm2 = nn.LayerNorm(dim)\n",
    "        self.mlp = MLP(in_features=dim, hidden_features=mlp_dim, out_features=dim, drop=dropout)\n",
    "        self.dropout2 = nn.Dropout(dropout)\n",
    "\n",
    "    def forward(self, x: torch.Tensor) -> torch.Tensor:\n",
    "        # Apply attention, add residual connection, and apply dropout\n",
    "        x = x + self.dropout1(self.attn(self.norm1(x)))\n",
    "        \n",
    "        # Apply MLP, add residual connection, and apply dropout\n",
    "        x = x + self.dropout2(self.mlp(self.norm2(x)))\n",
    "        \n",
    "        return x\n"
   ]
  },
  {
   "cell_type": "code",
   "execution_count": 9,
   "metadata": {},
   "outputs": [],
   "source": [
    "class VisionTransformer(nn.Module):\n",
    "    '''\n",
    "    Vision transformer architecture.\n",
    "\n",
    "    Parameters:\n",
    "        image_size (int): Size of image\n",
    "        patch_size (int): Size of patch\n",
    "        in_channels (int): Number of input channels\n",
    "        embed_dim (int): Embedding dimension\n",
    "        depth (int): Depth\n",
    "        heads (int): Number of heads\n",
    "        mlp_dim (int): Dimension of MLP\n",
    "        dropout (float): Dropout probability\n",
    "        num_classes (int): Number of classes\n",
    "\n",
    "    Returns:\n",
    "        x (Tensor): Output of VisionTransformer\n",
    "    '''\n",
    "\n",
    "    def __init__(self, \n",
    "                 image_size: int, \n",
    "                 patch_size: int, \n",
    "                 in_channels: int, \n",
    "                 embed_dim: int, \n",
    "                 depth: int, \n",
    "                 heads: int, \n",
    "                 mlp_dim: int,\n",
    "                 num_classes: int, \n",
    "                 dropout: float = 0., \n",
    "                 mlp_head_units = [2048, 1024]):\n",
    "        super().__init__()        \n",
    "        # Patch embedding layer\n",
    "        self.patch_embed = PatchEmbedding(image_size=image_size, patch_size=patch_size, in_channels=in_channels, embed_dim=embed_dim)\n",
    "        # Initializing cls_token and pos_embed with random values\n",
    "        self.cls_token = nn.Parameter(torch.randn(1, 1, embed_dim))\n",
    "        # Calculate the number of patches\n",
    "        num_patches = (image_size // patch_size) ** 2\n",
    "        self.pos_embed = nn.Parameter(torch.zeros(1, num_patches + 1, embed_dim))  # +1 for the cls_token --> initialising to zeros seems to work better than random values\n",
    "        \n",
    "        self.dropout = nn.Dropout(dropout)\n",
    "        self.transformer_encoder = nn.ModuleList([TransformerEncoderBlock(dim=embed_dim, heads=heads, dim_head=embed_dim // heads, mlp_dim=mlp_dim, dropout=dropout) for _ in range(depth)])\n",
    "        self.norm = nn.LayerNorm(embed_dim)\n",
    "        self.mlp_head = nn.Sequential(\n",
    "            nn.Linear(embed_dim, mlp_head_units[0]),\n",
    "            nn.ReLU(),\n",
    "            nn.Dropout(dropout),\n",
    "            nn.Linear(mlp_head_units[0], mlp_head_units[1]),\n",
    "            nn.ReLU(),\n",
    "            nn.Dropout(dropout),\n",
    "            nn.Linear(mlp_head_units[1], num_classes)\n",
    "        )\n",
    "\n",
    "    def forward(self, x):\n",
    "        B = x.shape[0]  # batch_size\n",
    "        x = self.patch_embed(x)\n",
    "        \n",
    "        cls_tokens = repeat(self.cls_token, '() n d -> b n d', b=B)\n",
    "        x = torch.cat((cls_tokens, x), dim=1)\n",
    "        \n",
    "        assert x.shape[1] == self.pos_embed.shape[1], f\"Positional embeddings don't match the input patches. x.shape: {x.shape} pos_embed.shape: {self.pos_embed.shape}\"\n",
    "        \n",
    "        x = x + self.pos_embed\n",
    "        x = self.dropout(x)\n",
    "\n",
    "        for transformer_encoder in self.transformer_encoder:\n",
    "            x = transformer_encoder(x)\n",
    "\n",
    "        x = self.norm(x)\n",
    "        x = x[:, 0]  # Take the cls_token representation\n",
    "        x = self.mlp_head(x)\n",
    "\n",
    "        return x\n"
   ]
  },
  {
   "cell_type": "code",
   "execution_count": 10,
   "metadata": {},
   "outputs": [],
   "source": [
    "def train(model, train_loader, val_loader, criterion, optimizer, device, model_name,epochs=10, scheduler=None, patience=None):\n",
    "    '''\n",
    "    Function that trains the model.\n",
    "\n",
    "    Parameters:\n",
    "        model (nn.Module): Model to train\n",
    "        train_loader (DataLoader): Dataloader for training set\n",
    "        val_loader (DataLoader): Dataloader for validation set\n",
    "        criterion (nn.Module): Loss function\n",
    "        optimizer (nn.Module): Optimizer\n",
    "        device (str): Device to use\n",
    "        epochs (int): Number of epochs\n",
    "        scheduler (nn.Module): Learning rate scheduler\n",
    "        patience (int): Number of epochs to wait before early stopping\n",
    "        model_name (str): Name of model\n",
    "\n",
    "    Returns:\n",
    "        model (nn.Module): Trained model\n",
    "        train_losses (list): Training losses\n",
    "        val_losses (list): Validation losses\n",
    "        train_acc (list): Training accuracy\n",
    "        val_acc (list): Validation accuracy\n",
    "    '''\n",
    "    \n",
    "    # Set model to training mode\n",
    "    model.train()\n",
    "\n",
    "    # Initialize lists to store losses and accuracy\n",
    "    train_losses = []\n",
    "    val_losses = []\n",
    "    train_acc = []\n",
    "    val_acc = []\n",
    "    best_val_loss = np.inf\n",
    "\n",
    "    epochs_without_improvement = 0  # for early stopping\n",
    "\n",
    "    # Record the start time for training\n",
    "    start_time = time.time()\n",
    "\n",
    "    for epoch in range(epochs):\n",
    "        epoch_train_loss = 0\n",
    "        epoch_train_acc = 0\n",
    "        epoch_val_loss = 0\n",
    "        epoch_val_acc = 0\n",
    "\n",
    "        # Training\n",
    "        for inputs, labels in tqdm(train_loader, desc=f\"Epoch {epoch+1}/{epochs} [Training]\"):\n",
    "            inputs, labels = inputs.to(device), labels.to(device)\n",
    "            optimizer.zero_grad()\n",
    "            outputs = model(inputs).to(device)\n",
    "            loss = criterion(outputs, labels)\n",
    "            loss.backward()\n",
    "            optimizer.step()\n",
    "            epoch_train_loss += loss.item() * inputs.size(0)\n",
    "            _, preds = torch.max(outputs, 1)\n",
    "            epoch_train_acc += torch.sum(preds == labels.data)\n",
    "\n",
    "        # Validation\n",
    "        model.eval()  # <-- set model to eval mode for validation\n",
    "        for inputs, labels in tqdm(val_loader, desc=f\"Epoch {epoch+1}/{epochs} [Validation]\"):\n",
    "            inputs, labels = inputs.to(device), labels.to(device)\n",
    "            outputs = model(inputs).to(device)\n",
    "            loss = criterion(outputs, labels)\n",
    "            epoch_val_loss += loss.item() * inputs.size(0)\n",
    "            _, preds = torch.max(outputs, 1)\n",
    "            epoch_val_acc += torch.sum(preds == labels.data)\n",
    "        model.train()  # <-- set model back to train mode\n",
    "\n",
    "        # Average metrics\n",
    "        epoch_train_loss /= len(train_loader.dataset)\n",
    "        epoch_train_acc = epoch_train_acc.float() / len(train_loader.dataset)\n",
    "        epoch_val_loss /= len(val_loader.dataset)\n",
    "        epoch_val_acc = epoch_val_acc.float() / len(val_loader.dataset)\n",
    "\n",
    "        if scheduler:\n",
    "            scheduler.step(epoch_val_loss)\n",
    "\n",
    "        if epoch_val_loss < best_val_loss:\n",
    "            best_val_loss = epoch_val_loss\n",
    "            best_model_wts = copy.deepcopy(model.state_dict())\n",
    "            epochs_without_improvement = 0  # reset the count\n",
    "        else:\n",
    "            epochs_without_improvement += 1\n",
    "\n",
    "        train_losses.append(epoch_train_loss)\n",
    "        val_losses.append(epoch_val_loss)\n",
    "        train_acc.append(epoch_train_acc)\n",
    "        val_acc.append(epoch_val_acc)\n",
    "\n",
    "        print(f'Epoch {epoch+1}/{epochs} - '\n",
    "              f'Train Loss: {epoch_train_loss:.4f}, '\n",
    "              f'Train Acc: {epoch_train_acc:.4f}, '\n",
    "              f'Val Loss: {epoch_val_loss:.4f}, '\n",
    "              f'Val Acc: {epoch_val_acc:.4f}')\n",
    "\n",
    "        # Early stopping\n",
    "        if patience and epochs_without_improvement == patience:\n",
    "            print(\"Early stopping due to no improvement in validation loss.\")\n",
    "            break\n",
    "\n",
    "    # Record the end time for training\n",
    "    end_time = time.time()\n",
    "    # Calculate the total training time\n",
    "    total_time_seconds = end_time - start_time\n",
    "    if total_time_seconds < 60:\n",
    "        print(f\"Total training time: {total_time_seconds:.2f} seconds\")\n",
    "    else:\n",
    "        total_time_minutes = total_time_seconds / 60\n",
    "        print(f\"Total training time: {total_time_minutes:.2f} minutes\")\n",
    "    \n",
    "    model.load_state_dict(best_model_wts)\n",
    "    # save trained model\n",
    "\n",
    "    save_dir = '../trained_models/'\n",
    "    if not os.path.exists(save_dir):\n",
    "        os.makedirs(save_dir)\n",
    "\n",
    "    torch.save(model.state_dict(), f'{save_dir}{model_name}.pth')\n",
    "\n",
    "    return model, train_losses, val_losses, train_acc, val_acc\n"
   ]
  },
  {
   "cell_type": "code",
   "execution_count": 11,
   "metadata": {},
   "outputs": [
    {
     "name": "stdout",
     "output_type": "stream",
     "text": [
      "Using mps device\n",
      "Loading CIFAR100 dataset...\n",
      "Files already downloaded and verified\n",
      "Files already downloaded and verified\n"
     ]
    }
   ],
   "source": [
    "# Set device\n",
    "device = set_device()\n",
    "\n",
    "# Load data\n",
    "train_loader, val_loader, test_loader, num_classes, default_image_size = data_loader(dataset, batch_size, image_size, data_use, augment=True)\n",
    "\n",
    "patch_embed = PatchEmbedding(\n",
    "    image_size=image_size,\n",
    "    patch_size=patch_size,\n",
    "    in_channels=in_channels,\n",
    "    embed_dim=projection_dim\n",
    ")\n",
    "\n",
    "# Instantiate the classes\n",
    "attention = Attention(dim=projection_dim, heads=num_heads, dim_head=projection_dim // num_heads)\n",
    "mlp = MLP(in_features=projection_dim, hidden_features=transformer_units[0], out_features=transformer_units[1])\n",
    "transformer_encoder_block = TransformerEncoderBlock(dim=projection_dim, heads=num_heads, dim_head=projection_dim // num_heads, mlp_dim=transformer_units[0])"
   ]
  },
  {
   "cell_type": "code",
   "execution_count": 12,
   "metadata": {},
   "outputs": [
    {
     "name": "stdout",
     "output_type": "stream",
     "text": [
      "Size of train dataset: 30000\n",
      "Size of validation dataset: 7500\n",
      "Size of test dataset: 7500\n"
     ]
    }
   ],
   "source": [
    "# print the size of the train dataset\n",
    "print(f\"Size of train dataset: {len(train_loader.dataset)}\")\n",
    "\n",
    "# print the size of the validation dataset\n",
    "print(f\"Size of validation dataset: {len(val_loader.dataset)}\")\n",
    "\n",
    "# print the size of the test dataset\n",
    "print(f\"Size of test dataset: {len(test_loader.dataset)}\")"
   ]
  },
  {
   "cell_type": "code",
   "execution_count": 13,
   "metadata": {},
   "outputs": [
    {
     "name": "stdout",
     "output_type": "stream",
     "text": [
      "----------------------------------------------------------------\n",
      "        Layer (type)               Output Shape         Param #\n",
      "================================================================\n",
      "            Conv2d-1             [-1, 64, 4, 4]          12,352\n",
      "    PatchEmbedding-2               [-1, 16, 64]               0\n",
      "           Dropout-3               [-1, 17, 64]               0\n",
      "         LayerNorm-4               [-1, 17, 64]             128\n",
      "            Linear-5              [-1, 17, 192]          12,288\n",
      "           Softmax-6            [-1, 4, 17, 17]               0\n",
      "            Linear-7               [-1, 17, 64]           4,160\n",
      "         Attention-8               [-1, 17, 64]               0\n",
      "           Dropout-9               [-1, 17, 64]               0\n",
      "        LayerNorm-10               [-1, 17, 64]             128\n",
      "           Linear-11             [-1, 17, 2048]         133,120\n",
      "             GELU-12             [-1, 17, 2048]               0\n",
      "             GELU-13             [-1, 17, 2048]               0\n",
      "             GELU-14             [-1, 17, 2048]               0\n",
      "             GELU-15             [-1, 17, 2048]               0\n",
      "             GELU-16             [-1, 17, 2048]               0\n",
      "             GELU-17             [-1, 17, 2048]               0\n",
      "             GELU-18             [-1, 17, 2048]               0\n",
      "             GELU-19             [-1, 17, 2048]               0\n",
      "           Linear-20               [-1, 17, 64]         131,136\n",
      "          Dropout-21               [-1, 17, 64]               0\n",
      "              MLP-22               [-1, 17, 64]               0\n",
      "          Dropout-23               [-1, 17, 64]               0\n",
      "TransformerEncoderBlock-24               [-1, 17, 64]               0\n",
      "        LayerNorm-25               [-1, 17, 64]             128\n",
      "           Linear-26              [-1, 17, 192]          12,288\n",
      "          Softmax-27            [-1, 4, 17, 17]               0\n",
      "           Linear-28               [-1, 17, 64]           4,160\n",
      "        Attention-29               [-1, 17, 64]               0\n",
      "          Dropout-30               [-1, 17, 64]               0\n",
      "        LayerNorm-31               [-1, 17, 64]             128\n",
      "           Linear-32             [-1, 17, 2048]         133,120\n",
      "             GELU-33             [-1, 17, 2048]               0\n",
      "             GELU-34             [-1, 17, 2048]               0\n",
      "             GELU-35             [-1, 17, 2048]               0\n",
      "             GELU-36             [-1, 17, 2048]               0\n",
      "             GELU-37             [-1, 17, 2048]               0\n",
      "             GELU-38             [-1, 17, 2048]               0\n",
      "             GELU-39             [-1, 17, 2048]               0\n",
      "             GELU-40             [-1, 17, 2048]               0\n",
      "           Linear-41               [-1, 17, 64]         131,136\n",
      "          Dropout-42               [-1, 17, 64]               0\n",
      "              MLP-43               [-1, 17, 64]               0\n",
      "          Dropout-44               [-1, 17, 64]               0\n",
      "TransformerEncoderBlock-45               [-1, 17, 64]               0\n",
      "        LayerNorm-46               [-1, 17, 64]             128\n",
      "           Linear-47              [-1, 17, 192]          12,288\n",
      "          Softmax-48            [-1, 4, 17, 17]               0\n",
      "           Linear-49               [-1, 17, 64]           4,160\n",
      "        Attention-50               [-1, 17, 64]               0\n",
      "          Dropout-51               [-1, 17, 64]               0\n",
      "        LayerNorm-52               [-1, 17, 64]             128\n",
      "           Linear-53             [-1, 17, 2048]         133,120\n",
      "             GELU-54             [-1, 17, 2048]               0\n",
      "             GELU-55             [-1, 17, 2048]               0\n",
      "             GELU-56             [-1, 17, 2048]               0\n",
      "             GELU-57             [-1, 17, 2048]               0\n",
      "             GELU-58             [-1, 17, 2048]               0\n",
      "             GELU-59             [-1, 17, 2048]               0\n",
      "             GELU-60             [-1, 17, 2048]               0\n",
      "             GELU-61             [-1, 17, 2048]               0\n",
      "           Linear-62               [-1, 17, 64]         131,136\n",
      "          Dropout-63               [-1, 17, 64]               0\n",
      "              MLP-64               [-1, 17, 64]               0\n",
      "          Dropout-65               [-1, 17, 64]               0\n",
      "TransformerEncoderBlock-66               [-1, 17, 64]               0\n",
      "        LayerNorm-67               [-1, 17, 64]             128\n",
      "           Linear-68              [-1, 17, 192]          12,288\n",
      "          Softmax-69            [-1, 4, 17, 17]               0\n",
      "           Linear-70               [-1, 17, 64]           4,160\n",
      "        Attention-71               [-1, 17, 64]               0\n",
      "          Dropout-72               [-1, 17, 64]               0\n",
      "        LayerNorm-73               [-1, 17, 64]             128\n",
      "           Linear-74             [-1, 17, 2048]         133,120\n",
      "             GELU-75             [-1, 17, 2048]               0\n",
      "             GELU-76             [-1, 17, 2048]               0\n",
      "             GELU-77             [-1, 17, 2048]               0\n",
      "             GELU-78             [-1, 17, 2048]               0\n",
      "             GELU-79             [-1, 17, 2048]               0\n",
      "             GELU-80             [-1, 17, 2048]               0\n",
      "             GELU-81             [-1, 17, 2048]               0\n",
      "             GELU-82             [-1, 17, 2048]               0\n",
      "           Linear-83               [-1, 17, 64]         131,136\n",
      "          Dropout-84               [-1, 17, 64]               0\n",
      "              MLP-85               [-1, 17, 64]               0\n",
      "          Dropout-86               [-1, 17, 64]               0\n",
      "TransformerEncoderBlock-87               [-1, 17, 64]               0\n",
      "        LayerNorm-88               [-1, 17, 64]             128\n",
      "           Linear-89              [-1, 17, 192]          12,288\n",
      "          Softmax-90            [-1, 4, 17, 17]               0\n",
      "           Linear-91               [-1, 17, 64]           4,160\n",
      "        Attention-92               [-1, 17, 64]               0\n",
      "          Dropout-93               [-1, 17, 64]               0\n",
      "        LayerNorm-94               [-1, 17, 64]             128\n",
      "           Linear-95             [-1, 17, 2048]         133,120\n",
      "             GELU-96             [-1, 17, 2048]               0\n",
      "             GELU-97             [-1, 17, 2048]               0\n",
      "             GELU-98             [-1, 17, 2048]               0\n",
      "             GELU-99             [-1, 17, 2048]               0\n",
      "            GELU-100             [-1, 17, 2048]               0\n",
      "            GELU-101             [-1, 17, 2048]               0\n",
      "            GELU-102             [-1, 17, 2048]               0\n",
      "            GELU-103             [-1, 17, 2048]               0\n",
      "          Linear-104               [-1, 17, 64]         131,136\n",
      "         Dropout-105               [-1, 17, 64]               0\n",
      "             MLP-106               [-1, 17, 64]               0\n",
      "         Dropout-107               [-1, 17, 64]               0\n",
      "TransformerEncoderBlock-108               [-1, 17, 64]               0\n",
      "       LayerNorm-109               [-1, 17, 64]             128\n",
      "          Linear-110              [-1, 17, 192]          12,288\n",
      "         Softmax-111            [-1, 4, 17, 17]               0\n",
      "          Linear-112               [-1, 17, 64]           4,160\n",
      "       Attention-113               [-1, 17, 64]               0\n",
      "         Dropout-114               [-1, 17, 64]               0\n",
      "       LayerNorm-115               [-1, 17, 64]             128\n",
      "          Linear-116             [-1, 17, 2048]         133,120\n",
      "            GELU-117             [-1, 17, 2048]               0\n",
      "            GELU-118             [-1, 17, 2048]               0\n",
      "            GELU-119             [-1, 17, 2048]               0\n",
      "            GELU-120             [-1, 17, 2048]               0\n",
      "            GELU-121             [-1, 17, 2048]               0\n",
      "            GELU-122             [-1, 17, 2048]               0\n",
      "            GELU-123             [-1, 17, 2048]               0\n",
      "            GELU-124             [-1, 17, 2048]               0\n",
      "          Linear-125               [-1, 17, 64]         131,136\n",
      "         Dropout-126               [-1, 17, 64]               0\n",
      "             MLP-127               [-1, 17, 64]               0\n",
      "         Dropout-128               [-1, 17, 64]               0\n",
      "TransformerEncoderBlock-129               [-1, 17, 64]               0\n",
      "       LayerNorm-130               [-1, 17, 64]             128\n",
      "          Linear-131              [-1, 17, 192]          12,288\n",
      "         Softmax-132            [-1, 4, 17, 17]               0\n",
      "          Linear-133               [-1, 17, 64]           4,160\n",
      "       Attention-134               [-1, 17, 64]               0\n",
      "         Dropout-135               [-1, 17, 64]               0\n",
      "       LayerNorm-136               [-1, 17, 64]             128\n",
      "          Linear-137             [-1, 17, 2048]         133,120\n",
      "            GELU-138             [-1, 17, 2048]               0\n",
      "            GELU-139             [-1, 17, 2048]               0\n",
      "            GELU-140             [-1, 17, 2048]               0\n",
      "            GELU-141             [-1, 17, 2048]               0\n",
      "            GELU-142             [-1, 17, 2048]               0\n",
      "            GELU-143             [-1, 17, 2048]               0\n",
      "            GELU-144             [-1, 17, 2048]               0\n",
      "            GELU-145             [-1, 17, 2048]               0\n",
      "          Linear-146               [-1, 17, 64]         131,136\n",
      "         Dropout-147               [-1, 17, 64]               0\n",
      "             MLP-148               [-1, 17, 64]               0\n",
      "         Dropout-149               [-1, 17, 64]               0\n",
      "TransformerEncoderBlock-150               [-1, 17, 64]               0\n",
      "       LayerNorm-151               [-1, 17, 64]             128\n",
      "          Linear-152              [-1, 17, 192]          12,288\n",
      "         Softmax-153            [-1, 4, 17, 17]               0\n",
      "          Linear-154               [-1, 17, 64]           4,160\n",
      "       Attention-155               [-1, 17, 64]               0\n",
      "         Dropout-156               [-1, 17, 64]               0\n",
      "       LayerNorm-157               [-1, 17, 64]             128\n",
      "          Linear-158             [-1, 17, 2048]         133,120\n",
      "            GELU-159             [-1, 17, 2048]               0\n",
      "            GELU-160             [-1, 17, 2048]               0\n",
      "            GELU-161             [-1, 17, 2048]               0\n",
      "            GELU-162             [-1, 17, 2048]               0\n",
      "            GELU-163             [-1, 17, 2048]               0\n",
      "            GELU-164             [-1, 17, 2048]               0\n",
      "            GELU-165             [-1, 17, 2048]               0\n",
      "            GELU-166             [-1, 17, 2048]               0\n",
      "          Linear-167               [-1, 17, 64]         131,136\n",
      "         Dropout-168               [-1, 17, 64]               0\n",
      "             MLP-169               [-1, 17, 64]               0\n",
      "         Dropout-170               [-1, 17, 64]               0\n",
      "TransformerEncoderBlock-171               [-1, 17, 64]               0\n",
      "       LayerNorm-172               [-1, 17, 64]             128\n",
      "          Linear-173                 [-1, 2048]         133,120\n",
      "            ReLU-174                 [-1, 2048]               0\n",
      "         Dropout-175                 [-1, 2048]               0\n",
      "          Linear-176                 [-1, 1024]       2,098,176\n",
      "            ReLU-177                 [-1, 1024]               0\n",
      "         Dropout-178                 [-1, 1024]               0\n",
      "          Linear-179                  [-1, 100]         102,500\n",
      "================================================================\n",
      "Total params: 4,593,956\n",
      "Trainable params: 4,593,956\n",
      "Non-trainable params: 0\n",
      "----------------------------------------------------------------\n",
      "Input size (MB): 0.01\n",
      "Forward/backward pass size (MB): 20.16\n",
      "Params size (MB): 17.52\n",
      "Estimated Total Size (MB): 37.70\n",
      "----------------------------------------------------------------\n"
     ]
    }
   ],
   "source": [
    "# Initialize model\n",
    "model = VisionTransformer(\n",
    "    image_size=image_size,\n",
    "    patch_size=patch_size,\n",
    "    in_channels=in_channels,\n",
    "    embed_dim=projection_dim,\n",
    "    depth=transformer_layers,\n",
    "    heads=num_heads,\n",
    "    mlp_dim=mlp_head_units[0],\n",
    "    dropout=dropout,\n",
    "    num_classes=num_classes,\n",
    ")\n",
    "\n",
    "# Print model summary\n",
    "summary(model, input_size=(in_channels, image_size, image_size))\n",
    "# Send model to device\n",
    "model = model.to(device)\n",
    "\n",
    "# Define loss function and optimizer\n",
    "criterion = nn.CrossEntropyLoss()\n",
    "optimizer = optim.Adam(model.parameters(), lr=learning_rate, weight_decay=weight_decay)\n",
    "\n",
    "scheduler = ReduceLROnPlateau(optimizer, 'min', patience=patience_value, factor=0.5, verbose=True)"
   ]
  },
  {
   "cell_type": "code",
   "execution_count": 14,
   "metadata": {},
   "outputs": [
    {
     "name": "stderr",
     "output_type": "stream",
     "text": [
      "Epoch 1/50 [Training]:   0%|          | 0/118 [00:00<?, ?it/s]"
     ]
    },
    {
     "name": "stderr",
     "output_type": "stream",
     "text": [
      "Epoch 1/50 [Training]: 100%|██████████| 118/118 [00:32<00:00,  3.60it/s]\n",
      "Epoch 1/50 [Validation]: 100%|██████████| 30/30 [00:12<00:00,  2.36it/s]\n"
     ]
    },
    {
     "name": "stdout",
     "output_type": "stream",
     "text": [
      "Epoch 1/50 - Train Loss: 4.6096, Train Acc: 0.0093, Val Loss: 4.6012, Val Acc: 0.0147\n"
     ]
    },
    {
     "name": "stderr",
     "output_type": "stream",
     "text": [
      "Epoch 2/50 [Training]: 100%|██████████| 118/118 [00:30<00:00,  3.83it/s]\n",
      "Epoch 2/50 [Validation]: 100%|██████████| 30/30 [00:12<00:00,  2.36it/s]\n"
     ]
    },
    {
     "name": "stdout",
     "output_type": "stream",
     "text": [
      "Epoch 2/50 - Train Loss: 4.5943, Train Acc: 0.0132, Val Loss: 4.6039, Val Acc: 0.0144\n"
     ]
    },
    {
     "name": "stderr",
     "output_type": "stream",
     "text": [
      "Epoch 3/50 [Training]: 100%|██████████| 118/118 [00:30<00:00,  3.81it/s]\n",
      "Epoch 3/50 [Validation]: 100%|██████████| 30/30 [00:13<00:00,  2.24it/s]\n"
     ]
    },
    {
     "name": "stdout",
     "output_type": "stream",
     "text": [
      "Epoch 3/50 - Train Loss: 4.5807, Train Acc: 0.0157, Val Loss: 4.5587, Val Acc: 0.0164\n"
     ]
    },
    {
     "name": "stderr",
     "output_type": "stream",
     "text": [
      "Epoch 4/50 [Training]: 100%|██████████| 118/118 [00:30<00:00,  3.81it/s]\n",
      "Epoch 4/50 [Validation]: 100%|██████████| 30/30 [00:12<00:00,  2.35it/s]\n"
     ]
    },
    {
     "name": "stdout",
     "output_type": "stream",
     "text": [
      "Epoch 4/50 - Train Loss: 4.5415, Train Acc: 0.0195, Val Loss: 4.5292, Val Acc: 0.0201\n"
     ]
    },
    {
     "name": "stderr",
     "output_type": "stream",
     "text": [
      "Epoch 5/50 [Training]: 100%|██████████| 118/118 [00:30<00:00,  3.82it/s]\n",
      "Epoch 5/50 [Validation]: 100%|██████████| 30/30 [00:12<00:00,  2.36it/s]\n"
     ]
    },
    {
     "name": "stdout",
     "output_type": "stream",
     "text": [
      "Epoch 5/50 - Train Loss: 4.5174, Train Acc: 0.0224, Val Loss: 4.5368, Val Acc: 0.0213\n"
     ]
    },
    {
     "name": "stderr",
     "output_type": "stream",
     "text": [
      "Epoch 6/50 [Training]: 100%|██████████| 118/118 [00:30<00:00,  3.83it/s]\n",
      "Epoch 6/50 [Validation]: 100%|██████████| 30/30 [00:12<00:00,  2.34it/s]\n"
     ]
    },
    {
     "name": "stdout",
     "output_type": "stream",
     "text": [
      "Epoch 6/50 - Train Loss: 4.5096, Train Acc: 0.0242, Val Loss: 4.5160, Val Acc: 0.0225\n"
     ]
    },
    {
     "name": "stderr",
     "output_type": "stream",
     "text": [
      "Epoch 7/50 [Training]: 100%|██████████| 118/118 [00:30<00:00,  3.83it/s]\n",
      "Epoch 7/50 [Validation]: 100%|██████████| 30/30 [00:12<00:00,  2.33it/s]\n"
     ]
    },
    {
     "name": "stdout",
     "output_type": "stream",
     "text": [
      "Epoch 7/50 - Train Loss: 4.4959, Train Acc: 0.0265, Val Loss: 4.5033, Val Acc: 0.0265\n"
     ]
    },
    {
     "name": "stderr",
     "output_type": "stream",
     "text": [
      "Epoch 8/50 [Training]: 100%|██████████| 118/118 [00:30<00:00,  3.83it/s]\n",
      "Epoch 8/50 [Validation]: 100%|██████████| 30/30 [00:12<00:00,  2.36it/s]\n"
     ]
    },
    {
     "name": "stdout",
     "output_type": "stream",
     "text": [
      "Epoch 8/50 - Train Loss: 4.4845, Train Acc: 0.0284, Val Loss: 4.5026, Val Acc: 0.0288\n"
     ]
    },
    {
     "name": "stderr",
     "output_type": "stream",
     "text": [
      "Epoch 9/50 [Training]: 100%|██████████| 118/118 [00:30<00:00,  3.83it/s]\n",
      "Epoch 9/50 [Validation]: 100%|██████████| 30/30 [00:12<00:00,  2.35it/s]\n"
     ]
    },
    {
     "name": "stdout",
     "output_type": "stream",
     "text": [
      "Epoch 9/50 - Train Loss: 4.4711, Train Acc: 0.0294, Val Loss: 4.4933, Val Acc: 0.0291\n"
     ]
    },
    {
     "name": "stderr",
     "output_type": "stream",
     "text": [
      "Epoch 10/50 [Training]: 100%|██████████| 118/118 [00:30<00:00,  3.83it/s]\n",
      "Epoch 10/50 [Validation]: 100%|██████████| 30/30 [00:12<00:00,  2.35it/s]\n"
     ]
    },
    {
     "name": "stdout",
     "output_type": "stream",
     "text": [
      "Epoch 10/50 - Train Loss: 4.4548, Train Acc: 0.0318, Val Loss: 4.4643, Val Acc: 0.0315\n"
     ]
    },
    {
     "name": "stderr",
     "output_type": "stream",
     "text": [
      "Epoch 11/50 [Training]: 100%|██████████| 118/118 [00:30<00:00,  3.83it/s]\n",
      "Epoch 11/50 [Validation]: 100%|██████████| 30/30 [00:12<00:00,  2.37it/s]\n"
     ]
    },
    {
     "name": "stdout",
     "output_type": "stream",
     "text": [
      "Epoch 11/50 - Train Loss: 4.4339, Train Acc: 0.0343, Val Loss: 4.4536, Val Acc: 0.0349\n"
     ]
    },
    {
     "name": "stderr",
     "output_type": "stream",
     "text": [
      "Epoch 12/50 [Training]: 100%|██████████| 118/118 [00:30<00:00,  3.82it/s]\n",
      "Epoch 12/50 [Validation]: 100%|██████████| 30/30 [00:12<00:00,  2.36it/s]\n"
     ]
    },
    {
     "name": "stdout",
     "output_type": "stream",
     "text": [
      "Epoch 12/50 - Train Loss: 4.4215, Train Acc: 0.0369, Val Loss: 4.4477, Val Acc: 0.0335\n"
     ]
    },
    {
     "name": "stderr",
     "output_type": "stream",
     "text": [
      "Epoch 13/50 [Training]: 100%|██████████| 118/118 [00:30<00:00,  3.82it/s]\n",
      "Epoch 13/50 [Validation]: 100%|██████████| 30/30 [00:12<00:00,  2.36it/s]\n"
     ]
    },
    {
     "name": "stdout",
     "output_type": "stream",
     "text": [
      "Epoch 13/50 - Train Loss: 4.4078, Train Acc: 0.0401, Val Loss: 4.4312, Val Acc: 0.0357\n"
     ]
    },
    {
     "name": "stderr",
     "output_type": "stream",
     "text": [
      "Epoch 14/50 [Training]: 100%|██████████| 118/118 [00:30<00:00,  3.83it/s]\n",
      "Epoch 14/50 [Validation]: 100%|██████████| 30/30 [00:12<00:00,  2.32it/s]\n"
     ]
    },
    {
     "name": "stdout",
     "output_type": "stream",
     "text": [
      "Epoch 14/50 - Train Loss: 4.3919, Train Acc: 0.0407, Val Loss: 4.4180, Val Acc: 0.0407\n"
     ]
    },
    {
     "name": "stderr",
     "output_type": "stream",
     "text": [
      "Epoch 15/50 [Training]: 100%|██████████| 118/118 [00:32<00:00,  3.68it/s]\n",
      "Epoch 15/50 [Validation]: 100%|██████████| 30/30 [00:12<00:00,  2.33it/s]\n"
     ]
    },
    {
     "name": "stdout",
     "output_type": "stream",
     "text": [
      "Epoch 15/50 - Train Loss: 4.3787, Train Acc: 0.0433, Val Loss: 4.4197, Val Acc: 0.0387\n"
     ]
    },
    {
     "name": "stderr",
     "output_type": "stream",
     "text": [
      "Epoch 16/50 [Training]: 100%|██████████| 118/118 [00:32<00:00,  3.67it/s]\n",
      "Epoch 16/50 [Validation]: 100%|██████████| 30/30 [00:12<00:00,  2.32it/s]\n"
     ]
    },
    {
     "name": "stdout",
     "output_type": "stream",
     "text": [
      "Epoch 16/50 - Train Loss: 4.3652, Train Acc: 0.0429, Val Loss: 4.4207, Val Acc: 0.0383\n"
     ]
    },
    {
     "name": "stderr",
     "output_type": "stream",
     "text": [
      "Epoch 17/50 [Training]: 100%|██████████| 118/118 [00:32<00:00,  3.67it/s]\n",
      "Epoch 17/50 [Validation]: 100%|██████████| 30/30 [00:12<00:00,  2.32it/s]\n"
     ]
    },
    {
     "name": "stdout",
     "output_type": "stream",
     "text": [
      "Epoch 17/50 - Train Loss: 4.3528, Train Acc: 0.0445, Val Loss: 4.4116, Val Acc: 0.0400\n"
     ]
    },
    {
     "name": "stderr",
     "output_type": "stream",
     "text": [
      "Epoch 18/50 [Training]: 100%|██████████| 118/118 [00:32<00:00,  3.67it/s]\n",
      "Epoch 18/50 [Validation]: 100%|██████████| 30/30 [00:12<00:00,  2.34it/s]\n"
     ]
    },
    {
     "name": "stdout",
     "output_type": "stream",
     "text": [
      "Epoch 18/50 - Train Loss: 4.3468, Train Acc: 0.0448, Val Loss: 4.4113, Val Acc: 0.0417\n"
     ]
    },
    {
     "name": "stderr",
     "output_type": "stream",
     "text": [
      "Epoch 19/50 [Training]: 100%|██████████| 118/118 [00:32<00:00,  3.66it/s]\n",
      "Epoch 19/50 [Validation]: 100%|██████████| 30/30 [00:12<00:00,  2.31it/s]\n"
     ]
    },
    {
     "name": "stdout",
     "output_type": "stream",
     "text": [
      "Epoch 19/50 - Train Loss: 4.3333, Train Acc: 0.0470, Val Loss: 4.4028, Val Acc: 0.0439\n"
     ]
    },
    {
     "name": "stderr",
     "output_type": "stream",
     "text": [
      "Epoch 20/50 [Training]: 100%|██████████| 118/118 [00:32<00:00,  3.68it/s]\n",
      "Epoch 20/50 [Validation]: 100%|██████████| 30/30 [00:12<00:00,  2.33it/s]\n"
     ]
    },
    {
     "name": "stdout",
     "output_type": "stream",
     "text": [
      "Epoch 20/50 - Train Loss: 4.3278, Train Acc: 0.0478, Val Loss: 4.4089, Val Acc: 0.0416\n"
     ]
    },
    {
     "name": "stderr",
     "output_type": "stream",
     "text": [
      "Epoch 21/50 [Training]: 100%|██████████| 118/118 [00:32<00:00,  3.67it/s]\n",
      "Epoch 21/50 [Validation]: 100%|██████████| 30/30 [00:12<00:00,  2.34it/s]\n"
     ]
    },
    {
     "name": "stdout",
     "output_type": "stream",
     "text": [
      "Epoch 21/50 - Train Loss: 4.3202, Train Acc: 0.0485, Val Loss: 4.4011, Val Acc: 0.0405\n"
     ]
    },
    {
     "name": "stderr",
     "output_type": "stream",
     "text": [
      "Epoch 22/50 [Training]: 100%|██████████| 118/118 [00:32<00:00,  3.67it/s]\n",
      "Epoch 22/50 [Validation]: 100%|██████████| 30/30 [00:12<00:00,  2.34it/s]\n"
     ]
    },
    {
     "name": "stdout",
     "output_type": "stream",
     "text": [
      "Epoch 22/50 - Train Loss: 4.3067, Train Acc: 0.0503, Val Loss: 4.3917, Val Acc: 0.0453\n"
     ]
    },
    {
     "name": "stderr",
     "output_type": "stream",
     "text": [
      "Epoch 23/50 [Training]: 100%|██████████| 118/118 [00:32<00:00,  3.67it/s]\n",
      "Epoch 23/50 [Validation]: 100%|██████████| 30/30 [00:12<00:00,  2.33it/s]\n"
     ]
    },
    {
     "name": "stdout",
     "output_type": "stream",
     "text": [
      "Epoch 23/50 - Train Loss: 4.2994, Train Acc: 0.0525, Val Loss: 4.3962, Val Acc: 0.0460\n"
     ]
    },
    {
     "name": "stderr",
     "output_type": "stream",
     "text": [
      "Epoch 24/50 [Training]: 100%|██████████| 118/118 [00:32<00:00,  3.66it/s]\n",
      "Epoch 24/50 [Validation]: 100%|██████████| 30/30 [00:12<00:00,  2.32it/s]\n"
     ]
    },
    {
     "name": "stdout",
     "output_type": "stream",
     "text": [
      "Epoch 24/50 - Train Loss: 4.2887, Train Acc: 0.0523, Val Loss: 4.4068, Val Acc: 0.0424\n"
     ]
    },
    {
     "name": "stderr",
     "output_type": "stream",
     "text": [
      "Epoch 25/50 [Training]: 100%|██████████| 118/118 [00:32<00:00,  3.69it/s]\n",
      "Epoch 25/50 [Validation]: 100%|██████████| 30/30 [00:12<00:00,  2.33it/s]\n"
     ]
    },
    {
     "name": "stdout",
     "output_type": "stream",
     "text": [
      "Epoch 25/50 - Train Loss: 4.2779, Train Acc: 0.0534, Val Loss: 4.3748, Val Acc: 0.0455\n"
     ]
    },
    {
     "name": "stderr",
     "output_type": "stream",
     "text": [
      "Epoch 26/50 [Training]: 100%|██████████| 118/118 [00:32<00:00,  3.67it/s]\n",
      "Epoch 26/50 [Validation]: 100%|██████████| 30/30 [00:12<00:00,  2.32it/s]\n"
     ]
    },
    {
     "name": "stdout",
     "output_type": "stream",
     "text": [
      "Epoch 26/50 - Train Loss: 4.2695, Train Acc: 0.0529, Val Loss: 4.3792, Val Acc: 0.0473\n"
     ]
    },
    {
     "name": "stderr",
     "output_type": "stream",
     "text": [
      "Epoch 27/50 [Training]: 100%|██████████| 118/118 [00:32<00:00,  3.69it/s]\n",
      "Epoch 27/50 [Validation]: 100%|██████████| 30/30 [00:12<00:00,  2.31it/s]\n"
     ]
    },
    {
     "name": "stdout",
     "output_type": "stream",
     "text": [
      "Epoch 27/50 - Train Loss: 4.2504, Train Acc: 0.0576, Val Loss: 4.3722, Val Acc: 0.0488\n"
     ]
    },
    {
     "name": "stderr",
     "output_type": "stream",
     "text": [
      "Epoch 28/50 [Training]: 100%|██████████| 118/118 [00:32<00:00,  3.67it/s]\n",
      "Epoch 28/50 [Validation]: 100%|██████████| 30/30 [00:13<00:00,  2.30it/s]\n"
     ]
    },
    {
     "name": "stdout",
     "output_type": "stream",
     "text": [
      "Epoch 28/50 - Train Loss: 4.2493, Train Acc: 0.0575, Val Loss: 4.3773, Val Acc: 0.0480\n"
     ]
    },
    {
     "name": "stderr",
     "output_type": "stream",
     "text": [
      "Epoch 29/50 [Training]: 100%|██████████| 118/118 [00:32<00:00,  3.68it/s]\n",
      "Epoch 29/50 [Validation]: 100%|██████████| 30/30 [00:12<00:00,  2.32it/s]\n"
     ]
    },
    {
     "name": "stdout",
     "output_type": "stream",
     "text": [
      "Epoch 29/50 - Train Loss: 4.2352, Train Acc: 0.0592, Val Loss: 4.3612, Val Acc: 0.0471\n"
     ]
    },
    {
     "name": "stderr",
     "output_type": "stream",
     "text": [
      "Epoch 30/50 [Training]: 100%|██████████| 118/118 [00:32<00:00,  3.63it/s]\n",
      "Epoch 30/50 [Validation]: 100%|██████████| 30/30 [00:12<00:00,  2.35it/s]\n"
     ]
    },
    {
     "name": "stdout",
     "output_type": "stream",
     "text": [
      "Epoch 30/50 - Train Loss: 4.2268, Train Acc: 0.0610, Val Loss: 4.3627, Val Acc: 0.0521\n"
     ]
    },
    {
     "name": "stderr",
     "output_type": "stream",
     "text": [
      "Epoch 31/50 [Training]: 100%|██████████| 118/118 [00:30<00:00,  3.82it/s]\n",
      "Epoch 31/50 [Validation]: 100%|██████████| 30/30 [00:12<00:00,  2.36it/s]\n"
     ]
    },
    {
     "name": "stdout",
     "output_type": "stream",
     "text": [
      "Epoch 31/50 - Train Loss: 4.2140, Train Acc: 0.0629, Val Loss: 4.3578, Val Acc: 0.0503\n"
     ]
    },
    {
     "name": "stderr",
     "output_type": "stream",
     "text": [
      "Epoch 32/50 [Training]: 100%|██████████| 118/118 [00:30<00:00,  3.82it/s]\n",
      "Epoch 32/50 [Validation]: 100%|██████████| 30/30 [00:12<00:00,  2.34it/s]\n"
     ]
    },
    {
     "name": "stdout",
     "output_type": "stream",
     "text": [
      "Epoch 32/50 - Train Loss: 4.2015, Train Acc: 0.0628, Val Loss: 4.3535, Val Acc: 0.0504\n"
     ]
    },
    {
     "name": "stderr",
     "output_type": "stream",
     "text": [
      "Epoch 33/50 [Training]: 100%|██████████| 118/118 [00:30<00:00,  3.81it/s]\n",
      "Epoch 33/50 [Validation]: 100%|██████████| 30/30 [00:12<00:00,  2.35it/s]\n"
     ]
    },
    {
     "name": "stdout",
     "output_type": "stream",
     "text": [
      "Epoch 33/50 - Train Loss: 4.1901, Train Acc: 0.0658, Val Loss: 4.3718, Val Acc: 0.0505\n"
     ]
    },
    {
     "name": "stderr",
     "output_type": "stream",
     "text": [
      "Epoch 34/50 [Training]: 100%|██████████| 118/118 [00:30<00:00,  3.83it/s]\n",
      "Epoch 34/50 [Validation]: 100%|██████████| 30/30 [00:12<00:00,  2.35it/s]\n"
     ]
    },
    {
     "name": "stdout",
     "output_type": "stream",
     "text": [
      "Epoch 34/50 - Train Loss: 4.1816, Train Acc: 0.0652, Val Loss: 4.3606, Val Acc: 0.0529\n"
     ]
    },
    {
     "name": "stderr",
     "output_type": "stream",
     "text": [
      "Epoch 35/50 [Training]: 100%|██████████| 118/118 [00:30<00:00,  3.81it/s]\n",
      "Epoch 35/50 [Validation]: 100%|██████████| 30/30 [00:12<00:00,  2.35it/s]\n"
     ]
    },
    {
     "name": "stdout",
     "output_type": "stream",
     "text": [
      "Epoch 35/50 - Train Loss: 4.1735, Train Acc: 0.0676, Val Loss: 4.3655, Val Acc: 0.0525\n"
     ]
    },
    {
     "name": "stderr",
     "output_type": "stream",
     "text": [
      "Epoch 36/50 [Training]: 100%|██████████| 118/118 [00:30<00:00,  3.84it/s]\n",
      "Epoch 36/50 [Validation]: 100%|██████████| 30/30 [00:12<00:00,  2.35it/s]\n"
     ]
    },
    {
     "name": "stdout",
     "output_type": "stream",
     "text": [
      "Epoch 36/50 - Train Loss: 4.1626, Train Acc: 0.0705, Val Loss: 4.3412, Val Acc: 0.0523\n"
     ]
    },
    {
     "name": "stderr",
     "output_type": "stream",
     "text": [
      "Epoch 37/50 [Training]: 100%|██████████| 118/118 [00:30<00:00,  3.83it/s]\n",
      "Epoch 37/50 [Validation]: 100%|██████████| 30/30 [00:12<00:00,  2.35it/s]\n"
     ]
    },
    {
     "name": "stdout",
     "output_type": "stream",
     "text": [
      "Epoch 37/50 - Train Loss: 4.1558, Train Acc: 0.0702, Val Loss: 4.3352, Val Acc: 0.0559\n"
     ]
    },
    {
     "name": "stderr",
     "output_type": "stream",
     "text": [
      "Epoch 38/50 [Training]: 100%|██████████| 118/118 [00:30<00:00,  3.83it/s]\n",
      "Epoch 38/50 [Validation]: 100%|██████████| 30/30 [00:12<00:00,  2.35it/s]\n"
     ]
    },
    {
     "name": "stdout",
     "output_type": "stream",
     "text": [
      "Epoch 38/50 - Train Loss: 4.1395, Train Acc: 0.0723, Val Loss: 4.3391, Val Acc: 0.0529\n"
     ]
    },
    {
     "name": "stderr",
     "output_type": "stream",
     "text": [
      "Epoch 39/50 [Training]: 100%|██████████| 118/118 [00:30<00:00,  3.82it/s]\n",
      "Epoch 39/50 [Validation]: 100%|██████████| 30/30 [00:12<00:00,  2.34it/s]\n"
     ]
    },
    {
     "name": "stdout",
     "output_type": "stream",
     "text": [
      "Epoch 39/50 - Train Loss: 4.1330, Train Acc: 0.0729, Val Loss: 4.3422, Val Acc: 0.0560\n"
     ]
    },
    {
     "name": "stderr",
     "output_type": "stream",
     "text": [
      "Epoch 40/50 [Training]: 100%|██████████| 118/118 [00:30<00:00,  3.84it/s]\n",
      "Epoch 40/50 [Validation]: 100%|██████████| 30/30 [00:12<00:00,  2.35it/s]\n"
     ]
    },
    {
     "name": "stdout",
     "output_type": "stream",
     "text": [
      "Epoch 40/50 - Train Loss: 4.1237, Train Acc: 0.0739, Val Loss: 4.3535, Val Acc: 0.0572\n"
     ]
    },
    {
     "name": "stderr",
     "output_type": "stream",
     "text": [
      "Epoch 41/50 [Training]: 100%|██████████| 118/118 [00:30<00:00,  3.83it/s]\n",
      "Epoch 41/50 [Validation]: 100%|██████████| 30/30 [00:12<00:00,  2.35it/s]\n"
     ]
    },
    {
     "name": "stdout",
     "output_type": "stream",
     "text": [
      "Epoch 41/50 - Train Loss: 4.1161, Train Acc: 0.0760, Val Loss: 4.3375, Val Acc: 0.0547\n"
     ]
    },
    {
     "name": "stderr",
     "output_type": "stream",
     "text": [
      "Epoch 42/50 [Training]: 100%|██████████| 118/118 [00:30<00:00,  3.83it/s]\n",
      "Epoch 42/50 [Validation]: 100%|██████████| 30/30 [00:12<00:00,  2.35it/s]\n"
     ]
    },
    {
     "name": "stdout",
     "output_type": "stream",
     "text": [
      "Epoch 42/50 - Train Loss: 4.1070, Train Acc: 0.0761, Val Loss: 4.3681, Val Acc: 0.0552\n"
     ]
    },
    {
     "name": "stderr",
     "output_type": "stream",
     "text": [
      "Epoch 43/50 [Training]: 100%|██████████| 118/118 [00:30<00:00,  3.82it/s]\n",
      "Epoch 43/50 [Validation]: 100%|██████████| 30/30 [00:12<00:00,  2.34it/s]\n"
     ]
    },
    {
     "name": "stdout",
     "output_type": "stream",
     "text": [
      "Epoch 43/50 - Train Loss: 4.0958, Train Acc: 0.0785, Val Loss: 4.3381, Val Acc: 0.0569\n"
     ]
    },
    {
     "name": "stderr",
     "output_type": "stream",
     "text": [
      "Epoch 44/50 [Training]: 100%|██████████| 118/118 [00:31<00:00,  3.74it/s]\n",
      "Epoch 44/50 [Validation]: 100%|██████████| 30/30 [00:13<00:00,  2.31it/s]\n"
     ]
    },
    {
     "name": "stdout",
     "output_type": "stream",
     "text": [
      "Epoch 44/50 - Train Loss: 4.0834, Train Acc: 0.0805, Val Loss: 4.3802, Val Acc: 0.0540\n"
     ]
    },
    {
     "name": "stderr",
     "output_type": "stream",
     "text": [
      "Epoch 45/50 [Training]: 100%|██████████| 118/118 [00:32<00:00,  3.66it/s]\n",
      "Epoch 45/50 [Validation]: 100%|██████████| 30/30 [00:13<00:00,  2.29it/s]\n"
     ]
    },
    {
     "name": "stdout",
     "output_type": "stream",
     "text": [
      "Epoch 45/50 - Train Loss: 4.0765, Train Acc: 0.0790, Val Loss: 4.3552, Val Acc: 0.0549\n"
     ]
    },
    {
     "name": "stderr",
     "output_type": "stream",
     "text": [
      "Epoch 46/50 [Training]: 100%|██████████| 118/118 [00:32<00:00,  3.65it/s]\n",
      "Epoch 46/50 [Validation]: 100%|██████████| 30/30 [00:12<00:00,  2.33it/s]\n"
     ]
    },
    {
     "name": "stdout",
     "output_type": "stream",
     "text": [
      "Epoch 46/50 - Train Loss: 4.0675, Train Acc: 0.0806, Val Loss: 4.3632, Val Acc: 0.0551\n"
     ]
    },
    {
     "name": "stderr",
     "output_type": "stream",
     "text": [
      "Epoch 47/50 [Training]: 100%|██████████| 118/118 [00:32<00:00,  3.64it/s]\n",
      "Epoch 47/50 [Validation]: 100%|██████████| 30/30 [00:12<00:00,  2.31it/s]\n"
     ]
    },
    {
     "name": "stdout",
     "output_type": "stream",
     "text": [
      "Epoch 47/50 - Train Loss: 4.0595, Train Acc: 0.0812, Val Loss: 4.3937, Val Acc: 0.0507\n"
     ]
    },
    {
     "name": "stderr",
     "output_type": "stream",
     "text": [
      "Epoch 48/50 [Training]: 100%|██████████| 118/118 [00:32<00:00,  3.64it/s]\n",
      "Epoch 48/50 [Validation]: 100%|██████████| 30/30 [00:13<00:00,  2.31it/s]\n"
     ]
    },
    {
     "name": "stdout",
     "output_type": "stream",
     "text": [
      "Epoch 48/50 - Train Loss: 4.0478, Train Acc: 0.0831, Val Loss: 4.3520, Val Acc: 0.0539\n"
     ]
    },
    {
     "name": "stderr",
     "output_type": "stream",
     "text": [
      "Epoch 49/50 [Training]: 100%|██████████| 118/118 [00:32<00:00,  3.66it/s]\n",
      "Epoch 49/50 [Validation]: 100%|██████████| 30/30 [00:12<00:00,  2.33it/s]\n"
     ]
    },
    {
     "name": "stdout",
     "output_type": "stream",
     "text": [
      "Epoch 49/50 - Train Loss: 4.0378, Train Acc: 0.0857, Val Loss: 4.3803, Val Acc: 0.0497\n"
     ]
    },
    {
     "name": "stderr",
     "output_type": "stream",
     "text": [
      "Epoch 50/50 [Training]: 100%|██████████| 118/118 [00:32<00:00,  3.65it/s]\n",
      "Epoch 50/50 [Validation]: 100%|██████████| 30/30 [00:12<00:00,  2.31it/s]"
     ]
    },
    {
     "name": "stdout",
     "output_type": "stream",
     "text": [
      "Epoch 50/50 - Train Loss: 4.0184, Train Acc: 0.0873, Val Loss: 4.3892, Val Acc: 0.0528\n",
      "Total training time: 36.96 minutes\n"
     ]
    },
    {
     "name": "stderr",
     "output_type": "stream",
     "text": [
      "\n"
     ]
    }
   ],
   "source": [
    "# Train model\n",
    "model, train_losses, val_losses, train_acc, val_acc = train(model, train_loader, val_loader, criterion, optimizer, device, model_name, epochs=num_epochs, scheduler=scheduler, patience=patience_value)"
   ]
  },
  {
   "cell_type": "code",
   "execution_count": 15,
   "metadata": {},
   "outputs": [],
   "source": [
    "# create directory to save the plots\n",
    "plot_dir = '../notebooks/plots/vit/'\n",
    "if not os.path.exists(plot_dir):\n",
    "    os.makedirs(plot_dir)"
   ]
  },
  {
   "cell_type": "code",
   "execution_count": 16,
   "metadata": {},
   "outputs": [
    {
     "data": {
      "image/png": "[encoded data removed]",
      "text/plain": [
       "<Figure size 600x400 with 1 Axes>"
      ]
     },
     "metadata": {},
     "output_type": "display_data"
    }
   ],
   "source": [
    "# Plot losses\n",
    "plt.figure(figsize=(6, 4))\n",
    "plt.title(f'{dataset} Basic ViT - {data_use}% Data: Loss')\n",
    "plt.plot(train_losses, label='Train')\n",
    "plt.plot(val_losses, label='Validation')\n",
    "plt.ylabel('Loss')\n",
    "plt.xlabel('Epoch')\n",
    "plt.legend()\n",
    "# save the plot\n",
    "plt.savefig(f'{plot_dir}{model_name}_basic_vit_loss.pdf', format=\"pdf\")\n",
    "plt.show()\n"
   ]
  },
  {
   "cell_type": "code",
   "execution_count": 17,
   "metadata": {},
   "outputs": [
    {
     "data": {
      "image/png": "[encoded data removed]",
      "text/plain": [
       "<Figure size 600x400 with 1 Axes>"
      ]
     },
     "metadata": {},
     "output_type": "display_data"
    }
   ],
   "source": [
    "# Plot accuracies\n",
    "plt.figure(figsize=(6, 4))\n",
    "plt.title(f'{dataset} Basic ViT- {data_use}% Data: Accuracy')\n",
    "# move list to cpu\n",
    "train_acc = [i.cpu() for i in train_acc]\n",
    "val_acc = [i.cpu() for i in val_acc]\n",
    "plt.plot(train_acc, label='Train')\n",
    "plt.plot(val_acc, label='Validation')\n",
    "plt.ylabel('Accuracy')\n",
    "plt.xlabel('Epoch')\n",
    "plt.legend()\n",
    "# save the plot\n",
    "plt.savefig(f'{plot_dir}{model_name}_basic_vit_acc.pdf', format=\"pdf\")\n",
    "plt.show()\n"
   ]
  },
  {
   "cell_type": "code",
   "execution_count": 18,
   "metadata": {},
   "outputs": [
    {
     "name": "stderr",
     "output_type": "stream",
     "text": [
      "Testing: 30it [00:02, 12.96it/s]"
     ]
    },
    {
     "name": "stdout",
     "output_type": "stream",
     "text": [
      "Test accuracy: 0.0747\n"
     ]
    },
    {
     "name": "stderr",
     "output_type": "stream",
     "text": [
      "\n"
     ]
    }
   ],
   "source": [
    "# test on the test set\n",
    "\n",
    "# Set model to eval mode\n",
    "model.eval()\n",
    "\n",
    "# Initialize lists to store predictions and labels\n",
    "preds = []\n",
    "labels = []\n",
    "\n",
    "# Turn off gradients\n",
    "with torch.no_grad():\n",
    "    # Iterate over test data\n",
    "    for batch_idx, (data, target) in tqdm(enumerate(test_loader), desc=\"Testing\"):\n",
    "        # Send data to device\n",
    "        data, target = data.to(device), target.to(device)\n",
    "\n",
    "        # Forward pass\n",
    "        output = model(data)\n",
    "\n",
    "        # Get predicted class\n",
    "        pred = output.argmax(dim=1, keepdim=True)\n",
    "\n",
    "        # Save predictions and labels for computing metrics later\n",
    "        preds.extend(pred.cpu().numpy())\n",
    "        labels.extend(target.cpu().numpy())\n",
    "\n",
    "# Print accuracy\n",
    "accuracy = accuracy_score(labels, preds)\n",
    "print(f\"Test accuracy: {accuracy:.4f}\")"
   ]
  },
  {
   "cell_type": "code",
   "execution_count": 19,
   "metadata": {},
   "outputs": [],
   "source": [
    "# Print classification report and confusion matrix\n",
    "# Only print if dataset is not CIFAR100. CIFAR100 has too many classes to print\n",
    "if dataset != \"CIFAR100\":\n",
    "    # Print classification report\n",
    "    print(classification_report(labels, preds))\n",
    "\n",
    "    # Print confusion matrix\n",
    "    cm = confusion_matrix(labels, preds)\n",
    "\n",
    "    # Normalize the confusion matrix\n",
    "    cm_normalized = cm.astype('float') / cm.sum(axis=1)[:, np.newaxis] * 100  # Convert to percentages\n",
    "\n",
    "    plt.figure(figsize=(6, 6))\n",
    "    sns.heatmap(cm_normalized, annot=True, fmt='.2f', cmap='Blues', cbar=False)\n",
    "    plt.xlabel('Predicted')\n",
    "    plt.ylabel('Actual')\n",
    "    plt.title(f'{dataset} Basic ViT: Confusion Matrix (in %)')\n",
    "    # save the plot\n",
    "    plt.savefig(f'{plot_dir}{model_name}_basic_vit_cm.pdf', format=\"pdf\")\n",
    "    plt.show()"
   ]
  },
  {
   "cell_type": "markdown",
   "metadata": {},
   "source": [
    "# Self-supervised View Prediction as Weight Initialization Scheme:"
   ]
  },
  {
   "cell_type": "markdown",
   "metadata": {},
   "source": [
    "Create local and global views"
   ]
  },
  {
   "cell_type": "code",
   "execution_count": 20,
   "metadata": {},
   "outputs": [],
   "source": [
    "def create_views(x, global_ratio=0.5, local_ratio=0.5, strategy=\"random\"):\n",
    "    '''\n",
    "    Function that creates global and local views of an image.\n",
    "\n",
    "    Parameters:\n",
    "        x (Tensor): Input image tensor of shape (B, C, H, W)\n",
    "        global_ratio (float): Fraction of the image to be used for global views\n",
    "        local_ratio (float): Fraction of the image to be used for local views\n",
    "        strategy (str): Strategy to use for local views. Options: \"random\", \"central\", \"jitter\"\n",
    "\n",
    "    Returns:\n",
    "        global_views (list): List of global views\n",
    "        local_views (list): List of local views\n",
    "    '''\n",
    "\n",
    "    B, C, H, W = x.size()\n",
    "    \n",
    "    global_views = []\n",
    "    local_views = []\n",
    "    \n",
    "    # Create 2 Global Views\n",
    "    for _ in range(2):\n",
    "        global_view = F.interpolate(x, scale_factor=global_ratio)\n",
    "        global_view = F.interpolate(global_view, size=(H, W))\n",
    "        global_views.append(global_view)\n",
    "    \n",
    "    # Create 8 Local Views\n",
    "    for _ in range(8):\n",
    "        new_H, new_W = int(H * local_ratio), int(W * local_ratio)\n",
    "        \n",
    "        if strategy == \"random\":\n",
    "            top = random.randint(0, H - new_H)\n",
    "            left = random.randint(0, W - new_W)\n",
    "        elif strategy == \"central\":\n",
    "            top = (H - new_H) // 2\n",
    "            left = (W - new_W) // 2\n",
    "        elif strategy == \"jitter\":\n",
    "            crop_ratio = local_ratio + random.uniform(-0.1, 0.1)  # Adding jitter\n",
    "            new_H_jitter, new_W_jitter = int(H * crop_ratio), int(W * crop_ratio)\n",
    "            top = random.randint(0, H - new_H_jitter)\n",
    "            left = random.randint(0, W - new_W_jitter)\n",
    "        else:\n",
    "            raise ValueError(f\"Unknown local view strategy: {strategy}\")\n",
    "        \n",
    "        local_view = x[:, :, top:top+new_H, left:left+new_W]\n",
    "        local_view_resized = F.interpolate(local_view, scale_factor=local_ratio)\n",
    "        local_view_resized = F.interpolate(local_view_resized, size=(new_H, new_W))\n",
    "        local_views.append(local_view_resized)\n",
    "    \n",
    "    return global_views, local_views\n"
   ]
  },
  {
   "cell_type": "code",
   "execution_count": 21,
   "metadata": {},
   "outputs": [
    {
     "name": "stdout",
     "output_type": "stream",
     "text": [
      "torch.Size([256, 3, 32, 32]) torch.Size([256, 3, 16, 16])\n"
     ]
    },
    {
     "name": "stderr",
     "output_type": "stream",
     "text": [
      "Clipping input data to the valid range for imshow with RGB data ([0..1] for floats or [0..255] for integers).\n",
      "Clipping input data to the valid range for imshow with RGB data ([0..1] for floats or [0..255] for integers).\n",
      "Clipping input data to the valid range for imshow with RGB data ([0..1] for floats or [0..255] for integers).\n",
      "Clipping input data to the valid range for imshow with RGB data ([0..1] for floats or [0..255] for integers).\n",
      "Clipping input data to the valid range for imshow with RGB data ([0..1] for floats or [0..255] for integers).\n",
      "Clipping input data to the valid range for imshow with RGB data ([0..1] for floats or [0..255] for integers).\n",
      "Clipping input data to the valid range for imshow with RGB data ([0..1] for floats or [0..255] for integers).\n",
      "Clipping input data to the valid range for imshow with RGB data ([0..1] for floats or [0..255] for integers).\n",
      "Clipping input data to the valid range for imshow with RGB data ([0..1] for floats or [0..255] for integers).\n",
      "Clipping input data to the valid range for imshow with RGB data ([0..1] for floats or [0..255] for integers).\n"
     ]
    },
    {
     "data": {
      "image/png": "[encoded data removed]",
      "text/plain": [
       "<Figure size 1600x800 with 16 Axes>"
      ]
     },
     "metadata": {},
     "output_type": "display_data"
    }
   ],
   "source": [
    "# Debug\n",
    "for batch_idx, (data, target) in enumerate(train_loader):\n",
    "    global_views, local_views = create_views(data, global_ratio=0.5, local_ratio=0.5, strategy=\"jitter\")\n",
    "    \n",
    "    # Only print the shapes of the first view in each list for brevity\n",
    "    print(global_views[0].shape, local_views[0].shape)\n",
    "    break\n",
    "\n",
    "# Visualization\n",
    "num_global_views = len(global_views)\n",
    "num_local_views = len(local_views)\n",
    "\n",
    "fig, ax = plt.subplots(2, max(num_global_views, num_local_views), figsize=(16, 8))\n",
    "\n",
    "# Visualize global views\n",
    "for i in range(num_global_views):\n",
    "    global_view_img = global_views[i][0].permute(1, 2, 0).cpu().numpy()\n",
    "    ax[0, i].imshow(global_view_img)\n",
    "    ax[0, i].set_title(f\"Global view {i+1}\")\n",
    "\n",
    "# Visualize local views\n",
    "for i in range(num_local_views):\n",
    "    local_view_img = local_views[i][0].permute(1, 2, 0).cpu().numpy()\n",
    "    ax[1, i].imshow(local_view_img)\n",
    "    ax[1, i].set_title(f\"Local view {i+1}\")\n",
    "\n",
    "# If there are more local views than global views, hide the remaining axes\n",
    "for i in range(num_global_views, num_local_views):\n",
    "    ax[0, i].axis(\"off\")\n",
    "\n",
    "plt.tight_layout()\n",
    "plt.show()\n"
   ]
  },
  {
   "cell_type": "markdown",
   "metadata": {},
   "source": [
    "Create DynamicPositionEmbeddings"
   ]
  },
  {
   "cell_type": "code",
   "execution_count": 22,
   "metadata": {},
   "outputs": [],
   "source": [
    "class DynamicPositionEmbedding(nn.Module):\n",
    "    '''\n",
    "    Class that creates dynamic position embeddings for images using sinusoidal positional encodings.\n",
    "\n",
    "    Parameters:\n",
    "        channels (int): Number of channels\n",
    "        num_patches (int): Number of patches\n",
    "        embed_dim (int): Embedding dimension\n",
    "\n",
    "    Returns:\n",
    "        x (Tensor): Output of dynamic position embedding layer\n",
    "    '''\n",
    "\n",
    "    def __init__(self, num_patches, embed_dim):\n",
    "        super(DynamicPositionEmbedding, self).__init__()\n",
    "\n",
    "        self.pos_embedding = self.create_pos_embedding(num_patches + 1, embed_dim)\n",
    "\n",
    "\n",
    "    def create_pos_embedding(self, num_patches, embed_dim):\n",
    "        position = torch.arange(0, num_patches, dtype=torch.float).unsqueeze(1)\n",
    "        div_term = torch.exp(torch.arange(0, embed_dim, 2).float() * (-math.log(10000.0) / embed_dim))\n",
    "        pos_embedding = torch.zeros(num_patches, embed_dim)\n",
    "        pos_embedding[:, 0::2] = torch.sin(position * div_term)\n",
    "        pos_embedding[:, 1::2] = torch.cos(position * div_term)\n",
    "        pos_embedding = pos_embedding.unsqueeze(0).transpose(0, 1)\n",
    "        return nn.Parameter(pos_embedding, requires_grad=False)\n",
    "\n",
    "    def forward(self, x):\n",
    "        x = x + self.pos_embedding[:x.size(1)].squeeze(1) # Add position embeddings to both patch embeddings and CLS token.\n",
    "        return x"
   ]
  },
  {
   "cell_type": "code",
   "execution_count": 23,
   "metadata": {},
   "outputs": [],
   "source": [
    "# # Debug\n",
    "# # Create an instance of PatchEmbedding and DynamicPositionEmbedding\n",
    "# patch_embed = PatchEmbedding(image_size=28, patch_size=7, in_channels=1, embed_dim=4)  # Assuming these parameters\n",
    "# dynamic_pos_embed = DynamicPositionEmbedding(num_patches=17, embed_dim=4)\n",
    "\n",
    "# x = torch.randn(1, 1, 28, 28)\n",
    "# print(f\"Input shape: {x.shape}\")\n",
    "# x = patch_embed(x)\n",
    "# print(f\"Patch embedding output shape: {x.shape}\")\n",
    "# x = dynamic_pos_embed(x)\n",
    "# print(f\"Dynamic position embedding output shape: {x.shape}\")\n",
    "\n",
    "\n",
    "# # Test the flow\n",
    "# x = torch.randn(1, 1, 28, 28)\n",
    "# print(f\"Input shape: {x.shape}\")\n",
    "# x = patch_embed(x)\n",
    "# print(f\"Patch embedding output shape: {x.shape}\")\n",
    "# x = dynamic_pos_embed(x)\n",
    "# print(f\"Dynamic position embedding output shape: {x.shape}\")"
   ]
  },
  {
   "cell_type": "markdown",
   "metadata": {},
   "source": [
    "Define EMA class for exponential moving average of model weights for the teacher ViT"
   ]
  },
  {
   "cell_type": "code",
   "execution_count": 24,
   "metadata": {},
   "outputs": [],
   "source": [
    "class EMA:\n",
    "    '''\n",
    "    Class to update and maintain the Exponential Moving Average (EMA) of model parameters.\n",
    "    \n",
    "    Parameters:\n",
    "        model (nn.Module): PyTorch model for which the EMA needs to be maintained.\n",
    "        decay (float): Decay rate for the moving average. Value should be between 0 and 1.\n",
    "                       Higher values give more importance to recent model parameters.\n",
    "    \n",
    "    Attributes:\n",
    "        model (nn.Module): PyTorch model.\n",
    "        decay (float): Decay rate for the moving average.\n",
    "        shadow (dict): Dictionary to store the shadow weights.\n",
    "        backup (dict): Dictionary to store the backup of the original model weights.\n",
    "    '''\n",
    "    \n",
    "    def __init__(self, model, ema_decay, num_epochs, optimizer):\n",
    "        self.model = model\n",
    "        self.decay_scheduler = CosineAnnealingLR(optimizer=optimizer, T_max=num_epochs, eta_min=0.001, last_epoch=-1, verbose=False)\n",
    "        self.initial_decay = ema_decay\n",
    "        self.shadow = {}\n",
    "        self.backup = {}\n",
    "\n",
    "        # Initialize the shadow weights with the model parameters\n",
    "        for name, param in model.named_parameters():\n",
    "            self.shadow[name] = param.data.clone()\n",
    "\n",
    "    def apply(self):\n",
    "        \"\"\"\n",
    "        Apply the EMA to the model weights. The model's weights are replaced by the shadow weights.\n",
    "        \"\"\"\n",
    "\n",
    "        # Update decay based on the cosine schedule\n",
    "        self.decay = self.initial_decay + (1 - self.initial_decay) * self.decay_scheduler.get_last_lr()[0]\n",
    "\n",
    "        # Backup current model parameters\n",
    "        for name, param in self.model.named_parameters():\n",
    "            self.backup[name] = param.data.clone()\n",
    "\n",
    "        # Apply EMA to get the shadow weights\n",
    "        for name, param in self.model.named_parameters():\n",
    "            self.shadow[name] = self.decay * self.shadow[name] + (1.0 - self.decay) * param.data\n",
    "            param.data = self.shadow[name]\n",
    "\n",
    "        # Step the scheduler for the next iteration\n",
    "        self.decay_scheduler.step()\n",
    "\n",
    "    def restore(self):\n",
    "        \"\"\"\n",
    "        Restore the model's weights from the backup. This reverts the effects of the `apply` method.\n",
    "        \"\"\"\n",
    "        # Restore model parameters from the backup\n",
    "        for name, param in self.model.named_parameters():\n",
    "            param.data = self.backup[name]"
   ]
  },
  {
   "cell_type": "code",
   "execution_count": 25,
   "metadata": {},
   "outputs": [],
   "source": [
    "def center_and_sharpen(features, sharpen_value=0.5):\n",
    "    '''\n",
    "    Center and sharpen the features.\n",
    "    \n",
    "    Parameters:\n",
    "        features (torch.Tensor): The features tensor.\n",
    "        sharpen_value (float): Value used for sharpening.\n",
    "    \n",
    "    Returns:\n",
    "        torch.Tensor: Centered and sharpened features.\n",
    "    '''\n",
    "    # Centering\n",
    "    centered_features = features - features.mean(dim=0)\n",
    "\n",
    "    # Sharpening\n",
    "    sharpened_features = torch.nn.functional.softmax(centered_features / sharpen_value, dim=1)\n",
    "\n",
    "    return sharpened_features"
   ]
  },
  {
   "cell_type": "markdown",
   "metadata": {},
   "source": [
    "Create the VisionTransformerDPE class and instantiate the teacher ViT and the student ViT"
   ]
  },
  {
   "cell_type": "code",
   "execution_count": 26,
   "metadata": {},
   "outputs": [],
   "source": [
    "class VisionTransformerDPE(nn.Module):\n",
    "    '''\n",
    "    Vision transformer architecture with Dynamic Position Embeddings.\n",
    "\n",
    "    Parameters:\n",
    "        image_size (int): Size of image\n",
    "        patch_size (int): Size of patch\n",
    "        in_channels (int): Number of input channels\n",
    "        embed_dim (int): Embedding dimension\n",
    "        depth (int): Depth\n",
    "        heads (int): Number of heads\n",
    "        mlp_dim (int): Dimension of MLP\n",
    "        dropout (float): Dropout probability\n",
    "        num_classes (int): Number of classes\n",
    "\n",
    "    Returns:\n",
    "        x (Tensor): Output of VisionTransformer\n",
    "    '''\n",
    "    \n",
    "    def __init__(self, \n",
    "                 image_size: int, \n",
    "                 patch_size: int, \n",
    "                 in_channels: int, \n",
    "                 embed_dim: int, \n",
    "                 depth: int, \n",
    "                 heads: int, \n",
    "                 mlp_dim: int,\n",
    "                 num_classes: int, \n",
    "                 dropout: float = 0., \n",
    "                 mlp_head_units = [2048, 1024]):\n",
    "        super().__init__()        \n",
    "        # Patch embedding layer\n",
    "        self.patch_embed = PatchEmbedding(image_size=image_size, patch_size=patch_size, in_channels=in_channels, embed_dim=embed_dim)\n",
    "        # Initializing cls_token and pos_embed with random values\n",
    "        self.cls_token = nn.Parameter(torch.randn(1, 1, embed_dim))        \n",
    "        # Create the Dynamic Positional Embedding layer\n",
    "        num_patches = (image_size // patch_size) ** 2\n",
    "        self.dynamic_pos_embed = DynamicPositionEmbedding(num_patches, embed_dim)\n",
    "        \n",
    "        self.dropout = nn.Dropout(dropout)\n",
    "        self.transformer_encoder = nn.ModuleList([TransformerEncoderBlock(dim=embed_dim, heads=heads, dim_head=embed_dim // heads, mlp_dim=mlp_dim, dropout=dropout) for _ in range(depth)])\n",
    "        self.norm = nn.LayerNorm(embed_dim)\n",
    "        self.mlp_head = nn.Sequential(\n",
    "            nn.Linear(embed_dim, mlp_head_units[0]),\n",
    "            nn.ReLU(),\n",
    "            nn.Dropout(dropout),\n",
    "            nn.Linear(mlp_head_units[0], mlp_head_units[1]),\n",
    "            nn.ReLU(),\n",
    "            nn.Dropout(dropout),\n",
    "            nn.Linear(mlp_head_units[1], num_classes)\n",
    "        )\n",
    "    def forward(self, x):\n",
    "        B = x.shape[0]  # batch_size\n",
    "        x = self.patch_embed(x)\n",
    "        \n",
    "        cls_tokens = repeat(self.cls_token, '() n d -> b n d', b=B)\n",
    "        x = torch.cat((cls_tokens, x), dim=1)\n",
    "        \n",
    "        # Use the DynamicPositionEmbedding for adding the positional embeddings\n",
    "        x = self.dynamic_pos_embed(x)\n",
    "        \n",
    "        x = self.dropout(x)\n",
    "\n",
    "        for transformer_encoder in self.transformer_encoder:\n",
    "            x = transformer_encoder(x)\n",
    "\n",
    "        x = self.norm(x)\n",
    "        x = x[:, 0]  # Take the cls_token representation\n",
    "        x = self.mlp_head(x)\n",
    "\n",
    "        return x\n"
   ]
  },
  {
   "cell_type": "markdown",
   "metadata": {},
   "source": [
    "Define the self-supervised loss"
   ]
  },
  {
   "cell_type": "code",
   "execution_count": 27,
   "metadata": {},
   "outputs": [],
   "source": [
    "class SelfSupervisedLoss(nn.Module):\n",
    "    '''\n",
    "    Implements the self-supervised loss for Vision Transformer as described in \n",
    "    \"How to Train Vision Transformers on Small-scale Datasets\".\n",
    "\n",
    "    This loss combines both global and local views. Specifically, \n",
    "    it computes a loss based on the negative sum of the elementwise product \n",
    "    of the student's outputs and the logarithm of the teacher's outputs.\n",
    "\n",
    "    Attributes:\n",
    "        None\n",
    "\n",
    "    Methods:\n",
    "        forward(student_global, teacher_global, student_locals, teacher_locals): Computes the self-supervised loss.\n",
    "    '''\n",
    "\n",
    "    def __init__(self, temperature=0.1):\n",
    "        super(SelfSupervisedLoss, self).__init__()\n",
    "        self.temperature = temperature\n",
    "\n",
    "    def forward(self, student_global, teacher_global, student_locals, teacher_locals):\n",
    "        '''\n",
    "        Computes the self-supervised loss.\n",
    "\n",
    "        Parameters:\n",
    "        - student_global (torch.Tensor): Global view output from the student network.\n",
    "        - teacher_global (torch.Tensor): Global view output from the teacher network.\n",
    "        - student_locals (List[torch.Tensor]): List of local view outputs from the student network.\n",
    "        - teacher_locals (List[torch.Tensor]): List of local view outputs from the teacher network.\n",
    "\n",
    "        Returns:\n",
    "        - loss (torch.Tensor): Computed self-supervised loss combining both global and local views.\n",
    "        '''\n",
    "\n",
    "        # Temperature-scaled cross-entropy loss\n",
    "        teacher_global = torch.nn.functional.log_softmax(teacher_global / self.temperature, dim=-1)\n",
    "        student_global = torch.nn.functional.softmax(student_global / self.temperature, dim=-1)\n",
    "\n",
    "        # Compute the global view loss component\n",
    "        global_loss = -torch.mean(torch.sum(student_global * teacher_global, dim=-1))\n",
    "\n",
    "        # Compute the local view loss component\n",
    "        teacher_locals = [torch.nn.functional.log_softmax(t_local / self.temperature, dim=-1) for t_local in teacher_locals]\n",
    "        student_locals = [torch.nn.functional.softmax(s_local / self.temperature, dim=-1) for s_local in student_locals]\n",
    "\n",
    "        local_losses = [-torch.mean(torch.sum(s_local * t_local, dim=-1)) for s_local, t_local in zip(student_locals, teacher_locals)]\n",
    "        \n",
    "        # Average the local losses\n",
    "        total_local_loss = sum(local_losses) / len(local_losses)\n",
    "\n",
    "        # Combine the losses\n",
    "        loss = global_loss + total_local_loss\n",
    "        return loss"
   ]
  },
  {
   "cell_type": "markdown",
   "metadata": {},
   "source": [
    "Define the training loops"
   ]
  },
  {
   "cell_type": "markdown",
   "metadata": {},
   "source": [
    "\n",
    "1. **Train the Student (Self-Supervised)**: Using the self-supervised approach, the student model is trained to mimic the teacher's outputs on low-resolution local and global views. During this phase, the student learns inductive biases from the teacher's representations.\n",
    "\n",
    "2. **Fine-tune the Student (Still Self-Supervised)**: Depending on the specifics, there might be additional fine-tuning of the student model within the self-supervised framework to further optimize its performance.\n",
    "\n",
    "3. **Transfer the Student Weights to Standard ViT (Supervised)**: The weights of the student model are then used to initialize a standard Vision Transformer. This ViT is then trained using supervised learning on actual labeled data from the small-scale dataset.\n",
    "\n",
    "This process leverages the inductive biases learned during self-supervised training to improve the training and generalization of the Vision Transformer on small datasets. The teacher model aids in the self-supervised learning, but the weights transferred for supervised fine-tuning are from the student."
   ]
  },
  {
   "cell_type": "code",
   "execution_count": 28,
   "metadata": {},
   "outputs": [],
   "source": [
    "def self_supervised_training(student, teacher, optimizer, ema_updater, epochs, train_loader, val_loader, scheduler, device, criterion):\n",
    "    '''\n",
    "    Train Vision Transformer in a self-supervised manner.\n",
    "    \n",
    "    Parameters:\n",
    "        student (nn.Module): Student Vision Transformer model\n",
    "        teacher (nn.Module): Teacher Vision Transformer model\n",
    "        optimizer (nn.Module): Optimizer\n",
    "        ema_updater (EMA): EMA updater\n",
    "        epochs (int): Number of epochs\n",
    "        train_loader (DataLoader): Training set dataloader\n",
    "        val_loader (DataLoader): Validation set dataloader\n",
    "        scheduler (nn.Module): Learning rate scheduler\n",
    "        device (str): Device to use\n",
    "        criterion (nn.Module): Loss function\n",
    "\n",
    "    Returns:\n",
    "        None\n",
    "    '''\n",
    "    \n",
    "    student.train()\n",
    "    teacher.eval()  # Teacher always in eval mode\n",
    "    loss_fn = SelfSupervisedLoss()\n",
    "    best_val_loss = float('inf')  # Initialize best validation loss to infinity§\n",
    "\n",
    "    # create save directory if it doesn't exist\n",
    "    save_dir = '../trained_models/dino/'\n",
    "    if not os.path.exists(save_dir):\n",
    "        os.makedirs(save_dir)\n",
    "\n",
    "    # Start timer\n",
    "    start_time = time.time()\n",
    "\n",
    "    for epoch in range(epochs):\n",
    "        total_loss = 0.0\n",
    "        for images, _ in tqdm(train_loader, desc=\"Training\"):  # We don't need labels in this phase\n",
    "            images = images.to(device)\n",
    "            \n",
    "            # Create views\n",
    "            global_views, local_views = create_views(images)\n",
    "            \n",
    "            total_view_loss = 0\n",
    "            for i in range(len(global_views)):\n",
    "                global_view = global_views[i].to(device)\n",
    "                local_view = local_views[i].to(device)\n",
    "                \n",
    "                # Forward pass\n",
    "                with torch.no_grad():\n",
    "                    teacher_features = teacher(global_view)\n",
    "                    teacher_features = center_and_sharpen(teacher_features)  # Apply centering and sharpening\n",
    "                    teacher_features = F.normalize(teacher_features, dim=1)\n",
    "\n",
    "\n",
    "                student_global_features, student_local_features = student(global_view), student(local_view)\n",
    "                student_global_features = F.normalize(student_global_features, dim=1)\n",
    "                \n",
    "                # Loss computation for this view\n",
    "                loss = loss_fn(student_global_features, teacher_features, student_local_features, teacher_features)\n",
    "                total_view_loss += loss\n",
    "            \n",
    "            # Average the loss for all views\n",
    "            avg_view_loss = total_view_loss / len(global_views)\n",
    "            total_loss += avg_view_loss.item()\n",
    "            \n",
    "            # Backpropagate based on avg_view_loss\n",
    "            optimizer.zero_grad()\n",
    "            avg_view_loss.backward()\n",
    "            optimizer.step()\n",
    "\n",
    "            # Update teacher with EMA of student weights\n",
    "            ema_updater.apply()\n",
    "\n",
    "        # Average loss for the whole epoch\n",
    "        avg_loss = total_loss / len(train_loader)\n",
    "    \n",
    "        print(f\"Epoch [{epoch+1}/{epochs}] - Training Loss: {avg_loss:.4f}\")\n",
    "\n",
    "        # Use the validation set to adapt the learning rate\n",
    "        with torch.no_grad():\n",
    "            val_loss = 0.0\n",
    "            student.eval()  # Switch student to evaluation mode\n",
    "\n",
    "            for images, labels in tqdm(val_loader, desc=\"Validation\"):\n",
    "                images, labels = images.to(device), labels.to(device)\n",
    "                outputs = student(images)\n",
    "                loss = criterion(outputs, labels)\n",
    "                val_loss += loss.item()\n",
    "\n",
    "            avg_val_loss = val_loss / len(val_loader)\n",
    "            scheduler.step(avg_val_loss)\n",
    "\n",
    "            print(f\"Validation Loss after Epoch [{epoch+1}/{epochs}]: {avg_val_loss:.4f}\")\n",
    "\n",
    "            # Save the model if the validation loss improves\n",
    "            if avg_val_loss < best_val_loss:\n",
    "                best_val_loss = avg_val_loss\n",
    "                torch.save(student.state_dict(), f'{save_dir}{dataset}_{data_use}_self_supervised_best_student_weights.pth')\n",
    "\n",
    "                print(\"Saved improved model with validation loss {:.4f}\".format(avg_val_loss))\n",
    "\n",
    "        student.train()  # Switch student back to training mode after validation\n",
    "\n",
    "    # Record the end time for training\n",
    "    end_time = time.time()\n",
    "    # Calculate the total training time\n",
    "    total_time_seconds = end_time - start_time\n",
    "    if total_time_seconds < 60:\n",
    "        print(f\"Total training time: {total_time_seconds:.2f} seconds\")\n",
    "    else:\n",
    "        total_time_minutes = total_time_seconds / 60\n",
    "        print(f\"Total training time: {total_time_minutes:.2f} minutes\")\n",
    "\n",
    "    # At the end of training, you might want to restore the student's original weights\n",
    "    ema_updater.restore()\n",
    "    print(\"Self-supervised training complete!\")\n"
   ]
  },
  {
   "cell_type": "code",
   "execution_count": 29,
   "metadata": {},
   "outputs": [],
   "source": [
    "def supervised_training(student, optimizer, criterion, num_epochs, train_loader, val_loader, scheduler, device):\n",
    "    '''\n",
    "    Fine-tune the Vision Transformer in a supervised manner.\n",
    "\n",
    "    Parameters:\n",
    "    - student (nn.Module): The student model.\n",
    "    - optimizer (torch.optim.Optimizer): Optimizer for the student model.\n",
    "    - criterion (nn.Module): Loss function.\n",
    "    - num_epochs (int): Number of training epochs.\n",
    "    - train_loader (DataLoader): DataLoader for the training set.\n",
    "    - val_loader (DataLoader): DataLoader for the validation set.\n",
    "    - scheduler: Learning rate scheduler.\n",
    "    - device (torch.device): Device to which tensors will be moved.\n",
    "\n",
    "    Returns:\n",
    "    None\n",
    "    '''\n",
    "    \n",
    "    best_val_loss = float('inf')  # Set the best validation loss to infinity\n",
    "\n",
    "    # create save directory if it doesn't exist\n",
    "    save_dir = '../trained_models/dino/'\n",
    "    if not os.path.exists(save_dir):\n",
    "        os.makedirs(save_dir)\n",
    "\n",
    "    # Start timer\n",
    "    start_time = time.time()\n",
    "\n",
    "    for epoch in range(num_epochs):\n",
    "        student.train()\n",
    "        \n",
    "        total_loss = 0.0\n",
    "        correct = 0\n",
    "        total = 0\n",
    "        \n",
    "        for images, labels in tqdm(train_loader, desc=\"Training\"):\n",
    "            images, labels = images.to(device), labels.to(device)\n",
    "            \n",
    "            # Forward pass\n",
    "            outputs = student(images)\n",
    "            loss = criterion(outputs, labels)\n",
    "            total_loss += loss.item()\n",
    "            \n",
    "            # Compute accuracy\n",
    "            _, predicted = torch.max(outputs.data, 1)\n",
    "            total += labels.size(0)\n",
    "            correct += (predicted == labels).sum().item()\n",
    "            \n",
    "            # Backpropagation\n",
    "            optimizer.zero_grad()\n",
    "            loss.backward()\n",
    "            optimizer.step()\n",
    "            \n",
    "        # Average loss and accuracy\n",
    "        avg_loss = total_loss / len(train_loader)\n",
    "        accuracy = 100 * correct / total\n",
    "        \n",
    "        print(f\"Epoch [{epoch+1}/{num_epochs}] - Loss: {avg_loss:.4f}, Accuracy: {accuracy:.2f}%\")\n",
    "        \n",
    "        # Use the validation set to adapt the learning rate\n",
    "        with torch.no_grad():\n",
    "            val_loss = 0.0\n",
    "            student.eval()\n",
    "            \n",
    "            for images, labels in tqdm(val_loader, desc=\"Validation\"):\n",
    "                images, labels = images.to(device), labels.to(device)\n",
    "                outputs = student(images)\n",
    "                loss = criterion(outputs, labels)\n",
    "                val_loss += loss.item()\n",
    "            \n",
    "            avg_val_loss = val_loss / len(val_loader)\n",
    "            scheduler.step(avg_val_loss)\n",
    "\n",
    "            print(f\"Validation Loss after Epoch [{epoch+1}/{num_epochs}]: {avg_val_loss:.4f}\")\n",
    "\n",
    "            if avg_val_loss < best_val_loss:\n",
    "                best_val_loss = avg_val_loss\n",
    "                torch.save(student.state_dict(), f'{save_dir}{dataset}_{data_use}_supervised_best_student_weights.pth')\n",
    "    \n",
    "    # Record the end time for training\n",
    "    end_time = time.time()\n",
    "    # Calculate the total training time\n",
    "    total_time_seconds = end_time - start_time\n",
    "    if total_time_seconds < 60:\n",
    "        print(f\"Total training time: {total_time_seconds:.2f} seconds\")\n",
    "    else:\n",
    "        total_time_minutes = total_time_seconds / 60\n",
    "        print(f\"Total training time: {total_time_minutes:.2f} minutes\")\n",
    "\n",
    "    print(\"Supervised fine-tuning complete!\")\n"
   ]
  },
  {
   "cell_type": "markdown",
   "metadata": {},
   "source": [
    "### Student Teacher Training\n",
    "\n"
   ]
  },
  {
   "cell_type": "code",
   "execution_count": 30,
   "metadata": {},
   "outputs": [
    {
     "name": "stdout",
     "output_type": "stream",
     "text": [
      "----------------------------------------------------------------\n",
      "        Layer (type)               Output Shape         Param #\n",
      "================================================================\n",
      "            Conv2d-1             [-1, 64, 4, 4]          12,352\n",
      "    PatchEmbedding-2               [-1, 16, 64]               0\n",
      "DynamicPositionEmbedding-3               [-1, 17, 64]               0\n",
      "           Dropout-4               [-1, 17, 64]               0\n",
      "         LayerNorm-5               [-1, 17, 64]             128\n",
      "            Linear-6              [-1, 17, 192]          12,288\n",
      "           Softmax-7            [-1, 4, 17, 17]               0\n",
      "            Linear-8               [-1, 17, 64]           4,160\n",
      "         Attention-9               [-1, 17, 64]               0\n",
      "          Dropout-10               [-1, 17, 64]               0\n",
      "        LayerNorm-11               [-1, 17, 64]             128\n",
      "           Linear-12             [-1, 17, 2048]         133,120\n",
      "             GELU-13             [-1, 17, 2048]               0\n",
      "             GELU-14             [-1, 17, 2048]               0\n",
      "             GELU-15             [-1, 17, 2048]               0\n",
      "             GELU-16             [-1, 17, 2048]               0\n",
      "             GELU-17             [-1, 17, 2048]               0\n",
      "             GELU-18             [-1, 17, 2048]               0\n",
      "             GELU-19             [-1, 17, 2048]               0\n",
      "             GELU-20             [-1, 17, 2048]               0\n",
      "           Linear-21               [-1, 17, 64]         131,136\n",
      "          Dropout-22               [-1, 17, 64]               0\n",
      "              MLP-23               [-1, 17, 64]               0\n",
      "          Dropout-24               [-1, 17, 64]               0\n",
      "TransformerEncoderBlock-25               [-1, 17, 64]               0\n",
      "        LayerNorm-26               [-1, 17, 64]             128\n",
      "           Linear-27              [-1, 17, 192]          12,288\n",
      "          Softmax-28            [-1, 4, 17, 17]               0\n",
      "           Linear-29               [-1, 17, 64]           4,160\n",
      "        Attention-30               [-1, 17, 64]               0\n",
      "          Dropout-31               [-1, 17, 64]               0\n",
      "        LayerNorm-32               [-1, 17, 64]             128\n",
      "           Linear-33             [-1, 17, 2048]         133,120\n",
      "             GELU-34             [-1, 17, 2048]               0\n",
      "             GELU-35             [-1, 17, 2048]               0\n",
      "             GELU-36             [-1, 17, 2048]               0\n",
      "             GELU-37             [-1, 17, 2048]               0\n",
      "             GELU-38             [-1, 17, 2048]               0\n",
      "             GELU-39             [-1, 17, 2048]               0\n",
      "             GELU-40             [-1, 17, 2048]               0\n",
      "             GELU-41             [-1, 17, 2048]               0\n",
      "           Linear-42               [-1, 17, 64]         131,136\n",
      "          Dropout-43               [-1, 17, 64]               0\n",
      "              MLP-44               [-1, 17, 64]               0\n",
      "          Dropout-45               [-1, 17, 64]               0\n",
      "TransformerEncoderBlock-46               [-1, 17, 64]               0\n",
      "        LayerNorm-47               [-1, 17, 64]             128\n",
      "           Linear-48              [-1, 17, 192]          12,288\n",
      "          Softmax-49            [-1, 4, 17, 17]               0\n",
      "           Linear-50               [-1, 17, 64]           4,160\n",
      "        Attention-51               [-1, 17, 64]               0\n",
      "          Dropout-52               [-1, 17, 64]               0\n",
      "        LayerNorm-53               [-1, 17, 64]             128\n",
      "           Linear-54             [-1, 17, 2048]         133,120\n",
      "             GELU-55             [-1, 17, 2048]               0\n",
      "             GELU-56             [-1, 17, 2048]               0\n",
      "             GELU-57             [-1, 17, 2048]               0\n",
      "             GELU-58             [-1, 17, 2048]               0\n",
      "             GELU-59             [-1, 17, 2048]               0\n",
      "             GELU-60             [-1, 17, 2048]               0\n",
      "             GELU-61             [-1, 17, 2048]               0\n",
      "             GELU-62             [-1, 17, 2048]               0\n",
      "           Linear-63               [-1, 17, 64]         131,136\n",
      "          Dropout-64               [-1, 17, 64]               0\n",
      "              MLP-65               [-1, 17, 64]               0\n",
      "          Dropout-66               [-1, 17, 64]               0\n",
      "TransformerEncoderBlock-67               [-1, 17, 64]               0\n",
      "        LayerNorm-68               [-1, 17, 64]             128\n",
      "           Linear-69              [-1, 17, 192]          12,288\n",
      "          Softmax-70            [-1, 4, 17, 17]               0\n",
      "           Linear-71               [-1, 17, 64]           4,160\n",
      "        Attention-72               [-1, 17, 64]               0\n",
      "          Dropout-73               [-1, 17, 64]               0\n",
      "        LayerNorm-74               [-1, 17, 64]             128\n",
      "           Linear-75             [-1, 17, 2048]         133,120\n",
      "             GELU-76             [-1, 17, 2048]               0\n",
      "             GELU-77             [-1, 17, 2048]               0\n",
      "             GELU-78             [-1, 17, 2048]               0\n",
      "             GELU-79             [-1, 17, 2048]               0\n",
      "             GELU-80             [-1, 17, 2048]               0\n",
      "             GELU-81             [-1, 17, 2048]               0\n",
      "             GELU-82             [-1, 17, 2048]               0\n",
      "             GELU-83             [-1, 17, 2048]               0\n",
      "           Linear-84               [-1, 17, 64]         131,136\n",
      "          Dropout-85               [-1, 17, 64]               0\n",
      "              MLP-86               [-1, 17, 64]               0\n",
      "          Dropout-87               [-1, 17, 64]               0\n",
      "TransformerEncoderBlock-88               [-1, 17, 64]               0\n",
      "        LayerNorm-89               [-1, 17, 64]             128\n",
      "           Linear-90              [-1, 17, 192]          12,288\n",
      "          Softmax-91            [-1, 4, 17, 17]               0\n",
      "           Linear-92               [-1, 17, 64]           4,160\n",
      "        Attention-93               [-1, 17, 64]               0\n",
      "          Dropout-94               [-1, 17, 64]               0\n",
      "        LayerNorm-95               [-1, 17, 64]             128\n",
      "           Linear-96             [-1, 17, 2048]         133,120\n",
      "             GELU-97             [-1, 17, 2048]               0\n",
      "             GELU-98             [-1, 17, 2048]               0\n",
      "             GELU-99             [-1, 17, 2048]               0\n",
      "            GELU-100             [-1, 17, 2048]               0\n",
      "            GELU-101             [-1, 17, 2048]               0\n",
      "            GELU-102             [-1, 17, 2048]               0\n",
      "            GELU-103             [-1, 17, 2048]               0\n",
      "            GELU-104             [-1, 17, 2048]               0\n",
      "          Linear-105               [-1, 17, 64]         131,136\n",
      "         Dropout-106               [-1, 17, 64]               0\n",
      "             MLP-107               [-1, 17, 64]               0\n",
      "         Dropout-108               [-1, 17, 64]               0\n",
      "TransformerEncoderBlock-109               [-1, 17, 64]               0\n",
      "       LayerNorm-110               [-1, 17, 64]             128\n",
      "          Linear-111              [-1, 17, 192]          12,288\n",
      "         Softmax-112            [-1, 4, 17, 17]               0\n",
      "          Linear-113               [-1, 17, 64]           4,160\n",
      "       Attention-114               [-1, 17, 64]               0\n",
      "         Dropout-115               [-1, 17, 64]               0\n",
      "       LayerNorm-116               [-1, 17, 64]             128\n",
      "          Linear-117             [-1, 17, 2048]         133,120\n",
      "            GELU-118             [-1, 17, 2048]               0\n",
      "            GELU-119             [-1, 17, 2048]               0\n",
      "            GELU-120             [-1, 17, 2048]               0\n",
      "            GELU-121             [-1, 17, 2048]               0\n",
      "            GELU-122             [-1, 17, 2048]               0\n",
      "            GELU-123             [-1, 17, 2048]               0\n",
      "            GELU-124             [-1, 17, 2048]               0\n",
      "            GELU-125             [-1, 17, 2048]               0\n",
      "          Linear-126               [-1, 17, 64]         131,136\n",
      "         Dropout-127               [-1, 17, 64]               0\n",
      "             MLP-128               [-1, 17, 64]               0\n",
      "         Dropout-129               [-1, 17, 64]               0\n",
      "TransformerEncoderBlock-130               [-1, 17, 64]               0\n",
      "       LayerNorm-131               [-1, 17, 64]             128\n",
      "          Linear-132              [-1, 17, 192]          12,288\n",
      "         Softmax-133            [-1, 4, 17, 17]               0\n",
      "          Linear-134               [-1, 17, 64]           4,160\n",
      "       Attention-135               [-1, 17, 64]               0\n",
      "         Dropout-136               [-1, 17, 64]               0\n",
      "       LayerNorm-137               [-1, 17, 64]             128\n",
      "          Linear-138             [-1, 17, 2048]         133,120\n",
      "            GELU-139             [-1, 17, 2048]               0\n",
      "            GELU-140             [-1, 17, 2048]               0\n",
      "            GELU-141             [-1, 17, 2048]               0\n",
      "            GELU-142             [-1, 17, 2048]               0\n",
      "            GELU-143             [-1, 17, 2048]               0\n",
      "            GELU-144             [-1, 17, 2048]               0\n",
      "            GELU-145             [-1, 17, 2048]               0\n",
      "            GELU-146             [-1, 17, 2048]               0\n",
      "          Linear-147               [-1, 17, 64]         131,136\n",
      "         Dropout-148               [-1, 17, 64]               0\n",
      "             MLP-149               [-1, 17, 64]               0\n",
      "         Dropout-150               [-1, 17, 64]               0\n",
      "TransformerEncoderBlock-151               [-1, 17, 64]               0\n",
      "       LayerNorm-152               [-1, 17, 64]             128\n",
      "          Linear-153              [-1, 17, 192]          12,288\n",
      "         Softmax-154            [-1, 4, 17, 17]               0\n",
      "          Linear-155               [-1, 17, 64]           4,160\n",
      "       Attention-156               [-1, 17, 64]               0\n",
      "         Dropout-157               [-1, 17, 64]               0\n",
      "       LayerNorm-158               [-1, 17, 64]             128\n",
      "          Linear-159             [-1, 17, 2048]         133,120\n",
      "            GELU-160             [-1, 17, 2048]               0\n",
      "            GELU-161             [-1, 17, 2048]               0\n",
      "            GELU-162             [-1, 17, 2048]               0\n",
      "            GELU-163             [-1, 17, 2048]               0\n",
      "            GELU-164             [-1, 17, 2048]               0\n",
      "            GELU-165             [-1, 17, 2048]               0\n",
      "            GELU-166             [-1, 17, 2048]               0\n",
      "            GELU-167             [-1, 17, 2048]               0\n",
      "          Linear-168               [-1, 17, 64]         131,136\n",
      "         Dropout-169               [-1, 17, 64]               0\n",
      "             MLP-170               [-1, 17, 64]               0\n",
      "         Dropout-171               [-1, 17, 64]               0\n",
      "TransformerEncoderBlock-172               [-1, 17, 64]               0\n",
      "       LayerNorm-173               [-1, 17, 64]             128\n",
      "          Linear-174                 [-1, 2048]         133,120\n",
      "            ReLU-175                 [-1, 2048]               0\n",
      "         Dropout-176                 [-1, 2048]               0\n",
      "          Linear-177                 [-1, 1024]       2,098,176\n",
      "            ReLU-178                 [-1, 1024]               0\n",
      "         Dropout-179                 [-1, 1024]               0\n",
      "          Linear-180                  [-1, 100]         102,500\n",
      "================================================================\n",
      "Total params: 4,593,956\n",
      "Trainable params: 4,593,956\n",
      "Non-trainable params: 0\n",
      "----------------------------------------------------------------\n",
      "Input size (MB): 0.01\n",
      "Forward/backward pass size (MB): 20.17\n",
      "Params size (MB): 17.52\n",
      "Estimated Total Size (MB): 37.71\n",
      "----------------------------------------------------------------\n",
      "----------------------------------------------------------------\n",
      "        Layer (type)               Output Shape         Param #\n",
      "================================================================\n",
      "            Conv2d-1             [-1, 64, 4, 4]          12,352\n",
      "    PatchEmbedding-2               [-1, 16, 64]               0\n",
      "DynamicPositionEmbedding-3               [-1, 17, 64]               0\n",
      "           Dropout-4               [-1, 17, 64]               0\n",
      "         LayerNorm-5               [-1, 17, 64]             128\n",
      "            Linear-6              [-1, 17, 192]          12,288\n",
      "           Softmax-7            [-1, 4, 17, 17]               0\n",
      "            Linear-8               [-1, 17, 64]           4,160\n",
      "         Attention-9               [-1, 17, 64]               0\n",
      "          Dropout-10               [-1, 17, 64]               0\n",
      "        LayerNorm-11               [-1, 17, 64]             128\n",
      "           Linear-12             [-1, 17, 2048]         133,120\n",
      "             GELU-13             [-1, 17, 2048]               0\n",
      "             GELU-14             [-1, 17, 2048]               0\n",
      "             GELU-15             [-1, 17, 2048]               0\n",
      "             GELU-16             [-1, 17, 2048]               0\n",
      "             GELU-17             [-1, 17, 2048]               0\n",
      "             GELU-18             [-1, 17, 2048]               0\n",
      "             GELU-19             [-1, 17, 2048]               0\n",
      "             GELU-20             [-1, 17, 2048]               0\n",
      "           Linear-21               [-1, 17, 64]         131,136\n",
      "          Dropout-22               [-1, 17, 64]               0\n",
      "              MLP-23               [-1, 17, 64]               0\n",
      "          Dropout-24               [-1, 17, 64]               0\n",
      "TransformerEncoderBlock-25               [-1, 17, 64]               0\n",
      "        LayerNorm-26               [-1, 17, 64]             128\n",
      "           Linear-27              [-1, 17, 192]          12,288\n",
      "          Softmax-28            [-1, 4, 17, 17]               0\n",
      "           Linear-29               [-1, 17, 64]           4,160\n",
      "        Attention-30               [-1, 17, 64]               0\n",
      "          Dropout-31               [-1, 17, 64]               0\n",
      "        LayerNorm-32               [-1, 17, 64]             128\n",
      "           Linear-33             [-1, 17, 2048]         133,120\n",
      "             GELU-34             [-1, 17, 2048]               0\n",
      "             GELU-35             [-1, 17, 2048]               0\n",
      "             GELU-36             [-1, 17, 2048]               0\n",
      "             GELU-37             [-1, 17, 2048]               0\n",
      "             GELU-38             [-1, 17, 2048]               0\n",
      "             GELU-39             [-1, 17, 2048]               0\n",
      "             GELU-40             [-1, 17, 2048]               0\n",
      "             GELU-41             [-1, 17, 2048]               0\n",
      "           Linear-42               [-1, 17, 64]         131,136\n",
      "          Dropout-43               [-1, 17, 64]               0\n",
      "              MLP-44               [-1, 17, 64]               0\n",
      "          Dropout-45               [-1, 17, 64]               0\n",
      "TransformerEncoderBlock-46               [-1, 17, 64]               0\n",
      "        LayerNorm-47               [-1, 17, 64]             128\n",
      "           Linear-48              [-1, 17, 192]          12,288\n",
      "          Softmax-49            [-1, 4, 17, 17]               0\n",
      "           Linear-50               [-1, 17, 64]           4,160\n",
      "        Attention-51               [-1, 17, 64]               0\n",
      "          Dropout-52               [-1, 17, 64]               0\n",
      "        LayerNorm-53               [-1, 17, 64]             128\n",
      "           Linear-54             [-1, 17, 2048]         133,120\n",
      "             GELU-55             [-1, 17, 2048]               0\n",
      "             GELU-56             [-1, 17, 2048]               0\n",
      "             GELU-57             [-1, 17, 2048]               0\n",
      "             GELU-58             [-1, 17, 2048]               0\n",
      "             GELU-59             [-1, 17, 2048]               0\n",
      "             GELU-60             [-1, 17, 2048]               0\n",
      "             GELU-61             [-1, 17, 2048]               0\n",
      "             GELU-62             [-1, 17, 2048]               0\n",
      "           Linear-63               [-1, 17, 64]         131,136\n",
      "          Dropout-64               [-1, 17, 64]               0\n",
      "              MLP-65               [-1, 17, 64]               0\n",
      "          Dropout-66               [-1, 17, 64]               0\n",
      "TransformerEncoderBlock-67               [-1, 17, 64]               0\n",
      "        LayerNorm-68               [-1, 17, 64]             128\n",
      "           Linear-69              [-1, 17, 192]          12,288\n",
      "          Softmax-70            [-1, 4, 17, 17]               0\n",
      "           Linear-71               [-1, 17, 64]           4,160\n",
      "        Attention-72               [-1, 17, 64]               0\n",
      "          Dropout-73               [-1, 17, 64]               0\n",
      "        LayerNorm-74               [-1, 17, 64]             128\n",
      "           Linear-75             [-1, 17, 2048]         133,120\n",
      "             GELU-76             [-1, 17, 2048]               0\n",
      "             GELU-77             [-1, 17, 2048]               0\n",
      "             GELU-78             [-1, 17, 2048]               0\n",
      "             GELU-79             [-1, 17, 2048]               0\n",
      "             GELU-80             [-1, 17, 2048]               0\n",
      "             GELU-81             [-1, 17, 2048]               0\n",
      "             GELU-82             [-1, 17, 2048]               0\n",
      "             GELU-83             [-1, 17, 2048]               0\n",
      "           Linear-84               [-1, 17, 64]         131,136\n",
      "          Dropout-85               [-1, 17, 64]               0\n",
      "              MLP-86               [-1, 17, 64]               0\n",
      "          Dropout-87               [-1, 17, 64]               0\n",
      "TransformerEncoderBlock-88               [-1, 17, 64]               0\n",
      "        LayerNorm-89               [-1, 17, 64]             128\n",
      "           Linear-90              [-1, 17, 192]          12,288\n",
      "          Softmax-91            [-1, 4, 17, 17]               0\n",
      "           Linear-92               [-1, 17, 64]           4,160\n",
      "        Attention-93               [-1, 17, 64]               0\n",
      "          Dropout-94               [-1, 17, 64]               0\n",
      "        LayerNorm-95               [-1, 17, 64]             128\n",
      "           Linear-96             [-1, 17, 2048]         133,120\n",
      "             GELU-97             [-1, 17, 2048]               0\n",
      "             GELU-98             [-1, 17, 2048]               0\n",
      "             GELU-99             [-1, 17, 2048]               0\n",
      "            GELU-100             [-1, 17, 2048]               0\n",
      "            GELU-101             [-1, 17, 2048]               0\n",
      "            GELU-102             [-1, 17, 2048]               0\n",
      "            GELU-103             [-1, 17, 2048]               0\n",
      "            GELU-104             [-1, 17, 2048]               0\n",
      "          Linear-105               [-1, 17, 64]         131,136\n",
      "         Dropout-106               [-1, 17, 64]               0\n",
      "             MLP-107               [-1, 17, 64]               0\n",
      "         Dropout-108               [-1, 17, 64]               0\n",
      "TransformerEncoderBlock-109               [-1, 17, 64]               0\n",
      "       LayerNorm-110               [-1, 17, 64]             128\n",
      "          Linear-111              [-1, 17, 192]          12,288\n",
      "         Softmax-112            [-1, 4, 17, 17]               0\n",
      "          Linear-113               [-1, 17, 64]           4,160\n",
      "       Attention-114               [-1, 17, 64]               0\n",
      "         Dropout-115               [-1, 17, 64]               0\n",
      "       LayerNorm-116               [-1, 17, 64]             128\n",
      "          Linear-117             [-1, 17, 2048]         133,120\n",
      "            GELU-118             [-1, 17, 2048]               0\n",
      "            GELU-119             [-1, 17, 2048]               0\n",
      "            GELU-120             [-1, 17, 2048]               0\n",
      "            GELU-121             [-1, 17, 2048]               0\n",
      "            GELU-122             [-1, 17, 2048]               0\n",
      "            GELU-123             [-1, 17, 2048]               0\n",
      "            GELU-124             [-1, 17, 2048]               0\n",
      "            GELU-125             [-1, 17, 2048]               0\n",
      "          Linear-126               [-1, 17, 64]         131,136\n",
      "         Dropout-127               [-1, 17, 64]               0\n",
      "             MLP-128               [-1, 17, 64]               0\n",
      "         Dropout-129               [-1, 17, 64]               0\n",
      "TransformerEncoderBlock-130               [-1, 17, 64]               0\n",
      "       LayerNorm-131               [-1, 17, 64]             128\n",
      "          Linear-132              [-1, 17, 192]          12,288\n",
      "         Softmax-133            [-1, 4, 17, 17]               0\n",
      "          Linear-134               [-1, 17, 64]           4,160\n",
      "       Attention-135               [-1, 17, 64]               0\n",
      "         Dropout-136               [-1, 17, 64]               0\n",
      "       LayerNorm-137               [-1, 17, 64]             128\n",
      "          Linear-138             [-1, 17, 2048]         133,120\n",
      "            GELU-139             [-1, 17, 2048]               0\n",
      "            GELU-140             [-1, 17, 2048]               0\n",
      "            GELU-141             [-1, 17, 2048]               0\n",
      "            GELU-142             [-1, 17, 2048]               0\n",
      "            GELU-143             [-1, 17, 2048]               0\n",
      "            GELU-144             [-1, 17, 2048]               0\n",
      "            GELU-145             [-1, 17, 2048]               0\n",
      "            GELU-146             [-1, 17, 2048]               0\n",
      "          Linear-147               [-1, 17, 64]         131,136\n",
      "         Dropout-148               [-1, 17, 64]               0\n",
      "             MLP-149               [-1, 17, 64]               0\n",
      "         Dropout-150               [-1, 17, 64]               0\n",
      "TransformerEncoderBlock-151               [-1, 17, 64]               0\n",
      "       LayerNorm-152               [-1, 17, 64]             128\n",
      "          Linear-153              [-1, 17, 192]          12,288\n",
      "         Softmax-154            [-1, 4, 17, 17]               0\n",
      "          Linear-155               [-1, 17, 64]           4,160\n",
      "       Attention-156               [-1, 17, 64]               0\n",
      "         Dropout-157               [-1, 17, 64]               0\n",
      "       LayerNorm-158               [-1, 17, 64]             128\n",
      "          Linear-159             [-1, 17, 2048]         133,120\n",
      "            GELU-160             [-1, 17, 2048]               0\n",
      "            GELU-161             [-1, 17, 2048]               0\n",
      "            GELU-162             [-1, 17, 2048]               0\n",
      "            GELU-163             [-1, 17, 2048]               0\n",
      "            GELU-164             [-1, 17, 2048]               0\n",
      "            GELU-165             [-1, 17, 2048]               0\n",
      "            GELU-166             [-1, 17, 2048]               0\n",
      "            GELU-167             [-1, 17, 2048]               0\n",
      "          Linear-168               [-1, 17, 64]         131,136\n",
      "         Dropout-169               [-1, 17, 64]               0\n",
      "             MLP-170               [-1, 17, 64]               0\n",
      "         Dropout-171               [-1, 17, 64]               0\n",
      "TransformerEncoderBlock-172               [-1, 17, 64]               0\n",
      "       LayerNorm-173               [-1, 17, 64]             128\n",
      "          Linear-174                 [-1, 2048]         133,120\n",
      "            ReLU-175                 [-1, 2048]               0\n",
      "         Dropout-176                 [-1, 2048]               0\n",
      "          Linear-177                 [-1, 1024]       2,098,176\n",
      "            ReLU-178                 [-1, 1024]               0\n",
      "         Dropout-179                 [-1, 1024]               0\n",
      "          Linear-180                  [-1, 100]         102,500\n",
      "================================================================\n",
      "Total params: 4,593,956\n",
      "Trainable params: 4,593,956\n",
      "Non-trainable params: 0\n",
      "----------------------------------------------------------------\n",
      "Input size (MB): 0.01\n",
      "Forward/backward pass size (MB): 20.17\n",
      "Params size (MB): 17.52\n",
      "Estimated Total Size (MB): 37.71\n",
      "----------------------------------------------------------------\n"
     ]
    }
   ],
   "source": [
    "# Initialize models\n",
    "teacher = VisionTransformerDPE(\n",
    "    image_size=image_size,\n",
    "    patch_size=patch_size,\n",
    "    in_channels=in_channels,\n",
    "    embed_dim=projection_dim,\n",
    "    depth=transformer_layers,\n",
    "    heads=num_heads,\n",
    "    mlp_dim=mlp_head_units[0],\n",
    "    dropout=dropout,\n",
    "    num_classes=num_classes, \n",
    ")\n",
    "\n",
    "half_image_size = 0.5*image_size\n",
    "\n",
    "student = VisionTransformerDPE(\n",
    "    image_size=image_size,\n",
    "    patch_size=patch_size,\n",
    "    in_channels=in_channels,\n",
    "    embed_dim=projection_dim,\n",
    "    depth=transformer_layers,\n",
    "    heads=num_heads,\n",
    "    mlp_dim=mlp_head_units[0],\n",
    "    dropout=dropout,\n",
    "    num_classes=num_classes,\n",
    ")\n",
    "\n",
    "# Define loss function and optimizer\n",
    "criterion = nn.CrossEntropyLoss()\n",
    "optimizer = optim.Adam(student.parameters(), lr=learning_rate, weight_decay=weight_decay)\n",
    "\n",
    "scheduler = ReduceLROnPlateau(optimizer, 'min', patience=patience_value, factor=0.5, verbose=True)\n",
    "\n",
    "# Print model summary\n",
    "summary(teacher.cpu(), input_size=(in_channels, image_size, image_size))\n",
    "\n",
    "# Print model summary\n",
    "summary(student.cpu(), input_size=(in_channels, image_size, image_size))\n",
    "\n",
    "# Send models to device\n",
    "teacher = teacher.to(device)\n",
    "student = student.to(device)\n",
    "\n",
    "# The teacher starts off with the same weights as the student\n",
    "teacher.load_state_dict(student.state_dict())\n",
    "\n",
    "# Initialize the EMA updater for the teacher model\n",
    "ema_updater = EMA(student, ema_decay, self_supervised_epochs, optimizer)"
   ]
  },
  {
   "cell_type": "code",
   "execution_count": 31,
   "metadata": {},
   "outputs": [
    {
     "name": "stderr",
     "output_type": "stream",
     "text": [
      "Training: 100%|██████████| 118/118 [01:41<00:00,  1.17it/s]\n"
     ]
    },
    {
     "name": "stdout",
     "output_type": "stream",
     "text": [
      "Epoch [1/20] - Training Loss: 9.1250\n"
     ]
    },
    {
     "name": "stderr",
     "output_type": "stream",
     "text": [
      "Validation: 100%|██████████| 30/30 [00:13<00:00,  2.28it/s]\n"
     ]
    },
    {
     "name": "stdout",
     "output_type": "stream",
     "text": [
      "Validation Loss after Epoch [1/20]: 10.1423\n",
      "Saved improved model with validation loss 10.1423\n"
     ]
    },
    {
     "name": "stderr",
     "output_type": "stream",
     "text": [
      "Training: 100%|██████████| 118/118 [01:40<00:00,  1.17it/s]\n"
     ]
    },
    {
     "name": "stdout",
     "output_type": "stream",
     "text": [
      "Epoch [2/20] - Training Loss: 9.1209\n"
     ]
    },
    {
     "name": "stderr",
     "output_type": "stream",
     "text": [
      "Validation: 100%|██████████| 30/30 [00:13<00:00,  2.30it/s]\n"
     ]
    },
    {
     "name": "stdout",
     "output_type": "stream",
     "text": [
      "Validation Loss after Epoch [2/20]: 8.4902\n",
      "Saved improved model with validation loss 8.4902\n"
     ]
    },
    {
     "name": "stderr",
     "output_type": "stream",
     "text": [
      "Training: 100%|██████████| 118/118 [07:12<00:00,  3.67s/it]  \n"
     ]
    },
    {
     "name": "stdout",
     "output_type": "stream",
     "text": [
      "Epoch [3/20] - Training Loss: 9.1196\n"
     ]
    },
    {
     "name": "stderr",
     "output_type": "stream",
     "text": [
      "Validation: 100%|██████████| 30/30 [00:12<00:00,  2.37it/s]\n"
     ]
    },
    {
     "name": "stdout",
     "output_type": "stream",
     "text": [
      "Validation Loss after Epoch [3/20]: 4.7075\n",
      "Saved improved model with validation loss 4.7075\n"
     ]
    },
    {
     "name": "stderr",
     "output_type": "stream",
     "text": [
      "Training: 100%|██████████| 118/118 [22:47<00:00, 11.59s/it]   \n"
     ]
    },
    {
     "name": "stdout",
     "output_type": "stream",
     "text": [
      "Epoch [4/20] - Training Loss: 9.1183\n"
     ]
    },
    {
     "name": "stderr",
     "output_type": "stream",
     "text": [
      "Validation: 100%|██████████| 30/30 [00:12<00:00,  2.32it/s]\n"
     ]
    },
    {
     "name": "stdout",
     "output_type": "stream",
     "text": [
      "Validation Loss after Epoch [4/20]: 4.6857\n",
      "Saved improved model with validation loss 4.6857\n"
     ]
    },
    {
     "name": "stderr",
     "output_type": "stream",
     "text": [
      "Training: 100%|██████████| 118/118 [01:36<00:00,  1.22it/s]\n"
     ]
    },
    {
     "name": "stdout",
     "output_type": "stream",
     "text": [
      "Epoch [5/20] - Training Loss: 9.1181\n"
     ]
    },
    {
     "name": "stderr",
     "output_type": "stream",
     "text": [
      "Validation: 100%|██████████| 30/30 [00:13<00:00,  2.26it/s]\n"
     ]
    },
    {
     "name": "stdout",
     "output_type": "stream",
     "text": [
      "Validation Loss after Epoch [5/20]: 4.6290\n",
      "Saved improved model with validation loss 4.6290\n"
     ]
    },
    {
     "name": "stderr",
     "output_type": "stream",
     "text": [
      "Training: 100%|██████████| 118/118 [01:37<00:00,  1.21it/s]\n"
     ]
    },
    {
     "name": "stdout",
     "output_type": "stream",
     "text": [
      "Epoch [6/20] - Training Loss: 9.1177\n"
     ]
    },
    {
     "name": "stderr",
     "output_type": "stream",
     "text": [
      "Validation: 100%|██████████| 30/30 [00:12<00:00,  2.35it/s]\n"
     ]
    },
    {
     "name": "stdout",
     "output_type": "stream",
     "text": [
      "Validation Loss after Epoch [6/20]: 4.6446\n"
     ]
    },
    {
     "name": "stderr",
     "output_type": "stream",
     "text": [
      "Training: 100%|██████████| 118/118 [01:36<00:00,  1.22it/s]\n"
     ]
    },
    {
     "name": "stdout",
     "output_type": "stream",
     "text": [
      "Epoch [7/20] - Training Loss: 9.1175\n"
     ]
    },
    {
     "name": "stderr",
     "output_type": "stream",
     "text": [
      "Validation: 100%|██████████| 30/30 [00:12<00:00,  2.31it/s]\n"
     ]
    },
    {
     "name": "stdout",
     "output_type": "stream",
     "text": [
      "Validation Loss after Epoch [7/20]: 4.6618\n"
     ]
    },
    {
     "name": "stderr",
     "output_type": "stream",
     "text": [
      "Training: 100%|██████████| 118/118 [01:36<00:00,  1.22it/s]\n"
     ]
    },
    {
     "name": "stdout",
     "output_type": "stream",
     "text": [
      "Epoch [8/20] - Training Loss: 9.1175\n"
     ]
    },
    {
     "name": "stderr",
     "output_type": "stream",
     "text": [
      "Validation: 100%|██████████| 30/30 [00:12<00:00,  2.32it/s]\n"
     ]
    },
    {
     "name": "stdout",
     "output_type": "stream",
     "text": [
      "Validation Loss after Epoch [8/20]: 4.6286\n",
      "Saved improved model with validation loss 4.6286\n"
     ]
    },
    {
     "name": "stderr",
     "output_type": "stream",
     "text": [
      "Training: 100%|██████████| 118/118 [01:36<00:00,  1.22it/s]\n"
     ]
    },
    {
     "name": "stdout",
     "output_type": "stream",
     "text": [
      "Epoch [9/20] - Training Loss: 9.1171\n"
     ]
    },
    {
     "name": "stderr",
     "output_type": "stream",
     "text": [
      "Validation: 100%|██████████| 30/30 [00:12<00:00,  2.32it/s]\n"
     ]
    },
    {
     "name": "stdout",
     "output_type": "stream",
     "text": [
      "Validation Loss after Epoch [9/20]: 4.6327\n"
     ]
    },
    {
     "name": "stderr",
     "output_type": "stream",
     "text": [
      "Training: 100%|██████████| 118/118 [01:36<00:00,  1.22it/s]\n"
     ]
    },
    {
     "name": "stdout",
     "output_type": "stream",
     "text": [
      "Epoch [10/20] - Training Loss: 9.1176\n"
     ]
    },
    {
     "name": "stderr",
     "output_type": "stream",
     "text": [
      "Validation: 100%|██████████| 30/30 [00:13<00:00,  2.30it/s]\n"
     ]
    },
    {
     "name": "stdout",
     "output_type": "stream",
     "text": [
      "Validation Loss after Epoch [10/20]: 4.6322\n"
     ]
    },
    {
     "name": "stderr",
     "output_type": "stream",
     "text": [
      "Training: 100%|██████████| 118/118 [01:36<00:00,  1.22it/s]\n"
     ]
    },
    {
     "name": "stdout",
     "output_type": "stream",
     "text": [
      "Epoch [11/20] - Training Loss: 9.1175\n"
     ]
    },
    {
     "name": "stderr",
     "output_type": "stream",
     "text": [
      "Validation: 100%|██████████| 30/30 [00:12<00:00,  2.33it/s]\n"
     ]
    },
    {
     "name": "stdout",
     "output_type": "stream",
     "text": [
      "Validation Loss after Epoch [11/20]: 4.6536\n"
     ]
    },
    {
     "name": "stderr",
     "output_type": "stream",
     "text": [
      "Training: 100%|██████████| 118/118 [01:36<00:00,  1.22it/s]\n"
     ]
    },
    {
     "name": "stdout",
     "output_type": "stream",
     "text": [
      "Epoch [12/20] - Training Loss: 9.1171\n"
     ]
    },
    {
     "name": "stderr",
     "output_type": "stream",
     "text": [
      "Validation: 100%|██████████| 30/30 [00:13<00:00,  2.18it/s]\n"
     ]
    },
    {
     "name": "stdout",
     "output_type": "stream",
     "text": [
      "Validation Loss after Epoch [12/20]: 4.6317\n"
     ]
    },
    {
     "name": "stderr",
     "output_type": "stream",
     "text": [
      "Training: 100%|██████████| 118/118 [01:36<00:00,  1.22it/s]\n"
     ]
    },
    {
     "name": "stdout",
     "output_type": "stream",
     "text": [
      "Epoch [13/20] - Training Loss: 9.1166\n"
     ]
    },
    {
     "name": "stderr",
     "output_type": "stream",
     "text": [
      "Validation: 100%|██████████| 30/30 [00:12<00:00,  2.34it/s]\n"
     ]
    },
    {
     "name": "stdout",
     "output_type": "stream",
     "text": [
      "Validation Loss after Epoch [13/20]: 4.6539\n"
     ]
    },
    {
     "name": "stderr",
     "output_type": "stream",
     "text": [
      "Training: 100%|██████████| 118/118 [01:36<00:00,  1.22it/s]\n"
     ]
    },
    {
     "name": "stdout",
     "output_type": "stream",
     "text": [
      "Epoch [14/20] - Training Loss: 9.1169\n"
     ]
    },
    {
     "name": "stderr",
     "output_type": "stream",
     "text": [
      "Validation: 100%|██████████| 30/30 [00:12<00:00,  2.34it/s]\n"
     ]
    },
    {
     "name": "stdout",
     "output_type": "stream",
     "text": [
      "Validation Loss after Epoch [14/20]: 4.6491\n"
     ]
    },
    {
     "name": "stderr",
     "output_type": "stream",
     "text": [
      "Training: 100%|██████████| 118/118 [01:36<00:00,  1.22it/s]\n"
     ]
    },
    {
     "name": "stdout",
     "output_type": "stream",
     "text": [
      "Epoch [15/20] - Training Loss: 9.1166\n"
     ]
    },
    {
     "name": "stderr",
     "output_type": "stream",
     "text": [
      "Validation: 100%|██████████| 30/30 [00:12<00:00,  2.33it/s]\n"
     ]
    },
    {
     "name": "stdout",
     "output_type": "stream",
     "text": [
      "Validation Loss after Epoch [15/20]: 4.6464\n"
     ]
    },
    {
     "name": "stderr",
     "output_type": "stream",
     "text": [
      "Training: 100%|██████████| 118/118 [01:36<00:00,  1.22it/s]\n"
     ]
    },
    {
     "name": "stdout",
     "output_type": "stream",
     "text": [
      "Epoch [16/20] - Training Loss: 9.1170\n"
     ]
    },
    {
     "name": "stderr",
     "output_type": "stream",
     "text": [
      "Validation: 100%|██████████| 30/30 [00:12<00:00,  2.35it/s]\n"
     ]
    },
    {
     "name": "stdout",
     "output_type": "stream",
     "text": [
      "Validation Loss after Epoch [16/20]: 4.6381\n"
     ]
    },
    {
     "name": "stderr",
     "output_type": "stream",
     "text": [
      "Training: 100%|██████████| 118/118 [01:36<00:00,  1.22it/s]\n"
     ]
    },
    {
     "name": "stdout",
     "output_type": "stream",
     "text": [
      "Epoch [17/20] - Training Loss: 9.1169\n"
     ]
    },
    {
     "name": "stderr",
     "output_type": "stream",
     "text": [
      "Validation: 100%|██████████| 30/30 [00:12<00:00,  2.32it/s]\n"
     ]
    },
    {
     "name": "stdout",
     "output_type": "stream",
     "text": [
      "Validation Loss after Epoch [17/20]: 4.6620\n"
     ]
    },
    {
     "name": "stderr",
     "output_type": "stream",
     "text": [
      "Training: 100%|██████████| 118/118 [01:38<00:00,  1.20it/s]\n"
     ]
    },
    {
     "name": "stdout",
     "output_type": "stream",
     "text": [
      "Epoch [18/20] - Training Loss: 9.1168\n"
     ]
    },
    {
     "name": "stderr",
     "output_type": "stream",
     "text": [
      "Validation: 100%|██████████| 30/30 [00:13<00:00,  2.25it/s]\n"
     ]
    },
    {
     "name": "stdout",
     "output_type": "stream",
     "text": [
      "Validation Loss after Epoch [18/20]: 4.6315\n"
     ]
    },
    {
     "name": "stderr",
     "output_type": "stream",
     "text": [
      "Training: 100%|██████████| 118/118 [01:39<00:00,  1.18it/s]\n"
     ]
    },
    {
     "name": "stdout",
     "output_type": "stream",
     "text": [
      "Epoch [19/20] - Training Loss: 9.1168\n"
     ]
    },
    {
     "name": "stderr",
     "output_type": "stream",
     "text": [
      "Validation: 100%|██████████| 30/30 [00:13<00:00,  2.29it/s]\n"
     ]
    },
    {
     "name": "stdout",
     "output_type": "stream",
     "text": [
      "Validation Loss after Epoch [19/20]: 4.6376\n"
     ]
    },
    {
     "name": "stderr",
     "output_type": "stream",
     "text": [
      "Training: 100%|██████████| 118/118 [01:39<00:00,  1.18it/s]\n"
     ]
    },
    {
     "name": "stdout",
     "output_type": "stream",
     "text": [
      "Epoch [20/20] - Training Loss: 9.1171\n"
     ]
    },
    {
     "name": "stderr",
     "output_type": "stream",
     "text": [
      "Validation: 100%|██████████| 30/30 [00:13<00:00,  2.27it/s]"
     ]
    },
    {
     "name": "stdout",
     "output_type": "stream",
     "text": [
      "Validation Loss after Epoch [20/20]: 4.6526\n",
      "Total training time: 63.64 minutes\n",
      "Self-supervised training complete!\n"
     ]
    },
    {
     "name": "stderr",
     "output_type": "stream",
     "text": [
      "\n"
     ]
    }
   ],
   "source": [
    "# Call the self_supervised_training function to start the self-supervised phase\n",
    "self_supervised_training(student, teacher, optimizer, ema_updater, self_supervised_epochs, \n",
    "                         train_loader, val_loader, scheduler, device, criterion)"
   ]
  },
  {
   "cell_type": "code",
   "execution_count": 32,
   "metadata": {},
   "outputs": [
    {
     "name": "stderr",
     "output_type": "stream",
     "text": [
      "Training: 100%|██████████| 118/118 [00:32<00:00,  3.68it/s]\n"
     ]
    },
    {
     "name": "stdout",
     "output_type": "stream",
     "text": [
      "Epoch [1/20] - Loss: 4.6015, Accuracy: 1.13%\n"
     ]
    },
    {
     "name": "stderr",
     "output_type": "stream",
     "text": [
      "Validation: 100%|██████████| 30/30 [00:13<00:00,  2.24it/s]\n"
     ]
    },
    {
     "name": "stdout",
     "output_type": "stream",
     "text": [
      "Validation Loss after Epoch [1/20]: 4.5864\n"
     ]
    },
    {
     "name": "stderr",
     "output_type": "stream",
     "text": [
      "Training: 100%|██████████| 118/118 [00:30<00:00,  3.83it/s]\n"
     ]
    },
    {
     "name": "stdout",
     "output_type": "stream",
     "text": [
      "Epoch [2/20] - Loss: 4.5806, Accuracy: 1.52%\n"
     ]
    },
    {
     "name": "stderr",
     "output_type": "stream",
     "text": [
      "Validation: 100%|██████████| 30/30 [00:12<00:00,  2.36it/s]\n"
     ]
    },
    {
     "name": "stdout",
     "output_type": "stream",
     "text": [
      "Validation Loss after Epoch [2/20]: 4.5709\n"
     ]
    },
    {
     "name": "stderr",
     "output_type": "stream",
     "text": [
      "Training: 100%|██████████| 118/118 [00:31<00:00,  3.80it/s]\n"
     ]
    },
    {
     "name": "stdout",
     "output_type": "stream",
     "text": [
      "Epoch [3/20] - Loss: 4.5600, Accuracy: 1.73%\n"
     ]
    },
    {
     "name": "stderr",
     "output_type": "stream",
     "text": [
      "Validation: 100%|██████████| 30/30 [00:12<00:00,  2.36it/s]\n"
     ]
    },
    {
     "name": "stdout",
     "output_type": "stream",
     "text": [
      "Validation Loss after Epoch [3/20]: 4.5562\n"
     ]
    },
    {
     "name": "stderr",
     "output_type": "stream",
     "text": [
      "Training: 100%|██████████| 118/118 [00:31<00:00,  3.81it/s]\n"
     ]
    },
    {
     "name": "stdout",
     "output_type": "stream",
     "text": [
      "Epoch [4/20] - Loss: 4.5399, Accuracy: 1.98%\n"
     ]
    },
    {
     "name": "stderr",
     "output_type": "stream",
     "text": [
      "Validation: 100%|██████████| 30/30 [00:12<00:00,  2.34it/s]\n"
     ]
    },
    {
     "name": "stdout",
     "output_type": "stream",
     "text": [
      "Validation Loss after Epoch [4/20]: 4.5380\n"
     ]
    },
    {
     "name": "stderr",
     "output_type": "stream",
     "text": [
      "Training: 100%|██████████| 118/118 [00:31<00:00,  3.77it/s]\n"
     ]
    },
    {
     "name": "stdout",
     "output_type": "stream",
     "text": [
      "Epoch [5/20] - Loss: 4.5239, Accuracy: 2.12%\n"
     ]
    },
    {
     "name": "stderr",
     "output_type": "stream",
     "text": [
      "Validation: 100%|██████████| 30/30 [00:13<00:00,  2.29it/s]\n"
     ]
    },
    {
     "name": "stdout",
     "output_type": "stream",
     "text": [
      "Validation Loss after Epoch [5/20]: 4.5298\n"
     ]
    },
    {
     "name": "stderr",
     "output_type": "stream",
     "text": [
      "Training: 100%|██████████| 118/118 [00:31<00:00,  3.80it/s]\n"
     ]
    },
    {
     "name": "stdout",
     "output_type": "stream",
     "text": [
      "Epoch [6/20] - Loss: 4.5155, Accuracy: 2.25%\n"
     ]
    },
    {
     "name": "stderr",
     "output_type": "stream",
     "text": [
      "Validation: 100%|██████████| 30/30 [00:12<00:00,  2.35it/s]\n"
     ]
    },
    {
     "name": "stdout",
     "output_type": "stream",
     "text": [
      "Validation Loss after Epoch [6/20]: 4.5333\n"
     ]
    },
    {
     "name": "stderr",
     "output_type": "stream",
     "text": [
      "Training: 100%|██████████| 118/118 [00:31<00:00,  3.80it/s]\n"
     ]
    },
    {
     "name": "stdout",
     "output_type": "stream",
     "text": [
      "Epoch [7/20] - Loss: 4.5047, Accuracy: 2.40%\n"
     ]
    },
    {
     "name": "stderr",
     "output_type": "stream",
     "text": [
      "Validation: 100%|██████████| 30/30 [00:12<00:00,  2.31it/s]\n"
     ]
    },
    {
     "name": "stdout",
     "output_type": "stream",
     "text": [
      "Validation Loss after Epoch [7/20]: 4.5169\n"
     ]
    },
    {
     "name": "stderr",
     "output_type": "stream",
     "text": [
      "Training: 100%|██████████| 118/118 [00:31<00:00,  3.80it/s]\n"
     ]
    },
    {
     "name": "stdout",
     "output_type": "stream",
     "text": [
      "Epoch [8/20] - Loss: 4.4958, Accuracy: 2.66%\n"
     ]
    },
    {
     "name": "stderr",
     "output_type": "stream",
     "text": [
      "Validation: 100%|██████████| 30/30 [00:12<00:00,  2.34it/s]\n"
     ]
    },
    {
     "name": "stdout",
     "output_type": "stream",
     "text": [
      "Validation Loss after Epoch [8/20]: 4.5021\n"
     ]
    },
    {
     "name": "stderr",
     "output_type": "stream",
     "text": [
      "Training: 100%|██████████| 118/118 [00:30<00:00,  3.82it/s]\n"
     ]
    },
    {
     "name": "stdout",
     "output_type": "stream",
     "text": [
      "Epoch [9/20] - Loss: 4.4823, Accuracy: 2.90%\n"
     ]
    },
    {
     "name": "stderr",
     "output_type": "stream",
     "text": [
      "Validation: 100%|██████████| 30/30 [00:12<00:00,  2.40it/s]\n"
     ]
    },
    {
     "name": "stdout",
     "output_type": "stream",
     "text": [
      "Validation Loss after Epoch [9/20]: 4.5014\n"
     ]
    },
    {
     "name": "stderr",
     "output_type": "stream",
     "text": [
      "Training: 100%|██████████| 118/118 [00:30<00:00,  3.91it/s]\n"
     ]
    },
    {
     "name": "stdout",
     "output_type": "stream",
     "text": [
      "Epoch [10/20] - Loss: 4.4746, Accuracy: 2.99%\n"
     ]
    },
    {
     "name": "stderr",
     "output_type": "stream",
     "text": [
      "Validation: 100%|██████████| 30/30 [00:12<00:00,  2.36it/s]\n"
     ]
    },
    {
     "name": "stdout",
     "output_type": "stream",
     "text": [
      "Validation Loss after Epoch [10/20]: 4.4965\n"
     ]
    },
    {
     "name": "stderr",
     "output_type": "stream",
     "text": [
      "Training: 100%|██████████| 118/118 [02:07<00:00,  1.08s/it]\n"
     ]
    },
    {
     "name": "stdout",
     "output_type": "stream",
     "text": [
      "Epoch [11/20] - Loss: 4.4674, Accuracy: 3.04%\n"
     ]
    },
    {
     "name": "stderr",
     "output_type": "stream",
     "text": [
      "Validation: 100%|██████████| 30/30 [00:12<00:00,  2.31it/s]\n"
     ]
    },
    {
     "name": "stdout",
     "output_type": "stream",
     "text": [
      "Validation Loss after Epoch [11/20]: 4.4843\n"
     ]
    },
    {
     "name": "stderr",
     "output_type": "stream",
     "text": [
      "Training: 100%|██████████| 118/118 [00:30<00:00,  3.82it/s]\n"
     ]
    },
    {
     "name": "stdout",
     "output_type": "stream",
     "text": [
      "Epoch [12/20] - Loss: 4.4581, Accuracy: 3.13%\n"
     ]
    },
    {
     "name": "stderr",
     "output_type": "stream",
     "text": [
      "Validation: 100%|██████████| 30/30 [00:13<00:00,  2.30it/s]\n"
     ]
    },
    {
     "name": "stdout",
     "output_type": "stream",
     "text": [
      "Validation Loss after Epoch [12/20]: 4.4847\n"
     ]
    },
    {
     "name": "stderr",
     "output_type": "stream",
     "text": [
      "Training: 100%|██████████| 118/118 [00:31<00:00,  3.79it/s]\n"
     ]
    },
    {
     "name": "stdout",
     "output_type": "stream",
     "text": [
      "Epoch [13/20] - Loss: 4.4521, Accuracy: 3.26%\n"
     ]
    },
    {
     "name": "stderr",
     "output_type": "stream",
     "text": [
      "Validation: 100%|██████████| 30/30 [00:13<00:00,  2.28it/s]\n"
     ]
    },
    {
     "name": "stdout",
     "output_type": "stream",
     "text": [
      "Validation Loss after Epoch [13/20]: 4.4822\n"
     ]
    },
    {
     "name": "stderr",
     "output_type": "stream",
     "text": [
      "Training: 100%|██████████| 118/118 [00:30<00:00,  3.81it/s]\n"
     ]
    },
    {
     "name": "stdout",
     "output_type": "stream",
     "text": [
      "Epoch [14/20] - Loss: 4.4446, Accuracy: 3.27%\n"
     ]
    },
    {
     "name": "stderr",
     "output_type": "stream",
     "text": [
      "Validation: 100%|██████████| 30/30 [00:12<00:00,  2.33it/s]\n"
     ]
    },
    {
     "name": "stdout",
     "output_type": "stream",
     "text": [
      "Validation Loss after Epoch [14/20]: 4.4764\n"
     ]
    },
    {
     "name": "stderr",
     "output_type": "stream",
     "text": [
      "Training: 100%|██████████| 118/118 [00:30<00:00,  3.81it/s]\n"
     ]
    },
    {
     "name": "stdout",
     "output_type": "stream",
     "text": [
      "Epoch [15/20] - Loss: 4.4380, Accuracy: 3.38%\n"
     ]
    },
    {
     "name": "stderr",
     "output_type": "stream",
     "text": [
      "Validation: 100%|██████████| 30/30 [00:12<00:00,  2.35it/s]\n"
     ]
    },
    {
     "name": "stdout",
     "output_type": "stream",
     "text": [
      "Validation Loss after Epoch [15/20]: 4.4788\n"
     ]
    },
    {
     "name": "stderr",
     "output_type": "stream",
     "text": [
      "Training: 100%|██████████| 118/118 [00:30<00:00,  3.81it/s]\n"
     ]
    },
    {
     "name": "stdout",
     "output_type": "stream",
     "text": [
      "Epoch [16/20] - Loss: 4.4301, Accuracy: 3.62%\n"
     ]
    },
    {
     "name": "stderr",
     "output_type": "stream",
     "text": [
      "Validation: 100%|██████████| 30/30 [00:12<00:00,  2.37it/s]\n"
     ]
    },
    {
     "name": "stdout",
     "output_type": "stream",
     "text": [
      "Validation Loss after Epoch [16/20]: 4.4806\n"
     ]
    },
    {
     "name": "stderr",
     "output_type": "stream",
     "text": [
      "Training: 100%|██████████| 118/118 [00:29<00:00,  3.93it/s]\n"
     ]
    },
    {
     "name": "stdout",
     "output_type": "stream",
     "text": [
      "Epoch [17/20] - Loss: 4.4250, Accuracy: 3.71%\n"
     ]
    },
    {
     "name": "stderr",
     "output_type": "stream",
     "text": [
      "Validation: 100%|██████████| 30/30 [15:56<00:00, 31.87s/it] \n"
     ]
    },
    {
     "name": "stdout",
     "output_type": "stream",
     "text": [
      "Validation Loss after Epoch [17/20]: 4.4690\n"
     ]
    },
    {
     "name": "stderr",
     "output_type": "stream",
     "text": [
      "Training: 100%|██████████| 118/118 [00:29<00:00,  3.95it/s]\n"
     ]
    },
    {
     "name": "stdout",
     "output_type": "stream",
     "text": [
      "Epoch [18/20] - Loss: 4.4148, Accuracy: 3.55%\n"
     ]
    },
    {
     "name": "stderr",
     "output_type": "stream",
     "text": [
      "Validation: 100%|██████████| 30/30 [00:12<00:00,  2.39it/s]\n"
     ]
    },
    {
     "name": "stdout",
     "output_type": "stream",
     "text": [
      "Validation Loss after Epoch [18/20]: 4.4736\n"
     ]
    },
    {
     "name": "stderr",
     "output_type": "stream",
     "text": [
      "Training: 100%|██████████| 118/118 [01:07<00:00,  1.76it/s]\n"
     ]
    },
    {
     "name": "stdout",
     "output_type": "stream",
     "text": [
      "Epoch [19/20] - Loss: 4.4103, Accuracy: 3.77%\n"
     ]
    },
    {
     "name": "stderr",
     "output_type": "stream",
     "text": [
      "Validation: 100%|██████████| 30/30 [00:12<00:00,  2.38it/s]\n"
     ]
    },
    {
     "name": "stdout",
     "output_type": "stream",
     "text": [
      "Validation Loss after Epoch [19/20]: 4.4661\n"
     ]
    },
    {
     "name": "stderr",
     "output_type": "stream",
     "text": [
      "Training: 100%|██████████| 118/118 [00:30<00:00,  3.85it/s]\n"
     ]
    },
    {
     "name": "stdout",
     "output_type": "stream",
     "text": [
      "Epoch [20/20] - Loss: 4.4014, Accuracy: 3.94%\n"
     ]
    },
    {
     "name": "stderr",
     "output_type": "stream",
     "text": [
      "Validation: 100%|██████████| 30/30 [00:12<00:00,  2.37it/s]"
     ]
    },
    {
     "name": "stdout",
     "output_type": "stream",
     "text": [
      "Validation Loss after Epoch [20/20]: 4.4707\n",
      "Total training time: 32.53 minutes\n",
      "Supervised fine-tuning complete!\n"
     ]
    },
    {
     "name": "stderr",
     "output_type": "stream",
     "text": [
      "\n"
     ]
    }
   ],
   "source": [
    "# Load the saved state_dict\n",
    "saved_state_dict = torch.load(f'../trained_models/dino/{dataset}_{data_use}_self_supervised_best_student_weights.pth')\n",
    "\n",
    "# Create a new state_dict that excludes 'mlp_head'\n",
    "new_state_dict = {k: v for k, v in saved_state_dict.items() if not k.startswith('mlp_head')}\n",
    "\n",
    "# Load this state_dict into student (it won't touch the mlp_head)\n",
    "student.load_state_dict(new_state_dict, strict=False)\n",
    "\n",
    "# Replace the self-supervised projection head with a new classifier head\n",
    "student.mlp_head = nn.Sequential(\n",
    "    nn.Linear(projection_dim, mlp_head_units[0]),\n",
    "    nn.ReLU(),\n",
    "    nn.Dropout(dropout),\n",
    "    nn.Linear(mlp_head_units[0], mlp_head_units[1]),\n",
    "    nn.ReLU(),\n",
    "    nn.Dropout(dropout),\n",
    "    nn.Linear(mlp_head_units[1], num_classes)\n",
    ").to(device)\n",
    "\n",
    "# Reset optimizer for the supervised phase\n",
    "optimizer = optim.Adam(student.parameters(), lr=learning_rate, weight_decay=weight_decay)\n",
    "# Reset scheduler for the supervised phase\n",
    "scheduler = ReduceLROnPlateau(optimizer, 'min', patience=patience_value, factor=0.5, verbose=True)\n",
    "\n",
    "# Call the supervised_training function to start the supervised phase\n",
    "supervised_training(student, optimizer, criterion, fine_tune_epochs, train_loader, val_loader, scheduler, device)\n"
   ]
  },
  {
   "cell_type": "code",
   "execution_count": 33,
   "metadata": {},
   "outputs": [],
   "source": [
    "# Load the saved model's weights\n",
    "SAVE_PATH = f'../trained_models/dino/{dataset}_{data_use}_supervised_best_student_weights.pth'\n",
    "student.load_state_dict(torch.load(SAVE_PATH, map_location=device))\n",
    "\n",
    "# Instantiate new model representing the basic ViT to which we will transfer the weights\n",
    "basic_vit = VisionTransformer(\n",
    "    image_size=image_size,\n",
    "    patch_size=patch_size,\n",
    "    in_channels=in_channels,\n",
    "    embed_dim=projection_dim,\n",
    "    depth=transformer_layers,\n",
    "    heads=num_heads,\n",
    "    mlp_dim=mlp_head_units[0],\n",
    "    dropout=dropout,\n",
    "    num_classes=num_classes,\n",
    ").to(device)\n",
    "\n",
    "# Transfer Patch Embedding Layer\n",
    "basic_vit.patch_embed.load_state_dict(student.patch_embed.state_dict())\n",
    "\n",
    "# Transfer Transformer Encoder Layers\n",
    "for teacher_block, student_block in zip(basic_vit.transformer_encoder, student.transformer_encoder):\n",
    "    teacher_block.load_state_dict(student_block.state_dict())\n",
    "\n",
    "# Transfer MLP Head\n",
    "basic_vit.mlp_head.load_state_dict(student.mlp_head.state_dict())\n",
    "\n",
    "# Transfer CLS Token\n",
    "basic_vit.cls_token.data = student.cls_token.data.clone()\n"
   ]
  },
  {
   "cell_type": "code",
   "execution_count": 34,
   "metadata": {},
   "outputs": [
    {
     "name": "stderr",
     "output_type": "stream",
     "text": [
      "Epoch 1/50 [Training]: 100%|██████████| 118/118 [00:30<00:00,  3.82it/s]\n",
      "Epoch 1/50 [Validation]: 100%|██████████| 30/30 [00:13<00:00,  2.29it/s]\n"
     ]
    },
    {
     "name": "stdout",
     "output_type": "stream",
     "text": [
      "Epoch 1/50 - Train Loss: 4.4217, Train Acc: 0.0360, Val Loss: 4.4738, Val Acc: 0.0341\n"
     ]
    },
    {
     "name": "stderr",
     "output_type": "stream",
     "text": [
      "Epoch 2/50 [Training]: 100%|██████████| 118/118 [00:30<00:00,  3.82it/s]\n",
      "Epoch 2/50 [Validation]: 100%|██████████| 30/30 [00:12<00:00,  2.31it/s]\n"
     ]
    },
    {
     "name": "stdout",
     "output_type": "stream",
     "text": [
      "Epoch 2/50 - Train Loss: 4.3929, Train Acc: 0.0383, Val Loss: 4.4599, Val Acc: 0.0345\n"
     ]
    },
    {
     "name": "stderr",
     "output_type": "stream",
     "text": [
      "Epoch 3/50 [Training]: 100%|██████████| 118/118 [00:30<00:00,  3.82it/s]\n",
      "Epoch 3/50 [Validation]: 100%|██████████| 30/30 [00:13<00:00,  2.30it/s]\n"
     ]
    },
    {
     "name": "stdout",
     "output_type": "stream",
     "text": [
      "Epoch 3/50 - Train Loss: 4.3849, Train Acc: 0.0401, Val Loss: 4.4579, Val Acc: 0.0347\n"
     ]
    },
    {
     "name": "stderr",
     "output_type": "stream",
     "text": [
      "Epoch 4/50 [Training]: 100%|██████████| 118/118 [00:31<00:00,  3.79it/s]\n",
      "Epoch 4/50 [Validation]: 100%|██████████| 30/30 [00:12<00:00,  2.34it/s]\n"
     ]
    },
    {
     "name": "stdout",
     "output_type": "stream",
     "text": [
      "Epoch 4/50 - Train Loss: 4.3754, Train Acc: 0.0414, Val Loss: 4.4754, Val Acc: 0.0343\n"
     ]
    },
    {
     "name": "stderr",
     "output_type": "stream",
     "text": [
      "Epoch 5/50 [Training]: 100%|██████████| 118/118 [00:31<00:00,  3.80it/s]\n",
      "Epoch 5/50 [Validation]: 100%|██████████| 30/30 [00:12<00:00,  2.32it/s]\n"
     ]
    },
    {
     "name": "stdout",
     "output_type": "stream",
     "text": [
      "Epoch 5/50 - Train Loss: 4.3689, Train Acc: 0.0428, Val Loss: 4.4545, Val Acc: 0.0367\n"
     ]
    },
    {
     "name": "stderr",
     "output_type": "stream",
     "text": [
      "Epoch 6/50 [Training]: 100%|██████████| 118/118 [00:31<00:00,  3.80it/s]\n",
      "Epoch 6/50 [Validation]: 100%|██████████| 30/30 [00:12<00:00,  2.33it/s]\n"
     ]
    },
    {
     "name": "stdout",
     "output_type": "stream",
     "text": [
      "Epoch 6/50 - Train Loss: 4.3674, Train Acc: 0.0429, Val Loss: 4.4542, Val Acc: 0.0359\n"
     ]
    },
    {
     "name": "stderr",
     "output_type": "stream",
     "text": [
      "Epoch 7/50 [Training]: 100%|██████████| 118/118 [00:31<00:00,  3.80it/s]\n",
      "Epoch 7/50 [Validation]: 100%|██████████| 30/30 [00:13<00:00,  2.30it/s]\n"
     ]
    },
    {
     "name": "stdout",
     "output_type": "stream",
     "text": [
      "Epoch 7/50 - Train Loss: 4.3533, Train Acc: 0.0443, Val Loss: 4.4539, Val Acc: 0.0387\n"
     ]
    },
    {
     "name": "stderr",
     "output_type": "stream",
     "text": [
      "Epoch 8/50 [Training]: 100%|██████████| 118/118 [00:31<00:00,  3.76it/s]\n",
      "Epoch 8/50 [Validation]: 100%|██████████| 30/30 [00:12<00:00,  2.33it/s]\n"
     ]
    },
    {
     "name": "stdout",
     "output_type": "stream",
     "text": [
      "Epoch 8/50 - Train Loss: 4.3493, Train Acc: 0.0439, Val Loss: 4.4446, Val Acc: 0.0363\n"
     ]
    },
    {
     "name": "stderr",
     "output_type": "stream",
     "text": [
      "Epoch 9/50 [Training]: 100%|██████████| 118/118 [00:30<00:00,  3.81it/s]\n",
      "Epoch 9/50 [Validation]: 100%|██████████| 30/30 [00:12<00:00,  2.31it/s]\n"
     ]
    },
    {
     "name": "stdout",
     "output_type": "stream",
     "text": [
      "Epoch 9/50 - Train Loss: 4.3415, Train Acc: 0.0459, Val Loss: 4.4607, Val Acc: 0.0381\n"
     ]
    },
    {
     "name": "stderr",
     "output_type": "stream",
     "text": [
      "Epoch 10/50 [Training]: 100%|██████████| 118/118 [00:31<00:00,  3.80it/s]\n",
      "Epoch 10/50 [Validation]: 100%|██████████| 30/30 [00:12<00:00,  2.33it/s]\n"
     ]
    },
    {
     "name": "stdout",
     "output_type": "stream",
     "text": [
      "Epoch 10/50 - Train Loss: 4.3343, Train Acc: 0.0466, Val Loss: 4.4490, Val Acc: 0.0381\n"
     ]
    },
    {
     "name": "stderr",
     "output_type": "stream",
     "text": [
      "Epoch 11/50 [Training]: 100%|██████████| 118/118 [00:31<00:00,  3.77it/s]\n",
      "Epoch 11/50 [Validation]: 100%|██████████| 30/30 [00:13<00:00,  2.30it/s]\n"
     ]
    },
    {
     "name": "stdout",
     "output_type": "stream",
     "text": [
      "Epoch 11/50 - Train Loss: 4.3267, Train Acc: 0.0461, Val Loss: 4.4598, Val Acc: 0.0369\n"
     ]
    },
    {
     "name": "stderr",
     "output_type": "stream",
     "text": [
      "Epoch 12/50 [Training]: 100%|██████████| 118/118 [00:31<00:00,  3.81it/s]\n",
      "Epoch 12/50 [Validation]: 100%|██████████| 30/30 [00:12<00:00,  2.32it/s]\n"
     ]
    },
    {
     "name": "stdout",
     "output_type": "stream",
     "text": [
      "Epoch 12/50 - Train Loss: 4.3208, Train Acc: 0.0459, Val Loss: 4.4486, Val Acc: 0.0391\n"
     ]
    },
    {
     "name": "stderr",
     "output_type": "stream",
     "text": [
      "Epoch 13/50 [Training]: 100%|██████████| 118/118 [00:31<00:00,  3.78it/s]\n",
      "Epoch 13/50 [Validation]: 100%|██████████| 30/30 [00:12<00:00,  2.33it/s]\n"
     ]
    },
    {
     "name": "stdout",
     "output_type": "stream",
     "text": [
      "Epoch 13/50 - Train Loss: 4.3133, Train Acc: 0.0488, Val Loss: 4.4547, Val Acc: 0.0397\n"
     ]
    },
    {
     "name": "stderr",
     "output_type": "stream",
     "text": [
      "Epoch 14/50 [Training]: 100%|██████████| 118/118 [00:31<00:00,  3.80it/s]\n",
      "Epoch 14/50 [Validation]: 100%|██████████| 30/30 [00:12<00:00,  2.32it/s]\n"
     ]
    },
    {
     "name": "stdout",
     "output_type": "stream",
     "text": [
      "Epoch 14/50 - Train Loss: 4.3035, Train Acc: 0.0499, Val Loss: 4.4463, Val Acc: 0.0400\n"
     ]
    },
    {
     "name": "stderr",
     "output_type": "stream",
     "text": [
      "Epoch 15/50 [Training]: 100%|██████████| 118/118 [00:31<00:00,  3.78it/s]\n",
      "Epoch 15/50 [Validation]: 100%|██████████| 30/30 [00:12<00:00,  2.32it/s]\n"
     ]
    },
    {
     "name": "stdout",
     "output_type": "stream",
     "text": [
      "Epoch 15/50 - Train Loss: 4.2944, Train Acc: 0.0508, Val Loss: 4.4536, Val Acc: 0.0415\n"
     ]
    },
    {
     "name": "stderr",
     "output_type": "stream",
     "text": [
      "Epoch 16/50 [Training]: 100%|██████████| 118/118 [00:31<00:00,  3.80it/s]\n",
      "Epoch 16/50 [Validation]: 100%|██████████| 30/30 [00:12<00:00,  2.31it/s]\n"
     ]
    },
    {
     "name": "stdout",
     "output_type": "stream",
     "text": [
      "Epoch 16/50 - Train Loss: 4.2901, Train Acc: 0.0507, Val Loss: 4.4474, Val Acc: 0.0388\n"
     ]
    },
    {
     "name": "stderr",
     "output_type": "stream",
     "text": [
      "Epoch 17/50 [Training]: 100%|██████████| 118/118 [00:31<00:00,  3.80it/s]\n",
      "Epoch 17/50 [Validation]: 100%|██████████| 30/30 [00:12<00:00,  2.32it/s]\n"
     ]
    },
    {
     "name": "stdout",
     "output_type": "stream",
     "text": [
      "Epoch 17/50 - Train Loss: 4.2788, Train Acc: 0.0525, Val Loss: 4.4496, Val Acc: 0.0404\n"
     ]
    },
    {
     "name": "stderr",
     "output_type": "stream",
     "text": [
      "Epoch 18/50 [Training]: 100%|██████████| 118/118 [00:31<00:00,  3.80it/s]\n",
      "Epoch 18/50 [Validation]: 100%|██████████| 30/30 [00:12<00:00,  2.32it/s]\n"
     ]
    },
    {
     "name": "stdout",
     "output_type": "stream",
     "text": [
      "Epoch 18/50 - Train Loss: 4.2732, Train Acc: 0.0530, Val Loss: 4.4427, Val Acc: 0.0424\n"
     ]
    },
    {
     "name": "stderr",
     "output_type": "stream",
     "text": [
      "Epoch 19/50 [Training]: 100%|██████████| 118/118 [00:31<00:00,  3.73it/s]\n",
      "Epoch 19/50 [Validation]: 100%|██████████| 30/30 [00:12<00:00,  2.32it/s]\n"
     ]
    },
    {
     "name": "stdout",
     "output_type": "stream",
     "text": [
      "Epoch 19/50 - Train Loss: 4.2657, Train Acc: 0.0526, Val Loss: 4.4514, Val Acc: 0.0415\n"
     ]
    },
    {
     "name": "stderr",
     "output_type": "stream",
     "text": [
      "Epoch 20/50 [Training]: 100%|██████████| 118/118 [00:31<00:00,  3.80it/s]\n",
      "Epoch 20/50 [Validation]: 100%|██████████| 30/30 [00:12<00:00,  2.32it/s]\n"
     ]
    },
    {
     "name": "stdout",
     "output_type": "stream",
     "text": [
      "Epoch 20/50 - Train Loss: 4.2569, Train Acc: 0.0543, Val Loss: 4.4607, Val Acc: 0.0395\n"
     ]
    },
    {
     "name": "stderr",
     "output_type": "stream",
     "text": [
      "Epoch 21/50 [Training]: 100%|██████████| 118/118 [00:31<00:00,  3.78it/s]\n",
      "Epoch 21/50 [Validation]: 100%|██████████| 30/30 [00:12<00:00,  2.32it/s]\n"
     ]
    },
    {
     "name": "stdout",
     "output_type": "stream",
     "text": [
      "Epoch 21/50 - Train Loss: 4.2483, Train Acc: 0.0530, Val Loss: 4.4555, Val Acc: 0.0388\n"
     ]
    },
    {
     "name": "stderr",
     "output_type": "stream",
     "text": [
      "Epoch 22/50 [Training]: 100%|██████████| 118/118 [00:31<00:00,  3.73it/s]\n",
      "Epoch 22/50 [Validation]: 100%|██████████| 30/30 [00:12<00:00,  2.33it/s]\n"
     ]
    },
    {
     "name": "stdout",
     "output_type": "stream",
     "text": [
      "Epoch 22/50 - Train Loss: 4.2407, Train Acc: 0.0569, Val Loss: 4.4498, Val Acc: 0.0415\n"
     ]
    },
    {
     "name": "stderr",
     "output_type": "stream",
     "text": [
      "Epoch 23/50 [Training]: 100%|██████████| 118/118 [00:31<00:00,  3.80it/s]\n",
      "Epoch 23/50 [Validation]: 100%|██████████| 30/30 [00:12<00:00,  2.32it/s]\n"
     ]
    },
    {
     "name": "stdout",
     "output_type": "stream",
     "text": [
      "Epoch 23/50 - Train Loss: 4.2362, Train Acc: 0.0561, Val Loss: 4.4541, Val Acc: 0.0415\n"
     ]
    },
    {
     "name": "stderr",
     "output_type": "stream",
     "text": [
      "Epoch 24/50 [Training]: 100%|██████████| 118/118 [00:31<00:00,  3.79it/s]\n",
      "Epoch 24/50 [Validation]: 100%|██████████| 30/30 [00:12<00:00,  2.32it/s]\n"
     ]
    },
    {
     "name": "stdout",
     "output_type": "stream",
     "text": [
      "Epoch 24/50 - Train Loss: 4.2258, Train Acc: 0.0558, Val Loss: 4.4533, Val Acc: 0.0420\n"
     ]
    },
    {
     "name": "stderr",
     "output_type": "stream",
     "text": [
      "Epoch 25/50 [Training]: 100%|██████████| 118/118 [00:31<00:00,  3.78it/s]\n",
      "Epoch 25/50 [Validation]: 100%|██████████| 30/30 [00:12<00:00,  2.32it/s]\n"
     ]
    },
    {
     "name": "stdout",
     "output_type": "stream",
     "text": [
      "Epoch 25/50 - Train Loss: 4.2188, Train Acc: 0.0602, Val Loss: 4.4737, Val Acc: 0.0393\n"
     ]
    },
    {
     "name": "stderr",
     "output_type": "stream",
     "text": [
      "Epoch 26/50 [Training]: 100%|██████████| 118/118 [00:31<00:00,  3.78it/s]\n",
      "Epoch 26/50 [Validation]: 100%|██████████| 30/30 [00:12<00:00,  2.33it/s]\n"
     ]
    },
    {
     "name": "stdout",
     "output_type": "stream",
     "text": [
      "Epoch 26/50 - Train Loss: 4.2123, Train Acc: 0.0589, Val Loss: 4.4610, Val Acc: 0.0399\n"
     ]
    },
    {
     "name": "stderr",
     "output_type": "stream",
     "text": [
      "Epoch 27/50 [Training]: 100%|██████████| 118/118 [00:31<00:00,  3.80it/s]\n",
      "Epoch 27/50 [Validation]: 100%|██████████| 30/30 [00:13<00:00,  2.30it/s]\n"
     ]
    },
    {
     "name": "stdout",
     "output_type": "stream",
     "text": [
      "Epoch 27/50 - Train Loss: 4.2023, Train Acc: 0.0625, Val Loss: 4.4793, Val Acc: 0.0379\n"
     ]
    },
    {
     "name": "stderr",
     "output_type": "stream",
     "text": [
      "Epoch 28/50 [Training]: 100%|██████████| 118/118 [00:31<00:00,  3.78it/s]\n",
      "Epoch 28/50 [Validation]: 100%|██████████| 30/30 [00:13<00:00,  2.28it/s]\n"
     ]
    },
    {
     "name": "stdout",
     "output_type": "stream",
     "text": [
      "Epoch 28/50 - Train Loss: 4.1953, Train Acc: 0.0627, Val Loss: 4.4746, Val Acc: 0.0411\n"
     ]
    },
    {
     "name": "stderr",
     "output_type": "stream",
     "text": [
      "Epoch 29/50 [Training]: 100%|██████████| 118/118 [00:34<00:00,  3.44it/s]\n",
      "Epoch 29/50 [Validation]: 100%|██████████| 30/30 [00:13<00:00,  2.20it/s]\n"
     ]
    },
    {
     "name": "stdout",
     "output_type": "stream",
     "text": [
      "Epoch 29/50 - Train Loss: 4.1863, Train Acc: 0.0634, Val Loss: 4.5024, Val Acc: 0.0404\n"
     ]
    },
    {
     "name": "stderr",
     "output_type": "stream",
     "text": [
      "Epoch 30/50 [Training]: 100%|██████████| 118/118 [00:34<00:00,  3.44it/s]\n",
      "Epoch 30/50 [Validation]: 100%|██████████| 30/30 [00:13<00:00,  2.20it/s]\n"
     ]
    },
    {
     "name": "stdout",
     "output_type": "stream",
     "text": [
      "Epoch 30/50 - Train Loss: 4.1799, Train Acc: 0.0639, Val Loss: 4.4763, Val Acc: 0.0415\n"
     ]
    },
    {
     "name": "stderr",
     "output_type": "stream",
     "text": [
      "Epoch 31/50 [Training]: 100%|██████████| 118/118 [00:34<00:00,  3.44it/s]\n",
      "Epoch 31/50 [Validation]: 100%|██████████| 30/30 [00:13<00:00,  2.26it/s]\n"
     ]
    },
    {
     "name": "stdout",
     "output_type": "stream",
     "text": [
      "Epoch 31/50 - Train Loss: 4.1703, Train Acc: 0.0644, Val Loss: 4.4681, Val Acc: 0.0409\n"
     ]
    },
    {
     "name": "stderr",
     "output_type": "stream",
     "text": [
      "Epoch 32/50 [Training]: 100%|██████████| 118/118 [00:31<00:00,  3.79it/s]\n",
      "Epoch 32/50 [Validation]: 100%|██████████| 30/30 [00:12<00:00,  2.32it/s]\n"
     ]
    },
    {
     "name": "stdout",
     "output_type": "stream",
     "text": [
      "Epoch 32/50 - Train Loss: 4.1603, Train Acc: 0.0654, Val Loss: 4.4830, Val Acc: 0.0409\n"
     ]
    },
    {
     "name": "stderr",
     "output_type": "stream",
     "text": [
      "Epoch 33/50 [Training]: 100%|██████████| 118/118 [00:31<00:00,  3.78it/s]\n",
      "Epoch 33/50 [Validation]: 100%|██████████| 30/30 [00:12<00:00,  2.32it/s]"
     ]
    },
    {
     "name": "stdout",
     "output_type": "stream",
     "text": [
      "Epoch 33/50 - Train Loss: 4.1526, Train Acc: 0.0672, Val Loss: 4.4779, Val Acc: 0.0424\n",
      "Early stopping due to no improvement in validation loss.\n",
      "Total training time: 24.43 minutes\n"
     ]
    },
    {
     "name": "stderr",
     "output_type": "stream",
     "text": [
      "\n"
     ]
    }
   ],
   "source": [
    "# Define loss function and optimizer\n",
    "criterion = nn.CrossEntropyLoss()\n",
    "optimizer = optim.Adam(basic_vit.parameters(), lr=learning_rate, weight_decay=weight_decay)\n",
    "\n",
    "scheduler = ReduceLROnPlateau(optimizer, 'min', patience=patience_value, factor=0.5, verbose=True)\n",
    "\n",
    "# Set model_name for DINO training\n",
    "model_name = f\"{dataset}_{data_use}_DINO_classifier\"\n",
    "\n",
    "# Train model\n",
    "basic_vit, train_losses, val_losses, train_acc, val_acc = train(basic_vit, train_loader, val_loader, criterion, optimizer, device, model_name, epochs=num_epochs, scheduler=scheduler, patience=patience_value)"
   ]
  },
  {
   "cell_type": "code",
   "execution_count": 35,
   "metadata": {},
   "outputs": [
    {
     "name": "stderr",
     "output_type": "stream",
     "text": [
      "Testing: 30it [00:02, 13.49it/s]"
     ]
    },
    {
     "name": "stdout",
     "output_type": "stream",
     "text": [
      "Test accuracy: 0.0576\n"
     ]
    },
    {
     "name": "stderr",
     "output_type": "stream",
     "text": [
      "\n"
     ]
    }
   ],
   "source": [
    "# test on the test set\n",
    "\n",
    "# Set model to eval mode\n",
    "basic_vit.eval()\n",
    "\n",
    "# Initialize lists to store predictions and labels\n",
    "preds = []\n",
    "labels = []\n",
    "\n",
    "# Turn off gradients\n",
    "\n",
    "with torch.no_grad():\n",
    "    # Iterate over test data\n",
    "    for batch_idx, (data, target) in tqdm(enumerate(test_loader), desc=\"Testing\"):\n",
    "        # Send data to device\n",
    "        data, target = data.to(device), target.to(device)\n",
    "\n",
    "        # Forward pass\n",
    "        output = basic_vit(data)\n",
    "\n",
    "        # Get predicted class\n",
    "        pred = output.argmax(dim=1, keepdim=True)\n",
    "\n",
    "        # Save predictions and labels for computing metrics later\n",
    "        preds.extend(pred.cpu().numpy())\n",
    "        labels.extend(target.cpu().numpy())\n",
    "\n",
    "# Print accuracy\n",
    "accuracy = accuracy_score(labels, preds)\n",
    "print(f\"Test accuracy: {accuracy:.4f}\")"
   ]
  },
  {
   "cell_type": "code",
   "execution_count": 36,
   "metadata": {},
   "outputs": [],
   "source": [
    "# Print classification report and confusion matrix\n",
    "# Only print if dataset is not CIFAR100. CIFAR100 has too many classes to print\n",
    "if dataset != \"CIFAR100\":\n",
    "    # Print classification report\n",
    "    print(classification_report(labels, preds))\n",
    "\n",
    "    # Print confusion matrix\n",
    "    cm = confusion_matrix(labels, preds)\n",
    "\n",
    "    # Normalize the confusion matrix\n",
    "    cm_normalized = cm.astype('float') / cm.sum(axis=1)[:, np.newaxis] * 100  # Convert to percentages\n",
    "\n",
    "    plt.figure(figsize=(6, 6))\n",
    "    sns.heatmap(cm_normalized, annot=True, fmt='.2f', cmap='Blues', cbar=False)\n",
    "    plt.xlabel('Predicted')\n",
    "    plt.ylabel('Actual')\n",
    "    plt.title(f'{dataset} DINO ViT - {data_use}% Data: Confusion Matrix (in %)')\n",
    "    # save the plot\n",
    "    plt.savefig(f'{plot_dir}{model_name}_dino_vit_cm.pdf', format=\"pdf\")\n",
    "    plt.show()"
   ]
  },
  {
   "cell_type": "code",
   "execution_count": 37,
   "metadata": {},
   "outputs": [
    {
     "data": {
      "image/png": "[encoded data removed]",
      "text/plain": [
       "<Figure size 600x400 with 1 Axes>"
      ]
     },
     "metadata": {},
     "output_type": "display_data"
    }
   ],
   "source": [
    "# Plot losses\n",
    "plt.figure(figsize=(6, 4))\n",
    "plt.title(f'{dataset} DINO ViT- {data_use}% Data: Loss')\n",
    "plt.plot(train_losses, label='Train')\n",
    "plt.plot(val_losses, label='Validation')\n",
    "plt.ylabel('Loss')\n",
    "plt.xlabel('Epoch')\n",
    "plt.legend()\n",
    "# save the plot\n",
    "plt.savefig(f'{plot_dir}{model_name}_dino_vit_loss.pdf', format=\"pdf\")\n",
    "plt.show()\n"
   ]
  },
  {
   "cell_type": "code",
   "execution_count": 38,
   "metadata": {},
   "outputs": [
    {
     "data": {
      "image/png": "[encoded data removed]",
      "text/plain": [
       "<Figure size 600x400 with 1 Axes>"
      ]
     },
     "metadata": {},
     "output_type": "display_data"
    }
   ],
   "source": [
    "# Plot accuracies\n",
    "plt.figure(figsize=(6, 4))\n",
    "plt.title(f'{dataset} DINO ViT- {data_use}% Data: Accuracy')\n",
    "# move list to cpu\n",
    "train_acc = [i.cpu() for i in train_acc]\n",
    "val_acc = [i.cpu() for i in val_acc]\n",
    "plt.plot(train_acc, label='Train')\n",
    "plt.plot(val_acc, label='Validation')\n",
    "plt.ylabel('Accuracy')\n",
    "plt.xlabel('Epoch')\n",
    "plt.legend()\n",
    "# save the plot\n",
    "plt.savefig(f'{plot_dir}{model_name}_dino_vit_acc.pdf', format=\"pdf\")\n",
    "plt.show()\n"
   ]
  },
  {
   "cell_type": "code",
   "execution_count": null,
   "metadata": {},
   "outputs": [],
   "source": []
  }
 ],
 "metadata": {
  "kernelspec": {
   "display_name": "pytorch-vit-env",
   "language": "python",
   "name": "python3"
  },
  "language_info": {
   "codemirror_mode": {
    "name": "ipython",
    "version": 3
   },
   "file_extension": ".py",
   "mimetype": "text/x-python",
   "name": "python",
   "nbconvert_exporter": "python",
   "pygments_lexer": "ipython3",
   "version": "3.11.5"
  },
  "orig_nbformat": 4
 },
 "nbformat": 4,
 "nbformat_minor": 2
}
